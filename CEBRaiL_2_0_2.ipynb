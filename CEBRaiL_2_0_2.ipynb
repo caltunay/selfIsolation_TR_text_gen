{
  "nbformat": 4,
  "nbformat_minor": 0,
  "metadata": {
    "colab": {
      "name": "CEBRaiL 2.0.2.ipynb",
      "provenance": [],
      "collapsed_sections": [],
      "mount_file_id": "1yPW1wytd9Eyh1R4m68Ol_YIHGbi6oEvS",
      "authorship_tag": "ABX9TyOvw3+w4pOk1/KZgRhoWyO2",
      "include_colab_link": true
    },
    "kernelspec": {
      "name": "python3",
      "display_name": "Python 3"
    },
    "accelerator": "GPU"
  },
  "cells": [
    {
      "cell_type": "markdown",
      "metadata": {
        "id": "view-in-github",
        "colab_type": "text"
      },
      "source": [
        "<a href=\"https://colab.research.google.com/github/caltunay/selfIsolation_TR_text_gen/blob/main/CEBRaiL_2_0_2.ipynb\" target=\"_parent\"><img src=\"https://colab.research.google.com/assets/colab-badge.svg\" alt=\"Open In Colab\"/></a>"
      ]
    },
    {
      "cell_type": "code",
      "metadata": {
        "id": "RM4H4DRXU_9m"
      },
      "source": [
        "kuran_path = '/content/drive/MyDrive/Colab Notebooks/Tweet Generator - TR/kuran_meal.pdf'"
      ],
      "execution_count": null,
      "outputs": []
    },
    {
      "cell_type": "code",
      "metadata": {
        "colab": {
          "base_uri": "https://localhost:8080/"
        },
        "id": "QcYtJpLlU__Q",
        "outputId": "df503b98-6ecf-4e20-b5e0-38ab502008dd"
      },
      "source": [
        "!pip install tika"
      ],
      "execution_count": null,
      "outputs": [
        {
          "output_type": "stream",
          "text": [
            "Collecting tika\n",
            "  Downloading https://files.pythonhosted.org/packages/96/07/244fbb9c74c0de8a3745cc9f3f496077a29f6418c7cbd90d68fd799574cb/tika-1.24.tar.gz\n",
            "Requirement already satisfied: setuptools in /usr/local/lib/python3.6/dist-packages (from tika) (51.1.1)\n",
            "Requirement already satisfied: requests in /usr/local/lib/python3.6/dist-packages (from tika) (2.23.0)\n",
            "Requirement already satisfied: idna<3,>=2.5 in /usr/local/lib/python3.6/dist-packages (from requests->tika) (2.10)\n",
            "Requirement already satisfied: chardet<4,>=3.0.2 in /usr/local/lib/python3.6/dist-packages (from requests->tika) (3.0.4)\n",
            "Requirement already satisfied: certifi>=2017.4.17 in /usr/local/lib/python3.6/dist-packages (from requests->tika) (2020.12.5)\n",
            "Requirement already satisfied: urllib3!=1.25.0,!=1.25.1,<1.26,>=1.21.1 in /usr/local/lib/python3.6/dist-packages (from requests->tika) (1.24.3)\n",
            "Building wheels for collected packages: tika\n",
            "  Building wheel for tika (setup.py) ... \u001b[?25l\u001b[?25hdone\n",
            "  Created wheel for tika: filename=tika-1.24-cp36-none-any.whl size=32885 sha256=517749b99c644655c24af65bd4cd81fc5dfbd3c890e64761facfc04d5969e60c\n",
            "  Stored in directory: /root/.cache/pip/wheels/73/9c/f5/0b1b738442fc2a2862bef95b908b374f8e80215550fb2a8975\n",
            "Successfully built tika\n",
            "Installing collected packages: tika\n",
            "Successfully installed tika-1.24\n"
          ],
          "name": "stdout"
        }
      ]
    },
    {
      "cell_type": "code",
      "metadata": {
        "id": "rOL33IDTU_-P"
      },
      "source": [
        "from tika import parser # pip install tika\r\n",
        "\r\n",
        "raw = parser.from_file(kuran_path)\r\n",
        "print(raw['content'])"
      ],
      "execution_count": null,
      "outputs": []
    },
    {
      "cell_type": "code",
      "metadata": {
        "id": "1WOb7Qo0U__5"
      },
      "source": [
        "kuran = raw['content'].split('''çok”, “çok merhametli”, “sonsuz merhametli” anlamlarını taşır. Ancak “Rahmân”, Allah Teâlâ’ya \r\n",
        "has bir sıfat-isim iken, “Rahîm” insanlar için de kullanılabilir. Nitekim Tevbe sûresi 128.âyette, bu \r\n",
        "sıfat Hz.Peygamber için de kullanılmıştır.''')[1].lower()\r\n",
        "print(kuran)"
      ],
      "execution_count": null,
      "outputs": []
    },
    {
      "cell_type": "code",
      "metadata": {
        "colab": {
          "base_uri": "https://localhost:8080/"
        },
        "id": "5PiGEh0qVAAo",
        "outputId": "a1851c18-cc59-45ec-84d5-51a30f0e35e1"
      },
      "source": [
        "remove_str = None \r\n",
        "\r\n",
        "for ind, char in enumerate('âdi̇yât'):\r\n",
        "    if ind == 3: \r\n",
        "        print(ind)\r\n",
        "        remove_str = char\r\n",
        "    \r\n",
        "print(remove_str)"
      ],
      "execution_count": null,
      "outputs": [
        {
          "output_type": "stream",
          "text": [
            "3\n",
            "̇\n"
          ],
          "name": "stdout"
        }
      ]
    },
    {
      "cell_type": "code",
      "metadata": {
        "id": "VZSFSl07Wa-e"
      },
      "source": [
        "import re"
      ],
      "execution_count": null,
      "outputs": []
    },
    {
      "cell_type": "code",
      "metadata": {
        "id": "GtXZ_AuVWedL"
      },
      "source": [
        "kuran_test = kuran"
      ],
      "execution_count": null,
      "outputs": []
    },
    {
      "cell_type": "code",
      "metadata": {
        "colab": {
          "base_uri": "https://localhost:8080/"
        },
        "id": "N_bTjCcAWZKO",
        "outputId": "0fc9f567-9933-4e69-e0fe-5cd020c6524b"
      },
      "source": [
        "# to remove manually\r\n",
        "# 113 / felâk ve 114 / \r\n",
        "# 111 / tebbet ve 112 / \r\n",
        "# 109 / kâfi̇rûn ve 107 / n\r\n",
        "# 107 / mâ’ûn ve 108 / \r\n",
        "# 105 / fi̇l ve 106 / \r\n",
        "# 103 / asr ve 104 / \r\n",
        "\r\n",
        "\r\n",
        "\r\n",
        "sure_to_remove = list()\r\n",
        "\r\n",
        "for i in re.findall('\\d+ / .* sûresi', kuran_test):\r\n",
        "#     print(i)\r\n",
        "    sure_to_remove.append(i)\r\n",
        "    \r\n",
        "simple_sure_name = list()\r\n",
        "\r\n",
        "for sure in list(set(sure_to_remove)):\r\n",
        "#     print(sure.split(' / ')[1])\r\n",
        "    sure_name = sure.split(' / ')[1]\r\n",
        "    simple_sure_name.append(sure_name)\r\n",
        "    \r\n",
        "# for i in simple_sure_name: print(i)    \r\n",
        "\r\n",
        "remove_list_all =  list(set(sure_to_remove)) + simple_sure_name + '''113 / felâk ve 114 /\r\n",
        "111 / tebbet ve 112 /\r\n",
        "109 / kâfi̇rûn ve 107 / n\r\n",
        "107 / mâ’ûn ve 108 /\r\n",
        "105 / fi̇l ve 106 /\r\n",
        "103 / asr ve 104 /'''.split('\\n')\r\n",
        "\r\n",
        "remove_list_all"
      ],
      "execution_count": null,
      "outputs": [
        {
          "output_type": "execute_result",
          "data": {
            "text/plain": [
              "['59 / haşr sûresi',\n",
              " '44 / duhân sûresi',\n",
              " '52 / tûr sûresi',\n",
              " '60 / mümtehi̇ne sûresi',\n",
              " '14 / i̇brâhi̇m sûresi',\n",
              " '74 / müddessi̇r sûresi',\n",
              " '63 / münâfi̇kûn sûresi',\n",
              " '75 / kiyâme sûresi',\n",
              " '80 / abese sûresi',\n",
              " '1 / fâti̇ha sûresi',\n",
              " '34 / sebe’ sûresi',\n",
              " '65 / talâk sûresi',\n",
              " '41 / fussi̇let sûresi',\n",
              " '98 / beyyi̇ne sûresi',\n",
              " '11 / hûd sûresi',\n",
              " '56 / vâki’a sûresi',\n",
              " '64 / teğabun sûresi',\n",
              " '94 / i̇nşi̇râh sûresi',\n",
              " '54 / kamer sûresi',\n",
              " '96 / alâk sûresi',\n",
              " '6 / en’âm sûresi',\n",
              " '55 / rahmân sûresi',\n",
              " '86 / târik sûresi',\n",
              " '10 / yûnus sûresi',\n",
              " '33 / ahzâb sûresi',\n",
              " '53 / necm sûresi',\n",
              " '36 / yâsi̇n sûresi',\n",
              " '27 / neml sûresi',\n",
              " '23 / mü’mi̇nûn sûresi',\n",
              " '97 / kadr sûresi',\n",
              " '17 / i̇srâ sûresi',\n",
              " '72 / ci̇n sûresi',\n",
              " '95 / tîn sûresi',\n",
              " '30 / rûm sûresi',\n",
              " '82 / i̇nfi̇târ sûresi',\n",
              " '50 / kâf sûresi',\n",
              " '69 / hâkka sûresi',\n",
              " '7 / a’râf sûresi',\n",
              " '2 / bakara sûresi',\n",
              " '39 / zümer sûresi',\n",
              " '100 / âdi̇yât sûresi',\n",
              " '5 / mâi̇de sûresi',\n",
              " '87 / a’lâ sûresi',\n",
              " '92 / leyl sûresi',\n",
              " '73 / müzzemmi̇l sûresi',\n",
              " '3 / âl-i̇ i̇mrân sûresi',\n",
              " '70 / me’âri̇c sûresi',\n",
              " '32 / secde sûresi',\n",
              " '21 / enbi̇yâ sûresi',\n",
              " '91 / şems sûresi',\n",
              " '84 / i̇nşi̇kâk sûresi',\n",
              " '49 / hucurât sûresi',\n",
              " '28 / kasas sûresi',\n",
              " '38 / sâd sûresi',\n",
              " '22 / hac sûresi',\n",
              " '57 / hadîd sûresi',\n",
              " '29 / ankebût sûresi',\n",
              " '9 / tevbe sûresi',\n",
              " '40 / mü’mi̇n sûresi',\n",
              " '51 / zâri̇yât sûresi',\n",
              " '78 / nebe’ sûresi',\n",
              " '101 / kâri̇’a sûresi',\n",
              " '58 / mücâdele sûresi',\n",
              " '31 / lokmân sûresi',\n",
              " '45 / câsi̇ye sûresi',\n",
              " '19 / meryem sûresi',\n",
              " '76 / i̇nsân sûresi',\n",
              " '12 / yûsuf sûresi',\n",
              " '15 / hi̇cr sûresi',\n",
              " '68 / kalem sûresi',\n",
              " '85 / bürûc sûresi',\n",
              " '90 / beled sûresi',\n",
              " '81 / tekvîr sûresi',\n",
              " '77 / mürselât sûresi',\n",
              " '88 / ğaşi̇ye sûresi',\n",
              " '47 / muhammed sûresi',\n",
              " '99 / zi̇lzâl sûresi',\n",
              " '66 / tahrîm sûresi',\n",
              " '26 / şu’arâ sûresi',\n",
              " '18 / kehf sûresi',\n",
              " '62 / cum’a sûresi',\n",
              " '71 / nûh sûresi',\n",
              " '20 / tâ hâ sûresi',\n",
              " '48 / feti̇h sûresi',\n",
              " '25 / furkân sûresi',\n",
              " '83 / mutaffi̇fîn sûresi',\n",
              " '61 / saff sûresi',\n",
              " '24 / nûr sûresi',\n",
              " '89 / fecr sûresi',\n",
              " '8 / enfâl sûresi',\n",
              " '37 / sâffât sûresi',\n",
              " '43 / zuhruf sûresi',\n",
              " '67 / mülk sûresi',\n",
              " '4 / ni̇sâ sûresi',\n",
              " '16 / nahl sûresi',\n",
              " '102 / tekâsür sûresi',\n",
              " '35 / fâtir sûresi',\n",
              " '79 / nâzi̇’ât sûresi',\n",
              " '93 / duhâ sûresi',\n",
              " '13 / ra’d sûresi',\n",
              " '42 / şûrâ sûresi',\n",
              " '46 / ahkâf sûresi',\n",
              " 'haşr sûresi',\n",
              " 'duhân sûresi',\n",
              " 'tûr sûresi',\n",
              " 'mümtehi̇ne sûresi',\n",
              " 'i̇brâhi̇m sûresi',\n",
              " 'müddessi̇r sûresi',\n",
              " 'münâfi̇kûn sûresi',\n",
              " 'kiyâme sûresi',\n",
              " 'abese sûresi',\n",
              " 'fâti̇ha sûresi',\n",
              " 'sebe’ sûresi',\n",
              " 'talâk sûresi',\n",
              " 'fussi̇let sûresi',\n",
              " 'beyyi̇ne sûresi',\n",
              " 'hûd sûresi',\n",
              " 'vâki’a sûresi',\n",
              " 'teğabun sûresi',\n",
              " 'i̇nşi̇râh sûresi',\n",
              " 'kamer sûresi',\n",
              " 'alâk sûresi',\n",
              " 'en’âm sûresi',\n",
              " 'rahmân sûresi',\n",
              " 'târik sûresi',\n",
              " 'yûnus sûresi',\n",
              " 'ahzâb sûresi',\n",
              " 'necm sûresi',\n",
              " 'yâsi̇n sûresi',\n",
              " 'neml sûresi',\n",
              " 'mü’mi̇nûn sûresi',\n",
              " 'kadr sûresi',\n",
              " 'i̇srâ sûresi',\n",
              " 'ci̇n sûresi',\n",
              " 'tîn sûresi',\n",
              " 'rûm sûresi',\n",
              " 'i̇nfi̇târ sûresi',\n",
              " 'kâf sûresi',\n",
              " 'hâkka sûresi',\n",
              " 'a’râf sûresi',\n",
              " 'bakara sûresi',\n",
              " 'zümer sûresi',\n",
              " 'âdi̇yât sûresi',\n",
              " 'mâi̇de sûresi',\n",
              " 'a’lâ sûresi',\n",
              " 'leyl sûresi',\n",
              " 'müzzemmi̇l sûresi',\n",
              " 'âl-i̇ i̇mrân sûresi',\n",
              " 'me’âri̇c sûresi',\n",
              " 'secde sûresi',\n",
              " 'enbi̇yâ sûresi',\n",
              " 'şems sûresi',\n",
              " 'i̇nşi̇kâk sûresi',\n",
              " 'hucurât sûresi',\n",
              " 'kasas sûresi',\n",
              " 'sâd sûresi',\n",
              " 'hac sûresi',\n",
              " 'hadîd sûresi',\n",
              " 'ankebût sûresi',\n",
              " 'tevbe sûresi',\n",
              " 'mü’mi̇n sûresi',\n",
              " 'zâri̇yât sûresi',\n",
              " 'nebe’ sûresi',\n",
              " 'kâri̇’a sûresi',\n",
              " 'mücâdele sûresi',\n",
              " 'lokmân sûresi',\n",
              " 'câsi̇ye sûresi',\n",
              " 'meryem sûresi',\n",
              " 'i̇nsân sûresi',\n",
              " 'yûsuf sûresi',\n",
              " 'hi̇cr sûresi',\n",
              " 'kalem sûresi',\n",
              " 'bürûc sûresi',\n",
              " 'beled sûresi',\n",
              " 'tekvîr sûresi',\n",
              " 'mürselât sûresi',\n",
              " 'ğaşi̇ye sûresi',\n",
              " 'muhammed sûresi',\n",
              " 'zi̇lzâl sûresi',\n",
              " 'tahrîm sûresi',\n",
              " 'şu’arâ sûresi',\n",
              " 'kehf sûresi',\n",
              " 'cum’a sûresi',\n",
              " 'nûh sûresi',\n",
              " 'tâ hâ sûresi',\n",
              " 'feti̇h sûresi',\n",
              " 'furkân sûresi',\n",
              " 'mutaffi̇fîn sûresi',\n",
              " 'saff sûresi',\n",
              " 'nûr sûresi',\n",
              " 'fecr sûresi',\n",
              " 'enfâl sûresi',\n",
              " 'sâffât sûresi',\n",
              " 'zuhruf sûresi',\n",
              " 'mülk sûresi',\n",
              " 'ni̇sâ sûresi',\n",
              " 'nahl sûresi',\n",
              " 'tekâsür sûresi',\n",
              " 'fâtir sûresi',\n",
              " 'nâzi̇’ât sûresi',\n",
              " 'duhâ sûresi',\n",
              " 'ra’d sûresi',\n",
              " 'şûrâ sûresi',\n",
              " 'ahkâf sûresi',\n",
              " '113 / felâk ve 114 /',\n",
              " '111 / tebbet ve 112 /',\n",
              " '109 / kâfi̇rûn ve 107 / n',\n",
              " '107 / mâ’ûn ve 108 /',\n",
              " '105 / fi̇l ve 106 /',\n",
              " '103 / asr ve 104 /']"
            ]
          },
          "metadata": {
            "tags": []
          },
          "execution_count": 11
        }
      ]
    },
    {
      "cell_type": "code",
      "metadata": {
        "id": "KI79Emn-VABV"
      },
      "source": [
        "print(f'Starting Lenght: {len(kuran_test)}')\r\n",
        "\r\n",
        "for i in remove_list_all:\r\n",
        "    kuran_test = re.sub(i, '', kuran_test)\r\n",
        "    \r\n",
        "print(f'Sure headers and continuations removed length: {len(kuran_test)}')\r\n",
        "\r\n",
        "kuran_test = kuran_test.replace(remove_str, '')\r\n",
        "\r\n",
        "print(f'Weird character removed length: {len(kuran_test)}')\r\n",
        "print('=========================')\r\n",
        "print('=========================')\r\n",
        "print(kuran_test[:50000])"
      ],
      "execution_count": null,
      "outputs": []
    },
    {
      "cell_type": "markdown",
      "metadata": {
        "id": "4B2lIrIvX22c"
      },
      "source": [
        "\r\n",
        "\r\n",
        "*   Sure ler bismilahiariamrihmim le basliyor. Oncesindeki line break ler ile kullanip introlari sil. \r\n",
        "*   Page number lar pncesindeki linebreak leri kullnarak page number lari sil\r\n",
        "*  PIRILTI: Sure lerin sayisini \\t \\n delimiter larla swap layip, random* length sure generate etmeyi dene ???? \r\n",
        "* PIRILTI: RNN ile model kuran ustune olustuktan sonra, zaytung gibi duzgun turkceli bi yeri scrape edip -veya tweetlerini kullanip-, son layer ada onu output dense layer a koyup transfer learning ile output u sarkastige bukmeye calis \r\n",
        "\r\n",
        "\r\n",
        "\r\n"
      ]
    },
    {
      "cell_type": "code",
      "metadata": {
        "id": "9ExizOvjYlOy"
      },
      "source": [
        "remove_add1 = '''114\r\n",
        "nâs sûresi\r\n",
        "\r\n",
        "113\r\n",
        "felâk sûresi\r\n",
        "\r\n",
        " nâs sûreleri\r\n",
        "\r\n",
        "\r\n",
        "\r\n",
        "\r\n",
        "\tpage 1\r\n",
        "\tpage 2\r\n",
        "\tpage 1\r\n",
        "\tpage 2\r\n",
        "\tpage 3\r\n",
        "\tpage 4\r\n",
        "\tpage 3'''\r\n",
        "\r\n",
        "remove_add2 = '''111\r\n",
        "tebbet sûresi\r\n",
        "\r\n",
        "112\r\n",
        "ihlâs sûresi\r\n",
        "\r\n",
        " ihlâs sûreleri'''\r\n",
        "\r\n",
        "\r\n",
        "remove_add3 = '''109\r\n",
        "kâfirûn sûresi\r\n",
        "\r\n",
        "110\r\n",
        "nasr sûresi\r\n",
        "\r\n",
        "asr sûreleri'''\r\n",
        "\r\n",
        "\r\n",
        "remove_add4 = '''108\r\n",
        "kevser sûresi\r\n",
        "\r\n",
        "107\r\n",
        "mâ’ûn sûresi\r\n",
        "\r\n",
        " kevser sûreleri'''\r\n",
        "\r\n",
        "remove_add5 = '''103\r\n",
        "asr sûresi\r\n",
        "\r\n",
        "104\r\n",
        "hümeze sûresi\r\n",
        "\r\n",
        " hümeze sûreleri'''\r\n",
        "\r\n",
        "\r\n",
        "remove_add6 = '''105\r\n",
        "fil sûresi\r\n",
        "\r\n",
        "106\r\n",
        "kureyş sûresi\r\n",
        "\r\n",
        " kureyş sûreleri'''"
      ],
      "execution_count": null,
      "outputs": []
    },
    {
      "cell_type": "code",
      "metadata": {
        "id": "CG0WUqp9YlWh"
      },
      "source": [
        "for remove_list_i in [remove_add1,remove_add2,remove_add3,remove_add4,remove_add5,remove_add6]:\r\n",
        "    kuran_test = re.sub(remove_list_i, '', kuran_test)\r\n",
        "\r\n",
        "print(kuran_test)"
      ],
      "execution_count": null,
      "outputs": []
    },
    {
      "cell_type": "markdown",
      "metadata": {
        "id": "IZEblh0eU3pJ"
      },
      "source": [
        "* Test"
      ]
    },
    {
      "cell_type": "code",
      "metadata": {
        "id": "r1VjMVxMYlcg"
      },
      "source": [
        "test2 = re.sub('\\d+ {0,}\\. {0,}', '\\n', kuran_test[:10000])\r\n",
        "print(test2)"
      ],
      "execution_count": null,
      "outputs": []
    },
    {
      "cell_type": "code",
      "metadata": {
        "id": "INo0p4KIYldF"
      },
      "source": [
        "maxlen = 40\r\n",
        "test_input_list = list()\r\n",
        "test_output_list = list()\r\n",
        "for i in range(0, len(test2) - maxlen):\r\n",
        "\r\n",
        "    test_input_list.append(test2[i : i+maxlen])\r\n",
        "    test_output_list.append(test2[i+maxlen])\r\n"
      ],
      "execution_count": null,
      "outputs": []
    },
    {
      "cell_type": "code",
      "metadata": {
        "id": "XvzJj4dDYldq"
      },
      "source": [
        "for i in range(len(test_output_list)):\r\n",
        "    print(f'index {i}')\r\n",
        "    print(len(test_input_list[i]), len(test_output_list[i]))\r\n",
        "    print(test_input_list[i], test_output_list[i])\r\n",
        "    print('=======')"
      ],
      "execution_count": null,
      "outputs": []
    },
    {
      "cell_type": "markdown",
      "metadata": {
        "id": "IOICEKz9U7pC"
      },
      "source": [
        "* Apply to dataset"
      ]
    },
    {
      "cell_type": "markdown",
      "metadata": {
        "id": "u7vvdCTrWyZt"
      },
      "source": [
        "* For memory reasons, will keep this as a POC and will use a small part of the book -first 100000 chars "
      ]
    },
    {
      "cell_type": "code",
      "metadata": {
        "colab": {
          "base_uri": "https://localhost:8080/"
        },
        "id": "_uv2v4gLYlf_",
        "outputId": "fa6613c4-c338-40ea-d5f8-f1d65ed38667"
      },
      "source": [
        "# # regex = r\"\\d+ \\. {2,3}.*\\n\\n\\n\\n\\n\\n\"\r\n",
        "# # regex2 = r\"\\d+\\.{1,}|\\d+,{1,} {0,}\"\r\n",
        "# subst, subst2= \"\", \"\"\r\n",
        "\r\n",
        "# # You can manually specify the number of replacements by changing the 4th argument\r\n",
        "# result = re.sub(regex, subst, kuran_test, 0, re.MULTILINE | re.DOTALL) # clipping here by simply slicing\r\n",
        "# # result = re.sub(regex2, subst2, result, 0, re.MULTILINE)\r\n",
        "\r\n",
        "# result = ''.join(result).replace('-','').replace('\\n','')\r\n",
        "\r\n",
        "\r\n",
        "# if result:\r\n",
        "#     print (result)\r\n",
        "#     print(len(result))\r\n"
      ],
      "execution_count": null,
      "outputs": [
        {
          "output_type": "stream",
          "text": [
            " 3medine döneminde inmiştir. kur’anı kerim’in en uzun sûresi olup 286 âyettir. adını, 6773. âyetlerde yer alan “bakara (sığır)” kelimesinden alır. sûre, islâm hukukunun ana konularıyla ilgili pek çok hüküm içermektedir.bismillâhirrahmânirrahîm.1. elif lâm mîm.12. bu, kendisinde şüphe olmayan kitaptır. allah’a karşı gelmekten sakınanlar için yol göstericidir.3. onlar gaybe2 inanırlar, namazı dosdoğru kılarlar, kendilerine rızık olarak verdiğimizden de allah yolunda harcarlar.4. onlar sana indirilene de, senden önce indirilenlere de inanırlar. ahirete de kesin olarak inanırlar.5. işte onlar rab’lerinden (gelen) bir doğruyol üzeredir    ler ve kurtuluşa erenler de işte onlardır.1. kur’anı kerim’de yirmi dokuz sûrenin başında yer alan bu gibi harflere “hurûfi mukattaa” veya “mukatta’ât” (arap alfabesindeki adlarıyla, tek tek okunan harfler) denir. anlamlarını kesin olarak bilmediğimiz bu harfler üzerinde tefsir bilginleri çeşitli görüşler belirtmişlerdir. bunlar arasında, bu harflerin; başında bulunduğu sûrenin adı, ya da allah teâlâ ile hz.peygamber arasında birer şifre olduğu görüşleri ağırlık kazanmıştır.2.  gayb, sözlükte görme duyusuyla algılanamayan şey demektir. kelime (gayb), “duyuların kapsamına girmeyen gizli her şey” anlamında kullanılır. bir şeyin “gayb” oluşu, allah’a göre değil insanlara göredir. zira allah’ın ilminin dışında kalan hiçbir şey yoktur. allah’a, meleklere, ahiret gününe, cennet ve cehenneme, kadere inanmak “gaybe iman” konuları arasındadır.2 46. küfre saplananlara gelince, onları uyarsan da, uyarmasan da, onlar için birdir, inanmazlar.37. allah, onların kalplerini ve kulaklarını mühürlemiştir. gözleri üzerinde de bir perde vardır. onlar için büyük bir azap vardır.8. insanlardan, inanmadıkları hâlde, “allah’a ve ahiret gününe inandık” diyenler de vardır.9. bunlar allah’ı ve mü’minleri aldatmaya çalışırlar. oysa sadece kendilerini aldatırlar da farkında değillerdir.10. kalplerinde münafıklıktan kaynaklanan bir hastalık vardır. allah da onların hastalıklarını artırmıştır. söyledikleri yalana karşılık da onlara elem dolu bir azap vardır.11. bunlara, “yeryüzünde fesat çıkarmayın” denildiğinde, “biz ancak ıslah edicileriz!” derler.12. iyi bilin ki, onlar bozguncuların ta kendileridir. fakat farkında değillerdir.13. onlara, “insanların inandıkları gibi siz de inanın” denildiğinde ise, “biz de akılsızlar gibi iman mı edelim?” derler.4 iyi bilin ki, asıl akılsızlar kendileridir, fakat bilmezler.14. iman edenlerle karşılaştıkları zaman, “inandık” derler. fakat şeytanlarıyla (münafık dostlarıyla) yalnız kaldıkları zaman, “şüphesiz, biz sizinle beraberiz. biz ancak onlarla alay ediyoruz” derler.15. gerçekte allah onlarla alay eder (alaylarından dolayı onları cezalandırır); azgınlıkları içinde bocalayıp dururlarken onlara mühlet verir. 705medine döneminde inmiştir. 5 âyettir. felâk, sabah aydınlığı demektir.bismillâhirrahmânirrahîm.1, 2, 3, 4, 5. de ki: “yarattığı şeylerin kötülüğünden, karanlığı çöktüğü zaman gecenin kötülüğünden, düğümlere üfleyenlerin kötülüğünden, haset ettiği zaman hasetçinin kötülüğünden, sabah aydınlığının rabbine sığınırım.”medine döneminde inmiştir. 6 âyettir. nâs, insanlar demektir.bismillâhirrahmânirrahîm.1, 2, 3, 4, 5, 6. de ki: “cinlerden ve insanlardan; insanların kalplerine vesvese veren sinsi vesvesecinin kötülüğünden, insanların rabbine, insanların melik’ine, insanların ilâh’ına sığınırım.”\n",
            "3396\n"
          ],
          "name": "stdout"
        }
      ]
    },
    {
      "cell_type": "code",
      "metadata": {
        "colab": {
          "base_uri": "https://localhost:8080/"
        },
        "id": "PIIoz1WdY-Qq",
        "outputId": "c3e1375c-09e4-465b-bc68-b68061f25701"
      },
      "source": [
        "regex1 = r'\\n+'\r\n",
        "regex2 = r'\\d+\\. {0,}|\\d+ {0,}'\r\n",
        "subst = ''\r\n",
        "\r\n",
        "result = re.sub(regex1, subst, kuran_test[:200000], 0, re.MULTILINE | re.DOTALL) # clipping here by simply slicing\r\n",
        "result = re.sub(regex2, subst, result, 0, re.MULTILINE)\r\n",
        "\r\n",
        "result = ''.join(result).replace('-','')\r\n",
        "\r\n",
        "\r\n",
        "if result:\r\n",
        "    print (result)\r\n",
        "    print(len(result))"
      ],
      "execution_count": null,
      "outputs": [
        {
          "output_type": "stream",
          "text": [
            " medine döneminde inmiştir. kur’anı kerim’in en uzun sûresi olup âyettir. adını, âyetlerde yer alan “bakara (sığır)” kelimesinden alır. sûre, islâm hukukunun ana konularıyla ilgili pek çok hüküm içermektedir.bismillâhirrahmânirrahîm.elif lâm mîm.bu, kendisinde şüphe olmayan kitaptır. allah’a karşı gelmekten sakınanlar için yol göstericidir.onlar gaybeinanırlar, namazı dosdoğru kılarlar, kendilerine rızık olarak verdiğimizden de allah yolunda harcarlar.onlar sana indirilene de, senden önce indirilenlere de inanırlar. ahirete de kesin olarak inanırlar.işte onlar rab’lerinden (gelen) bir doğruyol üzeredir    ler ve kurtuluşa erenler de işte onlardır.kur’anı kerim’de yirmi dokuz sûrenin başında yer alan bu gibi harflere “hurûfi mukattaa” veya “mukatta’ât” (arap alfabesindeki adlarıyla, tek tek okunan harfler) denir. anlamlarını kesin olarak bilmediğimiz bu harfler üzerinde tefsir bilginleri çeşitli görüşler belirtmişlerdir. bunlar arasında, bu harflerin; başında bulunduğu sûrenin adı, ya da allah teâlâ ile hz.peygamber arasında birer şifre olduğu görüşleri ağırlık kazanmıştır.gayb, sözlükte görme duyusuyla algılanamayan şey demektir. kelime (gayb), “duyuların kapsamına girmeyen gizli her şey” anlamında kullanılır. bir şeyin “gayb” oluşu, allah’a göre değil insanlara göredir. zira allah’ın ilminin dışında kalan hiçbir şey yoktur. allah’a, meleklere, ahiret gününe, cennet ve cehenneme, kadere inanmak “gaybe iman” konuları arasındadır.küfre saplananlara gelince, onları uyarsan da, uyarmasan da, onlar için birdir, inanmazlar.allah, onların kalplerini ve kulaklarını mühürlemiştir. gözleri üzerinde de bir perde vardır. onlar için büyük bir azap vardır.insanlardan, inanmadıkları hâlde, “allah’a ve ahiret gününe inandık” diyenler de vardır.bunlar allah’ı ve mü’minleri aldatmaya çalışırlar. oysa sadece kendilerini aldatırlar da farkında değillerdir.kalplerinde münafıklıktan kaynaklanan bir hastalık vardır. allah da onların hastalıklarını artırmıştır. söyledikleri yalana karşılık da onlara elem dolu bir azap vardır.bunlara, “yeryüzünde fesat çıkarmayın” denildiğinde, “biz ancak ıslah edicileriz!” derler.iyi bilin ki, onlar bozguncuların ta kendileridir. fakat farkında değillerdir.onlara, “insanların inandıkları gibi siz de inanın” denildiğinde ise, “biz de akılsızlar gibi iman mı edelim?” derler.iyi bilin ki, asıl akılsızlar kendileridir, fakat bilmezler.iman edenlerle karşılaştıkları zaman, “inandık” derler. fakat şeytanlarıyla (münafık dostlarıyla) yalnız kaldıkları zaman, “şüphesiz, biz sizinle beraberiz. biz ancak onlarla alay ediyoruz” derler.gerçekte allah onlarla alay eder (alaylarından dolayı onları cezalandırır); azgınlıkları içinde bocalayıp dururlarken onlara mühlet verir. .  burada kastedilen, dünyada kâfir olarak yaşayıp sonunda ahirete de kâfir olarak intikal edeceği, allah tarafından bilinen inkârcılardır..  âyetin bu kısmı, “onlara, insanların inandıkları gibi siz de inanın” denildiğinde ise, “biz, akılsızların iman ettiği gibi mi iman edelim? derler.” şeklinde de tercüme edilebilir.işte onlar, hidayete karşılık sapıklığı satın almış kimselerdir. bu yüzden alışverişleri onlara kâr getirmemiş ve (sonuçta) doğru yolu bulamamışlardır.onların durumu, (geceleyin) ateş yakan kimsenin durumuna benzer: ateş tam çevresini aydınlattığı sırada allah ışıklarını yok eder de onları göremez bir şekilde karanlıklar içinde bırakıverir.onlar sağırdırlar (gerçekleri işitmezler), dilsizdirler (gerçekleri konuşmazlar), kördürler (gerçekleri görmezler).  artık (hakka) dönmezler.yahut onların durumu, gökten yoğun karanlıklar içinde gök gürültüsü ve şimşekle sağanak hâlinde boşanan yağmura tutulmuş kimselerin durumu gibidir. ölüm korkusuyla, yıldırım seslerinden parmaklarını kulaklarına tıkarlar. oysa allah, kâfirleri çepeçevre kuşatmıştır.şimşek neredeyse gözlerini alıverecek. önlerini her aydınlatışında ışığında yürürler. karanlık çökünce dikilip kalırlar. allah dileseydi, elbette onların işitme ve görme duyularını giderirdi. şüphesiz allah, her şeye hakkıyla gücü yetendir.ey insanlar! sizi ve sizden öncekileri yaratan rabbinize ibadet edin ki, allah’a karşı gelmekten sakınasınız.o, yeri sizin için döşek, göğü de bina yapan, gökten su indirip onunla size rızık olarak çeşitli ürünler çıkarandır. öyleyse siz de bile bile allah’a ortaklar koşmayın.eğer kulumuza (muhammed’e) indirdiğimiz (kur’an) hakkında şüphede iseniz, haydin onun benzeri bir sûre getirin ve eğer doğru söyleyenler iseniz, allah’tan başka şahitlerinizi çağırın (ve bunu ispat edin).   eğer, yapamazsanız ki hiçbir zaman yapamayacaksınız o hâlde yakıtı insanlarla taşlar olan ateşten sakının. o ateş kâfirler için hazırlanmıştır. iman edip salih ameller işleyenlere, kendileri için; içinden ırmaklar akan cennetler olduğunu müjdele. cennetlerin meyvelerinden kendilerine her rızık verilişinde, “bu (tıpkı) daha önce (dünyada iken) bize verilen rızık!” diyecekler. hâlbuki bu rızık onlara (dünyadakine) benzer olarak verilmiştir. onlar için orada tertemiz eşler de vardır. onlar orada ebedî kalacaklardır.allah, bir sivrisineği, ondan daha da ötesi bir varlığı örnek olarak vermekten çekinmez. iman edenler onun, rablerinden (gelen) bir gerçek olduğunu bilirler. küfre saplananlar ise, “allah, örnek olarak bununla neyi kastetmiştir?” derler. (allah) onunla (ondan ders çıkarıp çıkarmamaları ile) birçoklarını saptırır, birçoklarını da doğru yola iletir. onunla ancak fasıkları saptırır.müşrikler kur’an’ın allah kelamı olduğunu inkâr ediyor, onu hz. muhammed’e birilerinin yazdırdığını, onun bir şiir olduğunu söylüyorlardı. allah da onları bu iddialarını ispatlamaya çağırıp “madem” diyordu, “kur’an allah kelamı değil de bir beşer sözüdür, öyle ise siz de onun gibi bir kitap (isrâ, /), sûreleri gibi on sûre (hûd, /), bir sûre (yunus, /), hiç olmazsa onun gibi bir söz (tûr, /) getirin” teklifinde bulunmuştu. bu tekliflerin dile getirildiği ayetlere tefsir ilminde “tehaddi/meydan okuma ayetleri” denilmektedir.işte bu ayette ve bir sonraki ayette müşriklere bunu asla başaramayacakları açıkça bildirilmekte ve inkârda devam ederlerse cezalarının cehennem olacağı konusunda uyarılmaktadırlar. fâsık, allah’a itaat çizgisinin dışına çıkan kimse demektir. kelime, kur’anı kerim’de “kâfir”, “günahkâr”, “yalancı” ve “kötülük yapan” anlamlarında kullanılmıştır. buonlar, allah’a verdikleri sözü, pekiştirilmesinden sonra bozan, allah’ın korunmasını emrettiği bağları (iman, akrabalık, beşerî ve ahlâkî bütün ilişkileri) koparan ve yeryüzünde bozgunculuk yapan kimselerdir. işte onlar ziyana uğrayanların ta kendileridir.siz cansız (henüz yok) iken sizi dirilten (dünyaya getiren) allah’ı nasıl inkâr ediyorsunuz? sonra sizleri öldürecek, sonra yine diriltecektir. en sonunda o’na döndürüleceksiniz.o, yeryüzünde olanların hepsini sizin için yaratan, sonra göğe yönelip onları yedi gök hâlinde düzenleyendir. o, her şeyi hakkıyla bilendir.hani, rabbin meleklere, “ben yeryüzünde bir halife yaratacağım” demişti. onlar, “orada bozgunculuk yapacak, kan rada “fasık” kâfir anlamında kullanılmaktadır.allah hakkı görmeleri için kullarına akıl, irade ve duyu organları gibi nimetler vermiş, ayrıca kendisini bilmeleri, emir ve yasaklarını öğrenip uygulamaları için peygamberler ve kitaplar göndermiştir. bir kısım insanlar bu ilahi yol göstermelerden yararlanmışlar, bir kısmı ise bunlara kulak asmamış, inkâr yolunu seçmişlerdir. kendi iradesini kullanarak, iman veya inkâr, doğru yolu tutma ya da sapma, itaat ya da isyan yollarından birini seçen insandır. allah ise bu tercihin sonucunu yaratarak ortaya çıkarır. kısaca “allah’ın saptırması”, sapkınlığı seçen insanın tercih ettiği şıkkı (sapkınlığı) yaratması demektir. aynı açıklama, “allah’ın hidayete erdirmesi” ifadeleri için de geçerlidir. yani hidayete ermeyi, doğru yolu seçmeyi tercih edenlerin bu tercihini allah yaratır. insanın kendi tercihi sonucu olarak sapması veya hidayete ermesi ile allah’ın bu tercihi yaratarak eyleme dönüştürmesi arasındaki bu ilişki, ayetin sonundaki şu ifadede açıkça görülmektedir: “allah, onunla (ondan ders çıkarıp çıkarmamaları ile) birçoklarını saptırır, birçoklarını da hidayete erdirir.” aynı ilişki, “onlar yoldan sapınca allah da onların kalplerini saptırdı.” (saff, /) ve “allah’ın ayetlerine inanmayanları allah elbette hidayete erdirmez.” (nahl, /) ayetlerinde de görülmektedir.bu açıklama, kuran’daki bütün “allah’ın saptırması” ifadeleri için de geçerlidir.dökecek birini mi yaratacaksın? oysa biz sana hamdederek daima seni tesbih ve takdis ediyoruz.” demişler. allah da, “ben sizin bilmediğinizi bilirim” demişti.allah, âdem’e bütün varlıkların isimlerini öğretti. sonra onları meleklere göstererek, “eğer doğru söyleyenler iseniz, haydi bana bunların isimlerini bildirin” dedi.melekler, “seni bütün eksikliklerden uzak tutarız. senin bize öğrettiklerinden başka bizim hiçbir bilgimiz yoktur. şüphesiz her şeyi hakkıyla bilen, her şeyi hikmetle yapan sensin” dediler.allah, şöyle dedi: “ey âdem! onlara bunların isimlerini söyle.” âdem, meleklere onların isimlerini bildirince allah, “size, göklerin ve yerin gaybını şüphesiz ki ben bilirim, yine açığa vurduklarınızı da, gizli tuttuklarınızı da ben bilirim demedim mi?” dedi.hani meleklere, “âdem için saygı ile eğilin” demiştik de iblis hariç bütün melekler hemen saygı ile eğilmişler, iblis (bundan) kaçınmış, büyüklük taslamış ve kâfirlerden olmuştu.dedik ki: “ey âdem! sen ve eşin cennete yerleşin. orada dilediğiniz gibi bol bol yiyin, ama şu ağaca yaklaşmayın, yoksa zalimlerden olursunuz.” derken, şeytan ayaklarını oradan kaydırdı. onları içinde bulundukları konumdan çıkardı. bunun üzerine biz de, “birbirinize düşman olarak inin. sizin için yeryüzünde belli bir süre barınak ve yararlanma vardır” dedik. derken, âdem (vahy yoluyla) rabbinden birtakım kelimeler aldı, (onlarla amel edip rabb’ine yalvardı. o da) bunun üzerine tövbesini kabul etti. şüphesiz o, tövbeleri çok kabul edendir, çok bağışlayandır.“inin oradan (cennetten) hepiniz. tarafımdan size bir yol gösterici (peygamber) gelir de kim ona uyarsa, onlar için herhangi bir korku yoktur, onlar üzülmeyeceklerdir” dedik.inkâr edenler ve âyetlerimizi yalanlayanlara gelince, işte bunlar cehennemliktir. onlar orada ebedî kalacaklardır.ey israiloğulları!size verdiğim nimeti hatırlayın. bana verdiğiniz sözü yerine getirin ki ben de size verdiğim sözü yerine getireyim. yalnız benden korkun.elinizdeki tevrat’ı tasdik edici olarak indirdiğimize (kur’an’a) iman edin. onu inkâr edenlerin ilki olmayın. âyetlerimi az bir karşılığa değişmeyin ve bana karşı gelmekten sakının.burada sözü edilen düşmanlık hz. âdem ile havva arasında değil, onların soyundan gelecek insanlar arasında meydana çıkacak düşmanlık ve hasımlıklardır. ayetten, dostluk ve kardeşlik ilişkileri gibi, düşmanlık ve sürtüşmelerin de yeryüzü hayatı için bir imtihan olarak takdir edildiği anlaşılıyor. hür iradesini allah’ın gösterdiği yönde kullanan; nefsine değil, vahye, vicdanına kulak verenler, zulüm ve haksızlıktan, düşmanlık ve sürtüşmeden kaçınanlar bu imtihanı kazanmış olacaktır.hz. âdem ile hz. havva’nın cennetten indirilmesi ile ilgili olarak ayrıca bakınız: a’raf, /; tâhâ, /.  isrâil, ishak peygamberin oğlu yakup peygamberdir.bu ayette olduğu gibi, başka birçok ayette de çeşitli vesilelerle kur’an’ın ve hz. peygamber’in tevrat’ı tasdik ettiğini bildiren ifadeler yer alır. bu tasdik, tevrat’ın içeriğinin bütünü ile onaylanması, doğrulanması anlamında değildir. tasdikin temel konusu bu kitabın aslı itibarı ile allah’tan gelen bir kitap olduğudur. ayrıca tevrat’ta yer alan tevhit inancı, peygamberlere iman, ahlaki güzelliklerin emredilmesi, kötü işhakkı batılla karıştırıp da bile bile hakkı gizlemeyin.namazı kılın, zekâtı verin. rükû edenlerle birlikte siz de rükû edin.siz kitab’ı (tevrat’ı) okuyup durduğunuz hâlde, kendinizi unutup başkalarına iyiliği mi emrediyorsunuz? (yaptığınızın çirkinliğini) anlamıyor musunuz?sabrederek ve namaz kılarak (allah’tan) yardım dileyin.şüphesiz namaz, allah’a derinden saygı duyanlardan başkasına ağır gelir.onlar, rablerine kavuşacaklarını ve gerçekten o’na döneceklerini çok iyi bilirler.ey israiloğulları! size verdiğim nimetimi ve (bir zamanlar) sizi cümle âleme üstün kıldığımı hatırlayın.öyle bir günden sakının ki, o gün hiç kimse bir başkası adına bir şey ödeyemez. hiçbir kimseden herhangi bir şefaat kabul olunmaz, fidye alınmaz.onlara yardım da edilmez.hani, sizi azabın en kötüsüne uğratan, kadınlarınızı sağ bılerin yasaklanması gibi temel öğretiler de bu tasdikin konusudur. kur’an’da bu tasdik konusunun gündeme getirilmesi, yahudilerin dikkatini kur’an üzerine çekerek onu inceleyip kabullenmelerine yol açmak amacına yöneliktir.kur’an’ın (ve hz. peygamber’in) tevrat’ı tasdik etmesi ile ilgili olarak ayrıca bakınız: bakara / , , , ali imran, /, , ; maide, /, ; en’âm, /; fâtır, /, ahkâf, /; saff,  /.  sabır, insanı olgunlaştırır, geliştirir ve güçlendirir. namaz ise, allah’a kulluğun, teslimiyetin ve nimetlere şükrün en yüksek ifade biçimi, aktif ve düwzenli bir hayatın göstergesidir. âyette, zorluklar karşısında insanı hem ruhen hem de dış hayatta güçlü kılacak iki temel ögeden yararlanmamız tavsiye edilmektedir..  şefaat, birinin bağışlanmasına aracılık etmek demektir. kıyamet gününde başta hz. peygamber olmak üzere, peygamber ile allah’ın izin vereceği bazı insanlar ve melekler, günahkâr mü’minlerin affedilmesini, günahsızların derecelerinin yükseltilmesini allah’tan dileyeceklerdir. şefaat taleplerinin yerine getirilip getirilmemesi konusunda takdir allah’a aittir.rakıp, oğullarınızı boğazlayan firavun ailesinden kurtarmıştık. bunda, size rabbinizden (gelen) büyük bir imtihan vardı.hani, sizin için denizi yarmış, sizi kurtarmış, gözlerinizin önünde firavun ailesini suda boğmuştuk.hani, biz mûsâ ile kırk gece için sözleşmiştik. sizler ise onun ardından (kendinize) zulmederek bir buzağıyı tanrı edinmiştiniz.sonra bunun ardından şükredesiniz diye sizi affetmiştik.hani, doğru yolu tutasınız diye mûsâ’ya kitab’ı (tevrat’ı) ve furkan’ıvermiştik.mûsâ, kavmine dedi ki: “ey kavmim! sizler, buzağıyı ilâh edinmekle kendinize yazık ettiniz. gelin yaratıcınıza tövbe edin de nefislerinizi öldürün(kendinizi düzeltin). bu, yaratıcınız katında sizin için daha iyidir. böylece allah da onların tövbesini kabul etti. çünkü o, tövbeleri çok kabul edendir, çok merhametlidir.”hani siz, “ey mûsâ! biz allah’ı açıktan açığa görmedikçe sana asla inanmayız” demiştiniz. bunun üzerine siz bakıp dururken sizi yıldırım çarpmıştı.sonra, şükredesiniz diye ölümünüzün ardından sizi tekrar dirilttik.bulutu üstünüze gölge yaptık. size, kudret helvası ile bıldırcın indirdik. “verdiğimiz rızıkların iyi ve güzel olanlarından yiyin” (dedik). onlar (verdiğimiz nimetlere nankörlük etmekle) bize zulmetmediler, fakat kendilerine zulmediyor.  furkan, “hak ile batılı ayıran” anlamınadır. burada mûsâ’ya verilen emirler ve hükümler kastedilmektedir..  âyetin bu kısmı “içinizden buzağıya tapanları öldürün” şeklinde de tercüme edilmiştir.lardı.hani, “şu memleketegirin. orada dilediğiniz gibi, bol bol yiyin. kapısından eğilerek tevazu ile girin ve “hıtta!” (ya rabbi, bizi affet) deyin ki, biz de sizin hatalarınızı bağışlayalım. iyi ve yararlı işleri en güzel şekilde yapanlara ise daha da fazlasını vereceğiz” demiştik.derken, onların içindeki zalimler, sözü kendilerine söylenenden başka şekle soktular. biz de haktan ayrılmaları sebebiyle, o zalimlere gökten bir azap indirdik.hani, mûsâ kavmi için su dilemişti. biz de, “asanı kayaya vur” demiştik, böylece kayadan on iki pınar fışkırmış, her boy kendi su alacağı pınarı bilmişti. “allah’ın rızkından yiyin, için. yalnız, yeryüzünde bozgunculuk yaparak fesat çıkarmayın” demiştik.hani, “ey mûsâ! biz bir çeşit yemeğe asla katlanamayız. o hâlde, bizim için rabbine yalvar da, o bize yerden biten sebze, kabak, sarımsak, mercimek, soğan versin” demiştiniz. o da size, “iyi olanı düşük olanla değiştirmek mi istiyorsunuz? öyle ise inin şehre! istedikleriniz orada var” demişti. böylece zillet ve yoksulluk onları kapladı. onlar, allah’ın gazabına uğradılar. bunun sebebi, onların; allah’ın âyetlerini inkâr ediyor, peygamberleri de haksız yere öldürüyor olmaları idi. bütün bunların sebebi ise, isyan etmek ve aşırı gitmekte oluşlarıydı.şüphesiz, inananlar (müslümanlar) ile yahudiler, hıristiyanlar ve sâbiîlerden(her bir grubun kendi şeriatın.  adı geçen memleketin kudüs veya erîha olduğu rivayet edilmiştir..  âyette ifade edilen bu azabın veba gibi korkunç bir bulaşıcı hastalık olduğu tefsir bilginlerince ifade edilmiştir..  sâbiîler, bazı tefsir bilginlerine göre, yahudilik ile hıristiyanlık arasında bulunan ve da) “allah’a ve ahiret gününe inanan ve salih ameller işleyenler için rableri katında mükâfat vardır; onlar korkuya uğramayacaklar, mahzun da olmayacaklardır” (diye hükmedilmiştir).hani, (tevrat ile amel edeceğinize dair) sizden sağlam bir söz almış, tûr dağını da tepenize dikmiş ve “sakınasınız diye, size verdiğimiz kitab’ı sıkı tutun, onun içindekileri düşünün (gafil olmayın)” demiştik.bundan sonra yine yüz çevirdiniz. allah’ın bol nimeti ve merhameti olmasaydı, herhâlde ziyana uğrayanlardan olurdunuz.şüphesiz siz, içinizden cumartesi yasağınıçiğneyenleri bilirsiniz. biz onlara, “aşağılık maymunlar olun” demiştik.biz bunu, hem onu görenlere, hem de sonra geleceklere bir ibret ve allah’a karşı gelmekten sakınanlara da bir öğüt kıldık.tevhid inancına dayanan bir dinin mensuplarıdır. islâm âlimlerinin çoğunluğu ise bunların, kitap ehlinden olmadığını söylemektedirler. bir rivayete göre ise sâbiîler, hz. ibrahim’in dinine mensup kimselerdir..  islâmiyet, kendinden önceki dinlerin hükmünü kaldırmıştır. bu itibarla, hangi dine mensup bulunursa bulunsun, tüm insanlar islâm’a girmekle yükümlüdürler. islâm gelmeden önceki semavî dinlere mensup olanlardan allah’a ve ahirete inanıp iyi işler yapanlar, tıpkı islâmiyette olduğu gibi, kurtuluşa ermişlerdir. bu, genel bir kuraldır. bu âyet bu noktayı vurgulamaktadır. yoksa islâmiyet geldikten sonra, islâm’ı kabul etmeden, kendi ölçüleri içinde “allah’a ve ahirete inanıp, iyi işler yapmak” kişiyi kurtuluşa erdirmez. benzer ifadeler için bakınız: mâide sûresi, âyet, allah, zaman zaman israil oğullarından, itaat edeceklerine dair peygamberleri aracılığı ile söz alıyor fakat onlar bir süre sonra bu sözlerinden dönerek isyan ve inkâra yöneliyorlardı. (konu için ayrıca bakınız: bakara, /, ).  hz.mûsâ’nın dinine göre, cumartesi günü çalışmayıp ibadetle meşgul olmak bir esastı. israiloğullarının bu esası çiğnemeleri ile ilgili olarak ayrıca bakınız: nisâ sûresi, âyet, ; , âyet, ; , âyet, .  bazı tefsir bilginleri, âyette sözü edilen maymunlaştırma olayının temsîlî, bazıları da hani mûsâ kavmine, “allah, size bir sığır kesmenizi emrediyor” demişti. onlar da, “sen bizimle eğleniyor musun?” demişlerdi. mûsâ, “kendini bilmez cahillerden olmaktan allah’a sığınırım” demişti.“bizim için rabbine dua et de onun nasıl bir sığır olduğunu bize açıklasın.” dediler. mûsâ şöyle dedi: “rabbim diyor ki: o, ne yaşlı, ne körpe, ikisi arası bir sığırdır. haydi, emrolunduğunuz işi yapın.”onlar, “bizim için rabbine dua et de, rengi neymiş? açıklasın” dediler. mûsâ şöyle dedi: “rabbim diyor ki, o, sapsarı; rengi, bakanların içini açan bir sığırdır” dedi.“bizim için rabbine dua et de onun nasıl bir sığır olduğunu bize açıklasın. çünkü sığırlar, bizce, birbirlerine benzemektedir. ama allah dilerse elbet buluruz” dediler.mûsâ şöyle dedi: “rabbim diyor ki; o, çift sürmek, ekin sulamak için boyunduruğa vurulmamış, kusursuz, hiç alacası olmayan bir sığırdır.” onlar, “işte, şimdi tam doğrusunu bildirdin” dediler. nihayet o sığırı kestiler. neredeyse bunu yapmayacaklardı.hani, bir kimseyi öldürmüştünüz de suçu birbirinizin üstüne atmıştınız. hâlbuki allah, gizlemekte olduğunuzu ortaya çıkaracaktı.gerçek olduğunu söylemişlerdir..  tefsir kaynaklarının aktardığına göre, israiloğullarından birisi, zengin, fakat çocuğu olmayan amcasını, malını elde etmek için öldürmüş, sonra da cesedi bir başkasının evinin önüne bırakmıştı. bununla da yetinmeyerek, “amcamı öldürdüler”, diye ortaya çıkınca, taraflar vuruşma noktasına gelmişlerdi. içlerinden biri, “ne diye birbirimizi öldüreceğiz. işte allah’ın peygamberi, ona başvuralım”, dedi. durumu hz.mûsâ’ya aktardılar. katil bulunamayınca, allah teâlâ onların bir sığır keserek, sığırın bir parçası ile ölüye vurmalarını emretti. onlar, kesilecek sığırın niteliklerini sormaya başladılar. nihayet nitelikleri belirtilen sığırı bulup kestiler ve parçasıyla öldürülen şahsa vurdular. ölü dirilip, katili haber verdi. işte, âyetler bu olayı anlatmaktadır.“sığırın bir parçası ile öldürülene vurun” dedik. (denileni yaptılar ve ölü dirildi.) işte, allah ölüleri böyle diriltir, düşünesiniz diye mucizelerinide size böyle gösterir.sonra bunun ardından kalpleriniz yine katılaştı; taş gibi, hatta daha katı oldu. çünkü taş vardır ki, içinden ırmaklar fışkırır. taş vardır ki yarılır da içinden sular çıkar. taş da vardır ki, allah korkusuyla (yerinden kopup) düşer. allah, yaptıklarınızdan hiçbir zaman habersiz değildir.şimdi, bunların size inanacaklarını mı umuyorsunuz? oysa içlerinden birtakımı, allah’ın kelamını dinler, iyice anladıktan sonra, onu bile bile tahrif ederlerdi.mucize, peygamberlerin peygamberliklerini ispat etmek için allah’ın izni ile ortaya koydukları harikulade şeyler, olaylar ve işler demektir. mucizeler, her peygamberin döneminde revaçta olan, gündemi işgal eden işler alanında gerçekleşmiştir. mesela hz. musa zamanında sihirbazlık çok gelişmişti. böyle iken hz. musa’nın asası yılana dönüşerek firavun’un elemanları olan sihirbazların sihir yolu ile ortaya koyduklarını yutmuştu. yine musa (a.s) elini koyuna sokup çıkarınca eli ışık saçan bir beyazlığa bürünüyordu.  hz. isa’ya, ne kadar mahir olursa olsun, hiçbir doktorun gerçekleştiremeyeceği allah’ın izni ile ölüleri diriltme, körleri görür hale getirme… gibi mucizeler verilmiştir. hz. peygamber (s.a.s) zamanında araplar arasında şiir ve edebiyat son derece gelişmiş durumda idi. kur’an, arapçayı konuşanların, küçük bir parçasının bile benzerini meydana getiremeyecekleri bir mucizekitap olarak hz. peygamber (s.a.s)’e verildi..  tahrif sözlük anlamı ile bir uca çekmek demektir. ayetteki anlamı ile; ortaya batıl şüpheler, asılsız yorumlar koymak ve çeşitli kelime oyunları ile sözü gerçek anlamından uzaklaştırıp ona ilgisi olmayan başka bir anlam yüklemek şeklinde olur.konu ile ilgili olarak ayrıca bu sûrenin ayeti ve dipnotuna, maide, /ve ayetlere bakınız.bu âyet yahudilerin, kutsal kitapları tevrat’ı tahrif ettiklerini açık bir ifade ile ortaya koymaktadır. bu gerçek, maurice bucaille gibi batılı bazı araştırmacı bilginlerce de kesin olarak ifade edilmiştir. bizzat tevrat’ta da bunu doğrulayıcı ifadeler yer almaktadır. (yeremya, /)onlar iman edenlerle karşılaşınca, “iman ettik” derler. birbirleriyle baş başa kaldıklarında da şöyle derler: “rabbinizin huzurunda delil olarak kullanıp sizi sustursunlar diye mi, allah’ın (tevrat’ta) size bildirdiklerini onlara söylüyorsunuz? (bu kadarcık şeye) akıl erdiremiyor musunuz?”onlar bilmiyorlar mı ki, allah onların gizli tuttuklarını da bilir, açığa vurduklarını da.bunların bir de ümmîtakımı vardır; kitab’ı (tevrat’ı) bilmezler. onların bütün bildikleri bir sürü kuruntulardır. onlar sadece zanda bulunurlar.vay o kimselere ki, elleriyle kitab’ı yazarlar,sonra da onu az bir karşılığa değişmek için, “bu, allah’ın katındandır” derler. vay ellerinin yazdıklarından ötürü onların hâline! vay kazandıklarından dolayı onların hâline!bir de dediler ki: “bize ateş, sayılı birkaç günden başka asla dokunmayacaktır.” sen onlara de ki: “siz bunun için allah’tan söz mü aldınız? eğer böyle ise, allah verdiği sözden dönmez. yoksa siz allah’a karşı bilemeyeceğiniz şeyleri mi söylüyorsunuz?”evet, kötülük işleyip suçu benliğini kaplamış (ve böylece şirke düşmüş) olan kimseler var ya, işte onlar cehennemliklerdir. onlar orada ebedî kalacaklardır..  ümmî, anadan doğduğu gibi kalan, yani okumayazma bilmeyen kimse demektir. burada dinleri konusunda asgari düzeyde bile bilgisi olmayanlar kastedilmiştir.tefsir kaynaklarında aktarıldığına göre; yahudi bilginleri kendi dinlerinde bazı hükümler icat ediyor, birtakım hükümleri değiştiriyor ve bunları tevrat’a ekliyorlardı. ayrıca yaptıkları bu müdahalenin allah katından olduğunu söylüyor, halk katında itibar kazanıp menfaat sağlıyorlardı. başka bir görüşe göre ise yahudi bilginleri çeşitli dini konularda bazı kitaplar yazıp bunların allah katından gelmiş dini gerçekleri içerdiğini söylüyor ve yazdıklarını halka satıyorlardı.iman edip salih ameller işleyenler ise cennetliklerdir. onlar orada ebedî kalacaklardır.hani, biz israiloğulları’ndan, “allah’tan başkasına ibadet etmeyeceksiniz, anne babaya, yakınlara, yetimlere, yoksullara iyilik edeceksiniz, herkese güzel sözler söyleyeceksiniz, namazı kılacaksınız, zekâtı vereceksiniz” diye söz almıştık. sonra pek azınız hariç, yüz çevirerek sözünüzden döndünüz.hani, “birbirinizin kanını dökmeyeceksiniz, birbirinizi yurtlarınızdan çıkarmayacaksınız” diye de sizden kesin söz almıştık. sonra bunu böylece kabul etmiştiniz. kendiniz de buna hâlâ şahitlik etmektesiniz.ama siz, birbirinizi öldüren, içinizden bir kesime karşı kötülük ve zulümde yardımlaşarak; size haram olduğu hâlde onları yurtlarından çıkaran, size esir olarak geldiklerinde ise, fidye verip kendilerini kurtaran kimselersiniz. yoksa siz kitab’ın (tevrat’ın) bir kısmına inanıp, bir kısmını inkâr mı ediyorsunuz?artık sizden bunu yapanın cezası, dünya hayatında rezil olmaktan başka bir şey değildir. kıyamet gününde ise onlar azabın en şiddetlisine uğratılırlar. çünkü allah, yaptıklarınızdan habersiz değildir.onlar, ahireti verip dünya hayatını satın alan kimselerdir. . medine’deki arap evs ve hazrec kabileleri birbirleri ile savaş halinde bulunuyordu. yahudi kabilelerinden beni nadîr ve beni kureyza, evs kabilesi ile; beni kureyza ise hazrec kabilesi ile antlaşmalı idi. arap kabilelerinin savaşa tutuşması ile yahudi kabileleri de karşılıklı olarak savaşmış ve birbirlerinin kanını dökmüş, yurtlarından çıkarmışlardı. bununla birlikte tevrat’ın emrine uyarak, birbirlerinin ellerinde bulunan esirleri de fidye karşılığı kurtarmışlardı. ancak tevrat’ta, yahudilerin, birbirlerinin kanını dökmeyecekleri, birbirlerini yurtlarından çıkarmayacaklarına dair söz verdikleri de yazılı idi. ayette, medine yahudileri bu çelişkili tutumları sebebi ile uyarılmakta, müslümanlara da böyle davranmamaları işaret edilmektedir. artık bunlardan azap hiç hafifletilmez. onlara yardım da edilmez.andolsun, mûsâ’ya kitab’ı (tevrat’ı) verdik. ondan sonra ard arda peygamberler gönderdik. meryem oğlu isa’ya mucizeler verdik. onu ruhu’lkudüs (cebrail) ile destekledik. size herhangi bir peygamber, hoşunuza gitmeyen bir şey getirdikçe, kibirlenip (onların) bir kısmını yalanlayıp bir kısmını da öldürmediniz mi?“kalplerimiz muhafazalıdır” dediler. öyle değil. inkârları sebebiyle allah onları lânetlemiştir. bu yüzden pek az iman ederler.kendilerine ellerindekini (tevrat’ı) tasdik eden bir kitap (kur’an) gelince onu inkâr ettiler.oysa, daha önce (bu kitabı getirecek peygamber ile) inkârcılara (arap müşriklerine) karşı yardım istiyorlardı. (tevrat’tan) tanıyıp bildikleri (bu peygamber) kendilerine gelince ise onu inkâr ettiler. allah’ın lâneti inkârcıların üzerine olsun.karşılığında nefislerini sattıkları şeyi kıskançlıkları sebebiyle allah’ın, kullarından dilediğine lütfuyla indirdiği vahyi inkâr etmeleri ne kötüdür! bu yüzden gazap üstüne gazaba uğradılar. inkâr edenlere alçaltıcı bir azap vardır..  yahudiler, tarihleri boyunca, kendilerine gönderilen peygamberlere karşı daima direnmişler, onlara işkence etmişler, onları öldürmüşler, olmadık hile ve entrikalara başvurmuşlardı. bundan sonraki âyetler, yahudilerin hz.peygamber’e karşı da sergiledikleri bu olumsuz tutumu dile getirmektedir.. kur’an’ın tevrat’ı (ve incil’i) tasdik etmesi, bu kitapların asıllarının allah katından gönderilmiş kitaplar olduğu noktasındadır. eğer kur’an onları tahrif edilmiş, değişime uğramış bugünkü şekilleri ile oldukları gibi tasdik edecek olsa idi kur’an’ın gelmesine gerek kalmazdı. nitekim bu kitaplarda kur’an’ın getirdiği tevhid esasına, islam’ın getirdiği diğer ahkâma aykırı birçok ifade ve söylemler yer almaktadır. (ayrıca bakınız: bakara, /dipnotu.)onlara, “allah’ın indirdiğine (kur’an’a) iman edin” denilince, “biz sadece bize indirilene (tevrat’a) inanırız” deyip, ondan sonra geleni (kur’an’ı) inkâr ederler. hâlbuki o, ellerinde bulunanı (tevrat’ı) tasdik eden hak bir kitaptır. de ki: “eğer inanan kimseler idiyseniz, daha önce niçin allah’ın peygamberlerini öldürüyordunuz?”andolsun, mûsâ size açık mucizeler getirmişti de, arkasından sizler nefislerinize zulüm ederek buzağıyı ilâh edinmiştiniz.hani, tûr’u tepenize dikerek sizden söz almıştık, “size verdiğimiz kitab’a sımsıkı sarılın; ona kulak verin” demiştik. onlar, (daha sonra inkâra yönelerek) “dinledik, karşı geldik”demişlerdi. inkârları yüzünden buzağı sevgisi onların kalplerine sindirilmişti. onlara de ki: (tevrat’a beslediğinizi iddia ettiğiniz) imanınızın size emrettiği şey ne kötüdür, eğer inanan kimselerseniz!de ki: “eğer (iddia ettiğiniz gibi) allah katındaki ahiret yurdu (cennet) diğer insanlar için değil de, yalnız sizinse ve doğru söyleyenler iseniz haydi ölümü temenni edin!”fakat kendi elleriyle önceden yaptıkları işler yüzünden ölümü hiçbir zaman temenni edemezler. allah, o zalimleri hakkıyla bilendir.andolsun, sen onların, yaşamaya, bütün insanlardan; hatta allah’a ortak koşanlardan bile daha düşkün olduklarını görürsün. onların her biri bin yıl yaşamak ister. hâlbuki uzun yaşamak, onları azaptan kurtaracak değildir. allah, onların bütün işlediklerini görür.de ki: “her kim cebrail’e düşman ise, bilsin ki o, allah’ın izni ile kur’an’ı; önceki kitapları doğrulayıcı, mü’minler için .  israiloğullarından söz alınması konusunda bu sûrenin âyetine bakınız.de bir hidayet rehberi ve müjde verici olarak senin kalbine indirmiştir.”her kim allah’a, meleklerine, peygamberlerine, cebrail’e ve mîkâil’e düşman olursa bilsin ki, allah da inkâr edenlerin düşmanıdır.andolsun, biz sana apaçık âyetler indirdik. bunları ancak fasıklar inkâr eder.onlar ne zaman bir antlaşma yaptılarsa, içlerinden birtakımı o antlaşmayı bozmadı mı? zaten onların çoğu iman etmez.onlara, allah katından ellerinde bulunan kitab’ı (tevrat’ı) doğrulayıcı bir peygamber gelince, kendilerine kitap verilenlerden bir kısmı, sanki bilmiyorlarmış gibi allah’ın kitab’ını (tevrat’ı) arkalarına attılar.“süleyman’ın hükümranlığı hakkında şeytanların (ve şeytan tıynetli insanların) uydurdukları yalanların ardına düştüler. oysa süleyman (büyü yaparak) küfre girmedi. fakat şeytanlar, insanlara sihri ve (özellikle de) babil’deki hârût ve mârût adlı iki meleğe ilham edilen (sihr)i öğretmek suretiyle küfre girdiler. hâlbuki o iki melek, “biz ancak imtihan için gönderilmiş birer meleğiz. (sihri caiz görüp de) sakın küfre girme” demedikçe, kimseye (sihir) öğretmiyorlardı.  böylece (insanlar) onlardan kişi ile  karısını   birbirinden        tefsir kaynaklarının ifadesine göre, fedek yahudileri hz. peygambere bazı sorular yöneltmişler ve cevaplayabildiği takdirde kendisine iman edeceklerini söylemişlerdi. bu sorulardan birisi de “sana gelen, vahiy getiren melek hangisidir?” sorusu idi. hz. peygamber “cebrail” cevabını verince yahudiler; “o bizim düşmanımızdır, çünkü o savaş ve şiddet meleğidir. eğer sana vahiy getiren melek rahmet, bolluk ve yağmur meleği olan mikail olsaydı sana iman ederdik.” cevabını vermişlerdi. ayet bu olay üzerine inmiştir. konu ile ilgili benzer başka rivayetler de vardır.ayıracakları sihri öğreniyorlardı. hâlbuki onlar, allah’ın izni olmadıkça o sihirle hiç kimseye zarar veremezlerdi. (onlar böyle yaparak) kendilerine zarar veren, fayda getirmeyen şeyleri öğreniyorlardı. andolsun, onu satın alanın ahirette bir nasibi olmadığını biliyorlardı. kendilerini karşılığında sattıkları şey ne kötüdür! keşke bilselerdi!eğer onlar iman edip allah’ın emirlerine karşı gelmekten sakınmış olsalardı, allah katında kazanacakları sevap kendileri için daha hayırlı olacaktı. keşke bilselerdi!ey iman edenler! “râ’inâ (bizi gözet)” demeyin, “unzurnâ (bize bak)” deyin ve dinleyin. kâfirler için acıklı bir azap vardır.ne kitab ehlinden inkâr edenler ve ne de allah’a ortak koşanlar, rabbinizden size bir iyilik gelmesini isterler. oysa allah, rahmetini dilediğine tahsis eder. allah, büyük lütuf sahibidir.biz herhangi bir âyetin hükmünü yürürlükten kaldırır veya onu unutturur (ya da ertelersek), yerine daha hayırlısını veya mislini getiririz. allah’ın gücünün her şeye hakkıyla yettiğini bilmez misin?bilmez misin ki, göklerin ve yerin hükümranlığı allah’ındır. sizin için allah’tan başka ne bir dost, ne de bir yardımcı vardır..  sahabiler, hz.peygamber’in nasihatlerinden daha çok yararlanmak için ona, “râ’inâ (bizi gözet)”, diyorlardı. yahudiler, bu ifadeyi ibranice’de hakaret ifade eden bir anlamda kullanıyorlardı. bir başka yoruma göre, “râ’inâ” kelimesini, arapça’da “çobanımız” anlamına gelecek şekilde “râ’înâ” diye okuyorlardı. o sebeple âyet, mü’minlerden, “râ’inâ” yerine yine, “bize de bak”, “bizi de gözet” anlamındaki, “unzurnâ” ifadesini kullanmalarını istemiştir. âyette, yanlış anlama çekilebilecek kelimeleri kullanmaktan sakınmanın adaba uygun olduğuna işaret edilmektedir. konu ile ilgili olarak ayrıca nisâ sûresinin âyetine bakınız.yoksa daha önce mûsâ’nın sorguya çekildiği gibi, siz de peygamberinizi sorguya çekmek mi istiyorsunuz? her kim imanı küfre değişirse, o artık doğru yoldan sapmış olur.kitap ehlinden birçoğu, hak kendilerine belirdikten sonra dahi, içlerindeki kıskançlıktan ötürü sizi, imanınızdan sonra küfre döndürmek isterler. siz şimdilik, allah onlar hakkındaki emrini getirinceye kadar affedin, hoşgörün. şüphesiz allah, gücü her şeye hakkıyla yetendir.namazı dosdoğru kılın, zekâtı verin. kendiniz için her ne iyilik işlemiş olursanız, allah katında onu bulursunuz. şüphesiz allah bütün yaptıklarınızı görür.bir de; “yahudi ve hıristiyanlardan başkası cennet’e girmeyecek” dediler. bu, onların kuruntuları! de ki: “eğer doğru söyleyenler iseniz (iddianızı ispat edecek) delilinizi getirin.”hayır, öyle değil! kim iyi ve yararlı işleri en güzel şekilde yaparak özünü allah’a teslim ederse, onun mükâfatı rabbinin katındadır. artık onlara korku yoktur, onlar üzülmeyeceklerdir.yahudiler, “hıristiyanlar bir temel üzerinde değiller” dediler. hıristiyanlar da, “yahudiler bir temel üzerinde değiller” dediler. oysa hepsi kitab’ıokuyorlar. (kitab’ı) bilmeyenler de tıpkı bunların söyledikleri gibi demişti. artık onların aralarında uyuşamadıkları davada, kıyamet gününde hükmü allah verecektir.allah’ın mescitlerinde onun adının anılmasını yasak eden ve onların yıkılması için çalışandan kim daha zalimdir. böyleleri oralara (eğer girerlerse) ancak korka korka girebilme.  âyetteki “kitap” ile hz.isa’yı tasdik eden tevrat ve hz.mûsâ’yı tasdik eden incil kastedilmektedir. iki kitaptan her biri, diğerini getiren peygamberi tasdik ettiği için, ikisi birden “kitap” diye zikredilmiştir.lidirler. bunlar için dünyada rezillik, ahirette de büyük bir azap vardır.doğu da, batı da (tüm yeryüzü) allah’ındır. nereye dönerseniz allah’ın yüzüişte oradadır. şüphesiz allah, lütfu geniş olandır, hakkıyla bilendir.“allah, çocuk edindi” dediler.o, bundan uzaktır. hayır! göklerdeki ve yerdeki her şey allah’ındır. hepsi o’na boyun eğmiştir.o, gökleri ve yeri örneksiz yaratandır. bir işe hükmetti mi ona sadece “ol” der, o da hemen oluverir.bilmeyenler, “allah bizimle konuşsa, ya da bize bir mucize gelse ya!” derler. bunlardan öncekiler de tıpkı böyle, bunların dedikleri gibi demişti. onların kalpleri (anlayışları) birbirine benziyor. biz âyetleri, kesin olarak inanacak bir toplum için açıkladık.şüphesiz biz seni hak ile; müjdeleyici ve uyarıcı olarak gönderdik. sen cehennemlik olanlardan sorumlu tutulacak değilsin.sen dinlerine uymadıkça, ne yahudiler ve ne de hıristiyanlar asla senden razı olmazlar. de ki: “allah’ın yolu asıl doğru yoldur.” sana gelen ilimden sonra, eğer onların arzu ve keyiflerine uyacak olursan, bilmiş ol ki, allah’tan sana ne bir dost, ne bir yardımcı vardır.kendilerine kitab verdiğimiz kimseler, onu gereği gibi okurlar. işte bunlar ona inanırlar. onu inkâr edenlere gelin.  “allah’ın yüzü” ifadesi, mecazî bir anlatım olup, burada “allah’ın rahmeti, rızası ve nimeti” demektir. kul, tümüyle allah’a ait olan yeryüzünün neresinde ve hangi cihetinde, ne tür bir taat ve işe girişse, allah’ın lütuf ve rahmetini orada bulur..  yahudiler, “uzeyr, allah’ın oğludur”, diyorlardı. hıristiyanlar da isa’nın allah’ın oğlu olduğu inancındadırlar. (bakınız: , âyet, )ce, işte onlar ziyana uğrayanların ta kendileridir.ey israiloğulları! size verdiğim nimetimi ve (bir zamanlar) sizi cümle âleme üstün tuttuğumu hatırlayın.kimsenin kimse namına bir şey ödemeyeceği, hiç kimseden fidye alınmayacağı, kimseye şefaatin (aracılığın) yarar sağlamayacağı ve hiç kimsenin hiçbir taraftan yardım göremeyeceği günden sakının.bir zaman rabbi ibrahim’i birtakım emirlerle sınamış, ibrahim onların hepsini yerine getirmiş de rabbi şöyle buyurmuştu: “ben seni insanlara önder yapacağım.” ibrahim de, “soyumdan da (önderler yap, ya rabbi!)” demişti. bunun üzerine rabbi, “benim ahdim (verdiğim söz) zalimleri kapsamaz” demişti.hani, biz kâbe’yi insanlara toplantı ve güven yeri kılmıştık. siz de makamı ibrahim’denkendinize bir namaz yeri edinin. ibrahim ve ismail’e şöyle emretmiştik: “tavaf edenler, kendini ibadete verenler, rükû ve secde edenler için evimi (kâbe’yi) tertemiz tutun.”hani ibrahim, “rabbim! bu şehri güvenli bir şehir kıl. halkından allah’a ve ahiret gününe iman edenleri her türlü ürünle rızıklandır” demişti. allah da, “inkâr edeni bile az ayetteki “allah’ın kendilerine kitap verdiği kimseler” ile kimlerin kast edildiği konusunda tefsir bilginleri farklı görüşler belirtmişlerdir. bir görüşe göre bunlar allah’ın resulüne (s.a.s) inanan ve onun allah’tan getirdiklerini tasdik eden müminler (sahabiler) olduğunu söylemişlerdir. başka bir görüşe göre ise ayette kast edilenler, allah’a inanan, resullerini tasdik eden tevrat’taki muhammed (s.a.s) tabi olma yönündeki emre uyan yahudi bilginleridir. .  âyette geçen “makamı ibrahim”in ne olduğu konusunda tefsir bilginleri çeşitli görüşler belirtmişlerdir. “hac ibadetinin yapılması sırasında ziyaret edilen yerlerden biri”, “kâbe”, “harem diye bilinen alan”, “hz. ibrahim’in kâbe’yi inşa ederken iskele olarak kullandığı ve halkı hacca davet ederken üzerine çıktığı taşın bulunduğu alan” şeklindeki açıklamalar bunlardan bazılarıdır.bir süre, (bu geçici kısa hayatta) rızıklandırır; sonra onu cehennem azabına girmek zorunda bırakırım. ne kötü varılacak yerdir orası!” demişti.hani ibrahim, ismail ile birlikte evin (kâbe’nin) temellerini yükseltiyor, “ey rabbimiz! bizden kabul buyur! şüphesiz sen hakkıyla işitensin, hakkıyla bilensin” diyorlardı.“rabbimiz! bizi sana teslim olmuş kimseler kıl. soyumuzdan da sana teslim olmuş bir ümmet kıl. bize ibadet yerlerini ve ilkelerini göster. tövbemizi kabul et. çünkü sen, tövbeleri çok kabul edensin, çok merhametli olansın.”“rabbimiz! içlerinden onlara bir peygamber gönder; onlara âyetlerini okusun, kitabı ve hikmeti öğretsin ve onları her kötülükten arındırsın. şüphesiz, sen mutlak güç sahibisin, hüküm ve hikmet sahibisin.”kendini bilmeyenden başka ibrahim’in dininden kim yüz çevirir? andolsun, biz ibrahim’i bu dünyada seçkin kıldık. şüphesiz o ahirette de iyilerdendir.rabbi ona “teslim ol” dediğinde, “âlemlerin rabbine teslim oldum” demişti.ibrahim, bunu kendi oğullarına da vasiyet etti, yakub da öyle: “oğullarım! allah, sizin için bu dini (islâm’ı) seçti. siz de ancak müslümanlar olarak ölün” dedi.yoksa siz yakub’un, ölüm döşeğinde iken çocuklarına, “benden sonra kime ibadet edeceksiniz?” dediği, onların da, “senin ilâhına ve ataların ibrahim, ismail ve ishak’ın ilâhı olan tek bir ilâha ibadet edeceğiz; bizler o’na boyun eğmiş müslümanlarız.” dedikleri zaman orada hazır mı bulunuyordunuz?onlar gelip geçmiş bir ümmettir. onların kazandıkları kendilerinin, sizin kazandıklarınız sizindir. siz onların yaptıklarından sorumlu tutulacak değilsiniz.(yahudiler) “yahudi olun” ve (hıristiyanlar da) “hıristiyan olun ki doğru yolu bulasınız” dediler. de ki: “hayır, hakka yönelen ibrahim’in dinine uyarız. o, allah’a ortak koşanlardan değildi.”deyin ki: “biz allah’a, bize indirilene (kur’an’a), ibrahim, ismail, ishak, yakub ve yakuboğullarına indirilene, mûsâ ve isa’ya verilen (tevrat ve incil) ile bütün diğer peygamberlere rab’lerinden verilene iman ettik. onlardan hiçbirini diğerinden ayırt etmeyiz ve biz ona teslim olmuş kimseleriz.”eğer onlar böyle sizin iman ettiğiniz gibi iman ederlerse, gerçekten doğru yolu bulmuş olurlar; yüz çevirirlerse onlar elbette derin bir ayrılığa düşmüş olurlar. allah, onlara karşı seni koruyacaktır. o, hakkıyla işitendir, hakkıyla bilendir.“biz, allah’ın boyasıyla boyanmışızdır. boyası allah’ınkinden daha güzel olan kimdir? biz ona ibadet edenleriz” (deyin).onlara de ki: “allah hakkında mı bizimle tartışıp duruyorsunuz? hâlbuki o, bizim de rabbimiz, sizin de rabbinizdir. bizim işlediklerimiz bize, sizin işledikleriniz size aittir. biz o’na gönülden bağlanmış kimseleriz.”yoksa siz, “ibrahim de, ismail de, ishak da, yakub ile yakuboğulları da yahudi, ya da hıristiyan idiler” mi diyorsunuz? .  hıristiyanlar, doğan çocuklarını, hıristiyanlığı kabul edenleri ya da bir kiliseden öbürüne geçenleri vaftiz denen bir işlemden geçirirler. vaftiz, su serpmek ya da suya batırmak suretiyle yapılır. baba, oğul ve ruhu’lkudüs adına yapılan bu işlemin insanı aslî günahtan kurtaracağına, insanın âdeta yepyeni bir hayat boyasına boyanacağına inanırlar. vaftiz uygulamasının aslı yahudilikten gelmektedir. bu âyette, gerçek kurtuluşun böyle zahirî ve sembolik eylemlerle değil, allah’ın insanların fıtratına yerleştirdiği aslî renk olan tevhid inancı ile mümkün olacağı vurgulanmaktadır.de ki: “sizler mi daha iyi bilirsiniz, yoksa allah mı?” allah tarafından kendisine ulaşan bir gerçeği gizleyen kimseden daha zalim kimdir? allah, yaptıklarınızdan habersiz değildir.onlar gelip geçmiş bir ümmettir. onların kazandıkları kendilerinin, sizin kazandıklarınız sizindir. siz onların yaptıklarından sorumlu tutulacak değilsiniz.birtakım kendini bilmez insanlar, “onları (müslümanları) yönelmekte oldukları kıbleden çeviren nedir?” diyecekler. de ki: “doğu da, batı da allah’ındır. allah, dilediği kimseyi doğru yola iletir.”böylece, sizler insanlara birer şahit (ve örnek) olasınız ve peygamber de size bir şahit (ve örnek) olsun diye sizi orta bir ümmetyaptık. her ne kadar allah’ın doğru yolu gösterdiği kimselerden başkasına ağır gelse de biz, yönelmekte olduğun ciheti ancak; resûl’e tabi olanlarla, gerisingeriye dönecekleri ayırd edelim diye kıble yaptık. allah, imanınızı boşa çıkaracak değildir. şüphesiz allah, insanlara çok şefkatli ve çok merhametlidir.(ey muhammed!) biz senin çok defa yüzünü göğe doğru çevirip durduğunu (vahiy beklediğini) görüyoruz. (merak etme) elbette seni, hoşnut olacağın kıbleye çevireceğiz. (bundan böyle), yüzünü mescidi haram yönüne çevir. (ey müslümanlar!) siz de nerede olursanız olun, (namazda) yüzünüzü hep onun yönüne çevirin. şüphesiz kendilerine kitap verilenler, bunun rabblerinden (gelen) bir .   âyetteki “orta ümmet” ifadesi ile, âdil, seçkin, her yönüyle dengeli, haktan asla ayrılmayan, önder, bütün toplumlarca hakem kabul edilecek bir ümmet kastedilmektedir..  bu ve daha sonraki üç âyette kıblenin kudüs’ten kâbe’ye çevrilmesi ile, bu olay üzerine yahudilerin çıkardıkları dedikodular dile getirilip cevaplandırılmaktadır.gerçek olduğunu elbette bilirler. allah, onların yaptıklarından habersiz değildir.andolsun, sen kendilerine kitap verilenlere her türlü mucizeyi getirsen de, onlar yine senin kıblene uymazlar. sen de onların kıblesine uyacak değilsin. onlar birbirlerinin kıblesine de uymazlar. andolsun, eğer sana gelen bunca ilimden sonra onların arzu ve keyiflerine uyacak olursan, o takdirde sen de mutlaka zalimlerden olursun.kendilerine kitap verdiklerimiz onu (peygamberi) oğullarını tanıdıkları gibi tanırlar. böyle iken içlerinden birtakımı bile bile gerçeği gizlerler.hak (ancak) rabbindendir. artık, sakın şüpheye düşenlerden olma!herkesin yöneldiği bir yön vardır. haydi, hep hayırlara koşun, yarışın! nerede olsanız allah hepinizi bir araya getirir. şüphesiz, allah’ın gücü her şeye hakkıyla yeter.(ey muhammed!) nereden yola çıkarsan çık, (namazda) mescidi haram’a doğru dön. bu, elbette rabbinden gelen gerçek bir emirdir. allah, sizin işlediklerinizden asla habersiz değildir.(ey muhammed!) nereden yola çıkarsan çık, yüzünü mescidi haram’a doğru çevir. (ey mü’minler!) siz de ne.  hz.peygamber, hicrî ikinci yılın ortalarına kadar namazlarda kudüs cihetine yöneliyor, fakat hep kâbe’ye yönelme emrinin gelmesini bekliyordu. bir ikindi namazı sırasında allah teâlâ, kâbe’ye doğru yönelmesini emretti. kudüs’e doğru yönelerek başlanan bu namaz kâbe’ye yönelerek tamamlandı. bu olayın geçtiği yerde yapılan mescit, bugün “mescidi kıbleteyn”, yani iki kıbleli mescit diye anılmaktadır..  yahudiler ve hıristiyanlar, hz. peygamber’e ait özellikleri kendi kutsal kitaplarında okuyageldiklerinden onu özellikleriyle çok iyi tanıyorlardı. âyette, yahudilerin ve hıristiyanların hz. peygamber’i inkâr etmelerinin bilgisizlikten değil, inattan kaynaklandığına işaret edilmektedir.rede olursanız olun, yüzünüzü mescidi haram’a doğru çevirin ki, zalimlerin dışındaki insanların elinde (size karşı) bir koz olmasın. zalimlerden korkmayın, benden korkun. böylece size nimetlerimi tamamlayayım ve doğru yolu bulasınız.nitekim kendi aranızdan, size âyetlerimizi okuyan, sizi her kötülükten arındıran, size kitap ve hikmeti öğreten, ayrıca bilmediklerinizi de öğreten bir peygamber gönderdik.öyleyse yalnız beni anın ki ben de sizi anayım. bana şükredin, sakın nankörlük etmeyin.ey iman edenler! sabrederek ve namaz kılarak allah’tan yardım dileyin. şüphe yok ki, allah sabredenlerle beraberdir.allah yolunda öldürülenlere “ölüler” demeyin. hayır, onlar diridirler. ancak siz bunu bilemezsiniz.andolsun ki sizi biraz korku ve açlıkla, bir de mallar, canlar ve ürünlerden eksilterek deneriz. sabredenleri müjdele.onlar; başlarına bir musibet gelince, “biz şüphesiz (her şeyimizle) allah’a aidiz ve şüphesiz o’na döneceğiz” derler.işte rableri katından rahmet ve merhamet onlaradır. doğru yola ulaştırılmış olanlar da işte bunlardır.şüphesiz safa ile merve, allah’ın (dininin) nişanelerindendir. onun için her kim hac ve umre niyetiyle kâbe’yi ziyaret eder ve onları da tavaf ederse, bunda bir günah yoktur..  sabır, insanı ruhen olgunlaştırır, geliştirir ve güçlendirir. namaz ise, allah’a kulluğun, teslimiyetin ve nimetlere şükrün en yüksek ifade biçimi ve aktif, düzenli bir hayatın göstergesidir. âyette zorluklar karşısında insanı hem ruhen hem de dış hayatta güçlü kılacak iki temel ögeden yararlanmamız tavsiye edilmektedir..  âyette, şehitlik mertebesinin yüceliği vurgulanmaktadır. aynı anlamda bir ifade için âli imran sûresinin âyetine bakınız..  safa ile merve, kâbe’nin doğu tarafında bulunan iki tepenin adıdır. bu iki tepe arasında usulünce gidip gelme demek olan “sa’y”, hz.ibrahim, eşi hacer ve oğlu ismail’e her kim de gönlünden koparak bir hayır işlerse, şüphesiz allah onu bilir, karşılığını verir.indirdiğimiz apaçık delilleri ve hidayeti kitap’ta açıklamamızdan sonra onları gizleyenler var ya, işte onlara hem allah lânet eder, hem de bütün lânet etme konumunda olanlar lânet eder.ancak tövbe edip durumlarını düzeltenler ve gerçeği açıkça ortaya koyanlar (lânetlenmekten) kurtulmuşlardır. çünkü ben onların tövbelerini kabul ederim. zira ben tövbeleri çok kabul edenim, çok merhamet edenim.fakat âyetlerimizi inkâr etmiş ve kâfir olarak ölmüşlere gelince, işte allah’ın, meleklerin ve bütün insanların lâneti onların üstünedir.onlar ebedî olarak lânet içinde kalırlar. artık ne kendilerinden azap hafifletilir, ne de yüzlerine bakılır.sizin ilâhınız bir tek ilâhtır. o’ndan başka ilâh yoktur. o, rahmân’dır, rahîm’dir.şüphesiz, göklerin ve yerin yaratılışında, gece ile gündüzün birbiri ardınca gelişinde, insanlara yarar sağlayacak şeylerle denizde seyreden gemilerde, allah’ın gökten yağdırıp kendisiyle ölmüş toprağı dirilttiği yağmurda, yeryüzünde her çeşit canlıyı yaymasında, rüzgârları ve gökle yer arasındaki dayanan bir geleneğin ihyası olup, haccın ve umrenin vaciblerindendir. cahiliye döneminde safa ve merve tepelerinde putlar bulunuyor ve müşrikler de bu tepeler arasında sa’y ediyorlardı. islâm gelince mü’minler, bu eski müşrik uygulaması sebebiyle, safa ve merve arasında sa’y etmekten endişe etmişlerdi. bu âyet onların endişesini gidermektedir..  lânet etme konumunda olanların, allah, melekler ve  insanlar olduğu, bu sûrenin âyeti ile, âli imran sûresinin âyetinde açıklanmıştır..  “rahmân” ve rahîm” kelimelerinin anlamları için fâtiha sûresinin ikinci âyetinin     dipnotuna bakınız.emre amade bulutları evirip çevirmesinde elbette düşünen bir topluluk için deliller vardır.insanlar arasında allah’ı bırakıp da o’na ortak koşanlar vardır. onları, allah’ı severcesine severler. mü’minlerin allah’a olan sevgisi daha güçlü bir sevgidir. zulmedenler azaba uğrayacakları zaman bütün kuvvetin allah’ın olduğunu ve allah’ın azabının pek şiddetli olduğunu bir bilselerdi!kendilerine uyulanlar o gün azabı görünce, kendilerine uyanlardan uzaklaşacaklar, aralarındaki bütün bağlar kopacaktır.uyanlar şöyle derler: “keşke dünyaya bir dönüşümüz olsaydı da onların şimdi bizden uzaklaştıkları gibi, biz de onlardan uzaklaşsaydık.” böylece allah, onlara işledikleri fiilleri pişmanlık kaynağı olarak gösterir. onlar ateşten çıkacak da değillerdir.ey insanlar! yeryüzündeki şeylerin helâl ve temiz olanlarından yiyin! şeytanın izinden yürümeyin. çünkü o sizin için apaçık bir düşmandır.o, size ancak kötülüğü, hayâsızlığı ve allah’a karşı bilmediğiniz şeyleri söylemenizi emreder.onlara, “allah’ın indirdiğine uyun!” denildiğinde, “hayır, biz, atalarımızı üzerinde bulduğumuz (yol)a uyarız!” derler. peki ama, ataları bir şey anlamayan, doğru yolu bulamayan kimseler olsalar da mı (onların yoluna uyacaklar)?(inkâr edenleri imana çağıran peygamber ile) inkâr edenlerin durumu, bağırıp çağırmadan başka bir şey duymayan hayvanlara seslenen (çoban) ile hayvanların durumu gibidir. onlar sağırdırlar (gerçekleri işitmezler), dilsizdirler .  âyette, yaptıkları işin yanlışlığına ve çirkinliğine akıl erdiremeden, atalarının inançlarını körü körüne taklid eden müşrikler kınanmaktadır.(gerçekleri konuşmazlar), kördürler (gerçekleri görmezler).. bundan dolayı anlamazlar.ey iman edenler! eğer siz ancak allah’a kulluk ediyorsanız, size verdiğimiz rızıkların iyi ve temizlerinden yiyin ve allah’a şükredin.allah, size ancak leş, kan, domuz eti ve allah’tan başkası adına kesileni haram kıldı. ama kim mecbur olur da, istismar etmeksizin ve zaruret ölçüsünü aşmaksızın yemek zorunda kalırsa, ona günah yoktur. şüphesiz, allah çok bağışlayandır, çok merhamet edendir.allah’ın indirdiği kitaptan bir kısmını gizleyip onu az bir bedel ile değişenler (var ya); işte onlar karınlarına ateşten başka bir şey doldurmuyorlar. kıyamet günü allah, onlarla ne konuşacak, ne de onları arıtacaktır. onlar için elem dolu bir azap vardır.işte bunlar hidayeti verip sapıklığı, bağışlanmayı verip azabı satın alanlardır. onlar ateşe karşı ne kadar da dayanıklıdırlar(!)bu (azab) da, allah’ın, kitab’ı hak olarak indirmiş olması (ve onların bunu inkâr etmesi) sebebiyledir. kitap konusunda anlaşmazlığa düşenler ise derin bir ayrılık içindedirler..  islâm’da zaruretlerin mahzurları ortadan kaldırdığına en güzel delil bu âyette ifadesini bulur. bir haramı helâl saymamak ve haddi aşmamak kaydiyle bazen zaruret miktarınca, yasak bir iş işlenebilir. yenmesi haram olan şeyler ile ilgili olarak ayrıca bakınız: , âyet, .  son peygamber hz.muhammed’in nitelik ve özellikleri tevrat’ta belirtilmişti. yahudi hahamları bunları gizlediler. böylece hem kendileri, hem de kavimleri sapmış oldu. bu değerlendirmeye göre âyette geçen kitaptan kasıt tevrat; gizlediklerinden kasıt da hz. peygamberin nitelikleridir. ancak allah’ın kitabında yer alan herhangi bir hükmü gizlemeye yönelik her tür niyet ve teşebbüs bu kategoride değerlendirilir.iyilik, yüzlerinizi doğu ve batı taraflarına çevirmeniz(den ibaret) değildir. asıl iyilik, allah’a, ahiret gününe, meleklere, kitap ve peygamberlere iman edenlerin; mala olan sevgilerine rağmen, onu yakınlara, yetimlere, yoksullara, yolda kalmışa, (ihtiyacından dolayı) isteyene ve (özgürlükleri için) kölelere verenlerin; namazı dosdoğru kılan, zekâtı veren, antlaşma yaptıklarında sözlerini yerine getirenlerin ve zorda, hastalıkta ve savaşın kızıştığı zamanlarda (direnip) sabredenlerin tutum ve davranışlarıdır. işte bunlar, doğru olanlardır. işte bunlar, allah’a karşı gelmekten sakınanların ta kendileridir.ey iman edenler! öldürülenler hakkında size kısas farz kılındı. hüre karşı hür, köleye karşı köle, kadına karşı kadın kısas edilir. ancak öldüren kimse, kardeşi (öldürülenin vârisi, velisi) tarafından affedilirse, aklın ve dinin gereklerine uygun yol izlemek ve güzellikle diyet ödemek gerekir. bu, rabbinizden bir hafifletme ve rahmettir. bundan sonra tecavüzde bulunana elem dolu bir azap vardır.ey akıl sahipleri! kısasta sizin için hayat vardır. umulur ki (bu hükme uyarak) korunursunuz.sizden birinize ölüm gelip çattığı zaman, eğer geride bir hayır (mal) bırakmışsa, anaya, babaya ve yakın akrabaya meşru bir tarzda vasiyette bulunması allah’a karşı gelmekten .  kısas, aynıyla karşılık vermek demektir. islâm hukukunda ise, kasten ve haksız yere bir kimsenin canına kıyma ya da bedenine veya uzvuna zarar verme suçlarını işleyen kimselerin, verdikleri zararın aynıyla cezalandırılmaları demektir. bu âyette kısas, “cana can” kuralını ifade etmektedir. mâide sûresinin âyeti, kısasa tabi suçları topluca belirtmektedir. ilgili şahsın vazgeçmesi hâlinde, kısas diyete dönüşür. hıristiyanlıkta adam öldürenin affedilmesi; yahudilikte ise, mutlaka kısasa tabi tutulması esastı. islâm, diyet uygulaması ile orta yolu getirmiş oldu.sakınanlar üzerinde bir hak olarak size farz kılındı.her kim işittikten sonra vasiyeti değiştirirse, günahı ancak onu değiştirenlerin boynunadır. şüphesiz allah hakkıyla işitendir, hakkıyla bilendir.vasiyet edenin hataya meyletmesinden ve günaha girmesinden korkan bir kimse, (tarafların) aralarını düzeltirse ona hiçbir günah yoktur. şüphesiz allah, çok bağışlayandır, çok merhamet edendir.ey iman edenler! allah’a karşı gelmekten sakınmanız için oruç, sizden öncekilere farz kılındığı gibi, size de farz kılındı.oruç, sayılı günlerdedir. sizden kim hasta, ya da yolculukta olursa, tutamadığı günler sayısınca başka günlerde tutar. oruca gücü yetmeyenler ise bir yoksul doyumu fidye verir.bununla birlikte, gönülden kim bir iyilik yaparsa (mesela fidyeyi fazla verirse) o kendisi için daha hayırlıdır. eğer bilirseniz oruç tutmanız sizin için daha hayırlıdır.(o sayılı günler), insanlar için bir hidayet rehberi, doğru yolun ve hak ile batılı birbirinden ayırmanın apaçık delilleri olarak kur’an’ın kendisinde indirildiği ramazan ayıdır. öyle ise içinizden kim bu aya ulaşırsa, onu oruçla geçirsin. .  vasiyetle ilgili bu emir, henüz mirasla ilgili kurallar açıklanmadan önce verilmişti. amaç ise varisleri adaletsizlikten korumaktı. daha sonra, mirasla ilgili hükümler nisâ sûresinde açıklandı..  ramazan orucu, ergenlik çağına ulaşmış, akıllı her müslümana farzdır. hastalık, yolculuk, kadınlara has özel hâller gibi meşru sebeplerle ramazan ayında oruç tutamayanlar, bu oruçları şartların elverişli olduğu başka zamanlarda kaza ederler. mazeretsiz olarak oruç tutmayanlar, büyük günah işlemiş olurlar. aşırı yaşlılar ya da iyileşmez hastalar, bu sebeple oruç tutamazlar ve bu oruçları kaza etmekten de ümit keserlerse, oruçsuz geçirilen her gün için bir fidye verirler. fidye tıpkı fıtır sadakası gibi, bir fakiri bir gün doyurmak ya da bunun bedelini vermektir.kim de hasta veya yolcu olursa, tutamadığı günler sayısınca başka günlerde tutsun. allah, size kolaylık diler, zorluk dilemez. bu da sayıyı tamamlamanız ve hidayete ulaştırmasına karşılık allah’ı yüceltmeniz ve şükretmeniz içindir.kullarım, beni senden sorarlarsa, (bilsinler ki), gerçekten ben (onlara çok) yakınım. bana dua edince, dua edenin duasına cevap veririm. o hâlde, doğru yolu bulmaları için benim davetime uysunlar, bana iman etsinler.oruç gecesinde kadınlarınıza yaklaşmak size helâl kılındı.onlar, size örtüdürler, siz de onlara örtüsünüz.allah, (ramazan gecelerinde hanımlarınıza yaklaşarak) kendinize zulmetmekte olduğunuzu bildi de tövbenizi kabul edip sizi affetti. artık eşlerinize yaklaşın ve allah’ın sizin için yazıp takdir etmiş olduğu şeyi arayın. şafağın aydınlığı gecenin karanlığından ayırt edilinceye (tan yeri ağarıncaya) kadar yiyin, için. sonra da akşama kadar orucu tam tutun. bununla birlikte siz mescitlerde itikâfta iken eşlerinize yaklaşmayın. bunlar, allah’ın koyduğu sınırlardır. bu sınırlara yaklaşmayın. allah, kendine karşı gelmekten sakınsınlar diye, âyetlerini insanlara böylece açıklar.aranızda birbirinizin mallarını haksız yere yemeyin. insan.  tefsir kaynaklarının aktardığına göre, orucun farz kılındığı ilk dönemlerde müslümanlar, oruç tutacakları zaman sadece güneş batımından yatsı namazını kılıncaya ya da uyuyuncaya kadar yiyip içebiliyorlar; cinsel ilişkide bulunabiliyorlardı. kısaca imsak, yatsı namazından ya da uykuya dalınmasından itibaren başlardı. âyette, yatsı namazından ya da uykudan sonra cinsel ilişkinin oruca engel olmadığı vurgulanmaktadır..  âyetin bu kısmında, güçlü bir anlatım üslubu içinde, karı koca arasındaki ilişkinin tabiatı ortaya konmaktadır. elbise ve örtü insanı nasıl soğuktan ve sıcaktan korur, kusurlarını örterse; eşler de birbirlerine karşı öyle koruyucu, kollayıcı ve bağlı olacaklardır.ların mallarından bir kısmını bile bile günaha girerek yemek için onları yetki sahiplerine(rüşvet olarak) vermeyin.sana, hilâlleri soruyorlar. de ki: “onlar, insanlar ve hac için vakit ölçüleridir.iyilik, evlere arkalarından girmeniz değildir. ama iyi davranış, takva sahibi (allah’a karşı gelmekten sakınan) insanın davranışıdır. evlere kapılarından girin. allah’a karşı gelmekten sakının ki kurtuluşa eresiniz.sizinle savaşanlara karşı allah yolunda siz de savaşın. ancak aşırı gitmeyin.çünkü allah aşırı gidenleri sevmez.onları nerede yakalarsanız öldürün. sizi çıkardıkları yerden (mekke’den) siz de onları çıkarın. zulüm ve baskı, adam öldürmekten daha ağırdır. yalnız, mescidi haram yanında, onlar sizinle savaşmadıkça, siz de onlarla savaşmayın. sizinle savaşırlarsa (siz de onlarla savaşın) onları öldürün. kâfirlerin cezası böyledir.“yetki sahipleri” ifadesi kur’an metnindeki “hükkâm” (tekili hâkim) kelimesinin karşılığıdır. hâkim,  “hükmeden”, “yöneten”, “yetki ve otorite sahibi” anlamlarını ifade eder. buna göre mahkemede hüküm veren hâkim dâhil, herhangi bir yetki ile bir görev başında bulunan herkes kelimenin kapsamına girer..  hz.peygamber’e, “hilâl niçin önce iplik gibi incecik görünüyor, sonra kalınlaşıp nihayet daire şeklini alıyor?” diye soru yöneltilmişti. âyetin bu kısmında söz konusu soruya, ayın hareketlerinin zaman tayininde, özellikle hac, oruç ve zekât gibi ibadetlerin vakitlerinin belirlenmesinde kıstas olduğu ifade edilerek cevap verilmektedir. aynı konuya nin âyeti ile isra sûresinin âyetinde de değinilmektedir..  cahiliye devrinde araplar ihramlı bulundukları zaman evlerine, arka taraftan açtıkları bir delikten girerler ve bunu iyi bir davranış sayarlardı. âyet, onların bu uygulamalarının anlamsız olduğunu, gerçek iyiliğin takva (allah’a karşı gelmekten sakınma) esasına dayalı davranışlar olduğunu vurguluyor..  “aşırı gitmeyin” ifadesiyle, mecbur kalmadıkça savaşa girilmemesi, savaş kaçınılmaz hâle gelince de savaşta çocuklara, kadınlara, yaşlılara ve savaşla ilgisi olmayan diğer sivillere zarar verilmemesi, işkenceden sakınılması.. gibi hususlar kastedilmektedir.müşrikler tarafından ata ocakları mekke’den çıkarılan müslümanlar çileli şartlar altında medine’de yeni bir hayat kurmaya çalışıyorlar fakat hasımları onları burada eğer onlar (savaştan ve küfürden) vazgeçerlerse, (şunu iyi bilin ki) allah çok bağışlayandır, çok merhamet edendir.hiçbir zulüm ve baskı kalmayıncaya ve din yalnız allah’ın oluncaya kadar onlarla savaşın. onlar savaşmaya son verecek olurlarsa, artık düşmanlık yalnız zalimlere karşıdır.haram ay, haram aya karşılıktır.hürmetler (saygı gösterilmesi gereken şeyler) kısas kuralına tabidir. o hâlde kim size saldırırsa, size saldırdığı gibi siz de ona saldırın, (fakat ileri gitmeyin). allah’a karşı gelmekten sakının ve bilin ki, allah kendine karşı gelmekten sakınanlarla beraberdir.(mallarınızı) allah yolunda harcayın. kendi kendinizi tehlikeye atmayın. iyi ve yararlı işleri en güzel şekilde yapın. şüphesiz, allah iyi ve yararlı işleri en güzel şekilde yapanları sever.”     da rahat bırakmıyorlardı. her fırsatta onları yok etmeye çalışıyorlar, hasımca tutumlarını devam ettiriyorlardı. ayette müslümanlara hitap edilerek, sürekli tehlike oluşturan, fitne çıkaran bu hasımları mütekabiliyet esasına göre bertaraf etmeleri ve ata yurtları mekke’nin yolunu kendilerine yeniden açmaları emredilmektedir.islam, müslümanlara saldırmayan, kendileri için tehdit oluşturmayan, dini anlatma görevine engel olmayan, kendileri ile antlaşma yapmış olan gayrimüslimleri öldürmeyi, müslüman olmaya zorlamayı, onlarla savaşmayı yasaklar. kur’an’da yer alan savaş ve cihatla ilgili bütün hükümler bu şartlarla kayıtlıdır.  başkalarının zorla müslüman yapılamayacağı konusunda kur’an’ın yaklaşımı için bkz. bakara, /; yunus, /; hûd, /; yusuf, /; kehf, /.  haram ay, saygı duyulması gereken bir zaman dilimi olduğu için savaşın yasak olduğu ay demektir. haram aylar, zilkade, zilhicce, muharrem ve recep olmak üzere dörttür. islâm’da haram ay uygulaması kaldırılmıştır..  bu âyette haram aylarda kendilerine savaş açılması hâlinde müslümanların da bu aylarda mukabelede bulunabilecekleri ifade edilmekte, ayrıca bu hükmü de içerecek şekilde genel kısas prensibi getirilmektedir.haccı da, umreyi de allah için tamamlayın. eğer (düşman, hastalık ve benzer sebeplerle) engellenmiş olursanız artık size kolay gelen kurbanı gönderin. bu kurban, yerine varıncaya kadar başlarınızı tıraş etmeyin. içinizden her kim hastalanır veya başından rahatsız olur (da tıraş olmak zorunda kalır)sa fidye olarak ya oruç tutması, ya sadaka vermesi, ya da kurban kesmesi gerekir. güvende olduğunuz zaman hacca kadar umreyle faydalanmak isteyen kimse, kolayına gelen kurbanı keser. kurban bulamayan kimse üçü hacda, yedisi de döndüğünüz zaman (olmak üzere) tam on gün oruç tutar. bu (durum), ailesi mescidi haram civarında olmayanlar içindir. allah’a karşı gelmekten sakının ve allah’ın cezasının çetin olduğunu bilin.hac (ayları), bilinen aylardır.kim o aylarda hacca başlarsa, artık ona hacda cinsel ilişki, günaha sapmak, kavga etmek yoktur. siz ne hayır yaparsanız, allah onu bilir. (ahiret için) azık toplayın. kuşkusuz, azığın en hayırlısı takva (allah’a karşı gelmekten sakınma)dır. ey akıl sahipleri, bana karşı gelmekten sakının.(hac mevsiminde ticaret yaparak) rabbinizin lütuf ve keremini istemekte size bir günah yoktur. arafat’tan ayrılıp (sel gibi müzdelife’ye) akın ettiğinizde, meş’ari haram’da allah’ı zikredin.onu, size gösterdiği gibi zikredin. doğrusu siz onun yol göstermesinden önce yolunu şaşırmışlardan idiniz.     .  hac ayları, şevval ve zilkade ayları ile zilhicce ayının ilk on günüdür..  meş’ari haram, müzdelife’de bir yerdir. müzdelife vakfesinin burada yapılması sünnettir.sonra insanların akın ettiği yerden siz de akın edin ve allah’tan bağışlanma dileyin. şüphesiz allah çok bağışlayandır, çok merhamet edendir.hac ibadetinizi bitirdiğinizde, artık (cahiliye döneminde) atalarınızı andığınız gibi, hatta ondan da kuvvetli bir anışla allah’ı anın. insanlardan, “ey rabbimiz! bize (vereceğini) bu dünyada ver” diyenler vardır. bunların ahirette bir nasibi yoktur.onlardan, “rabbimiz! bize dünyada da iyilik ver, ahirette de iyilik ver ve bizi ateş azabından koru” diyenler de vardır.işte onlara kazandıklarından bir nasip vardır. allah, hesabı pek çabuk görendir.sayılı günlerdeallah’ı anın (telbiye ve tekbir getirin). kim iki gün içinde acele edip (mina’dan mekke’ye) dönerse, ona günah yoktur. kim geri kalırsa, ona da günah yoktur. bu, allah’a karşı gelmekten sakınanlar içindir. allah’a karşı gelmekten sakının ve onun huzurunda toplanacağınızı bilin.insanlardan öylesi de vardır ki, dünya hayatına ilişkin sözleri senin hoşuna gider. bir de kalbindekine (sözünün özüne uyduğuna) allah’ı şahit tutar. hâlbuki o, düşmanlıkta en amansız olandır.o, (senin yanından) ayrılınca yeryüzünde bozgunculuk yapmağa, ekin ve nesli yok etmeğe çalışır. allah ise bozgunculuğu sevmez..  tefsir kaynaklarında ifade edildiğine göre, islâm’dan önce müşrikler hac işlemlerini tamamladıktan sonra müzdelife’de oturur, atalarını anar, onlara ve kendilerine ait başarılarla öğünürlerdi. bu âyette, müslümanlara, müşriklerin bu âdetine uymamaları ve allah’ı çok anmaları hatırlatılmaktadır..  “sayılı günler”, teşrik günleridir. teşrik günleri ise, zilhicce ayının, ,,,ve   günleridir.ona “allah’tan kork” denildiği zaman, gururu onu daha da günaha sürükler. artık böylesinin hakkından cehennem gelir. o ne kötü yataktır!insanlardan öylesi de vardır ki, allah’ın rızasını kazanmak için kendini feda eder. allah, kullarına çok şefkatlidir.ey iman edenler! hepiniz topluca barış ve güvenliğe (islâm’a) girin. şeytanın adımlarını izlemeyin. çünkü o, size apaçık bir düşmandır.size apaçık deliller geldikten sonra, eğer yine de yan çizerseniz, bilin ki allah, gerçekten mutlak güç sahibidir, hüküm ve hikmet sahibidir.onlar (böyle davranmakla), bulut gölgeleri içinde allah’ın (azabının) ve meleklerin kendilerine gelmesini ve işin bitirilmesini mi bekliyorlar? hâlbuki bütün işler allah’a döndürülür.israiloğullarına sor; biz onlara nice açık mucizeler verdik. kendisine geldikten sonra kim allah’ın nimetini değiştirirse, (bilsin ki) şüphesiz allah, cezası pek çetin olandır.inkâr edenlere dünya hayatı süslü gösterildi. onlar iman edenlerle alay etmektedirler. allah’a karşı gelmekten sakınanlar ise, kıyamet günü bunların üstündedir. allah, dilediğine hesapsız rızık verir.insanlar tek bir ümmetti. allah, müjdeciler ve uyarıcılar olarak peygamberler gönderdi ve beraberlerinde, insanların anlaşmazlığa düştükleri şeyler konusunda, aralarında hüküm vermek üzere kitapları hak olarak indirdi. kendilerine apaçık âyetler geldikten sonra o konuda ancak; kitap verilenler, aralarındaki kıskançlık yüzünden anlaşmazlığa düştüler. bunun üzerine allah iman edenleri, kendi izniyle, onların hakkında ayrılığa düştükleri gerçeğe iletti. allah, dilediğini doğru yola iletir.yoksa siz, sizden öncekilerin başına gelenler, sizin de başınıza gelmeden cennete gireceğinizi mi sandınız? peygamber ve onunla beraber mü’minler, “allah’ın yardımı ne zaman?” diyecek kadar darlığa ve zorluğa uğramışlar ve sarsılmışlardı. iyi bilin ki, allah’ın yardımı pek yakındır.sana allah yolunda ne harcayacaklarını soruyorlar. de ki: “hayır olarak ne harcarsanız o, anababa, akraba, yetimler, fakirler ve yolda kalmışlar içindir. hayır olarak ne yaparsanız, gerçekten allah onu hakkıyla bilir.”savaş, hoşunuza gitmediği hâlde, size farz kılındı. olur ki, bir şey sizin için hayırlı iken, siz onu hoş görmezsiniz. yine olur ki, bir şey sizin için kötü iken, siz onu seversiniz. allah bilir, siz bilmezsiniz.sana haram ayda savaşmayı soruyorlar. de ki: “o ayda savaş büyük bir günahtır. allah’ın yolundan alıkoymak, onu inkâr etmek, mescidi haram’ın ziyaretine engel olmak ve halkını oradan çıkarmak, allah katında daha büyük günahtır. zulüm ve baskı ise adam öldürmekten daha büyüktür. onlar, güç yetirebilseler, sizi dininizden döndürünceye kadar sizinle savaşmaya devam ederler. sizden kim dinindendöner de kâfir olarak ölürse, öylelerin bütün yapıp ettikleri dünyada da, ahirette de boşa gitmiştir. bunlar cehennemliklerdir, orada sürekli kalacaklardır..  hz.peygamber, hicretin ikinci yılında, bedir savaşından iki ay kadar önce, kureyş’in durumunu tespit etmek üzere abdullah b.cahş komutasında sekiz kişilik bir müfreze görevlendirmişti. müfreze, batnınahle mevkiine gelince, kureyş’e ait bir kervana saldırdı. bir kişiyi öldürüp iki kişiyi de esir alarak medine’ye geldiler. hz.peygamber, izni olmaksızın girişilen bu işe çok üzüldü. olayın, cemâziye’lâhir’in son günü mü, yoksa haram ay olan recep’in ilk günü mü olduğu kesin değildi. yahudiler ve müşiman edenler, hicret edenler, allah yolunda cihad edenler; şüphesiz bunlar allah’ın rahmetini umarlar. allah, çok bağışlayandır, çok merhamet edendir.sana içkiyi ve kumarı sorarlar. de ki: “onlarda hem büyük günah, hem de insanlar için (bazı zahirî) yararlar vardır. ama günahları yararlarından büyüktür.” yine sana allah yolunda ne harcayacaklarını soruyorlar. de ki: “ihtiyaçtan arta kalanı.” allah, size âyetleri böyle açıklıyor ki düşünesiniz.dünya ve ahiret hakkında düşünesiniz, diye böyle yapıyor. bir de sana yetimleri soruyorlar. de ki: “onların durumlarını düzeltmek hayırlıdır. eğer onlara karışıp (birlikte yaşar)sanız (sakıncası yok). (onlar da) sizin kardeşlerinizdir. allah, bozguncuyu yapıcı olandan ayırır. allah, dileseydi sizi zora sokardı. şüphesiz allah mutlak güç sahibidir, hüküm ve hikmet sahibidir.iman etmedikleri sürece allah’a ortak koşan kadınlarla evlenmeyin. allah’a ortak koşan kadın hoşunuza gitse de, mü’min bir cariye allah’a ortak koşan bir kadından daha hayırlıdır. iman etmedikleri sürece allah’a ortak koşan erkeklerle, kadınlarınızı evlendirmeyin. allah’a ortak koşan hür erkek hoşunuza gitse de; iman eden bir köle, allah’a ortak rikler, “muhammed, haram ayda savaşıyor”, diye propagandaya başladılar. işte âyet, bu konuyu gündeme getirerek haram ayda savaşmanın günah olduğunu, ama müşriklerin bundan daha ağır suçlar işleyerek insanları allah yolundan alıkoyduklarını, onu inkâr ettiklerini, kâbe’yi ziyarete engel olup, zulüm ve baskı yaptıklarını onlara hatırlatmaktadır. haram ay” kavramı için bu sûrenin ayetinin no.lu dip nota bakınız..  bu âyet, içki ile ilgili olarak inen ikinci âyettir. bu konuda nazil olan ilk âyet ise nahl sûresinin âyetidir. içki, daha sonra nisâ sûresi, âyet: ve mâide sûresi, âyet: ile tedricî olarak ve kesinlikle haram kılınmıştır.koşan bir erkekten daha hayırlıdır. onlar ateşe çağırırlar, allah ise izniyle, cennete ve bağışlanmaya çağırır. o, insanlara âyetlerini açıklar ki, öğüt alıp düşünsünler.sana kadınların ay hâlini sorarlar. de ki: “o bir ezadır (rahatsızlıktır). ay hâlinde kadınlardan uzak durun. temizleninceye kadar onlara yaklaşmayın. temizlendikleri vakit, allah’ın size emrettiği yerden onlara yaklaşın. şüphesiz allah çok tövbe edenleri sever, çok temizlenenleri sever.”kadınlarınız sizin ekinliğinizdir.ekinliğinize dilediğiniz biçimde varın. kendiniz için (geleceğe hazırlık olarak) güzel davranışlar takdim edin. allah’a karşı gelmekten sakının ve her hâlde onun huzuruna varacağınızı bilin. (ey muhammed!) mü’minleri müjdele.iyilik etmemek, takvaya sarılmamak, insanlar arasını ıslah etmemek yolundaki yeminlerinize allah’ı siper yapmayın. (bu tür yeminlerinizi bozup kefaretini ödeyin ve yapmanız gereken iyi işi yapın.) allah, hakkıyla işitendir, hakkıyla bilendir.allah, sizi kasıtsız yeminlerinizden dolayı sorumlu tutmaz, fakat sizi kalplerinizin kazandığı (bile bile yaptığınız) yeminlerden sorumlu tutar. allah, çok bağışlayandır, halîmdir. .  âyette, kadınların âdet hâlleri “ezâ” diye nitelendirilmiştir. âdet sırasında kadınlar hastalığa daha çok yakındırlar. o günlerde onlara yaklaşmamak gerekir. burada söz konusu olan cinsel ilişkidir.ayette anne rahmi, ceninin oluşup geliştiği ve dünyaya gelecek hale ulaştığı yer olması bakımından tohumun atılıp çimlendiği ve geliştiği toprağa benzetilmiştir.tefsir kaynaklarında ifade edildiği üzere, kur’an’ın nazil olduğu dönemlerde bazı kimseler, iyilikte bulunmamaya, takva sahibi olmanın gerektirdiği bazı işleri yapmamaya, inananların arasını düzeltmemeye yemin ediyor, sonra da kendilerine bu yönde bir görev düşünce, “yemin ettim, bunu yapamam” diyerek yeminlerini bahane ediyorlardı. ayette, bu tür yeminlere uyulmaması gerektiği vurgulanıyor. bozulan yeminler için kefaret gerekir. (yemin kefareti için bakınız: maide, /)(hemen cezalandırmaz, mühlet verir.)  eşlerine yaklaşmamağa yemin edenler için dört ay bekleme süresi vardır. eğer (bu süre içinde) dönerlerse, şüphesiz allah çok bağışlayandır, çok merhamet edendir.eğer (yemin edenler yeminlerinden dönmeyip kadınlarını) boşamaya karar verirlerse (ayrılırlar). biliniz ki, allah hakkıyla işitendir, hakkıyla bilendir.boşanmış kadınlar kendi kendilerine üç ay hâli (hayız veya temizlik müddeti) beklerler. eğer allah’a ve ahiret gününe inanıyorlarsa, allah’ın kendi rahimlerinde yarattığını gizlemeleri onlara helâl olmaz. kocaları bu süre içinde barışmak isterlerse, onları geri almağa daha çok hak sahibidirler. kadınların, yükümlülükleri kadar meşru hakları vardır. yalnız erkeklerin kadınlar üzerinde bir derece farkı vardır. allah, mutlak güç sahibidir, hüküm ve hikmet sahibidir.(dönüş yapılabilecek) boşama iki defadır. sonrası, ya iyilikle geçinmek, ya da güzellikle bırakmaktır. (evlilikte) tarafların allah’ın belirlediği ölçüleri koruyamama endişeleri dışında kadınlara verdiklerinizden (boşanma esnasında) bir şeyi geri almanız, sizin için helâl olmaz. eğer onlar allah’ın belirlediği ölçüleri gözetmeyecekler diye endişe ederseniz, o zaman kadının (boşanmak için) bedel vermesinde ikisine de günah yoktur. bunlar allah’ın koyduğu sınırlardır. sakın bunları aşmayın. allah’ın koyduğu sınırları kim aşarsa, onlar zalimlerin ta kendileridir. eğer erkek karısını (üçüncü defa) boşarsa, kadın, onun dışında bir başka kocayla nikâhlanmadıkça ona helâl olmaz.(bu koca da) onu boşadığı takdirde, onlar (kadın ile ilk kocası) allah’ın koyduğu ölçüleri gözetebileceklerine inanıyorlarsa tekrar birbirlerine dönüp evlenmelerinde bir günah yoktur. işte bunlar allah’ın, anlayan bir toplum için açıkladığı ölçüleridir.kadınları boşadığınız ve onlar da bekleme sürelerini bitirdikleri zaman, ya onları iyilikle tutun yahut iyilikle bırakın. haklarına tecavüz edip zarar vermek için onları tutmayın. bunu kim yaparsa kendine zulmetmiş olur. sakın allah’ın âyetlerini eğlenceye almayın. allah’ın üzerinizdeki nimetini, size öğüt vermek için indirdiği kitab’ı ve hikmeti hatırlayın. allah’a karşı gelmekten sakının ve bilin ki allah her şeyi hakkıyla bilendir.kadınları boşadığınız ve onlar da bekleme sürelerini bitirdikleri zaman kendi aralarında aklın ve dinin gereklerine uygun olarak güzellikle anlaştıkları takdirde, eşleriyle (yeniden) evlenmelerine engel olmayın. bununla içinizden allah’a ve ahiret gününe iman edenlere öğüt verilmektedir. bu, sizin için daha hayırlı ve daha temizdir. allah bilir, siz bilmezsiniz.üçüncü boşamadan sonra kadının başka bir erkekle yapacağı evlilik sürekli birlikte olmak, aile hayatını sürdürmek niyeti ile yapılmış olmalı, hiçbir plan ve hesaba dayalı olmamalıdır. eski eşi ile yeniden evlenme imkânı bulmak amacı ile anlaşmalı evlilik yapmak onunla yeniden evlenebilme yolunu açmaz. bu tür girişimlerde bulunanlar peygamberimiz tarafından şiddetle kınanmıştır.  üçüncü defa boşanan kadının eski eşi ile evlenebilmesi için yapılan bir evliliğin sona ermiş olması ve kadının iddet süresini doldurması gerekir.emzirmeyi tamamlamak isteyenler için anneler çocuklarını iki tam yıl emzirirler.onların (annelerin) yiyeceği, giyeceği, örfe uygun olarak babaya aittir. hiçbir kimseye gücünün üstünde bir yük ve sorumluluk teklif edilmez. hiçbir anne ve hiçbir baba çocuğu sebebiyle zarara uğratılmasın (baba ölmüşse) mirasçı da aynı şeyle sorumludur. eğer (anne ve baba) kendi aralarında danışıp anlaşarak (iki yıl dolmadan) çocuğu sütten kesmek isterlerse, onlara günah yoktur. eğer çocuklarınızı (bir sütanneye) emzirtmek isterseniz, örfe uygun olarak vereceğiniz ücreti güzelce ödediğiniz takdirde size bir günah yoktur. allah’a karşı gelmekten sakının ve bilin ki, allah, yapmakta olduklarınızı hakkıyla görendir.içinizden ölenlerin geride bıraktıkları eşleri, kendi kendilerine dört ay on gün (iddet) beklerler. sürelerini bitirince artık kendileri için meşru olanı yapmalarında size bir günah yoktur. allah, yaptıklarınızdan hakkıyla haberdardır.(vefat iddeti beklemekte olan) kadınlara kendileri ile evlenmek istediğinizi üstü kapalı olarak anlatmanızda veya bu isteğinizi içinizde saklamanızda sizin için bir günah yoktur. allah biliyor ki, siz onlara (bunu er geç mutlaka) söyleyeceksiniz. meşru sözler söylemeniz dışında sakın onlarla gizliden gizliye buluşma yönünde sözleşmeyin. bekleme müddeti bitinceye kadar da nikâh yapmaya kalkışmayın.şunu süt emzirme ile ilgili olarak ayrıca lokman, /ve talâk, /’ye bakınız. .  boşanan ya da kocası ölen kadının yeniden evlenebilmesi için dinen beklemesi gereken süreye “iddet” denir. kocası ölen kadının iddeti dört ay on gündür. boşanan kadın ise üç ay hâli bekler. eğer boşanan kadın ay hâli görmüyorsa, iddeti üç aydır. hamile kadının iddeti de çocuğunu dünyaya getirmesiyle sona erer.da bilin ki, allah içinizden geçeni hakkıyla bilir. onun için allah’a karşı gelmekten sakının ve yine şunu da bilin ki allah gerçekten çok bağışlayandır, halîmdir. (hemen cezalandırmaz, mühlet verir.)kendilerine el sürmeden ya da mehir belirlemeden kadınları boşarsanız size bir günah yoktur. (bu durumda) eli geniş olan gücüne göre, eli dar olan da gücüne göre olmak üzere onlara, aklın ve dinin gereklerine uygun olarak müt’averin. bu, iyi ve yararlı işleri en güzel şekilde yapanlar üzerinde bir borçtur.eğer onlara mehir tespit eder de kendilerine el sürmeden boşarsanız, tespit ettiğiniz mehrin yarısı onlarındır. ancak kadının, ya da nikâh bağı elinde bulunanın (kocanın, paylarından) vazgeçmesi başka. bununla birlikte (ey erkekler), sizin vazgeçmeniz takvaya (allah’a karşı gelmekten sakınmaya) daha yakındır. aranızda iyilik yapmayı da unutmayın. şüphesiz allah, yaptıklarınızı hakkıyla görendir.namazlara ve orta namazadevam edin. allah’a gönülden boyun eğerek namaza durun.eğer (bir tehlikeden) korkarsanız, namazı yaya olarak veya binek üzerinde kılın. güvenliğe kavuşunca da, allah’ı, daha önce bilmediğiniz ve onun size öğrettiği şekilde anın (namazı normal vakitlerdeki gibi kılın).         .  müt’a, yararlandırmak ve yararlanılan şey demektir. terim olarak ise mehir belirlenmeksizin kıyılan nikâhtan sonra, cinsel ilişki ve “halvet”te bulunmadan boşanan kadına, boşayan tarafından verilmesi gereken, giyim eşyası, mal, ya da bunların karşılığıdır. müt’anın miktarını, bununla yükümlü kimsenin malî durumu belirler..  âyette geçen “orta namaz”ın sabah, öğle ve ikindi namazı olduğu şeklinde çeşitli görüşler vardır. ancak kuvvetli görüş, bu namazın ikindi namazı olduğu görüşüdür.içinizden ölüp geriye dul eşler bırakan erkekler, eşleri için, evden çıkarılmaksızın bir yıla kadar geçimlerinin sağlanmasını vasiyet etsinler. ama onlar (kendiliklerinden) çıkarlarsa, artık onların meşru biçimde kendileri ile ilgili olarak işlediklerinden dolayı size bir günah yoktur. allah mutlak güç sahibidir, hüküm ve hikmet sahibidir.boşanmış kadınların örfe göre geçimlerinin sağlanması onların hakkıdır. bu, allah’a karşı gelmekten sakınanlar üzerinde bir borçtur.düşünesiniz diye allah size âyetlerini böyle açıklamaktadır.binlerce kişi oldukları hâlde, ölüm korkusuyla yurtlarını terk edenleri görmedin mi? allah, onlara “ölün” dedi, sonra da onları diriltti. şüphesiz allah, insanlara karşı lütuf ve ikram sahibidir. ama insanların çoğu şükretmezler.allah yolunda savaşın ve bilin ki, şüphesiz allah hakkıyla işitendir ve hakkıyla bilendir.kimdir allah’a güzel bir borç verecek o kimse ki, allah da o borcu kendisine kat kat ödesin. (rızkı) allah daraltır ve genişletir. ancak o’na döndürüleceksiniz.mûsâ’dan sonra israiloğullarının ileri gelenlerini görmedin mi (ne yaptılar)? hani, peygamberlerinden birine, “bize bir hükümdar gönder de allah yolunda savaşalım” demişlerdi. o, “ya üzerinize savaş farz kılındığı hâlde, savaşmayacak olursanız?” demişti. onlar, “yurdumuzdan çıkarılmış, çocuklarımızdan uzaklaştırılmış olduğumuz hâlde allah yolunda niye savaşmayalım” diye cevap vermişlerdi. ama onlara savaş farz kılınınca içlerinden pek azı hariç, yüz çevirdiler. allah, zalimleri hakkıyla bilendir.        peygamberleri onlara, “allah, size tâlût’u hükümdar olarak gönderdi” dedi. onlar, “o bizim üzerimize nasıl hükümdar olabilir? biz hükümdarlığa ondan daha lâyığız. ona zenginlik de verilmemiştir” dediler. peygamberleri şöyle dedi: “şüphesiz allah, onu sizin üzerinize (hükümdar) seçti, onun bilgisini ve gücünü artırdı.” allah, mülkünü dilediğine verir. allah, lütfu geniş olandır, hakkıyla bilendir.peygamberleri onlara şöyle dedi: “onun hükümdarlığının alameti, size o sandığın gelmesidir.onda rabbinizden bir güven duygusu ve huzur ile mûsâ ailesinin, hârûn ailesinin geriye bıraktığından kalıntılar vardır. onu melekler taşımaktadır. eğer inanmış kimselerseniz, bunda şüphesiz sizin için kesin bir delil vardır.”tâlût, ordu ile hareket edince, “şüphesiz allah, sizi bir ırmakla imtihan edecektir. kim ondan içerse benden değildir. kim onu tatmazsa işte o bendendir. ancak eliyle bir avuç alan başka.” dedi. içlerinden pek azı hariç, hepsi ırmaktan içtiler. tâlût ve onunla beraber iman edenler ırmağı geçince, (geride kalanlar) “bugün bizim câlût’a ve askerlerine karşı koyacak gücümüz yok.” dediler. allah’a kavuşacaklarını kesin olarak bilenler (ırmağı geçenler) ise şu cevabı verdiler: “allah’ın izniyle büyük bir topluluğa galip gelen nice küçük topluluklar vardır. allah, sabredenlerle beraberdir.”(tâlût’un askerleri) câlût ve askerleriyle karşı karşıya gelince şöyle dediler: “ey rabbimiz! üzerimize sabır yağdır, ayaklarımızı sağlam bastır ve şu kâfir kavme karşı bize yardım et.”          .  rivayete göre söz konusu sandık tevrat’ın içinde bulunduğu sandıktır. israiloğullarının isyanı üzerine bu sandık ellerinden çıkmıştı.derken, allah’ın izniyle onları bozguna uğrattılar. davud, câlût’u öldürdü. allah, ona (davud’a) hükümdarlık ve hikmet verdi ve ona dilediğini öğretti. eğer allah’ın; insanların bir kısmıyla diğerlerini savması olmasaydı, yeryüzü bozulurdu. ancak allah, bütün âlemlere karşı lütuf sahibidir.işte bunlar allah’ın âyetleridir. biz onları sana hak olarak okuyoruz. şüphesiz sen, allah tarafından gönderilmiş peygamberlerdensin.işte peygamberler! biz, onların bir kısmını bir kısmına üstün kıldık. içlerinden, allah’ın konuştukları vardır. bir kısmının da derecelerini yükseltmiştir. meryem oğlu isa’ya ise açık deliller verdik ve onu ruhu’lkudüs (cebrail) ile destekledik. eğer allah dileseydi, bunların arkasından gelen (millet)ler, kendilerine apaçık deliller geldikten sonra, birbirlerini öldürmezlerdi. fakat ayrılığa düştüler. onlardan inananlar da vardı, inkâr edenler de. yine allah dileseydi, birbirlerini öldürmezlerdi. lâkin allah dilediğini yapar.ey iman edenler! hiçbir alışverişin, hiçbir dostluğun ve hiçbir şefaatin olmadığı kıyamet günü gelmeden önce, size rızık olarak verdiklerimizden allah yolunda harcayın. inkâr edenler ise zalimlerin ta kendileridir.allah, kendisinden başka hiçbir ilâh olmayandır. diridir, kayyumdur.o’nu ne bir uyuklama tutabilir, ne de bir uyku. göklerdeki her şey, yerdeki her şey o’nundur. izni .  yani allah, yapmayı irade ve takdir ettiğini mutlaka yapar. ancak bu irade ve takdir, kulun kendi iradesini kullanacağı yönde gerçekleşir. bu sebepten kulların hür iradesi üzerinde ilâhî bir baskı söz konusu değildir..  kayyûm, “varlığı kendinden, kendi kendine yeterli, yarattıklarına hâkim ve onları koruyup gözeten” demektir.olmaksızın o’nun katında şefaatte bulunacak kimdir?o, kulların önlerindekileri ve arkalarındakileri (yaptıklarını ve yapacaklarını) bilir. onlar o’nun ilminden, kendisinin dilediği kadarından başka bir şey kavrayamazlar. o’nun kürsüsü, bütün gökleri ve yeri kaplayıp kuşatmıştır. (o, göklere, yere, bütün evrene hükmetmektedir.) gökleri ve yeri koruyup gözetmek o’na güç gelmez. o, yücedir, büyüktür.dinde zorlama yoktur. çünkü doğruluk sapıklıktan iyice ayrılmıştır. o hâlde, kim tâğûtu tanımayıp allah’a inanırsa, kopmak bilmeyen sapasağlam bir kulpa yapışmıştır. allah, hakkıyla işitendir, hakkıyla bilendir.allah, iman edenlerin dostudur. onları karanlıklardan aydınlığa çıkarır. kâfirlerin velileri ise tâğûttur. (o da) onları aydınlıktan karanlıklara (sürükleyip) çıkarır. onlar cehennemliklerdir. orada ebedî kalırlar.allah, kendisine hükümdarlık verdi diye (şımarıp böbürlenerek) rabbi hakkında ibrahim ile tartışanı görmedin mi? hani ibrahim, “benim rabbim diriltir, öldürür.” demiş; o .  şefaat ile ilgili olarak bakınız: , âyet, .  bu âyet, âyetü’lkürsî (kürsü âyeti) diye adlandırılır. “kürsü”, allah’ın kudret ve azameti, o’nun her şeyi kapsayan ilmi demektir. âyette, allah teâlâ kendi zatının çok veciz bir tanımını yapmaktadır. kitabı mukaddes’te yanlış ve tahrif edilmiş bir biçimde anlatılan allah, burada nasıl ise öyle tarif edilmektedir. o, yerde, gökte ve ikisi arasında olan her şeyin sahibi ve mâlikidir. hiç kimse hâkimiyetinde, otoritesinde, mülkünde ve yönetiminde o’na ortak değildir. hiçbir şey o’na rakip ve eş olamaz. o, mutlak ilim ve irade sahibidir. o’na hiçbir varlık güç yetiremez. o, bütün evrenin sahibi, yöneticisi ve hâkimidir..  din, inanç esaslarını ve buna bağlı olarak yaşanan hayat tarzını ifade eder. buna göre islâm, iman ve hayat tarzı olarak hiç kimseye zorla kabul ettirilemez.  tâğût, sözlük anlamıyla sınırı aşan demektir. kur’an’da kullanıldığı şekliyle kelime, “şeytan”, “nefis”, “putlar”, “sihirbazlar” gibi çeşitli şekillerde yorumlanmıştır. kısaca “tâğût” insanları azdıran, saptıran şeylerin hepsini ifade eder.da, “ben de diriltir, öldürürüm” demişti. (bunun üzerine) ibrahim, “şüphesiz allah güneşi doğudan getirir, sen de onu batıdan getir” deyince, kâfir şaşırıp kaldı. zaten allah, zalimler topluluğunu hidayete erdirmez.yahut altı üstüne gelmiş (ıpıssız duran) bir şehre uğrayan kimseyi görmedin mi? o, “allah, burayı ölümünden sonra nasıl diriltecek (acaba)?” demişti. bunun üzerine, allah onu öldürüp yüzyıl ölü bıraktı, sonra diriltti ve ona sordu: “ne kadar (ölü) kaldın?” o, “bir gün veya bir günden daha az kaldım” diye cevap verdi. allah, şöyle dedi: “hayır, yüz sene kaldın. böyle iken yiyeceğine ve içeceğine bak, henüz bozulmamış. bir de eşeğine bak! (böyle yapmamız) seni insanlara ibret belgesi kılmamız içindir. (eşeğin) kemikler(in)e de bak, nasıl onları bir araya getiriyor, sonra onlara nasıl et giydiriyoruz?” kendisine bütün bunlar apaçık belli olunca, şöyle dedi: “şimdi, biliyorum ki; şüphesiz allah’ın gücü her şeye hakkıyla yeter.”hani ibrahim, “rabbim! bana ölüleri nasıl dirilttiğini göster” demişti. (allah ona) “inanmıyor musun?” deyince, “hayır (inandım) ancak kalbimin tatmin olması için” demişti. “öyleyse, dört kuş tut. onları kendine alıştır. sonra onları parçalayıp her bir parçasını bir dağın üzerine bırak. sonra da onları çağır. sana uçarak gelirler. bil ki, şüphesiz allah mutlak güç sahibidir, hüküm ve hikmet sahibidir.”mallarını allah yolunda harcayanların durumu, yedi başak bitiren ve her başakta yüz tane bulunan bir tohumun duru.  bu âyette ölümden sonra dirilişi merak eden kimsenin mü’min biri olduğu anlaşılıyor. bu konuda üzeyr, yeremya veya hıdır isimleri zikredilir. burada vurgulanan şey, allah’ın diriltici kudretinin etkinliğini görmek, o’nun ölümden sonra dirilişi mutlaka gerçekleştireceğine inanmaktır.mu gibidir. allah, dilediğine kat kat verir. allah, lütfu geniş olandır, hakkıyla bilendir.mallarını allah yolunda harcayan, sonra da harcadıklarının peşinden (bunları) başa kakmayan ve gönül incitmeyenlerin, rab’leri katında mükâfatları vardır. onlar için korku yoktur. onlar üzülmeyeceklerdir de.güzel bir söz ve bağışlama, peşinden gönül kırma gelen bir sadakadan daha hayırlıdır. allah, her bakımdan sınırsız zengindir, halîmdir (hemen cezalandırmaz, mühlet verir).ey iman edenler! allah’a ve ahiret gününe inanmadığı hâlde insanlara gösteriş olsun diye malını harcayan kimse gibi, sadakalarınızı başa kakmak ve gönül kırmak suretiyle boşa çıkarmayın. böylesinin durumu, üzerinde biraz toprak bulunan ve maruz kaldığı şiddetli yağmurun kendisini çıplak bıraktığı bir kayanın durumu gibidir. onlar kazandıklarından hiçbir şey elde edemezler. allah, kâfirler topluluğunu hidayete erdirmez.allah’ın rızasını kazanmak arzusuyla ve kalben mutmain olarak mallarını allah yolunda harcayanların durumu, yüksekçe bir yerdeki güzel bir bahçenin durumu gibidir ki, bol yağmur alınca iki kat ürün verir. bol yağmur almasa bile ona çiseleme yeter. allah, yaptıklarınızı hakkıyla görendir.herhangi biriniz ister mi ki, içerisinde her türlü meyveye sahip bulunduğu, içinden ırmaklar akan, hurma ve üzüm ağaçlarından oluşan bir bahçesi olsun; himayeye muhtaç çocukları var iken ihtiyarlık gelip kendisine çatsın; derken bağı ateşli (yıldırımlı) bir kasırga vursun da orası yanıversin? allah, düşünesiniz diye size âyetlerini böyle açıklıyor..  bu âyette, yaptıkları iyilikleri başa kakıp gönül yıkanların durumu anlatılmaktadır. yıldırımlı bir kasırga, göz alıcı bir bağı nasıl yakıp yıkarsa, onların bu tutumu da, öyey iman edenler! kazandıklarınızın iyilerinden ve yerden sizin için çıkardıklarımızdan allah yolunda harcayın. kendinizin göz yummadan alıcısı olmayacağınız bayağı şeyleri vermeye kalkışmayın ve bilin ki allah, her bakımdan zengindir, övülmeye lâyıktır.şeytan sizi fakirlikle korkuturve size, çirkinliği ve hayâsızlığı emreder. allah ise size kendi katından mağfiret ve bol nimet va’dediyor. şüphesiz allah, lütfu geniş olandır, hakkıyla bilendir.allah, hikmetidilediğine verir. kime hikmet verilmişse, şüphesiz ona çokça hayır verilmiş demektir. bunu ancak akıl sahipleri anlar.allah yolunda her ne harcar veya her ne adarsanız, şüphesiz allah onu bilir. zulmedenlerin yardımcıları yoktur.sadakaları açıktan verirseniz ne güzel! fakat onları gizleyerek fakirlere verirseniz bu, sizin için daha hayırlıdır ve günahlarınızdan bir kısmına da keffaret olur. allah, yaptıklarınızdan hakkıyla haberdardır.onları hidayete erdirmek sana ait değildir. fakat allah, dilediğini hidayete erdirir. hayır olarak ne harcarsanız, kendiniz içindir. zaten siz ancak allah’ın rızasını kazanmak için harcarsınız. hayır olarak her ne harcarsanız hiç hakkınız yenmeden karşılığı size tastamam ödenir.        lece yaptıkları iyilikleri boşa çıkaracaktır..  fakir düşeceğinizi söyleyerek, sadaka vermekten uzak durmanızı ister..  hikmet, neyin doğru neyin yanlış olduğunu anlamaya yarayan derin ve yararlı bilgi demektir. hz. peygamber, yararlı bilgi istemeyi tavsiye etmiş, bizzat kendisi de allah’tan bu dilekte bulunmuştur.(sadakalar) kendilerini allah yoluna adayan, yeryüzünde dolaşmaya güç yetiremeyen fakirler içindir. iffetlerinden dolayı (dilenmedikleri için), bilmeyen onları zengin sanır. sen onları yüzlerinden tanırsın. insanlardan arsızca (bir şey) istemezler. siz hayır olarak ne verirseniz, şüphesiz allah onu bilir.mallarını gece gündüz; gizli ve açık allah yolunda harcayanlar var ya, onların rableri katında mükâfatları vardır. onlara korku yoktur. onlar mahzun da olacak değillerdir.faiz yiyenler, ancak şeytanın çarptığı kimsenin kalktığı gibi kalkarlar. bu, onların, “alışveriş de faiz gibidir” demelerinden dolayıdır. oysa allah, alışverişi helâl, faizi haram kılmıştır. bundan böyle kime rabbinden bir öğüt gelir de (o öğüte uyarak) faizden vazgeçerse, artık önceden aldığı onun olur. durumu da allah’a kalmıştır. (allah, onu affeder.) kim tekrar (faize) dönerse, işte onlar cehennemliklerdir. orada ebedî kalacaklardır.allah, faiz malını mahveder, sadakalarıise artırır (bereketlendirir). allah, hiçbir günahkâr nankörü sevmez.şüphesiz iman edip salih ameller işleyen, namazı dosdoğru kılan ve zekâtı verenlerin mükâfatları rableri katındadır. onlara korku yoktur. onlar mahzun da olmayacaklardır.ey iman edenler! allah’a karşı gelmekten sakının ve eğer gerçekten iman etmiş kimselerseniz, faizden geriye kalanı bırakın.eğer böyle yapmazsanız, allah ve resûlüyle savaşa girdiğinizi bilin. eğer tövbe edecek olursanız, anaparalarınız sizin.  burada “sadakalar”dan maksat hem farz olan zekât, hem de nafile olarak allah yolunda yapılan bağışlardır. âyeti kerime, hem sadakaların sevabının kat kat olacağını, hem de sadakası verilen malların bereketlendirilip artırılacağını ifade etmektedir.dir. böylece siz ne başkalarına haksızlık etmiş olursunuz, ne de başkaları size haksızlık etmiş olur.eğer borçlu darlık içindeyse, ona eli genişleyinceye kadar mühlet verin. eğer bilirseniz, (borcu) sadaka olarak bağışlamanız, sizin için daha hayırlıdır.öyle bir günden sakının ki, o gün hepiniz allah’a döndürülüp götürüleceksiniz. sonra herkese kazandığı amellerin karşılığı verilecek ve onlara asla haksızlık yapılmayacaktır.ey iman edenler! belli bir süre için birbirinize borçlandığınız zaman bunu yazın. aranızda bir yazıcı adaletle yazsın. yazıcı, allah’ın kendisine öğrettiği şekilde yazmaktan kaçınmasın, (her şeyi olduğu gibi dosdoğru) yazsın. üzerinde hak olan (borçlu) da yazdırsın ve rabbi olan allah’tan korkup sakınsın da borçtan hiçbir şeyi eksik etmesin (hepsini tam yazdırsın). eğer borçlu, aklı ermeyen, veya zayıf bir kimse ise, ya da yazdıramıyorsa, velisi adaletle yazdırsın. (bu işleme) şahitliklerine güvendiğiniz iki erkeği; eğer iki erkek olmazsa, bir erkek ve iki kadını şahit tutun. bu, onlardan biri unutacak olursa, diğerinin ona hatırlatması içindir.  şahitler çağırıldıkları zaman (gelmekten) kaçınmasınlar. az olsun, çok olsun, borcu süresine kadar yazmaktan usanmayın. bu, allah katında adalete daha uygun, şahitlik için daha sağlam, şüpheye düşmemeniz için daha elverişlidir. yalnız, aranızda hemen alıp verdiğiniz peşin ticaret olursa, onu yazmamanızdan ötürü üzerinize bir günah yoktur. alışveriş yaptığınız zaman da şahit tutun. yazana da, şahide de bir zarar verilmesin.eğer aksini yaparsanız, bu sizin için günahkârca bir davranış olur. allah’a karşı gelmekten sakının. allah, size öğretiyor. allah, her şeyi hakkıyla bilendir.eğer yolculukta olur da bir yazıcı bulamazsanız, o zaman alınmış rehinler yeterlidir. eğer birbirinize güvenirseniz kendisine güvenilen kimse emanetini (borcunu) ödesin ve rabbi allah’tan sakınsın. bir de şahitliği gizlemeyin. kim şahitliği gizlerse, şüphesiz onun kalbi günahkârdır. allah, yaptıklarınızı hakkıyla bilendir.göklerdeki her şey, yerdeki her şey allah’ındır. içinizdekini açığa vursanız da, gizleseniz de allah sizi, onunla sorguya çeker de dilediğini bağışlar, dilediğine azap eder. allah’ın gücü her şeye hakkıyla yeter.peygamber, rabbinden kendisine indirilene iman etti, mü’minler de (iman ettiler). her biri; allah’a, meleklerine, kitaplarına ve peygamberlerine iman ettiler ve şöyle dediler: “onun peygamberlerinden hiçbirini (diğerinden) ayırt etmeyiz.” şöyle de dediler: “işittik ve itaat ettik. ey rabbimiz! senden bağışlama dileriz. sonunda dönüş yalnız sanadır.”            .  âyetin bu kısmı, “ne yazıcı ne de şahid (adaletten ayrılarak hak sahiplerine) zarar vermesinler” şeklinde de tercüme edilebilir..  bu âyette, borç ve alışveriş işlemlerinde anlaşmazlık çıkmasını önleyecek, tarafların haksızlığa uğramamasını sağlayacak belgelendirme, şahit tutma ve rehin gibi önlemlerin alınması istenmektedir. bu uygulamaların ne şekilde gerçekleştirileceği konusunda ayrıntılara kadar inilmiş olması, konuya verilen önemi göstermesi bakımından dikkat çekicidir. ancak prensip, işlemin sağlama alınması olmakla beraber karşılıklı güven duygusunun da önemli bir unsur olduğu ve bunun kötüye kullanılmaması gerektiği vurgulanmaktadır.allah, bir kimseyi ancak gücünün yettiği şeyle yükümlü kılar. onun kazandığı iyilik kendi yararına, kötülük de kendi zararınadır. (şöyle diyerek dua ediniz): “ey rabbimiz! unutur, ya da yanılırsak bizi sorumlu tutma! ey rabbimiz! bize, bizden öncekilere yüklediğin gibi ağır yük yükleme. ey rabbimiz! bize gücümüzün yetmediği şeyleri yükleme! bizi affet, bizi bağışla, bize acı! sen bizim mevlâmızsın. kâfirler topluluğuna karşı bize yardım et.”medine döneinde inmiştir. âyettir. sûre, adını âyette geçen “âli imrân” tamlamasından almıştır. âli imrân, imran ailesi demektir.bismillâhirrahmânirrahîmelif lâm mîm.allah, kendisinden başka hiçbir ilâh bulunmayandır. diridir, kayyumdur., o, sana kitab’ı hak ve kendisinden öncekileri doğrulayıcı olarak indirdi. o, daha önce tevrat’ı ve incil’i insanlar için birer hidayet olarak indirmişti. furkan’ıda indirdi. şüphesiz, allah’ın âyetlerini inkâr edenler için şiddetli bir azap vardır. allah, mutlak güç sahibidir, intikam sahibidir.şüphesiz yerde ve gökte allah’a hiçbir şey gizli kalmaz.o, sizi rahimlerde, dilediği gibi şekillendirendir. o’ndan başka ilâh yoktur. o, mutlak güç sahibidir, hüküm ve hikmet sahibidir.o, sana kitab’ı indirendir. onun (kur’an’ın) bazı âyetleri muhkemdir, onlar kitabın anasıdır. diğerleri de müteşabihtir.kalplerinde bir eğrilik olanlar, fitne çıkar.  bu harfler ile ilgili olarak nin ilk âyetinin dipnotuna bakınız..  kayyûm, “varlığı kendinden,  kendi kendine yeterli,  yarattıklarına hâkim ve onları koruyup gözeten” demektir..  furkan, kur’an’ın diğer bir adı olup “hak ile batılı birbirinden ayıran” demektir..  müteşabih âyetler, manasını ve hakikatini sadece allah’ın bildiği âyetlerdir. bunların insan zihni tarafından tümüyle kavranmasına imkân yoktur. allah’ın sıfatları, kıyametin ahvali, cennet, cehennem gibi hususlarla ilgili âyetler ile, sûrelerin başında yer alan “hurûfu mukatta’a” bunlardandır. insan ne kadar çabalarsa çabalasın, bu âyetleri bütün yönleriyle anlaması mümkün değildir. müteşabih âyetler dışındaki mak ve onun olmadık yorumlarını yapmak için müteşabih âyetlerinin ardına düşerler. oysa onun gerçek manasını ancak allah bilir. ilimde derinleşmiş olanlar, “ona inandık, hepsi rabbimiz katındandır” derler. (bu inceliği) ancak akıl sahipleri düşünüp anlar.(onlar şöyle yakarırlar): “rabbimiz! bizi hidayete erdirdikten sonra kalplerimizi eğriltme. bize katından bir rahmet bahşet. şüphesiz sen çok bahşedensin.”“rabbimiz! şüphesiz sen, hakkında şüphe olmayan bir günde insanları toplayacaksın. şüphesiz allah va’dinden dönmez.”şüphesiz, inkâr edenlere, ne malları, ne de evlatları allah’a karşı hiçbir fayda sağlar. onlar ateşin yakıtıdırlar.(bunların durumu) firavun ailesinin ve onlardan öncekilerin durumu gibidir: âyetlerimizi yalanladılar. allah da onları günahlarıyla yakaladı. allah, azabı çok şiddetli olandır.inkâr edenlere de ki: “siz mutlaka yenilgiye uğrayacak ve toplanıp cehenneme doldurulacaksınız. orası ne fena yataktır!”şüphesiz, karşı karşıya gelen iki toplulukta sizin için bir ibret vardır: bir topluluk allah yolunda çarpışıyordu. öteki ise kâfirdi. (onları) göz bakışıyla kendilerinin iki katı görüyorlardı. allah da dilediğini yardımıyla destekliyordu. basireti olanlar için bunda elbette ibret vardır.kadınlar, oğullar, yük yük altın ve gümüş, salma atlar, davarâyetler de muhkem âyetlerdir..  bu âyet mü’minlerin; kendilerinin sayıca üç katı olan müşriklere karşı bedir’de kazandıkları zafere işaret etmektedir. müşrikler kendilerini tahminen mü’minlerin iki katı olarak görüyor ve sayıca fazla oluşlarına güveniyorlardı. oysa bu zahirî bir sayı üstünlüğü idi. zira nin âyetinde de işaret edildiği gibi, allah mü’minleri bin melek ile desteklemişti.lar ve ekinler gibi nefsin şiddetle arzuladığı şeyler insana süslü gösterildi. bunlar dünya hayatının geçimliğidir. oysa asıl varılacak güzel yer ancak allah’ın katındadır.de ki: “size, onlardan daha hayırlısını haber vereyim mi? allah’a karşı gelmekten sakınanlar için rableri katında, içinden ırmaklar akan, içinde ebedî kalacakları cennetler, tertemiz eşler ve allah’ın rızası vardır.” allah, kullarını hakkıyla görendir., (bunlar), “rabbimiz, biz iman ettik. bizim günahlarımızı bağışla. bizi ateş azabından koru” diyenler, sabredenler, doğru olanlar, huzurunda gönülden boyun büküp divan duranlar, allah yolunda harcayanlar ve seherlerde (allah’tan) bağışlanma dileyenlerdir.allah, melekler ve ilim sahipleri, ondan başka ilâh olmadığına adaletle şâhitlik ettiler. o’ndan başka ilâh yoktur. o, mutlak güç sahibidir, hüküm ve hikmet sahibidir.şüphesiz allah katında din islâm’dır. kitap verilmiş olanlar, kendilerine ilim geldikten sonra sırf, aralarındaki ihtiras ve aşırılık yüzünden ayrılığa düştüler. kim allah’ın âyetlerini inkâr ederse, bilsin ki allah hesabı çok çabuk görendir.seninle tartışmaya girişirlerse, de ki: “ben, bana uyanlarla birlikte kendi özümü allah’a teslim ettim.” kendilerine kitap verilenlere ve ümmîlerede ki: “siz de islâm’ı kabul ettiniz mi?” eğer islâm’a girerlerse hidayete ermiş olurlar. yok, eğer yüz çevirirlerse sana düşen şey ancak tebliğ etmektir. allah, kullarını hakkıyla görendir.allah’ın âyetlerini inkâr edenler, peygamberleri haksız yere öldürenler, insanlardan adaleti emredenleri öldürenler var .  “ümmî”, okuma yazması olmayan demektir. buradaki kullanımı ile, kendilerine kitap verilmeyenlerle, arap müşrikleri kastedilmiştir. kitap verilenler ise yahudilerle hıristiyanlardır.ya, onları elem dolu bir azap ile müjdele.onlar, amelleri, dünyada da, ahirette de boşa gitmiş kimselerdir. onların hiç yardımcıları da yoktur.kendilerine kitap’tan bir pay verilenleri görmüyor musun ki, aralarında hüküm vermesi için allah’ın kitabına çağrılıyorlar da sonra içlerinden bir kısmı yüz çevirerek dönüp gidiyor.bunun sebebi, onların, “bize, ateş sadece sayılı günlerde dokunacaktır.” demeleridir. uydurageldikleri şeyler dinleri konusunda kendilerini aldatmıştır.bakalım, kendilerini o geleceğinde hiç şüphe olmayan gün için bir araya topladığımız ve hiç kimseye haksızlık edilmeden herkese kazandığı tamamen ödendiği vakit, hâlleri nice olacaktır.de ki: “ey mülkün sahibi olan allah’ım! sen mülkü dilediğine verirsin. dilediğinden de mülkü çeker alırsın. dilediğini aziz edersin, dilediğini zelil edersin. hayır senin elindedir. şüphesiz sen her şeye hakkıyla gücü yetensin.”“geceyi gündüze sokarsın, gündüzü geceye sokarsın. ölüden diriyi çıkarırsın, diriden ölüyü çıkarırsın. dilediğine de hesapsız rızık verirsin.”mü’minler, mü’minleri bırakıp inkârcıları dost edinmesin. kim böyle yaparsa allah ile bir ilişiği kalmaz. ancak onlardan (gelebilecek tehlikeden) korunmanız başkadır. allah, asıl sizi kendisine karşı dikkatli olmanız hakkında uyarmaktadır. çünkü dönüş allah’adır.de ki: “içinizdekini gizleseniz de, açığa vursanız da allah onu bilir. göklerdeki her şeyi, yerdeki her şeyi de bilir. allah, her şeye hakkıyla gücü yetendir.”herkesin yaptığı iyiliği ve yaptığı kötülüğü hazır bulacağı günde kişi, kötülükleri ile kendi arasında uzak bir mesafe bulunmasını ister. yine allah, sizi kendisine karşı dikkatli olmanız hakkında uyarmaktadır. allah, kullarını çok esirgeyicidir.de ki: “eğer allah’ı seviyorsanız bana uyun ki, allah da sizi sevsin ve günahlarınızı bağışlasın. çünkü allah çok bağışlayandır, çok merhamet edendir.”de ki: “allah’a ve peygamber’e itaat edin.”  eğer yüz çevirirlerse şüphe yok ki allah kâfirleri sevmez., şüphesiz allah, âdem’i, nûh’u, ibrahim ailesini (soyunu) ve imran ailesini (soyunu) birbirinden gelmiş birer nesil olarak seçip âlemlere üstün kıldı. allah, her şeyi hakkıyla işitendir, hakkıyla bilendir.hani, imran’ın karısı, “rabbim! karnımdaki çocuğu sırf sana hizmet etmek üzere adadım. benden kabul et. şüphesiz sen hakkıyla işitensin, hakkıyla bilensin” demişti.onu doğurunca, “rabbim!” dedi, “onu kız doğurdum.” oysa allah, onun ne doğurduğunu daha iyi bilir“erkek, kız gibi değildir. ona meryem adını verdim. onu ve soyunu kovulmuş şeytandan senin korumana bırakıyorum.”bunun üzerine rabbi onu güzel bir şekilde kabul buyurdu ve onu güzel bir şekilde yetiştirdi. zekeriya’yıda onun bakımıyla görevlendirdi. zekeriya, onun bulunduğu bölmeye her girişinde yanında bir yiyecek bulurdu. “meryem! bu sana nereden geldi?” derdi. o da “bu, allah katından” diye cevap verirdi. zira allah, dilediğine hesapsız rızık verir..  âyeti kerimedeki bu ifade,  imran’ın karısının doğurduğu kızın, hayalinde canlandırdığı ve adadığı erkekten daha hayırlı olacağına işaret etmektedir. çünkü bu kız, hz. isa’nın annesi olacaktır..  zekeriya, meryem’in teyzesinin kocası idi. meryem’in beyti makdis’te bakımını zekeriya peygamber üstlenmişti.orada zekeriya rabbine dua etti: “rabbim! bana katından temiz bir nesil bahşet. şüphesiz sen duayı hakkıyla işitensin” dedi.zekeriya mabedde namaz kılarken melekler ona, “allah sana, kendisinden gelen bir kelimeyi (isa’yı) doğrulayıcı, efendi, nefsine hâkim ve salihlerden bir peygamber olarak yahya’yı müjdeler” diye seslendiler.zekeriya, “ey rabbim! bana ihtiyarlık gelip çatmış iken ve karım da kısır iken benim nasıl çocuğum olabilir?” dedi. allah, “öyledir, ama allah dilediğini yapar” dedi.zekeriya, “rabbim! (çocuğum olacağına dair) bana bir alâmet ver” dedi. allah da şöyle dedi: “senin için alâmet, insanlarla üç gün konuşamaman, ancak işaretleşebilmendir. ayrıca rabbini çok an, sabah akşam tesbih et.”hani melekler, “ey meryem! allah, seni seçti. seni tertemiz yaptı ve seni dünya kadınlarına üstün kıldı.”“ey meryem! rabbine divan dur. secde et ve (o’nun huzurunda) rükû edenlerle beraber rükû et” demişlerdi.(ey muhammed!) bunlar sana vahyettiğimiz gayb haberlerindendir. meryem’i kim himayesine alıp koruyacak diye kalemlerini (kur’a için) atarlarken sen yanlarında değildin. (bu konuda) tartışırlarken de yanlarında değildin.hani melekler şöyle demişti: “ey meryem! allah, seni kendi tarafından bir kelime ile müjdeliyor ki, adı meryem oğlu isa mesih’tir. dünyada da, ahirette de itibarlı ve allah’a çok yakın olanlardandır.”“o, beşikte de, yetişkin çağında da insanlarla konuşacak, salihlerden olacaktır.”.  hz.isa’nın beşikte iken konuşması ile ilgili olarak ayrıca bakınız: maide sûresi, âyet, ; , âyet, (meryem), “ey rabbim! bana bir beşer dokunmamışken benim nasıl çocuğum olur?” dedi. allah, “öyle ama, allah dilediğini yaratır. o, bir şeyin olmasını dilediğinde ona sadece “ol” der, o da hemen oluverir” dedi.ve allah ona kitabı, hikmeti, tevrat ve incil’i öğretecek.allah, onu israiloğullarına bir peygamber olarak gönderecek (ve o da onlara şöyle diyecek): “şüphesiz ben size rabbinizden bir mucize getirdim. ben çamurdan kuş şeklinde bir şey yapar, ona üflerim. o da allah’ın izniyle hemen kuş oluverir. körü ve alacalıyı iyileştiririm ve allah’ın izniyle ölüleri diriltirim. evlerinizde ne yiyip ne biriktirdiğinizi size haber veririm. eğer mü’minler iseniz bunda sizin için elbette bir ibret vardır.”“benden önce gelen tevrat’ı doğrulayıcı olarak ve size haram kılınan bazı şeyleri helâl kılmak için gönderildim ve rabbiniz tarafından size bir mucize de getirdim. artık allah’a karşı gelmekten sakının ve bana itaat edin.”“şüphesiz allah, benim de rabbim, sizin de rabbinizdir. öyleyse o’na ibadet edin. işte bu, doğru yoldur.”isa, onların inkârlarını sezince, “allah yolunda yardımcılarım kim?” dedi. havariler, “biziz allah yolunun yardımcıları. allah’a iman ettik. şahit ol, biz müslümanlarız” dediler.“rabbimiz! senin indirdiğine iman ettik ve peygamber’e uyduk. artık bizi (hakikate) şahitlik edenlerle beraber yaz.”onlar tuzak kurdular. (onların tuzaklarına karşı) allah da tuzak kurdu. allah, (tuzağa karşı) tuzak kuranların en hayırlısıdır.hani allah şöyle buyurmuştu: “ey isa! şüphesiz, senin ha.  âyette sözü edilen tuzak, israiloğullarının hz.isa’ya suikast düzenleme girişimidir. “allah’ın tuzak kurması” kavramı ise, allah’ın kurulan tuzağı bozmasını veya tuzak kuranları cezalandırmasını ifade etmektedir.yatına ben son vereceğim. seni kendime yükselteceğim. seni inkâr edenlerden kurtararak temizleyeceğim ve sana uyanları kıyamete kadar küfre sapanların üstünde tutacağım. sonra dönüşünüz yalnızca banadır. ayrılığa düştüğünüz şeyler hakkında aranızda ben hükmedeceğim.”“inkâr edenlere gelince, onlara dünyada da, ahirette de şiddetli bir şekilde azab edeceğim. onların hiç yardımcıları da olmayacaktır.”“iman edip salih ameller işleyenlere gelince, allah onların mükâfatlarını tastamam verecektir. allah, zalimleri sevmez.”(ey muhammed!) bunu (bildirdiklerimizi) biz sana âyetlerden ve hikmet dolu kur’an’dan okuyoruz.şüphesiz allah katında (yaratılışları bakımından) isa’nın durumu, âdem’in durumu gibidir: onu topraktan yarattı. sonra ona “ol” dedi. o da hemen oluverdi. hak rabbindendir. o hâlde, sakın şüphe edenlerden olma.sana (gerekli) bilgi geldikten sonra artık kim bu konuda seninle tartışacak olursa, de ki: “gelin, oğullarımızı ve oğullarınızı, kadınlarımızı ve kadınlarınızı çağıralım. biz de siz de toplanalım. sonra gönülden dua edelim de, allah’ın lânetini (aramızdan) yalan söyleyenlerin üstüne atalım.”şüphesiz bu (isa hakkındaki) gerçek kıssadır. allah’tan başka hiçbir ilâh yoktur. şüphesiz allah, mutlak güç sahibidir, .  hz.âdem’i topraktan, anasızbabasız yaratan allah, hz.isa’yı da babasız yaratmıştır. âyette allah’ın kudretinin sonsuzluğu, o’nun kudretinin her şeye yettiği belirtiliyor; ayrıca hz.meryem’in iffetine de dikkat çekiliyor..  bu âyete “mubâhale” âyeti denir. mubâhele, bir konuda haklı olanın ortaya çıkması için usulünce lânetleşmek demektir. necran hıristiyanları; “kur’an, hz.isa’nın babasız doğduğunu kabul ettiğine göre, onun allah olması gerekir” iddiasını ileri sürdüler. bunun üzerine hz. peygamber, hakkın ortaya çıkması için onları mubâhaleye davet etti. ancak onlar bunu kabul etmediler.hüküm ve hikmet sahibidir.eğer yüz çevirirlerse, şüphesiz ki allah fesat çıkaranları çok iyi bilir.de ki: “ey kitap ehli! bizimle sizin aranızda ortak bir söze gelin: yalnız allah’a ibadet edelim. o’na hiçbir şeyi ortak koşmayalım. allah’ı bırakıp da kimimiz kimimizi ilâh edinmesin.” eğer onlar yine yüz çevirirlerse, deyin ki: “şahit olun, biz müslümanlarız.”ey kitap ehli! ibrahim hakkında niçin tartışıyorsunuz. oysa tevrat da, incil de ondan sonra indirilmiştir. siz hiç düşünmüyor musunuz?işte siz böyle kimselersiniz! diyelim ki biraz bilginiz olan şey hakkında tartıştınız. ya hiç bilginiz olmayan şey hakkında niçin tartışıyorsunuz? allah bilir, siz bilmezsiniz.ibrahim, ne yahudi idi, ne de hıristiyan. fakat o, hanif (allah’ı bir tanıyan, hakka yönelen) bir müslümandı. allah’a ortak koşanlardan da değildi.şüphesiz, insanların ibrahim’e en yakın olanı, elbet.  bu âyet inince, önce hristiyan iken sonra müslüman olan adiy b. hâtem, “ya resûlallah, biz din büyüklerimize tapmazdık” dedi. hz.peygamber, “onlar size bir şeyi helâl veya haram kılar, siz de onların dediklerine uymaz mıydınız? işte bu, onlara tapmak demektir” buyurdu.yahudiler hz. ibrahim’in yahudi; hıristiyanlar da onun hıristiyan olduğunu iddia ediyorlardı. ayette onların bu iddiaları kınanıyor ve içine düştükleri çelişkili durum ortaya konuyor. her bir dine mensup insanlar onun nasıl kendi dinlerine ait olduğunu iddia edebilirler. hâlbuki her iki dinin kaynağını oluşturan tevrat ve incil hz. ibrahim’den sonra inmiştir. yahudi ve hıristiyanların bu iddiaları sonuç olarak hz. ibrahim’e, yahudilik ve hıristiyanlıktaki yanlış inanç ve uygulamaları isnat etmek anlamına geleceğinden ayette bu yaklaşımın gerçeği yansıtmadığı, ona iftira edilmiş olduğuna işaret vardır. nitekim surenin ve ayetlerde konu açık olarak ortaya konulmaktadır..  yahudiler hz.ibrahim’i yahudi, hıristiyanlar da onu hıristiyan kabul ediyor, hakkında tartışıyorlardı. âyet, bu konuda onlara gerçeği ifade ediyor.te ona uyanlar, bir de bu peygamber (muhammed) ve mü’minlerdir. allah da mü’minlerin dostudur.kitap ehlinden bir grup sizi saptırabilmeyi çok arzu etti. oysa sadece kendilerini saptırıyorlar, fakat farkına varmıyorlar.ey kitap ehli! (gerçeğe) şahit olduğunuz hâlde, niçin allah’ın âyetlerini inkâr ediyorsunuz?ey kitap ehli! niçin hakkı batılla karıştırıyor ve bile bile gerçeği gizliyorsunuz?kitap ehlinden bir grup, “mü’minlere indirilene günün başlangıcında inanın, sonunda da inkâr edin, belki onlar (size bakarak) dönerler” dedi.“sizin dininize uyandan başkasına inanmayın” (dediler). de ki: “şüphesiz hidayet, allah’ın hidayetidir. birine, size verilenin benzerinin verilmesinden veya rabbinizin huzurunda aleyhinize deliller getireceklerinden ötürü mü (böyle söylüyorsunuz)?” de ki: “lütuf allah’ın elindedir. onu dilediğine verir. allah, lütfu geniş olandır, hakkıyla bilendir.”o, rahmetini dilediğine has kılar. allah, büyük lütuf sahibidir.“kitap ehlinden öylesi vardır ki, ona yüklerle mal emanet etsen, onu sana (eksiksiz) iade eder. fakat onlardan öylesi de vardır ki, ona bir dinar emanet etsen, tepesine dikilip dur.  bu âyette, islâm’ın önünü kesmek için başvurulan psikolojik savaş yöntemlerinden biri dile getirilmektedir. medine civarında yaşayan birtakım yahudi bilginler ve liderler, imanı henüz sağlamlaşmamış kimseleri şüpheye düşürmek için aralarında bir karar almışlardı. buna göre islâm’ı kabul etmiş gibi görünecekler, sabah namazını müslümanlarla birlikte kılıp, akşam üzeri islâm’dan çıktıklarını ilan edeceklerdi. amaçları, hiç olmazsa bazı kimselerin, “bunlar vazgeçtiklerine göre, müslümanlık’ta mutlaka bir eksiklik bulmuşlardır”, demelerini sağlamaktı. âyette onların bu planları ortaya konmaktadır.madıkça onu sana iade etmez. bu da onların, “ümmîlere karşı (yaptıklarımızdan) bize vebal yoktur” demelerinden dolayıdır. onlar, bile bile allah’a karşı yalan söylerler.hayır! (gerçek, onların dediği değil.) kim sözünü yerine getirir ve allah’a karşı gelmekten sakınırsa, şüphesiz allah da sakınanları sever.şüphesiz, allah’a verdikleri sözü ve yeminlerini az bir karşılığa değişenler var ya, işte onların ahirette bir payı yoktur. allah, kıyamet günü onlarla konuşmayacak, onlara bakmayacak ve onları temizlemeyecektir. onlar için elem dolu bir azap vardır.onlardan (kitap ehlinden) bir grup var ki, kitab’dan olmadığı hâlde kitab’dan sanasınız diye (okudukları) kitap’tanmış gibi dillerini eğip bükerler ve, “bu, allah katındandır” derler. hâlbuki o, allah katından değildir. bile bile allah’a karşı yalan söylerler.allah’ın, kendisine kitab’ı, hükmü (hikmeti) ve peygamberliği verdiği hiçbir insanın, “allah’ı bırakıp bana kullar olun” demesi düşünülemez. fakat (şöyle öğüt verir:) “öğretmekte ve derinlemesine incelemekte olduğunuz kitap uyarınca rabbânîler (allah’ın istediği örnek ve dindar kullar) olun.”onun size, “melekleri ve peygamberleri ilâhlar edinin.” diye emretmesi de düşünülemez. siz müslüman olduktan sonra, o size hiç inkârı emreder mi?hani, allah peygamberlerden, “andolsun, size vereceğim .  bu âyette geçen “ümmî” kelimesi tefsir bilginleri tarafından, “zayıf kimseler”, “bilgisizler”, “kitap ehlinden olmayanlar” şeklinde yorumlanmıştır. yahudilerin bir kısmı hak, hukuk ve dürüstlük konularında kendilerini yalnızca kendi dindaşlarına karşı sorumlu tutuyorlar, kendi dinlerinden olmayanlara karşı ise dürüst davranma zorunluluğu duymuyorlardı.her kitap ve hikmetten sonra, elinizdekini doğrulayan bir peygamber geldiğinde, ona mutlaka iman edeceksiniz ve ona mutlaka yardım edeceksiniz” diye söz almış ve, “bunu kabul ettiniz mi; verdiğim bu ağır görevi üstlendiniz mi?” demişti. onlar, “kabul ettik” demişlerdi. allah da, “öyleyse şahid olun, ben de sizinle beraber şahit olanlardanım” demişti.artık bundan sonra kim yüz çevirirse, işte onlar yoldan çıkmışların ta kendileridir.göklerdeki ve yerdeki herkes ister istemez o’na boyun eğmişken ve o’na döndürülüp götürülecekken onlar allah’ın dininden başkasını mı arıyorlar?de ki: “allah’a, bize indirilene (kur’an’a), ibrahim’e, ismail’e, ishak’a, yakub’a ve yakuboğullarına indirilene, mûsâ’ya, isa’ya ve peygamberlere rablerinden verilene inandık. onlardan hiçbirini diğerinden ayırt etmeyiz. biz o’na teslim olanlarız.”kim islâm’dan başka bir din ararsa, (bilsin ki o din) ondan kabul edilmeyecek ve o ahirette hüsrana uğrayanlardan olacaktır.iman ettikten, peygamberin hak olduğuna şahitlik ettikten ve kendilerine açık deliller geldikten sonra inkâr eden bir toplumu allah nasıl doğru yola eriştirir? allah, zalim toplumu doğru yola iletmez.işte onların cezası; allah’ın, meleklerin ve bütün insanların lânetinin üzerlerine olmasıdır.onun (lânetin) içinde ebedî kalacaklardır. onların azabı hafifletilmez, onlara göz açtırılmaz.ancak bundan sonra tövbe edip kendilerini düzeltenler müstesnadır. şüphesiz allah çok bağışlayandır, çok merhamet edendir.şüphesiz iman ettikten sonra inkâr eden, sonra da inkârda ileri gidenlerin tövbeleri asla kabul edilmeyecektir. işte onlar sapıkların ta kendileridir.şüphesiz inkâr edip kâfir olarak ölenler var ya, dünya dolusu altını fidye verseler bile bu, hiçbirisinden asla kabul edilmeyecektir. onlar için elem dolu bir azap vardır. onların hiçbir yardımcıları da yoktur.sevdiğiniz şeylerden allah yolunda harcamadıkça iyiliğe asla erişemezsiniz. her ne harcarsanız allah onu bilir.tevrat indirilmeden önce, israil’in (yakub’un) kendisine haram kıldığı dışında, yiyeceklerin hepsi israiloğullarına helâl idi. de ki: “eğer doğru söyleyenler iseniz, haydi tevrat’ı getirip okuyun.”artık bundan sonra allah’a karşı kim yalan uydurursa, işte onlar zalimlerin ta kendileridir.de ki: “allah, doğru söylemiştir. öyle ise hakka yönelen ibrahim’in dinine uyun. o, allah’a ortak koşanlardan değildi.”şüphesiz, insanlar için kurulan ilk ibadet evi, elbette mekke’de, âlemlere rahmet ve hidayet kaynağı olarak kurulan kâ’be’dir.onda apaçık deliller, makamı ibrahimvardır. oraya kim girerse, güven içinde olur. yolculuğuna gücü yetenlerin haccetmesi, allah’ın insanlar üzerinde bir hakkıdır. kim inkâr ederse (bu hakkı tanınmazsa), şüphesiz allah bütün âlemlerden müstağnidir. (kimseye muhtaç değildir, her şey o’na muhtaçtır.)de ki: “ey kitab ehli! allah, yaptıklarınızı görüp dururken .  makâmı ibrahim’le ilgili olarak bakınız: , âyet, ve dipnotu.allah’ın âyetlerini niçin inkâr ediyorsunuz?”de ki: “ey kitab ehli! (gerçeği) görüp bildiğiniz hâlde, niçin allah’ın yolunu eğri ve çelişkili göstermeğe yeltenerek inananları allah’ın yolundan çevirmeye kalkışıyorsunuz? allah, yaptıklarınızdan habersiz değildir.”ey iman edenler! kendilerine kitap verilenlerden herhangi bir gruba uyarsanız, imanınızdan sonra sizi döndürüp kâfir yaparlar.size allah’ın âyetleri okunup dururken ve allah’ın resûlü de aranızda iken dönüp nasıl inkâr edersiniz? kim allah’a sımsıkı bağlanırsa, kesinlikle o, doğru yola iletilmiştir.ey iman edenler! allah’a karşı gelmekten nasıl sakınmak gerekiyorsa, öylece sakının ve siz ancak müslümanlar olarak ölün.hep birlikte allah’ın ipine (kur’an’a) sımsıkı sarılın. parçalanıp bölünmeyin. allah’ın size olan nimetini hatırlayın. hani sizler birbirinize düşmanlar idiniz de o, kalplerinizi birleştirmişti. işte o’nun bu nimeti sayesinde kardeşler olmuştunuz. yine siz, bir ateş çukurunun tam kenarında idiniz de o sizi oradan kurtarmıştı. işte allah size âyetlerini böyle apaçık bildiriyor ki doğru yola eresiniz.sizden, hayra çağıran, iyiliği emreden ve kötülükten men eden bir topluluk bulunsun. işte kurtuluşa erenler onlardır.kendilerine apaçık deliller geldikten sonra parçalanıp ayrılığa düşenler gibi olmayın. işte onlar için büyük bir azap vardır.o gün bazı yüzler ağarır, bazı yüzler kararır. yüzleri kararanlara, “imanınızdan sonra inkâr ettiniz, öyle mi? öyle ise inkâr etmenize karşılık azabı tadın” denilir.yüzleri ağaranlar ise allah’ın rahmeti içindedirler. onlar orada ebedî kalacaklardır.işte bunlar allah’ın, sana hak olarak okuduğumuz âyetleridir. allah, âlemlere hiç zulüm etmek istemez.göklerdeki her şey, yerdeki her şey allah’ındır. bütün işler ancak allah’a döndürülür.siz, insanlar için çıkarılmış en hayırlı ümmetsiniz. iyiliği emreder, kötülükten men eder ve allah’a iman edersiniz. kitap ehli de inansalardı elbette kendileri için hayırlı olurdu. onlardan iman edenler de var. ama pek çoğu fasık kimselerdir.onlar size eziyetten başka bir zarar veremezler. eğer sizinle savaşmaya kalkışsalar, size arkalarını dönüp kaçarlar. sonra onlara yardım da edilmez.onlar nerede bulunurlarsa bulunsunlar, allah’ın ve (mü’min) insanların güvencesine sığınmadıkça kendilerini zillet kaplamıştır. onlar allah’ın gazabına uğradılar ve yoksulluk onları kapladı. bunun sebebi onların; allah’ın âyetlerini inkâr ediyor ve peygamberleri haksız yere öldürüyor olmaları idi. bütün bunların sebebi ise, isyan etmekte ve (allah’ın koyduğu) sınırları çiğnemekte oluşları idi.onların (kitap ehlinin) hepsi bir değildir. kitap ehli içinde, gece saatlerinde ayakta duran, secdeye kapanarak allah’ın âyetlerini okuyan bir topluluk da vardır.onlar, allah’a ve ahiret gününe inanırlar. iyiliği emrederler. kötülükten men ederler, hayır işlerinde birbirleriyle yarışırlar. işte onlar salihlerdendir.onlar ne hayır işlerlerse karşılıksız bırakılmayacaklardır. allah, kendisine karşı gelmekten sakınanları bilir.inkâr edenlerin ne malları ne evlatları, onlara allah’a kar.  bu âyet ile sonraki iki âyette, kitap ehlinden iken müslüman olan abdullah b. selam ve arkadaşları kastedilmektedir. bu sûrenin ve âyetlerinde de bu kimselere işaret edilmektedir.şı bir yarar sağlar. işte onlar cehennemliktirler. onlar orada ebedî kalacaklardır.onların bu dünya hayatında harcadıkları malların durumu, kendilerine zulmeden bir topluluğun ekinlerini vurup mahveden kavurucu ve soğuk bir rüzgârın durumu gibidir. allah, onlara zulmetmedi. fakat onlar kendi kendilerine zulmediyorlar.ey iman edenler! sizden olmayanlardan hiçbir sırdaş edinmeyin. onlar size fenalık etmekten asla geri kalmazlar. hep sıkıntıya düşmenizi isterler. onların kinleri konuşmalarından apaçık ortaya çıkmıştır. kalplerinde gizledikleri ise daha büyüktür. eğer düşünürseniz size âyetleri açıkladık.işte siz öyle kimselersiniz ki, onları seversiniz; onlar ise, bütün kitaplara iman ettiğiniz hâlde, sizi sevmezler. onlar sizinle karşılaştıkları zaman “inandık” derler. ama kendi başlarına kaldıklarında, size karşı kinlerinden dolayı parmaklarını ısırırlar. de ki: “öfkenizden ölün!” şüphesiz allah, göğüslerin özünü (kalplerde olanı) bilir.size bir iyilik dokunursa, bu onları üzer. başınıza bir kötülük gelse, ona sevinirler. eğer siz sabırlı olur, allah’a karşı gelmekten sakınırsanız, onların hileleri size hiçbir zarar vermez. çünkü allah onların işlediklerini kuşatmıştır.hani sen mü’minleri (uhud’da) savaş mevzilerine yerleştirmek için, sabah erken ailenden (evinden) ayrılmıştın. allah, hakkıyla işitendir, hakkıyla bilendir.hani sizden iki takım (paniğe kapılarak) çözülmeye yüz tutmuştu. hâlbuki allah onların yardımcısı idi. mü’minler, yalnız allah’a tevekkül etsinler..  uhud savaşında, sağ ve sol kanatlara yerleştirilen hazrec kabilesinden seleme oğulları ile evs kabilesinden harise oğulları, hz. peygamber’in savaş taktiğine uymamış, savaş esnasında düşmana karşı korkaklık ve za’f göstermişlerdi.andolsun, siz son derece güçsüz iken allah size bedir’de yardım etmişti. o hâlde allah’a karşı gelmekten sakının ki şükretmiş olasınız.hani sen mü’minlere, “rabbinizin, indirilmiş üç bin melek ile yardım etmesi size yetmez mi?” diyordun.evet, sabrettiğiniz ve allah’a karşı gelmekten sakındığınız takdirde; onlar ansızın üzerinize gelseler bile rabbiniz nişanlı beş bin melekle size yardım eder.allah, bunu size sırf bir müjde olsun ve kalpleriniz bununla yatışsın diye yaptı. yardım ve zafer ancak mutlak güç sahibi, hüküm ve hikmet sahibi allah katındadır.bir de allah bunu, inkâr edenlerden bir kısmını helâk etsin veya perişan etsin de umutsuz olarak dönüp gitsinler diye yaptı.bu işte senin yapacağın bir şey yoktur. allah, ya tövbelerini kabul edip onları affeder, ya da zalim olduklarından dolayı onlara azap eder.göklerdeki her şey ve yerdeki her şey allah’ındır. o, dilediğini bağışlar, dilediğine azab eder. allah, çok bağışlayandır, çok merhamet edendir.ey iman edenler! kat kat arttırılmış olarak faiz yemeyin. allah’a karşı gelmekten sakının ki kurtuluşa eresiniz.kâfirler için hazırlanmış ateşten sakının.allah’a ve peygambere itaat edin ki size merhamet edilsin.rabbinizin bağışına, genişliği göklerle yer arası kadar olan .  bu âyet, cahiliye arapları arasındaki bir uygulamaya işaret etmekte ve bunu yasaklamaktadır. müşrik araplar, vadesinde ödenemeyen borca yüksek faizler tahakkuk ettirerek vadeyi uzatırlar, böylece alınan borç kısa zamanda kat kat artardı. âyetten anlaşılan manayı tersinden ele alarak kat kat olmayan faizin yenebileceğini söylemek mümkün değildir. zira nin âyeti ile; miktarı ne olursa olsun faiz mutlak olarak yasaklanmıştır.ve allah’a karşı gelmekten sakınanlar için hazırlanmış bulunan cennete koşun.onlar bollukta ve darlıkta allah yolunda harcayanlar, öfkelerini yenenler, insanları affedenlerdir. allah, iyi ve yararlı işleri en güzel şekilde yapanları sever.” yine onlar, çirkin bir iş yaptıkları, yahut nefislerine zulmettikleri zaman allah’ı hatırlayıp hemen  günahlarının  bağışlanmasını  isteyenler ki allah’tan başka günahları kim bağışlar ve bile bile işledikleri (günah) üzerinde ısrar etmeyenlerdir.işte onların mükâfatı rab’leri tarafından bağışlanma ve içinden ırmaklar akan cennetlerdir ki orada ebedî kalacaklardır. (allah yolunda) çalışanların mükâfatı ne güzeldir!sizden önce(ki milletlerin başından) nice olaylar gelip geçmiştir. yeryüzünde gezin dolaşın da yalanlayanların sonunun nasıl olduğunu bir görün.bu (kur’an), insanlar için bir açıklama, allah’a karşı gelmekten sakınanlar için bir hidayet ve bir öğüttür.gevşemeyin, hüzünlenmeyin. eğer (gerçekten) iman etmiş kimseler iseniz üstün olan sizlersiniz.eğer siz (uhud’da) bir yara aldıysanız, şüphesiz o topluluk da (müşrikler de bedir’de) benzeri bir yara almıştı. işte (iyi veya kötü) günleri insanlar arasında (böyle) döndürür dururuz. (bazen bir topluma iyi ya da kötü günler gösteririz, bazen öbürüne.) allah, sizden iman edenleri ayırt etmek, sizden şahitler edinmek için böyle yapar. allah, zalimleri sevmez.bir de allah, iman edenleri arındırmak ve küfre sapanları mahvetmek için böyle yapar.yoksa siz; allah, içinizden cihad edenleri (sınayıp) ayırt etmeden ve yine sabredenleri (sınayıp) ayırt etmeden cennete gireceğinizi mi sandınız?andolsun, siz ölümle karşılaşmadan önce onu temenni ediyordunuz. işte onu gördünüz, ama bakıp duruyorsunuz.muhammed, ancak bir peygamberdir. ondan önce de peygamberler gelip geçmiştir. şimdi o ölür veya öldürülürse gerisingeriye (eski dininize) mi döneceksiniz? kim gerisingeriye dönerse, allah’a hiçbir zarar veremez. allah, şükredenleri mükâfatlandıracaktır.hiçbir kimse allah’ın izni olmadan ölmez. ölüm belirli bir süreye göre yazılmıştır. kim dünya menfaatini isterse, kendisine ondan veririz. kim de ahiret mükâfatını isterse, ona da ondan veririz. biz şükredenleri mükâfatlandıracağız.nice peygamberler var ki, kendileriyle beraber birçok allah dostu çarpıştı da bunlar allah yolunda başlarına gelenlerden yılmadılar, zaafa düşmediler, boyun eğmediler. allah, sabredenleri sever.onların sözleri ancak, “rabbimiz! bizim günahlarımızı ve işimizdeki taşkınlıklarımızı bağışla ve (yolunda) ayaklarımızı sağlam tut. kâfir topluma karşı bize yardım et” demekten ibaretti.allah da onlara hem dünya nimetini, hem de ahiretin güzel mükâfatını verdi. allah, iyi ve yararlı işleri en güzel şekilde yapanları sever.” ey iman edenler! siz eğer kâfir olanlara uyarsanız sizi gerisingeriye (küfre) çevirirler de büsbütün hüsrana uğrarsınız.hayır! yalnız allah yardımcınızdır. o, yardımcıların en hayırlısıdır.hakkında hiçbir delil indirmediği şeyleri allah’a ortak koştuklarından dolayı; inkâr edenlerin kalplerine korku salacağız. barınakları da cehennemdir. zalimlerin kalacakları yer ne kötüdür.andolsun, allah, izniyle, onları (müşrikleri) kırıp geçirdiğiniz sırada size olan va’dini gerçekleştirdi. nihayet sevdiğiniz şeyi (zaferi) size gösterdikten sonra, za’f gösterdiniz. (peygamber’in verdiği) emir konusunda tartıştınız ve emre karşı geldiniz. içinizden dünyayı isteyenler de vardı, ahireti isteyenler de. sonra sizi denemek için onlardan yüzünüzü çevirdi. (kaçıp hezimete uğradınız. buna rağmen) sizi bağışladı. allah, mü’minlere karşı çok lütufkârdır.peygamber, arkanızdan sizi çağırırken siz durmadan dağa yukarı kaçıyor, hiç kimseye dönüp bakmıyordunuz. bundan dolayı allah, size keder üstüne keder verdi ki, (bu durumlara alışasınız ve daha sonra) elinizden gidene, ve başınıza gelene üzülmeyesiniz. allah, yaptıklarınızdan hakkıyla haberdardır.sonra o kederin ardından (allah) üzerinize  içinizden bir kısmını örtüp bürüyen bir güven, bir uyku indirdi. bir kısmınız da kendi canlarının kaygısına düşmüştü. allah’a karşı cahiliye zannı gibi gerçek dışı zanda bulunuyorlar; “bu işte bizim hiçbir dahlimiz yok” diyorlardı. de ki: “bütün iş, allah’ındır.” onlar sana açıklayamadıklarını içlerinde saklı.  bu âyetler, uhud savaşında cereyan eden olaylara dikkat çekmektedir. savaş öncesinde hz.peygamber, bir birliği, bir geçide yerleştirerek; emir almadıkça, her ne pahasına olursa olsun, mevkilerini terk etmemelerini tembih etti. savaşın başlangıcında müslümanlar üstün duruma geçince, geçittekiler, birkaç kişi hariç, yerlerini terk ederek ganimet toplamaya koştular. bunu fırsat bilen müşrikler, arkadan dolanarak müslümanları zor durumda bıraktı. müslümanlar, başlangıçtaki üstünlüklerini kaybedip dağıldılar. hz. peygamberin çağrısı üzerine sergilenen son bir hamle ile kesin yenilgiden kurtuldular ama kesin bir başarı da elde edilemedi. müslüman askerlerin bir kısmının verilen emri tam olarak yerine getirmemeleri, islâm ordusuna pahalıya mal olmuştu.yorlar ve diyorlar ki: “bu konuda bizim elimizde bir şey olsaydı, burada öldürülmezdik.” de ki: “evlerinizde dahi olsaydınız, üzerlerine öldürülmesi yazılmış bulunanlar mutlaka yatacakları (öldürülecekleri) yerlere çıkıp gideceklerdi. allah, bunu göğüslerinizdekini denemek, kalplerinizdekini arındırmak için yaptı. allah, göğüslerin özünü (kalplerde olanı) bilir.”iki topluluğun karşılaştığı gün, içinizden yüz çevirip kaçanları, şeytan ancak yaptıkları bazı hatalardan dolayı yoldan kaydırmak istemişti. ama yine de allah onları affetti. kuşkusuz allah çok bağışlayandır, halîmdir (hemen cezalandırmaz, mühlet verir).ey iman edenler! kardeşleri sefere veya savaşa çıktığında onlar hakkında, “onlar bizim yanımızda olsalardı, ölmezlerdi ve öldürülmezlerdi” diyen inkârcılar gibi olmayın. allah, bunu (bu düşünceyi) onların kalplerine bir hasret (yarası) olarak koydu. allah, yaşatır ve öldürür. allah, yaptıklarınızı görmektedir.andolsun, eğer allah yolunda öldürülür veya ölürseniz, allah’ın bağışlaması ve rahmeti onların topladıkları (dünyalıkları)ndan daha hayırlıdır.andolsun, ölseniz de öldürülseniz de, allah’ın huzurunda toplanacaksınız.allah’ın rahmeti sayesinde sen onlara karşı yumuşak davrandın. eğer kaba, katı yürekli olsaydın, onlar senin etrafından dağılıp giderlerdi. artık sen onları affet. onlar için allah’tan bağışlama dile. iş konusunda onlarla müşavere et. bir kere de karar verip azmettin mi, artık allah’a tevekkül et, (ona dayanıp güven). şüphesiz allah, tevekkül edenleri sever.allah size yardım ederse, sizi yenecek yoktur. eğer sizi yardımsız bırakırsa, ondan sonra size kim yardım edebilir? mü’minler, ancak allah’a tevekkül etsinler.hiçbir peygamberin emanete hıyanet etmesi düşünülemez. kim hıyanet ederse, kıyamet günü, hıyanet ettiği şeyle birlikte gelir. sonra da hiçbir haksızlığa uğratılmaksızın herkese kazandığının karşılığı tastamam ödenir.allah’ın rızasına uyan kimse, allah’ın gazabına uğrayan ve varacağı yer cehennem olan kimse gibi midir? o, ne kötü varılacak yerdir!onlar (insanlar) allah’ın katında derece derecedirler. allah, onların yaptıklarını görmektedir.andolsun, allah, mü’minlere kendi içlerinden; onlara âyetlerini okuyan, onları arıtıp tertemiz yapan, onlara kitab ve hikmeti öğreten bir peygamber göndermekle büyük bir lütufta bulunmuştur. oysa onlar, daha önce apaçık bir sapıklık içinde idiler.onların (müşriklerin) başına (bedir’de) iki mislini getirdiğiniz bir musibet (uhud’da) sizin başınıza geldiğinde, “bu, nereden başımıza geldi?” dediniz, öyle mi? de ki: “o (musibet), kendinizdendir.” şüphesiz allah’ın gücü her şeye hakkıyla yeter., iki topluluğun (ordunun) karşılaştığı günde başınıza gelen musibet allah’ın izniyledir. bu da mü’minleri ortaya çıkarması ve münafıklık yapanları belli etmesi içindi. onlara (münafıklara), “gelin, allah yolunda savaşın veya savunmaya geçin” denildi de onlar, “eğer savaşmayı bilseydik, arkanızdan gelirdik” dediler. onlar o gün, imandan çok küfre yakın idiler. ağızlarıyla kalplerinde olmayanı söylüyorlardı. oysa allah, içlerinde gizledikleri şeyi çok iyi bilmektedir.(onlar), kendileri oturup kaldıkları hâlde kardeşleri için, “eğer bize uysalardı, öldürülmezlerdi” diyen kimselerdir. de ki: “eğer doğru söyleyenler iseniz kendinizden ölümü savın.”, allah yolunda öldürülenleri sakın ölüler sanma. bilakis onlar diridirler, rableri katında allah’ın, lütfundan kendilerine verdiği nimetlerin sevincini yaşayarak rızıklandırılmaktadırlar. arkalarından kendilerine ulaşamayan (henüz şehit olmamış) kimselere de hiçbir korku olmayacağına ve onların üzülmeyeceklerine sevinirler.(şehitler) allah’ın nimetine, keremine ve allah’ın, mü’minlerin ecrini zayi etmeyeceğine sevinirler.onlar yaralandıktan sonra allah’ın ve peygamberinin davetine uyan kimselerdir. onlardan iyi ve yararlı işleri en güzel şekilde yapanlara ve allah’a karşı gelmekten sakınanlara büyük bir mükâfat vardır.onlar öyle kimselerdir ki, halk kendilerine, “insanlar size karşı ordu toplamışlar, onlardan korkun” dediklerinde, bu söz onların imanını artırdı ve “allah bize yeter, o ne güzel vekildir!” dediler.bundan dolayı allah’tan bir nimet ve lütufla kendilerine hiçbir fenalık dokunmadan geri döndüler ve allah’ın rızasına uydular. allah, büyük lütuf sahibidir.o şeytansizi ancak kendi dostlarından korkutuyor. onlardan korkmayın, eğer mü’min iseniz, benden korkun.küfürde yarışanlar seni üzmesin. onlar, allah’a hiçbir şekilde zarar veremezler. allah, onlara ahirette bir pay vermemek istiyor. onlar için büyük azap vardır.iman karşılığında küfrü satın alanlar allah’a hiçbir zarar ve.  tefsir bilginlerinin ifadesine göre, âyette “şeytan” olarak işaret edilen adam, mekke’li müşriklerin, medine’li müslümanlar arasında yıkıcı propaganda yapmak üzere gönderdiği “nuaym” adlı birisidir.remezler. onlar için elem verici bir azap vardır.inkâr edenler, kendilerine vermiş olduğumuz mühletin, sakın kendileri için hayırlı olduğunu sanmasınlar. biz, onlara ancak günahları artsın diye mühlet veriyoruz. onlar için alçaltıcı bir azap vardır.allah, pisi temizden ayırıncaya kadar mü’minleri içinde bulunduğunuz şu durumda bırakacak değildir. allah, size gaybı bildirecek de değildir. fakat allah, peygamberlerinden dilediğini seçer (gaybı ona bildirir). o hâlde, allah’a ve peygamberlerine iman edin. eğer iman eder ve allah’a karşı gelmekten sakınırsanız sizin için büyük bir mükâfat vardır. allah’ın kendilerine lütfundan verdiği nimetlerde cimrilik edenler, bunun, kendileri için hayırlı olduğunu sanmasınlar. hayır! o kendileri için bir şerdir. cimrilik ettikleri şey kıyamet gününde boyunlarına dolanacaktır. göklerin ve yerin mirası allah’ındır. allah, yaptıklarınızdan hakkıyla haberdardır.allah; “şüphesiz, allah fakirdir, biz zenginiz” diyenlerin sözünü elbette duydu. onların dediklerini ve haksız yere peygamberleri öldürmelerini yazacağız ve, “tadın yangın azabını!” diyeceğiz.“bu, kendi ellerinizin (önceden yapıp) gönderdiklerinin müslümanların hicretten sonra medine’de yerleşip güç kazanmaları üzerine islam’a girenlerin sayısı hızla arttı. ne var ki gerçekte inanmadığı halde inanmış görünenlerin sayısında da bir artma görülmüştü. nitekim kişilik islam ordusu içinde yer alan münafık uhud savaşı öncesi ayrılmıştı. samimi müminlerin, kimliklerini bilemedikleri münafıklarla bu derece iç içe bulunmaları sakıncalı idi. işte uhud savaşı böyle bir ortamda gerçekleşmiş ve müslümanlar oldukça kritik ve zor durumlar yaşamışlardı. buna göre ayette şöyle bir mesaj verilmiş oluyor: allah, siz müminleri hep bulunduğunuz hâl üzere bırakmaz. bazen de böyle uhud’da olduğu gibi, şehitlik ve diğer zorluklarla imtihan eder ki pis ile temiz yani münafıkla mümin birbirinden ayrılsın.karşılığıdır.” allah, kullara asla zulmedici değildir.onlar, “allah, bize, ateşin yiyeceği bir kurban getirmedikçe hiçbir peygambere inanmamamızı emretti” dediler. de ki: “benden önce size nice peygamberler, açık belgeleri ve sizin dediğiniz şeyi getirdi. eğer doğru söyleyenler iseniz, niçin onları öldürdünüz?”eğer seni yalanladılarsa, senden önce açık delilleri, hikmetli sayfaları ve aydınlatıcı kitabı getiren peygamberler de yalanlanmıştı.her canlı ölümü tadacaktır. ancak kıyamet günü yaptıklarınızın karşılığı size tastamam verilecektir. kim cehennemden uzaklaştırılıp cennete sokulursa, gerçekten kurtuluşa ermiştir. dünya hayatı, aldatıcı metadan başka bir şey değildir.andolsun, mallarınız ve canlarınız konusunda imtihana çekileceksiniz. sizden önce kendilerine kitap verilenlerden ve allah’a ortak koşanlardan üzücü birçok söz işiteceksiniz. eğer sabreder ve allah’a karşı gelmekten sakınırsanız bilin ki, bunlar (yapmaya değer) azmi gerektiren işlerdendir.hani allah, kendilerine kitap verilenlerden, “onu (kitabı) mutlaka insanlara açıklayacaksınız, onu gizlemeyeceksiniz” diye sağlam söz almıştı. fakat onlar verdikleri sözü, arkalarına atıp onu az bir karşılığa değiştiler. yaptıkları bu alışveriş ne kadar kötüdür!rivayete göre eskiden bir kimse sadaka verdiğinde bunun kabul edilip edilmediğini anlamak için bir kurban keserdi. eğer sadakası kabul edilmişse gökten bir ateş inerek o kurbanı yakardı. işte bu yöntem israil oğullarına gönderilen peygamberlerin peygamberliklerini ispat için gösterdikleri mucizelerden biri olmuştu. medine yahudileri buna atıfta bulunarak resulullah’a, peygamber olduğunu ispat etmek için israil oğulları peygamberleri gibi ateşin yaktığı kurban mucizesini göstermesini söylemişlerdi..  âyeti kerimenin meâli şöyle de olabilir: “seni yalanladıkları takdirde, (bununla) senden önce açık deliller, hikmetli sayfalar ve aydınlatıcı kitap getiren (diğer) peygamberler de yalanlanmış olur.”ettiklerine sevinen ve yapmadıkları şeylerle övülmeyi seven kimselerin, sakın azaptan kurtulacaklarını sanma. onlar için elem dolu bir azap vardır.göklerin ve yerin hükümranlığı allah’ındır. allah, her şeye hakkıyla gücü yetendir.göklerin ve yerin yaratılışında, gece ile gündüzün birbiri ardınca gelip gidişinde selim akıl sahipleri için elbette ibretler vardır.onlar ayaktayken, otururken ve yanları üzerine yatarken allah’ı anarlar. göklerin ve yerin yaratılışı üzerinde düşünürler. “rabbimiz! bunu boş yere yaratmadın, seni eksikliklerden uzak tutarız. bizi ateş azabından koru” derler.“rabbimiz! sen kimi cehennem ateşine sokarsan, onu rezil etmişsindir. zalimlerin hiç yardımcıları yoktur.”“rabbimiz! biz, ‘rabbinize iman edin’ diye imana çağıran bir davetçi işittik, hemen iman ettik. rabbimiz! günahlarımızı bağışla. kötülüklerimizi ört. canımızı iyilerle beraber al.”“rabbimiz! peygamberlerin aracılığı ile bize va’dettiklerini ver bize. kıyamet günü bizi rezil etme. şüphesiz sen, va’dinden dönmezsin.”rableri, onlara şu karşılığı verdi: “ben, erkek olsun, kadın olsun, sizden hiçbir çalışanın amelini zayi etmeyeceğim. sizler birbirinizdensiniz. hicret edenler, yurtlarından çıkarılanlar, yolumda eziyet görenler, savaşanlar ve öldürülenlerin de andolsun, günahlarını elbette örteceğim. allah katından bir mükâfat olmak üzere, onları içinden ırmaklar akan cennetlere koyacağım. mükâfatın en güzeli allah katındadır.”kâfirlerin refah içinde diyar diyar dolaşmaları sakın seni aldatmasın.(onların bu refahı) az bir yararlanmadır. sonra onların barınağı cehennemdir. ne kötü bir yataktır orası!fakat rablerine karşı gelmekten sakınanlar için, allah katından bir konaklama yeri olarak, içinde ebedî kalacakları, içinden ırmaklar akan cennetler vardır. allah katında olan şeyler iyiler için daha hayırlıdır.kitap ehlinden öyleleri var ki, allah’a, size indirilene ve kendilerine indirilene, allah’a derinden saygı duyarak inanırlar. allah’ın âyetlerini az bir değere satmazlar. onlar var ya, işte onların, rableri katında mükâfatları vardır. şüphesiz allah, hesabı çabuk görendir.ey iman edenler! sabredin. sabır yarışında düşmanlarınızı geçin. (cihat için) hazırlıklı ve uyanık olun ve allah’a karşı gelmekten sakının ki kurtuluşa eresiniz.medine döneminde inmiştir. âyettir. sûre, özellikle kadın haklarından, onların hukûkî ve sosyal konumlarından bahsettiği için bu adı almıştır. “nisâ” kadınlar demektir.bismillâhirrahmânirrahîm.ey insanlar! sizi bir tek nefisten yaratan ve ondan daeşini yaratan; ikisinden birçok erkek ve kadın (meydana getirip kabileler ve boylar halinde) yayan rabbinize karşı gelmekten sakının. kendisi adına birbirinizden dilekte bulunduğunuz allah’a karşı gelmekten ve akrabalık bağlarını koparmaktan sakının. şüphesiz allah, üzerinizde bir gözetleyicidir.yetimlere mallarını verin. temizi pis olanla (helâli haramla) değişmeyin. onların mallarını kendi mallarınıza katıp yemeyin. çünkü bu, büyük bir günahtır.eğer, yetim kızlar (ile evlenince onlar) hakkında adaletsizlik yapmaktan endişe ederseniz, (onları değil), size helâl olan (başka) kadınlardan ikişer, üçer, dörder olmak üzere nikâhlayın.eğer (o kadınlar arasında da) adaletli davranmayacağınızdan korkarsanız, o taktirde bir tane alın veya sahip olduğunuz (cariyeler) ile yetinin. bu, ada.  buradaki “ondan” ifadesi “onun türünden” şeklinde de anlaşılabilir.aynı konu için bakınız: , ayet .  bu âyette yer alan “nikâhlayın” emri, gereklilik anlamı değil, ruhsat ve cevaz anlamı taşımaktadır. bu itibarla islâm dininde çok evlilik kural değil, gerektiğinde başvurulacak istisnaî bir durumdur.letten ayrılmamanız için daha uygundur.kadınlara mehirlerini (bir görev olarak) gönül hoşluğuyla verin. eğer kendi istekleriyle o mehrin bir kısmını size bağışlarlarsa, onu da afiyetle yiyin.allah’ın, sizin için geçim kaynağı yaptığı mallarınızı aklı ermezlere vermeyin. o mallarla onları besleyin, giydirin ve onlara güzel söz söyleyin.yetimleri deneyin. evlenme çağına (buluğa) erdiklerinde, eğer reşid olduklarını görürseniz, mallarını kendilerine verin. büyüyecekler (ve mallarını geri alacaklar) diye israf ederek ve aceleye getirerek mallarını yemeyin. (velilerden) kim zengin ise (yetim malından yemeğe) tenezzül etmesin. kim de fakir ise, aklın ve dinin gereklerine uygun bir biçimde (hizmetinin karşılığı kadar) yesin. mallarını kendilerine geri verdiğiniz zaman da yanlarında şahit bulundurun. hesap görücü olarak allah yeter.ana, baba ve akrabaların (miras olarak) bıraktıklarından erkeklere bir pay vardır. ana, baba ve akrabaların bıraktıklarından kadınlara da bir pay vardır.  allah, bırakılanın azından da çoğundan da bunları farz kılınmış birer hisse olarak belirlemiştir.miras taksiminde (kendilerine pay düşmeyen) akrabalar, yetimler ve fakirler hazır bulunurlarsa, onlara da maldan bir şeyler verin ve onlara (gönüllerini alacak) güzel sözler söyleyin.kendileri, geriye zayıf çocuklar bıraktıkları takdirde, onlar .  bu âyette, yetimlerin mallarını ellerinde bulunduran velilere hitab ediliyor. âyetteki “mallarınız” ifadesi ile, yetimlere ait olup velilerin elinde bulunan mallar kast edilmektedir. ayrıca harcamalarda meşru ölçüler içinde akıllıca davranılmasına da işaret edilmektedir.hakkında endişeye kapılanlar, (yetimler hakkında da) ürperip korksunlar. allah’a karşı gelmekten sakınsınlar ve doğru söz söylesinler.yetimlerin mallarını haksız yere yiyenler, ancak ve ancak karınlarını doldurasıya ateş yemiş olurlar ve zaten onlar çılgın bir ateşe (cehenneme) gireceklerdir.allah, size, çocuklarınız(ın alacağı miras) hakkında, erkeğe iki dişinin payı kadarını emreder. (çocuklar sadece) ikiden fazla kız iseler, (ölenin geriye) bıraktığının üçte ikisi onlarındır.eğer kız bir ise (mirasın) yarısı onundur. ölenin çocuğu varsa, geriye bıraktığı maldan, ana babasından her birinin altıda bir hissesi vardır. eğer çocuğu yok da (yalnız) ana babası ona varis oluyorsa, anasına üçte bir düşer. eğer kardeşleri varsa, anasının hissesi altıda birdir. (bu paylaştırma, ölenin) yapacağı vasiyetten ya da borcundan sonradır. babalarınız ve oğullarınızdan, hangisinin size daha faydalı olduğunu bilemezsiniz. bunlar, allah tarafından farz kılınmıştır. şüphesiz allah, hakkıyla bilendir, hüküm ve hikmet sahibidir.eğer çocukları yoksa, karılarınızın geriye bıraktıklarının yarısı sizindir. eğer çocukları varsa, bıraktıklarının dörtte biri sizindir. (bu paylaştırma, ölen karılarınızın) yaptıkları vasiyetlerin yerine getirilmesi, yahut borçlarının ödenmesinden sonradır. eğer sizin çocuğunuz yoksa, bıraktığınızın dörtte biri onlarındır. eğer çocuğunuz varsa, bıraktığınızın sekizde biri onlarındır. (yine bu paylaştırma) yaptığınız vasiyetin yerine getirilmesinden, yahut borçlarınızın ödenmesinden sonradır. eğer kendisine varis olunan bir erkek veya bir ka.  âyette, aynı konumdaki iki kız çocuğunun hissesi açıkça ifade edilmemişse de; bunlar da, ikiden fazla olanlar gibi, üçte iki hisse alırlar.dının evladı ve babası olmaz ve bir erkek veya bir kız kardeşi bulunursa, onlardan herbirine altıda bir düşer.eğer (kardeşler) birden fazla olurlarsa, üçte birde ortaktırlar. (bu paylaştırma varislere) zarar vermeksizinyapılan vasiyetin yerine getirilmesinden, yahut borcun ödenmesinden sonra yapılır. (bütün bunlar) allah’ın emridir. allah, hakkıyla bilendir, halîmdir (hemen cezalandırmaz, mühlet verir.)işte bu (hükümler) allah’ın koyduğu sınırlarıdır. kim allah’a ve peygamberine itaat ederse, allah onu, içinden ırmaklar akan, içinde ebedî kalacakları cennetlere sokar. işte bu büyük başarıdır.kim de allah’a ve peygamberine isyan eder ve o’nun koyduğu sınırları aşarsa, allah onu ebedî kalacağı cehennem ateşine sokar. onun için alçaltıcı bir azap vardır.kadınlarınızdan fuhuş (zina) yapanlara karşı içinizden dört şahit getirin. eğer onlar şahitlik ederlerse, o kadınları ölüm alıp götürünceye veya allah onlar hakkında bir yol açıncaya kadar kendilerini evlerde tutun (dışarı çıkarmayın)..  burada sözü edilen kardeşler ana bir kardeşlerdir. bunlar, islâm hukukunda “evlâdı ümm” diye anılırlar. bunlar varis oldukları takdirde, kendi aralarında erkek kadın farkı gözetilmez. ana baba bir kardeşler ise varis olduklarında, kendi aralarında “erkeğe iki, kıza bir” olmak üzere pay alırlar. (ana baba bir kardeşlerin durumu için bakınız: nisâ sûresi, âyet,).  bu âyetin genel ifadesinde, kendilerine vasiyet edilecek kimseler ile vasiyetin miktarında bir sınırlama yoktur. ancak hz.peygamber, âyetin bu genel ifadesini, hem vasiyet edilecek kimseler açısından, hem de vasiyetin miktarı açısından sınırlandırmış; varislere vasiyet yapılamayacağını ve vasiyetin terikenin üçte birini aşamayacağını belirtmiştir. böylece varisin vasiyet yoluyla zarara uğraması önlenmiş olmaktadır..  zina suçu için belirlenen ve islâm’ın ilk dönemlerinde yürürlükte olan bu evlerde alıkoyma cezası, daha sonra, âyetle kınama ve azarlama cezasına çevirilmiş, nihayet bu hüküm de nin ikinci âyetiyle değiştirilmiştir. bazı müfessirler, âyetin kadının kadınla cinsel ilişkisi şeklindeki fuhuş (sevicilik); âyetin ise erkeğin erkekle cinsel ilişkisi şeklindeki fuhuş hakkında olduğu kanaatindedirler.sizlerden fuhuş (zina) yapanların her ikisini de incitip kınayın. eğer onlar tövbe edip ıslah olurlarsa, onları incitip kınamaktan vazgeçin. çünkü allah, tövbeleri çok kabul edendir, çok merhamet edendir.allah katında (makbul) tövbe, ancak bilmeyerek günah işleyip sonra çok geçmeden tövbe edenlerin tövbesidir. işte allah, bunların tövbelerini kabul buyurur. allah, hakkıyla bilendir, hüküm ve hikmet sahibidir.yoksa (makbul) tövbe, kötülükleri (günahları) yapıp yapıp da kendisine ölüm gelip çatınca, “işte ben şimdi tövbe ettim” diyen kimseler ile kâfir olarak ölenlerinki değildir. bunlar için ahirette elem dolu bir azap hazırlamışızdır.ey iman edenler! kadınlara zorla mirasçı olmanız size helâl değildir. açık bir hayâsızlık yapmış olmaları dışında,  kendilerine verdiklerinizin bir kısmını onlardan geri almak için onları sıkıştırmayın. onlarla iyi geçinin. eğer onlardan hoşlanmadıysanız, olabilir ki, siz bir şeyden hoşlanmazsınız da allah onda pek çok hayır yaratmış olur.eğer bir eşin yerine başka bir eş almak isterseniz, öbürüne (mehir olarak) yüklerle mal vermiş olsanız dahi ondan hiçbir şeyi geri almayın. iftira ederek ve açık günaha girerek mi verdiğinizi geri alacaksınız?hem, siz eşlerinizle birleşmiş ve onlar da sizden sağlam bir söz almış iken, onu nasıl (geri) alırsınız?geçmişte olanlar hariç, artık babalarınızın evlendiği kadın.  islâm’dan önce araplar arasında kişi, kocası ölen dul kadına mal gibi varis olurdu. kadın, mal, eşya gibi rızasına bakılmaksızın alınıp satılırdı. âyet, bu haksız tasarrufu yasaklayıp kadına lâyık olduğu hakkı ve hürriyeti teslim etmiştir..  evlilik esnasında, erkek evleneceği kadına mehir adıyla bir miktar para ya da mal verir. mehir kadının hakkı, onun özel malıdır. boşanma hâlinde, bu malın geri alınmaması bu âyette emrediliyor.larla evlenmeyin. çünkü bu bir hayâsızlık, öfke ve nefret  gerektiren bir iştir. bu, ne kötü bir yoldur.size şunlarla evlenmek haram kılındı: analarınız, kızlarınız, kız kardeşleriniz, halalarınız, teyzeleriniz, erkek kardeş kızları, kız kardeş kızları, sizi emziren sütanneleriniz, süt kız kardeşleriniz, karılarınızın anneleri, kendileriyle zifafa girdiğiniz karılarınızdan olup evlerinizde bulunan üvey kızlarınız, eğer anneleri ile zifafa girmemişseniz onlarla evlenmenizde size bir günah yoktur öz oğullarınızın karıları, iki kız kardeşi (nikâh altında) bir araya getirmeniz. ancak geçenler (önceden yapılan bu tür evlilikler) başka.şüphesiz allah çok bağışlayıcıdır, çok merhamet edicidir.(savaş esiri olarak) sahip olduklarınız hariç, evli kadınlar (da size) haram kılındı. (bunlar) üzerinize allah’ın emri olarak yazılmıştır. bunların dışında kalanlar ise, iffetli yaşamak ve zina etmemek şartıyla mallarınızla (mehirlerini verip) istemeniz size helâl kılındı. onlardan (nikâhlanıp) faydalanmanıza karşılık sabit bir hak olarak kendilerine mehirlerini verin. mehir belirlendikten sonra, onunla ilgili olarak uzlaştığınız şeyler konusunda size günah yoktur. şüphesiz ki allah (her şeyi) hakkıyla bilendir, hüküm ve hikmet sahibidir.sizden kimin, hür mü’min kadınlarla evlenmeye gücü yetmezse sahip olduğunuz mü’min genç kızlarınızdan (cariyelerinizden) alsın. allah, sizin imanınızı daha iyi bilir. hepiniz birbirinizdensiniz. öyle ise iffetli yaşamaları, zina etmemeleri ve gizli dost tutmamaları hâlinde, sahiplerinin izniyle onlarla evlenin, mehirlerini de güzelce verin. evlendik.  âyetin bu cümlesinde, geçmişte yapılan bu tür çirkin uygulamaların affedildiği vurgulanmaktadır. ancak âyetin hükmü gereği, yasak kapsamına giren mevcut evliliklere de son verilmesi gerekmiyordu.ten sonra bir fuhuş yaparlarsa, onlara hür kadınların cezasının yarısı uygulanır. bu (cariye ile evlenme izni), içinizden günaha düşmekten korkanlar içindir. sabretmeniz ise sizin için daha hayırlıdır. allah, çok bağışlayandır, çok merhamet edendir.allah, size (hükümlerini) açıklamak, size, sizden öncekilerin yollarını göstermek ve tövbelerinizi kabul etmek istiyor. allah, hakkıyla bilendir, hüküm ve hikmet sahibidir.allah, sizin tövbenizi kabul etmek istiyor. şehvetlerine uyanlar ise sizin büyük bir sapıklığa düşmenizi istiyorlar.allah, sizden (yükümlülükleri) hafifletmek istiyor. çünkü insan zayıf yaratılmıştır.ey iman edenler! mallarınızı aranızda batıl yollarla yemeyin. ancak karşılıklı rıza ile yapılan ticaretle olursa başka. kendinizi helâk etmeyin. şüphesiz allah, size karşı çok merhametlidir.kim haddi aşarak ve zulmederek bunu yaparsa, onu cehennem ateşine atacağız. bu, allah’a pek kolaydır.eğer size yasaklanan (günah)ların büyüklerinden kaçınırsanız, sizin küçük günahlarınızı örteriz ve sizi güzel bir yere koyarız.allah’ın, kiminizi kiminize üstün kılmaya vesile yaptığı şeyleri (haset ederek) arzu edip durmayın. erkeklere kazandıklarından bir pay vardır. kadınlara da kazandıklarından bir pay vardır. allah’tan, o’nun lütfunu isteyin. şüphesiz allah, her şeyi hakkıyla bilendir.(erkek ve kadından) her biri için anababanın ve akrabanın bıraktıklarından (pay alan) varisler kıldık. yeminlerinizin bağladığı (ahitleştiğiniz) kimselere de kendi hisselerini verin.şüphesiz allah her şeye şahittir.erkekler, kadınların koruyup kollayıcılarıdırlar.çünkü allah, insanların kimini kiminden üstün kılmıştır. bir de erkekler kendi mallarından harcamakta (ve ailenin geçimini sağlamakta)dırlar. iyi kadınlar, itaatkârdırlar. allah’ın (kendilerini) koruması sayesinde onlar da “gayb”ıkorurlar. (evlilik yükümlülüklerini reddederek) başkaldırdıklarını gördüğünüz kadınlara öğüt verin, onları yataklarında yalnız bırakın. (bunlar fayda vermez de mecbur kalırsanız) onları (hafifçe) dövün.eğer itaat ederlerse, artık onların aleyhine başka .  “yeminlerin bağladığı kimseler” ifadesiyle kastedilen, “velâ akti” yoluyla mirasçı olanlardır. velâ akti, nesebi belli olmayan, varisi bulunmayan bir kimsenin, ikinci bir şahsa “ben ölürsem varisim ol. diyet gerektirecek bir suç işlemem hâlinde de, diyeti mi sen öde” demesi ve onun da bu istekleri kabul etmesiyle gerçekleşen akittir..  “koruyup kollayıcı” diye tercüme edilen ifadenin âyet metnindeki aslı “kavvâm”kelimesidir. erkeklere, koruyup kollama görevinin verilmiş olması, iki cins arasında bir eşitsizlik gözetilmiş olmasından değil; erkeklerin güç, kuvvet ve fizikî oluşum bakımından farklı bir yapıya sahip bulunmalarındandır. bu durum kadını erkekten aşağı bir konuma düşürmez. buna karşılık erkeklere, ailenin geçimini ve yönetimini sağlamak gibi ağır bir sorumluluk yükler..  burada “gayb”, eşinden uzakta bulunan erkeğin namusu, malı ve her türlü hakkı anlamındadır..  mü’minler için en güzel örnek hz. muhammed aleyhisselâmdır. bu âyeti kerimeyi en iyi anlayan da şüphesiz ki odur. kesin olarak biliyoruz ki o ömründe bir defa olsun elini kaldırıp bir kadına vurmamıştır. “kadınlarını dövenleriniz iyileriniz değildir” buyuran da odur, “içinizden biri, karısını köle döver gibi dövüp sonra da gece onunla yatabilir mi?” diyerek karı koca ilişkilerinin sevgiye dayanması gerektiğine dikkat çeken de odur. bilindiği gibi peygamber efendimiz veda hutbesi’nde, çok can alıcı konulara temas etmiştir. bu hutbesinde kadınların haklarının gözetilmesini ve bu konuda allah’tan korkulmasını özellikle vurgulamıştır. kadının, evlilik sorumluluklarını yerine getirmemek, kocanın haklarını ihlal etmek, onun şahsiyet ve vakarını zedeleyici tavırlar sergilemek veya iffet ve namusunu tehlikeye sürükleyebilecek durumlara meyletmek gibi olumsuz davranışlara girmesi hâlinde, aile yuvasının devamını sağlamaktan birinci derecede sorumlu olan kocanın, içine düştüğü mecburiyetten dolayı bazı tedbirlere başvurması tabiidir. bu tedbirler, zaman, mekân ve sosyal şartlabir yol aramayın. şüphesiz allah, çok yücedir, çok büyüktür. eğer karıkocanın arasının açılmasından endişe ederseniz, erkeğin ailesinden bir hakem, kadının ailesinden bir hakem gönderin. iki taraf (arayı) düzeltmek isterlerse, allah da onları uzlaştırır. şüphesiz allah, hakkıyla bilendir, hakkıyla haberdardır.allah’a ibadet edin ve ona hiçbir şeyi ortak koşmayın. ana babaya, akrabaya, yetimlere, yoksullara, yakın komşuya, uzak komşuya, yanınızdaki arkadaşa, yolcuya, elinizin altındakilere iyilik edin. şüphesiz allah, kibirlenen ve övünen kimseleri sevmez.bunlar cimrilik eden, insanlara da cimriliği emreden ve allah’ın, lütfundan kendilerine verdiği nimeti gizleyen kimselerdir. biz de o nankörlere alçaltıcı bir azap hazırlamışızdır.bunlar, mallarını insanlara gösteriş için harcayan, allah’a ve ahiret gününe de inanmayan kimselerdir. şeytan kimin arkadaşı olursa, o ne kötü arkadaştır.bunlar, allah’a ve ahiret gününe iman etselerdi ve allah’ın verdiği rızıktan (gösterişsiz olarak) harcasalardı, kendilerine ne zarar gelirdi? allah, onları en iyi bilendir.şüphesiz allah (hiç kimseye) zerre kadar zulüm etmez. (yapılan) çok küçük bir iyilik de olsa onun sevabını kat kat arttırır ve kendi katından büyük bir mükâfat verir.her ümmetten bir şahit getirdiğimiz ve seni de onların üzerine bir şahit yaptığımız zaman, bakalım onların hâli nice olacak!.ra göre farklılık gösterebilir. âyette son seçenek olarak zikredilen darp meselesi de çok istisnaî bir tedbirdir. böyle bir tedbirin fayda getirmeyeceği, tam tersine zarar getireceği bilinen durumlarda, islâm bilginleri, kesinlikle bu seçeneğe başvurulmaması konusunda ittifak hâlindedirler.o kıyamet günü, allah’ı inkâr edip peygamber’e isyan edenler, yer yarılıp içine girmiş olmayı isterler ve allah’tan hiçbir söz gizleyemezler.ey iman edenler! sarhoş iken ne söylediğinizi bilinceye kadar, bir de yolcu olmanız durumu müstesna cünüp iken yıkanıncaya kadar namaza yaklaşmayın. eğer hasta olur veya yolculukta bulunursanız, veyahut biriniz abdest bozmaktan gelince ya da eşlerinizle cinsel ilişkide bulunup, su da bulamazsanız o zaman temiz bir toprağa yönelip, (niyet ederek onunla) yüzlerinizi ve ellerinizi meshedin. şüphesiz allah, çok affedicidir, çok bağışlayıcıdır. kendilerine kitap’tan bir nasip verilmiş olanları görmüyor musun? onlar sapıklığı satın alıyorlar ve sizin de yoldan sapmanızı istiyorlar.allah, sizin düşmanlarınızı çok daha iyi bilir. allah, dost olarak yeter. allah, yardımcı olarak da yeter.yahudilerden öyleleri var ki, (kelimeleri yerlerinden kaydırıp) tahrif ederek onları anlamlarından uzaklaştırırlar. dillerini eğip bükerek ve dine saldırarak “işittik, karşı geldik”, “işit, işitmez olası!” “râ’inâ”derler. hâlbuki onlar, “işitayet, içkinin kesin olarak yasaklanmasından önce inmiştir. tefsir kaynaklarında belirtildiğine göre sahabilerden abdurrahman b. avf bazı arkadaşlarına ziyafet vermiş, yiyip içip sarhoş olduktan sonra namaza durmuşlardı. namazı kıldıran kişi içkinin etkisi ile kâfirûn sûresini anlamı bozulacak şekilde yanlış okumuştu. bunun üzerine ne dediğini bilemeyecek kadar sarhoş olan kimsenin bu hali ile namaz kılmasını yasaklayan yukarıdaki ayet indi. bu ayetin inmesi ile içki içilebilecek vakitler fiilen sabah ve yatsı namazı vakitleri ile sınırlandırılmış oluyordu. çünkü sadece bu iki vakitte sarhoş olup bir sonraki vakit için kendine gelmeleri söz konusu olabilmektedir.  içkinin kesin olarak yasaklanması konusunda maide sûresi, /ayetine ve ilgili dipnota bakınız..  nin âyeti ile ilgili olarak da açıklandığı gibi, “râ’inâ” arap dilintik ve itaat ettik; dinle ve bize bak” deselerdi, bu kendileri için daha hayırlı ve daha doğru olurdu. fakat allah, küfürleri yüzünden kendilerini lânetlemiştir. bu yüzden pek az iman ederler.ey kendilerine kitap verilenler! birtakım yüzleri silip de tersine çevirmeden, yahut cumartesi halkınılânetlediğimiz gibi onları lânetlemeden, yanınızda bulunanı (tevrat’ı) doğrulayıcı olarak indirdiğimiz bu kitaba (kur’an’a) iman edin. allah’ın emri mutlaka yerine gelecektir.şüphesiz allah, kendisine ortak koşulmasını asla bağışlamaz. bunun dışında kalan (günah)ları ise dilediği kimseler için bağışlar. allah’a şirk koşan kimse, şüphesiz büyük bir günah işleyerek iftira etmiş olur.kendilerini temize çıkaranları görmedin mi? hayır! allah, dilediğini temize çıkarır ve kendilerine kıl kadar zulmedilmez.bak, allah’a karşı nasıl yalan uyduruyorlar. apaçık bir günah olarak bu yeter.kendilerine kitap’tan bir nasip verilmiş olanları görmüyor musun? onlar “cibt”e ve “tâğût”ainanıyorlar. inkâr edende “bizi gözet”, “bize bak” demektir. yahudiler, bu kelimeyi ibrânice’de hakaret ifade eden bir anlama; bir başka yoruma göre ise, peygamberimize hitaben “çobanımız” anlamına gelecek şekilde hakaret kastederek “râ’înâ” şeklinde söylüyorlardı..  konu ile ilgili olarak ayrıca nin âyetine bakınız..  “cumartesi halkı” ifadesi ile, hz. mûsâ’nın dinine göre, cumartesi günü ile ilgili bazı yasakları çiğneyenler kastedilmektedir. konu ile ilgili olarak ayrıca bakınız: bakara sûresi, âyet, ; nisâ sûresi, âyet, ; , âyet, ; , âyet, .  “cibt”, put, sihirbaz, kâhin, allah’ın haram kıldığı her şey ve allah’tan başka tapılan her şey demektir. “tâğût” ise sözlük anlamıyla haddi aşan demektir. kur’an’da kullanıldığı şekliyle kelime, “şeytan”, “nefis”, “putlar”, “sihirbaz” gibi çeşitli şekillerde yorumlanmıştır. kısaca cibt ve tâğût, insanları azdıran, saptıran şeylerin hepsini ifaler için de, “bunlar, iman edenlerden daha doğru yoldadır” diyorlar.onlar, allah’ın lânet ettiği kimselerdir. allah, kime lânet ederse, artık ona asla bir yardımcı bulamazsın.yoksa onların hükümranlıkta bir payı mı var? öyle olsa, insanlara bir zerre bile vermezler.yoksa, insanları; allah’ın lütfundan kendilerine verdiği şey dolayısıyla kıskanıyorlar mı? şüphesiz biz, ibrahim ailesine de kitap ve hikmet vermişizdir. onlara büyük bir hükümranlık da vermiştik.böylece onlardan kimi ona iman etti, kimi de sırt çevirdi. (o iman etmeyenlere) çılgın ateş olarak cehennem yeter.şüphesiz âyetlerimizi inkâr edenleri biz ateşe atacağız. derileri yanıp döküldükçe, azabı tatmaları için onların derilerini yenileyeceğiz. şüphesiz allah, mutlak güç sahibidir, hüküm ve hikmet sahibidir.iman edip salih ameller işleyenleri ise, içinden ırmaklar akan, içlerinde ebedî kalacakları cennetlere koyacağız. onlara orada tertemiz eşler vardır. onları, koyu gölgeler altında bulunduracağız.allah, size, emanetleri mutlaka ehline vermenizi ve insanlar arasında hükmettiğiniz zaman adaletle hükmetmenizi emrediyor. doğrusu allah, bununla size ne güzel öğüt veriyor! şüphesiz ki allah, hakkıyla işitendir, hakkıyla görendir.ey iman edenler! allah’a itaat edin. peygamber’e itaat edin ve sizden olan ulu’lemre (idarecilere) de. herhangi bir hude eder. (tâğût için ayrıca bakınız: , âyet, ; nisâ sûresi, âyet, ,; mâide sûresi, âyet, ; , âyet, ; , âyet, ).  âyeti kerimede geçen “insanlar”dan maksat, hz. muhammed; ona verilen “şey” ise peygamberliktir.susta anlaşmazlığa düştüğünüz takdirde, allah’a ve ahiret gününe gerçekten inanıyorsanız, onu allah ve resûlüne arz edin.bu, daha iyidir, sonuç bakımından da daha güzeldir.(ey muhammed!) sana indirilen kur’an’a ve senden önce indirilene inandıklarını iddia edenleri görmüyor musun? tâğût’u tanımamaları kendilerine emrolunduğu hâlde, onun önünde muhakeme olmak istiyorlar. şeytan da onları derin bir sapıklığa düşürmek istiyor.münafıklara, “allah’ın indirdiğine (kur’an’a) ve peygambere gelin” dendiği zaman, onların senden büsbütün uzaklaştıklarını görürsün.kendi işledikleri yüzünden başlarına bir musibet geldiği, sonra da “biz iyilik etmek ve uzlaştırmaktan başka bir şey istememiştik” diye allah adı ile yemin ederek sana geldikleri zaman hâlleri nasıl olur?onlar, allah’ın kalplerindekini bildiği kimselerdir. öyleyse onlara aldırma. onlara öğüt ver ve onlara, kendileri hakkında etkili ve güzel söz söyle.biz her peygamberi sırf, allah’ın izni ile itaat edilmek üzere gönderdik. eğer onlar kendilerine zulmettikleri zaman sana gelseler de allah’tan günahlarının bağışlamasını dileseler ve peygamber de onlara bağışlama dileseydi, elbette allah’ı .  allah ve resûlüne arz etmekten maksat, meselelerin kur’an ve sünnete göre çözüme kavuşturulmasıdır..  münafıklardan biri, bir yahudi ile anlaşmazlığa düşmüştü. anlaşmazlığın çözümü için yahudi, peygamberimize başvurmayı teklif etti, münafık ise bunu kabul etmedi. münafık, şiirleriyle hz.peygamberi kötüleyen ka’b b. eleşref ’i hakem yapmayı önerdi. sahabilerden ibni abbas’ın ifadesine göre, âyette zikredilen “tâğût” ile kastedilen işte bu ka’b’dır. bu şahsın, cüheyne, ya da eslem kabilesinden bir kâhin olduğu yorumunda bulunanlar da vardır. (tâğût’un diğer anlamları ile ilgili olarak nisâ sûresi, âyetinin dipnotuna bakınız.)tövbeleri çok kabul edici ve çok merhametli bulacaklardı.hayır! rabbine andolsun ki onlar, aralarında çıkan çekişmeli işlerde seni hakem yapıp, sonra da verdiğin hükme, içlerinde hiçbir sıkıntı duymaksızın, tam bir teslimiyetle boyun eğmedikçe iman etmiş olmazlar.eğer biz onlara, “hayatlarınızı feda edin veya yurtlarınızdan çıkın” diye yazmış olsaydık, içlerinden pek azı hariç, bunu yapmazlardı. eğer kendilerine verilen öğütleri tutsalardı, elbette haklarında hem daha hayırlı, hem de (imanlarını) daha çok pekiştirici olurdu.o zaman kendilerine elbette katımızdan büyük bir mükâfat verirdik.onları elbette doğru yola iletirdik.kim allah’a ve peygambere itaat ederse, işte onlar, allah’ın kendilerine nimet verdiği peygamberlerle, sıddîklarla, şehidlerle ve iyi kimselerle birliktedirler. bunlar ne güzel arkadaştır.bu lütuf allah’tandır. hakkıyla bilen olarak allah yeter.ey iman edenler! (düşmana karşı) tedbirinizi alıp, küçük birlikler hâlinde, yahut topluca savaşa gidin.şüphesiz, aranızda öyle kimseler var ki, (onların her biri savaşa gitme konusunda) hakikaten pek ağır davranır. eğer başınıza bir musibet gelirse, “allah, bana lütfetti de onlarla beraber bulunmadım” der.eğer allah’tan size bir lütuf (zafer) erişse, bu sefer de; sizinle kendisi arasında hiç tanışıklık yokmuş gibi şöyle der: “keşke ben de onlarla beraber olsaydım da büyük bir başarıya (ganimete) ulaşsaydım.”o hâlde, dünya hayatını ahiret hayatı karşılığında satanlar, allah yolunda savaşsınlar. kim allah yolunda savaşır da öldürülür veya galip gelirse, biz ona büyük bir mükâfat vereceğiz.size ne oluyor da, allah yolunda ve, “ey rabbimiz! bizleri halkı zalim olan şu memleketten çıkar, katından bize bir dost ver, bize katından bir yardımcı ver” diye yalvarıp duran zayıf ve zavallı erkekler, kadınlar ve çocukların uğrunda savaşa çıkmıyorsunuz?iman edenler, allah yolunda savaşırlar. inkâr edenler de tâğûtyolunda savaşırlar. o hâlde, siz şeytanın dostlarına karşı savaşın. şüphesiz şeytanın hilesi zayıftır.daha önce kendilerine, “(savaşmaktan) ellerinizi çekin, namazı kılın, zekâtı verin” denilenleri görmedin mi? üzerlerine savaş yazılınca, hemen içlerinden bir kısmı; insanlardan, allah’tan korkar gibi, hatta daha çok korkarlar ve “rabbimiz! niçin bize savaş yazdın? bizi yakın bir zamana kadar erteleseydin ya!” derler. de ki: “dünya geçimliği azdır. ahiret, allah’a karşı gelmekten sakınan kimse için daha hayırlıdır. size kıl kadar haksızlık edilmez.”nerede olursanız olun,  sağlam ve tahkim edilmiş kaleler içinde bulunsanız bile ölüm size ulaşacaktır. onlara bir iyilik gelirse, “bu, allah’tandır” derler. onlara bir kötülük gelirse, “bu, senin yüzündendir” derler. (ey muhammed!) de ki: “hepsi allah’tandır.” bu topluma ne oluyor ki, neredeyse hiçbir sözü anlamıyorlar!sana ne iyilik gelirse allah’tandır. sana ne kötülük gelirse kendindendir. (ey muhammed!) seni insanlara bir peygamber olarak gönderdik. şahit olarak allah yeter..  tâğût: şeytan, nefis, put, sihirbaz.. gibi insanları azdıran, saptıran her şeyi ifade eder. (bakınız: , âyet, ; nisâ sûresi, âyet, ,,; mâide sûresi, âyet, ; , âyet, ; , âyet, )kim peygambere itaat ederse, allah’a itaat etmiş olur. kim yüz çevirirse, (bilsin ki) biz seni onlara bekçi göndermedik.sana “baş üstüne” derler. fakat senin yanından çıktıklarında, içlerinden birtakımı, geceleyin; (senin gündüz) söylediklerinin aksini kurarlar. allah, onların geceleyin kurduklarını yazmaktadır. sen onlara aldırma. allah’a tevekkül et. vekil olarak allah yeter.hâlâ kur’an’ı düşünüp anlamaya çalışmıyorlar mı? eğer o, allah’tan başkası tarafından (indirilmiş) olsaydı, mutlaka onda birçok çelişki bulurlardı.kendilerine güvenlik (barış) veya korku (savaş) ile ilgili bir haber geldiğinde onu yayarlar. hâlbuki onu peygambere ve içlerinden yetki sahibi kimselere götürselerdi, elbette bunlardan, onu değerlendirip sonuç (hüküm) çıkarabilecek nitelikte olanları onu anlayıp bilirlerdi. allah’ın size lütfu ve merhameti olmasaydı, pek azınız hariç, muhakkak şeytana uyardınız.(ey muhammed!) artık allah yolunda savaş! sen ancak kendinden sorumlusun! mü’minleri de savaşa teşvik et. umulur ki allah inkâr edenlerin gücünü kırar. allah’ın gücü daha üstündür, cezası daha şiddetlidir.kim güzel bir (işte) aracılık ederse, ona o işin sevabından bir pay vardır. kim de kötü bir (işte) aracılık ederse, ona da o kötülükten bir pay vardır. allah’ın her şeye gücü yeter.size bir selâm verildiği zaman, ondan daha güzeliyle veya aynı selâmla karşılık verin. şüphesiz allah, her şeyin hesabı.  münafıklar, islâm toplumunu dağıtmak için akla hayale gelmedik hile ve desiselere başvurdular. hz.peygamberin huzurunda, “tamam, kabul, baş üstüne” dedikleri hâlde, kendi başlarına kalınca gizli plânlar ve tuzaklar hazırlıyorlardı. allah, onların bütün tuzaklarını boşa çıkarmıştır.nı gereği gibi yapandır.allah, kendisinden başka hiçbir ilâh olmayandır. andolsun, sizi kıyamet gününde mutlaka bir araya toplayacaktır. bunda asla şüphe yoktur. kimdir sözü allah’ınkinden daha doğru olan?size ne oluyor da münafıklar hakkında iki gruba ayrıldınız? allah, onları yaptıkları işlerden dolayı baş aşağı ederek eski konumlarına (küfre) döndürmüştür. allah’ın saptırdığını yola getirmek mi istiyorsunuz? allah kimi saptırırsa, sen onun için asla bir çıkış yolu bulamazsın.arzu ettiler ki kendilerinin küfre saptıkları gibi siz de sapasınız da beraber olasınız. bu sebeple, onlar allah yolunda hicret edinceye kadar içlerinden dost edinmeyin. eğer bundan yüz çevirirlerse, onları yakalayın ve bulduğunuz yerde öldürün. onlardan ne bir dost edinin, ne de bir yardımcı.ancak sizinle aralarında anlaşma olan bir topluma sığınmış bulunanlar, yahut ne sizinle ne de kendi kavimleriyle savaşmayı içlerine sığdıramayıp (tarafsız olarak) size gelenler başka. eğer allah dileseydi, onları size musallat kılardı da sizinle savaşırlardı. eğer onlar sizden uzak durur, sizinle savaşmayıp size barış teklif ederlerse; allah, onlara saldırmak için size bir yol (yetki) vermemiştir.diğer birtakım kimselerin de hem sizden emin olmak, hem de kavimlerinden emin olmak istediklerini göreceksin. bunlar küfre her döndürüldüklerinde ona atılırlar. eğer bunlar sizden uzak durmazlar, sizinle barış içinde yaşamak istemezler, ellerini savaştan çekmezlerse, onları yakalayın ve onları nerede bulursanız öldürün. işte bunlara karşı size apaçık bir yetki verdik.bir mü’minin bir mü’mini öldürmesi olacak şey değildir. ancak yanlışlıkla olması başka. kim bir mü’mini yanlışlıkla öldürürse, bir mü’min köleyi azad etmesi ve bağışlamadıkları sürece ailesine diyet ödemesi gerekir. (öldürülen kimse) mü’min olur ve düşmanınız olan bir topluluktan bulunursa, mü’min bir köle azad etmek gerekir. eğer sizinle kendileri arasında antlaşma bulunan bir topluluktan ise ailesine verilecek bir diyet ve mü’min bir köle azad etmek gerekir. bunlara imkân bulamayanın, allah tarafından tövbesinin kabulü için iki ay ard arda oruç tutması gerekir. allah, hakkıyla bilendir, hüküm ve hikmet sahibidir.kim bir mü’mini kasten öldürürse, cezası, içinde ebedî kalacağı cehennemdir. allah, ona gazap etmiş, lânet etmiş ve onun için büyük bir azap hazırlamıştır.ey iman edenler! allah yolunda sefere çıktığınız zaman, gerekli araştırmayı yapın. size selâm veren kimseye, dünya hayatının geçici menfaatine (ganimete) göz dikerek, “sen mü’min değilsin” demeyin. allah katında pek çok ganimetler vardır. daha önce siz de öyle idiniz de allah size lütufta bulundu (müslüman oldunuz). onun için iyice araştırın. çünkü allah, yaptıklarınızdan hakkıyla haberdardır., mü’minlerden özür sahibi olmaksızın (cihattan geri kalıp) oturanlarla, allah yolunda mallarıyla, canlarıyla cihad edenler eşit olamazlar. allah, mallarıyla, canlarıyla cihad edenleri, derece itibariyle, cihattan geri kalanlardan üstün kılmıştır. gerçi allah (mü’minlerin) hepsine de en güzel olanı (cenneti) va’detmiştir. ama mücahitleri büyük bir mükâfat ile kendi katından dereceler, bağışlanma ve rahmet ile cihattan geri kalanlara üstün kılmıştır. allah, çok bağışlayandır, çok merhamet edendir.kendilerine zulmetmekteler iken meleklerin canlarını aldığı kimseler var ya; melekler onlara şöyle derler: “ne durumdaydınız? (niçin hicret etmediniz?)” onlar da, “biz yeryüzünde zayıf ve güçsüz kimselerdik” derler. melekler, “allah’ın arzı geniş değil miydi, orada hicret etseydiniz ya!” derler. işte bunların gidecekleri yer cehennemdir. o ne kötü varış yeridir.ancak gerçekten zayıf ve güçsüz olan, çaresiz kalan ve hicret etmeye yol bulamayan erkekler, kadınlar ve çocuklar başkadır.umulur ki, allah bu kimseleri affeder. çünkü allah çok affedicidir, çok bağışlayıcıdır.kim allah yolunda hicret ederse, yeryüzünde gidecek çok yer de bulur, genişlik de. kim allah’a ve peygamberine hicret etmek amacıyla evinden çıkar da sonra kendisine ölüm yetişirse, şüphesiz onun mükâfatı allah’a düşer. allah, çok bağışlayıcıdır, çok merhamet edicidir.yeryüzünde sefere çıktığınız vakit kâfirlerin size saldırmasından korkarsanız, namazı kısaltmanızdan ötürü size bir günah yoktur. şüphesiz kâfirler sizin apaçık düşmanınızdır..  bu âyette, hicret emrinin gelmesi üzerine, mü’minlerle birlikte hicret etmeyip mekke’de müşriklerle beraber kalan, onlarla içli dışlı olan bazı müslümanlar kınanmaktadır..  bu âyette, medine’ye hicret edildiğinde, hicret edemeyerek, mekke’de müşriklerin baskısına maruz kalan müslümanlar söz konusu edilmektedir..  bu âyette geçen “namazın kısaltılması” ifadesini islâm bilginleri başlıca iki şekilde yorumlamışlardır. bir görüşe göre namazın kısaltılması, dört rekatlı namazların yolculuk sebebi ile iki rekat olarak kılınması demektir. diğer görüşe göre ise, âyette yolculuk hâli söz konusu olduğundan dört rekatlı namazlar zaten iki rekat olarak kılınacaktır. burada kastedilen kısaltma, düşman korkusundan dolayı uygulanacak yeni bir kısaltmadır. bu da seferde zaten iki rekat olarak kılınacak namazların, düşman tehlikesinin derecesine göre bazen yürüyerek, bazen de ima ile kılınması ile gerçekleşir. âyette düşman karşısında durumun izin vermesi hâlinde, namazı kısaltma(ey muhammed!) cephede sen de onların (mü’minlerin) arasında bulunup da onlara namaz kıldırdığın vakit, içlerinden bir kısmı seninle beraber namaza dursun. silâhlarını da yanlarına alsınlar. bunlar secdeye vardıklarında (bir rekât kıldıklarında) arkanıza (düşman karşısına) geçsinler. sonra o namaz kılmamış olan diğer kısım gelsin, seninle beraber kılsınlar ve ihtiyatlı bulunsunlar, silâhlarını yanlarına alsınlar. inkâr edenler arzu ederler ki, silâhlarınızdan ve eşyanızdan bir gafil olsanız da size ani bir baskın yapsalar. yağmurdan zahmet çekerseniz, ya da hasta olursanız, silâhlarınızı bırakmanızda size bir beis yoktur. bununla birlikte ihtiyatlı olun (tedbirinizi alın). şüphesiz allah, inkârcılara alçaltıcı bir azap hazırlamıştır.namazı kıldınız mı, gerek ayakta, gerek otururken ve gerek yan yatarak hep allah’ı anın. güvene kavuştunuz mu namazı tam olarak kılın. çünkü namaz, mü’minlere belirli vakitlere bağlı olarak farz kılınmıştır.düşman topluluğunu izlemekte gevşeklik göstermeyin. eğer siz acı duyuyorsanız, kuşkusuz onlar da sizin acı duyduğunuz gibi acı duyuyorlar. üstelik siz allah’tan onların ümit edemeyecekleri şeyleri umuyorsunuz. allah, hakkıyla bilendir, hüküm ve hikmet sahibidir.(ey muhammed!) biz sana kitab’ı (kur’an’ı) hak olarak indirdik ki, insanlar arasında allah’ın sana öğrettikleri ile hüküm veresin. sakın hainlerin savunucusu olma.allah’tan bağışlama dile. şüphesiz allah, çok bağışlayandır, nın, cemaatle birlikte uygulanabilecek özel bir şekli anlatılmaktadır..  bu durumda imam iki rekat kılmış olmakta ve namazı tamamlanmış bulunmaktadır. birer rekat kılmış bulunan her iki grup da yine nöbetleşe olarak kalan birer rekatlarını kılıp namazlarını tek başlarına tamamlarlar. ancak birinci grup tamamlayacağı rekatı kıraatsız olarak, ikinci grup ise kıraatte bulunarak kılar.çok merhamet edendir.kendilerine hainlik edenleri savunma. zira allah, hiçbir haini, hiçbir günahkârı sevmez.bunlar, insanlardan gizlenmeye çalışırlar da allah’tan gizlenmezler. hâlbuki allah, geceleyin, razı olmayacağı sözleri kurarlarken onlarla beraberdir. allah, onların yaptıklarını (ilmiyle) kuşatmıştır.işte siz öyle kimselersiniz (ki, diyelim) dünya hayatında onları savundunuz. ya kıyamet günü onları allah’a karşı kim savunacak, yahut kim onlara vekil olacak?kim bir kötülük yapar, yahut kendine zulmeder, sonra da allah’tan bağışlama dilerse, allah’ı çok bağışlayıcı ve çok merhamet edici bulur.kim bir günah kazanırsa, onu ancak kendi aleyhine kazanmış olur. allah, her şeyi hakkıyla bilendir, hüküm ve hikmet sahibidir.kim bir hata işler veya bir günah kazanır da sonra onu bir suçsuzun üzerine atarsa, şüphesiz iftira etmiş, apaçık bir günah yüklenmiş olur.(ey muhammed!) eğer allah’ın sana lütuf ve merhameti olmasaydı, onlardan bir grup seni saptırmaya çalışırdı. hâlbuki onlar, ancak kendilerini saptırırlar, sana hiçbir zarar veremezler. allah, sana kitabı (kur’an’ı) ve hikmeti indirmiş ve sana bilmediğin şeyleri öğretmiştir. allah’ın sana lütfu çok büyüktür.bir sadaka vermeyi, yahut iyilik yapmayı, yahut da insanların arasını düzeltmeyi emredenleri hariç, onların aralarındaki gizli konuşmaların çoğunda hiçbir hayır yoktur. kim bunları sırf allah’ın rızasını kazanmak için yaparsa, biz ona büyük bir mükâfat vereceğiz.kim, kendisine hidayet (doğru yol) besbelli olduktan sonra peygambere karşı çıkar, mü’minlerin yolundan başkasına uyarsa, onu yöneldiği yolda bırakırız ve cehenneme sokarız. orası ne kötü bir varış yeridir.şüphesiz allah, kendisine ortak koşulmasını bağışlamaz. bunun dışındaki günahları, dilediği kimseler için bağışlar. allah’a ortak koşan, kuşkusuz, derin bir sapıklığa düşmüştür.onlar, allah’ı bırakıp ancak dişilere tapıyorlar.hâlbuki (aslında) azgın bir şeytana tapmaktadırlar.allah, o şeytana lânet etti ve o da, “andolsun ki senin kullarından elbette belirli bir pay alacağım” dedi.“onları mutlaka saptıracağım, mutlaka onları kuruntulara sokacağım ve onlara emredeceğim de (putlara adak için) hayvanların kulaklarını yaracaklar. yine onlara emredeceğim de allah’ın yarattığını değiştirecekler.”kim allah’ı bırakıp da şeytanı dost edinirse, şüphesiz o apaçık bir hüsrana düşmüştür.şeytan onlara (birçok) vaadde bulunur ve onları kuruntulara sürükler. oysa şeytan, ancak aldatmak için onlara vaadde bulunuyor.işte onların barınağı cehennemdir. ondan bir kaçış yolu bulamazlar.iman edip salih ameller işleyenleri de ebedî olarak kalacakları, içlerinden ırmaklar akan cennetlere koyacağız. allah, gerçek bir vaadde bulunmuştur. kimdir sözü allah’ınkinden daha doğru olan?.  âyetteki “dişiler”den maksat, müşrik arapların; genellikle “dişi” (ünsâ) diye adlandırdıkları, lât, uzzâ, menât gibi putlarıdır..  allah’ın yarattığının değiştirilmesi, hem maddî alanda, hem de fıtrat alanında gerçekleşebilir. zamanımızda yeryüzünde doğal dengeyi bozucu her türlü girişimi, bu çerçevede değerlendirmek mümkündür.iş, ne sizin kuruntunuza, ne de kitap ehlinin kuruntusuna göredir. kim kötü bir iş yaparsa, onunla cezalandırılır. o, kendisine allah’tan başka ne bir dost, ne de bir yardımcı bulabilir.mü’min olarak, erkek veya kadın, her kim salih ameller işlerse, işte onlar cennete girerler ve zerre kadar haksızlığa uğratılmazlar.kimin dini, iyi ve yararlı işleri en güzel şekilde yaparak kendini allah’a teslim eden ve hakka yönelen ibrahim’in dinine tabi olan kimsenin dininden daha güzeldir? allah, ibrahim’i dost edindi.göklerdeki her şey, yerdeki her şey allah’ındır. allah, her şeyi kuşatıcıdır.kadınlar hakkında senden fetva istiyorlar. de ki: “onlar hakkında size fetvayı allah veriyor.” kitapta, kendilerine (verilmesi) farz kılınan (miras)ı vermediğiniz ve evlenmek istediğiniz yetim kızlara, zavallı çocuklara ve yetimlere âdil davranmanıza dair, size okunmakta olan âyetler de bunu açıklıyor. ne hayır yaparsanız, şüphesiz allah onu bilir.eğer bir kadın kocasının, kendisine kötü davranmasından, yahut yüz çevirmesinden endişe ederse, uzlaşarak aralarını düzeltmelerinde ikisine de bir günah yoktur. uzlaşmak daha hayırlıdır. nefisler ise kıskançlığa ve bencil tutkulara hazır (elverişli) kılınmıştır. eğer iyi ve yararlı işleri en güzel şekilde yapar ve allah’a karşı gelmekten sakınırsanız, şüphesiz allah, yaptıklarınızdan haberdardır.ne kadar uğraşırsanız uğraşın, kadınlar arasında adaleti yerine getiremezsiniz. öyle ise (birine) büsbütün gönül verip ötekini (kocası hem var, hem yok) askıda kalmış kadın gibi bırakmayın. eğer arayı düzeltir ve allah’a karşı gelmekten sakınırsanız, şüphesiz allah çok bağışlayıcı ve çok merhamet edicidir.eğer ayrılırlarsa, allah bol lütuf ve nimetiyle onların her birini zengin kılar (başkalarına muhtaç bırakmaz). allah, lütfu geniş olandır. o, hüküm ve hikmet sahibidir.göklerdeki her şey, yerdeki her şey allah’ındır. sizden önce kendilerine kitap verilenlere de, size de “allah’a karşı gelmekten sakının” diye tavsiye ettik. eğer inkâr ederseniz, (bilin ki) göklerdeki her şey, yerdeki her şey allah’ındır. allah, zengindir, övülmeye lâyıktır.göklerdeki her şey, yerdeki her şey allah’ındır. vekil olarak allah yeter.ey insanlar! allah dilerse sizi yok eder ve başkalarını getirir. allah, buna hakkıyla gücü yetendir.kim dünya sevabı (nimeti) istiyorsa (bilsin ki), dünya sevabı da, ahiret sevabı da allah katındadır. allah, hakkıyla işitendir, hakkıyla görendir.ey iman edenler! kendiniz, ana babanız ve en yakınlarınızın aleyhine de olsa, allah için şahitlik yaparak adaleti titizlikle ayakta tutan kimseler olun. (şahitlik ettikleriniz) zengin veya fakir de olsalar (adaletten ayrılmayın). çünkü allah ikisine de daha yakındır. (onları sizden çok kayırır.) öyle ise adaleti yerine getirmede nefsinize uymayın. eğer (şahitlik ederken gerçeği) çarpıtırsanız veya (şahitlikten) çekinirseniz (bilin ki) şüphesiz allah, yaptıklarınızdan hakkıyla haberdardır.ey iman edenler! allah’a, peygamberine, peygamberine indirdiği kitaba ve daha önce indirdiği kitaba iman edin. kim allah’ı, meleklerini, kitaplarını, peygamberlerini ve ahiret gününü inkâr ederse, derin bir sapıklığa düşmüş olur.iman edip sonra inkâr eden, sonra inanıp tekrar inkâr eden, sonra da inkârlarında ileri gidenler var ya; allah, onları bağışlayacak da değildir, doğru yola iletecek de değildir.münafıklara, kendileri için elem dolu bir azap olduğunu müjdele.onlar, mü’minleri bırakıp kâfirleri dost edinen kimselerdir. onların yanında izzet ve şeref mi arıyorlar? hâlbuki bütün izzet ve şeref allah’a aittir.oysa allah size kitap’ta (kur’an’da) “allah’ın âyetlerinin inkâr edildiğini ve onlarla alay edildiğini işittiğiniz zaman, başka bir söze geçmedikleri müddetçe, onlarla oturmayın, aksi hâlde siz de onlar gibi olursunuz” diye hüküm indirmiştir. şüphesiz allah, münafıkların ve kâfirlerin hepsini cehennemde toplayacaktır.onlar sizi gözetleyip duran kimselerdir. eğer allah tarafından size bir fetih (zafer) nasip olursa, “biz sizinle beraber değil miydik?” derler. şayet kâfirlerin (zaferden) bir payı olursa, “size üstünlük sağlayıp sizi mü’minlerden korumadık mı?” derler. allah, kıyamet günü aranızda hükmünü verecektir. allah, mü’minlerin aleyhine kâfirlere hiçbir yol vermeyecektir.münafıklar, allah’ı aldatmaya çalışırlar. allah da onların bu çabalarını başlarına geçirir. onlar, namaza kalktıkları zaman tembel tembel kalkarlar, insanlara gösteriş yaparlar ve allah’ı pek az anarlar.onlar küfür ile iman arasında bocalayıp dururlar. ne bunlara (mü’minlere) ne de şunlara (kâfirlere) bağlanırlar. allah, kimi saptırırsa ona asla bir çıkar yol bulamazsın.ey iman edenler! mü’minleri bırakıp da kâfirleri dost edinmeyin. kendi aleyhinize allah’a apaçık bir delil mi vermek istiyorsunuz?şüphesiz ki münafıklar, cehennem ateşinin en aşağı tabakasındadırlar. onlara hiçbir yardımcı da bulamazsın.ancak tövbe edenler, durumlarını düzeltenler, allah’ın kitabına sarılanlar ve dinlerini allah’a has kılanlar müstesnadır. bunlar mü’minlerle beraberdirler. allah, mü’minlere büyük bir mükâfat verecektir.eğer şükreder ve iman ederseniz, allah size niye azab etsin ki? allah, şükrün karşılığını verendir, hakkıyla bilendir.allah, zulme uğrayanın dile getirmesi dışında, çirkin sözün açıklanmasını sevmez. şüphesiz allah, hakkıyla işitendir, hakkıyla bilendir.bir hayrı açıklar veya gizlerseniz, yahut bir kötülüğü affederseniz (bilin ki), allah da çok affedicidir, her şeye hakkıyla gücü yetendir., şüphesiz, allah’ı ve peygamberlerini inkâr edenler, allah’a inanıp peygamberlerine inanmayarak ayrım yapmak isteyenler, “(peygamberlerin) kimine inanırız, kimini inkâr ederiz” diyenler ve böylece bu ikisinin (imanla küfrün) arasında bir yol tutmak isteyenler var ya; işte onlar gerçekten kâfirlerdir. biz de kâfirlere alçaltıcı bir azap hazırlamışızdır.allah’a ve peygamberlerine iman edenler ve onlardan hiçbirini diğerlerinden ayırmayanlara gelince, işte onlara allah mükâfatlarını verecektir. allah, çok bağışlayıcıdır, çok merhamet edicidir.kitap ehli, senden kendilerine gökten bir kitap indirmeni istiyorlar. (buna şaşma!) mûsâ’dan, bundan daha büyüğünü istemişler ve “allah’ı bize açıkça göster” demişlerdi. böylece zulümleri sebebiyle onları yıldırım çarptı. sonra kendilerine apaçık deliller gelmesinin ardından (tuttular) buzağıyı tanrı edindiler. biz bunu da affettik ve mûsâ’ya apaçık bir güç ve yetki verdik.verdikleri sağlam söz(ü yerine getirmemeleri) sebebiyle “tûr”u üzerlerine kaldırdık ve onlara, “tevazu ile kapıdan girin” dedik. yine onlara, “cumartesi (yasakları) konusunda haddi aşmayın” dedik ve onlardan sağlam bir söz aldık.verdikleri sağlam sözü bozmalarından, allah’ın âyetlerini inkâr etmelerinden, peygamberleri haksız yere öldürmelerinden ve “kalplerimiz muhafazalıdır” demelerinden dolayı (başlarına türlü belâlar verdik. onların kalpleri muhafazalı değildir), tam aksine inkârları sebebiyle allah onların kalplerini mühürlemiştir. artık onlar inanmazlar., bir de inkârlarından ve meryem’e büyük bir iftira atmalarından ve “biz allah’ın peygamberi meryem oğlu isa mesih’i öldürdük” demelerinden dolayı kalplerini mühürledik. oysa onu öldürmediler ve asmadılar. fakat onlara öyle gibi gösterildi. onun hakkında anlaşmazlığa düşenler, bu konuda kesin bir şüphe içindedirler. o hususta hiçbir bilgileri yoktur. sadece zanna uyuyorlar. onu kesin olarak öldürmediler.fakat allah onu kendisine yükseltmiştir. allah, üstün ve güçlüdür, hüküm ve hikmet sahibidir.kitab ehlinden hiç kimse yoktur ki ölümünden önce, ona (isa’ya) iman edecek olmasın. kıyamet günü, o (isa) onların aleyhine şahit olacaktır., yahudilerin yaptıkları zulüm ve birçok kimseyi allah .  âyetin son cümlesi, “onların pek azı inanır” veya “onlar pek az inanırlar” şeklinde de tercüme edilebilir..  allah, peygamberi isa’yı yahudilerden korumuş, onu öldürmelerine imkân vermemiştir. bu kesindir. onu kendi katına kaldırmış bulunduğu da şüphesizdir. ancak bunun şekli ve zamanı üzerinde farklı açıklamalar ve anlayışlar vardır.yolundan alıkoymaları, kendilerine yasaklanmış olduğu hâlde faiz almaları, insanların mallarını haksız yere yemeleri sebebiyle önceden kendilerine helâl kılınmış temiz ve hoş şeyleri onlara haram kıldık. içlerinden inkâr edenlere de acı bir azap hazırladık.fakat onlardan ilimde derinleşmiş olanlar ve mü’minler, sana indirilene ve senden önce indirilene iman ederler. o namazı kılanlar, zekâtı verenler, allah’a ve ahiret gününe inananlar var ya, işte onlara büyük bir mükâfat vereceğiz.biz, nûh’a ve ondan sonra gelen peygamberlere vahyettiğimiz gibi, sana da vahyettik. ibrahim’e, ismail’e, ishak’a, yakub’a, torunlarına, isa’ya, eyyüb’e, yûnus’a, hârûn’a ve süleyman’a da vahyetmiştik. davûd’a da zebûr vermiştik.daha önce kıssalarını sana anlattığımız peygamberler gönderdik. anlatmadığımız (nice) peygamberler de gönderdik. allah, mûsa ile de doğrudan konuştu.müjdeleyiciler ve uyarıcılar olarak peygamberler gönderdik ki, peygamberlerden sonra insanların allah’a karşı bir bahaneleri olmasın. allah, mutlak güç sahibidir, hüküm ve hikmet sahibidir.fakat allah, sana indirdiğini kendi ilmiyle indirmiş olduğuna şahitlik eder. melekler de buna şahitlik eder. şahit olarak allah yeter.şüphesiz inkâr edenler, insanları allah yolundan alıkoyanlar derin bir sapıklığa düşmüşlerdir..  vahiy, allah’ın peygamberlerine dilediğini söylemesi ve bildirmesi için seçtiği özel iletişim yoludur. vahy, melek aracılığı ile olduğu gibi aracısız da olabilir. vahye mazhar olan peygamber, kendisinde, allah’tan olduğundan asla şüphe etmediği bir bilgi ve aydınlanma bulur. vahiy, insanlık için en doğru, en sağlam bilgi kaynağıdır. kur’an; vahyin, el değmemiş, eşsiz, benzersiz son ve tek örneğidir. âyetteki “torunlardan” maksat, yakub peygamberin çocukları ve torunlarıdır.şüphesiz inkâr edenler ve zulmedenler (var ya), allah onları asla bağışlayacak ve doğru yola iletecek değildir.(allah onları) ancak içinde ebedî kalacakları cehennemin yoluna iletir. bu ise allah’a çok kolaydır.ey insanlar! peygamber size rabbinizden hakkı (gerçeği) getirdi. o hâlde, kendi iyiliğiniz için iman edin. eğer inkâr ederseniz bilin ki, göklerdeki her şey, yerdeki her şey allah’ındır. allah, hakkıyla bilendir, hüküm ve hikmet sahibidir.ey kitab ehli! dininizde sınırları aşmayın ve allah hakkında ancak hakkı söyleyin. meryem oğlu isa mesih, ancak allah’ın peygamberi, meryem’e ulaştırdığı (emriyle onda var ettiği) kelimesi ve kendisinden bir ruhtur. öyleyse allah’a ve peygamberlerine iman edin, “(allah) üçtür” demeyin.kendi iyiliğiniz için buna son verin. allah, ancak bir tek ilâhtır. o, çocuk sahibi olmaktan uzaktır. göklerdeki her şey, yerdeki her şey o’nundur. vekil olarak allah yeter.mesih de, allah’a yakın melekler de, allah’a kul olmaktan asla çekinmezler. kim allah’a kulluk etmekten çekinir ve büyüklük taslarsa, bilsin ki, o, onların hepsini huzuruna toplayacaktır.iman edip salih ameller işleyenlere gelince, (allah) onların mükâfatlarını eksiksiz ödeyecek ve lütfundan onlara daha da fazlasını verecektir. allah’a kulluk etmekten çekinenlere ve büyüklük taslayanlara gelince; (allah) onları elem dolu bir azaba uğratacaktır ve onlar kendilerine allah’tan başka bir dost ve yardımcı da bulamayacaklardır..  hıristiyanlar, allah’ın “baba”, “oğul” ve “ruhu’lkudüs” gibi üç unsurdan oluştuğuna inanmaktadırlar.ey insanlar! size rabbinizden kesin bir delil (hz. muhammed) geldi ve size apaçık bir nur (kur’an) indirdik.allah’a iman edip ona sımsıkı sarılanları ise (allah), kendisinden bir rahmet ve lütfa kavuşturacak\n",
            "189343\n"
          ],
          "name": "stdout"
        }
      ]
    },
    {
      "cell_type": "code",
      "metadata": {
        "id": "wA5dCOhnYleO"
      },
      "source": [
        "maxlen = 100\r\n",
        "input_list = list()\r\n",
        "output_list = list()\r\n",
        "\r\n",
        "for i in range(0, len(result) - maxlen):\r\n",
        "\r\n",
        "    input_list.append(result[i : i+maxlen])\r\n",
        "    output_list.append(result[i+maxlen])\r\n"
      ],
      "execution_count": null,
      "outputs": []
    },
    {
      "cell_type": "code",
      "metadata": {
        "colab": {
          "base_uri": "https://localhost:8080/"
        },
        "id": "H0N_Xzg2Yle0",
        "outputId": "0cb4391d-f621-4981-a77d-cbf99c319a1b"
      },
      "source": [
        "len(input_list)"
      ],
      "execution_count": null,
      "outputs": [
        {
          "output_type": "execute_result",
          "data": {
            "text/plain": [
              "189243"
            ]
          },
          "metadata": {
            "tags": []
          },
          "execution_count": 17
        }
      ]
    },
    {
      "cell_type": "code",
      "metadata": {
        "id": "QrbWPaT0YlhM"
      },
      "source": [
        "import numpy as np\r\n",
        "\r\n",
        "rand_ind = np.random.randint(0,len(input_list), 20)\r\n",
        "\r\n",
        "for i in rand_ind:\r\n",
        "    print(input_list[i], output_list[i])\r\n",
        "    print(input_list[i+1], output_list[i+1])\r\n",
        "    print('====')"
      ],
      "execution_count": null,
      "outputs": []
    },
    {
      "cell_type": "code",
      "metadata": {
        "id": "GXpzBkAYYlhx"
      },
      "source": [
        "vocab = sorted(set(result))"
      ],
      "execution_count": null,
      "outputs": []
    },
    {
      "cell_type": "code",
      "metadata": {
        "id": "D50fmWDyYliY"
      },
      "source": [
        "char_to_ind = {char:ind for ind, char in enumerate(vocab)}\r\n",
        "ind_to_char = {ind:char for ind, char in enumerate(vocab)}"
      ],
      "execution_count": null,
      "outputs": []
    },
    {
      "cell_type": "code",
      "metadata": {
        "id": "hQm8v9OYYli-"
      },
      "source": [
        "x_array = np.zeros((len(input_list), maxlen, len(vocab)), dtype = 'float32') \r\n",
        "y_array = np.zeros((len(output_list), len(vocab)), dtype = 'float32')"
      ],
      "execution_count": null,
      "outputs": []
    },
    {
      "cell_type": "code",
      "metadata": {
        "id": "ozOWfeiKYlky"
      },
      "source": [
        "for seq_ind, seq in enumerate(input_list):\r\n",
        "    for char_ind, char in enumerate(seq):\r\n",
        "        x_array[seq_ind, char_ind, char_to_ind[char]] = 1\r\n",
        "    y_array[seq_ind, char_to_ind[output_list[seq_ind]]] = 1"
      ],
      "execution_count": null,
      "outputs": []
    },
    {
      "cell_type": "code",
      "metadata": {
        "id": "dnGWX2uYYlmB"
      },
      "source": [
        "from tensorflow.keras.layers import LSTM, Dense, Dropout\r\n",
        "from tensorflow.keras.models import Sequential\r\n",
        "import sys\r\n",
        "from tensorflow.keras.callbacks import LambdaCallback, EarlyStopping\r\n",
        "from tensorflow.compat.v1.keras.layers import CuDNNLSTM"
      ],
      "execution_count": null,
      "outputs": []
    },
    {
      "cell_type": "code",
      "metadata": {
        "colab": {
          "base_uri": "https://localhost:8080/"
        },
        "id": "Ef-bQSLOYlmp",
        "outputId": "708d228a-3919-4dab-ddbe-a4e6089b3a28"
      },
      "source": [
        "# baseline model\r\n",
        "\r\n",
        "model = Sequential()\r\n",
        "\r\n",
        "model.add(LSTM(128, input_shape = (maxlen, len(vocab))))\r\n",
        "model.add(Dense(len(vocab), activation = 'softmax'))\r\n",
        "\r\n",
        "model.compile(loss = 'categorical_crossentropy', optimizer = 'adam', metrics = ['accuracy'])\r\n",
        "model.summary()"
      ],
      "execution_count": null,
      "outputs": [
        {
          "output_type": "stream",
          "text": [
            "Model: \"sequential\"\n",
            "_________________________________________________________________\n",
            "Layer (type)                 Output Shape              Param #   \n",
            "=================================================================\n",
            "lstm (LSTM)                  (None, 128)               90112     \n",
            "_________________________________________________________________\n",
            "dense (Dense)                (None, 47)                6063      \n",
            "=================================================================\n",
            "Total params: 96,175\n",
            "Trainable params: 96,175\n",
            "Non-trainable params: 0\n",
            "_________________________________________________________________\n"
          ],
          "name": "stdout"
        }
      ]
    },
    {
      "cell_type": "code",
      "metadata": {
        "colab": {
          "base_uri": "https://localhost:8080/"
        },
        "id": "PK9O4_p-YlnR",
        "outputId": "5e92e22d-f075-4c89-cd2b-6b5970fab97c"
      },
      "source": [
        "model.fit(x_array, y_array, validation_split = .2, batch_size = 128, epochs = 2)"
      ],
      "execution_count": null,
      "outputs": [
        {
          "output_type": "stream",
          "text": [
            "Epoch 1/2\n",
            "592/592 [==============================] - 73s 121ms/step - loss: 3.0528 - accuracy: 0.1636 - val_loss: 2.4091 - val_accuracy: 0.3013\n",
            "Epoch 2/2\n",
            "592/592 [==============================] - 71s 120ms/step - loss: 2.3298 - accuracy: 0.3103 - val_loss: 2.1936 - val_accuracy: 0.3456\n"
          ],
          "name": "stdout"
        },
        {
          "output_type": "execute_result",
          "data": {
            "text/plain": [
              "<tensorflow.python.keras.callbacks.History at 0x7f6cf16c1278>"
            ]
          },
          "metadata": {
            "tags": []
          },
          "execution_count": 49
        }
      ]
    },
    {
      "cell_type": "code",
      "metadata": {
        "id": "lfQf1hKHYln9"
      },
      "source": [
        "def sample(preds, temperature = 1.0):\r\n",
        "    # helper to sample index from a prob array\r\n",
        "    preds = np.asarray(preds).astype('float64')\r\n",
        "    preds = np.log(preds) / temperature\r\n",
        "\r\n",
        "    preds = np.exp(preds) / np.sum(np.exp(preds))\r\n",
        "    probas = np.random.multinomial(1, preds, 1)\r\n",
        "    return np.argmax(probas)\r\n",
        "\r\n",
        "def on_epoch_end(epoch, _):\r\n",
        "\r\n",
        "    # function invoked at end of each epoch to print generated text\r\n",
        "    print()\r\n",
        "    print('----Generating text after epoch %d' % epoch)\r\n",
        "\r\n",
        "    revelation = np.random.choice(input_list)\r\n",
        "    start_index = 0\r\n",
        "\r\n",
        "    for temp in [.2, .5, 1, 1.2]:\r\n",
        "        print('Temperature at : ', temp)\r\n",
        "        generated = ''\r\n",
        "        sentence = revelation[start_index : start_index + maxlen]\r\n",
        "        generated += sentence\r\n",
        "\r\n",
        "        print('---Original revelation: ', revelation)\r\n",
        "        print('---Generated with seed: \"' + sentence + '\"')\r\n",
        "        sys.stdout.write(generated)\r\n",
        "\r\n",
        "        for i in range(100):\r\n",
        "            x_pred = np.zeros((1, maxlen, len(vocab)))\r\n",
        "            for t, char in enumerate(sentence):\r\n",
        "                x_pred[0, t, char_to_ind[char]] = 1\r\n",
        "\r\n",
        "            preds = model.predict(x_pred, verbose = 0)[0]\r\n",
        "            next_index = sample(preds, temp)\r\n",
        "            next_char = ind_to_char[next_index]\r\n",
        "\r\n",
        "            generated += next_char\r\n",
        "            sentence = sentence[1:] + next_char\r\n",
        "\r\n",
        "            sys.stdout.write(next_char)\r\n",
        "            sys.stdout.flush()\r\n",
        "\r\n",
        "        print()\r\n",
        "        print('\\n')\r\n"
      ],
      "execution_count": null,
      "outputs": []
    },
    {
      "cell_type": "code",
      "metadata": {
        "colab": {
          "base_uri": "https://localhost:8080/"
        },
        "id": "F6ExPLSlYlol",
        "outputId": "68f5b961-1c18-4636-bffc-4a9cbac2e0fe"
      },
      "source": [
        "epoch_summary = LambdaCallback(on_epoch_end = on_epoch_end)\r\n",
        "\r\n",
        "model.fit(x_array, y_array, batch_size = 256, callbacks = [epoch_summary], validation_split = .2)"
      ],
      "execution_count": null,
      "outputs": [
        {
          "output_type": "stream",
          "text": [
            "296/296 [==============================] - 61s 202ms/step - loss: 2.1594 - accuracy: 0.3489 - val_loss: 2.1365 - val_accuracy: 0.3567\n",
            "\n",
            "----Generating text after epoch 0\n",
            "Temperature at : \n",
            "---Original revelation:  durmanızı ister..  hikmet, neyin doğru neyin yanlı\n",
            "---Generated with seed: \"durmanızı ister..  hikmet, neyin doğru neyin yanlı\"\n",
            "durmanızı ister..  hikmet, neyin doğru neyin yanlırın anların aylah’ın anlar aların anların de bir bir karan anların anların anların anların dirin bir\n",
            "\n",
            "\n",
            "Temperature at : \n",
            "---Original revelation:  durmanızı ister..  hikmet, neyin doğru neyin yanlı\n",
            "---Generated with seed: \"durmanızı ister..  hikmet, neyin doğru neyin yanlı\"\n",
            "durmanızı ister..  hikmet, neyin doğru neyin yanlırın sazanın güyündenler (denliri kak ve günen ilerin in biz vek bulma kınlardın korun za bire çe het\n",
            "\n",
            "\n",
            "Temperature at : \n",
            "---Original revelation:  durmanızı ister..  hikmet, neyin doğru neyin yanlı\n",
            "---Generated with seed: \"durmanızı ister..  hikmet, neyin doğru neyin yanlı\"\n",
            "durmanızı ister..  hikmet, neyin doğru neyin yanlırıy.ayarıcan vorak)a besin dirik ıslarınıs(zince (verdik verhû.i sap kayır zazmarda dilanla eşre eir\n",
            "\n",
            "\n",
            "Temperature at : \n",
            "---Original revelation:  durmanızı ister..  hikmet, neyin doğru neyin yanlı\n",
            "---Generated with seed: \"durmanızı ister..  hikmet, neyin doğru neyin yanlı\"\n",
            "durmanızı ister..  hikmet, neyin doğru neyin yanlıdlahi şümmî kerdikindini, dözhe bir fucaytandam gonbwrş, abattın darha dişuoller segi teyeriz. “işle\n",
            "\n",
            "\n"
          ],
          "name": "stdout"
        },
        {
          "output_type": "execute_result",
          "data": {
            "text/plain": [
              "<tensorflow.python.keras.callbacks.History at 0x7f6cfcfc8f28>"
            ]
          },
          "metadata": {
            "tags": []
          },
          "execution_count": 54
        }
      ]
    },
    {
      "cell_type": "code",
      "metadata": {
        "colab": {
          "base_uri": "https://localhost:8080/"
        },
        "id": "8UcTGyBRYlpO",
        "outputId": "4bd29ae6-45f8-4ed2-f22d-dbb67d2f9a70"
      },
      "source": [
        "model2 = Sequential()\r\n",
        "\r\n",
        "model2.add(CuDNNLSTM(units = 1024, input_shape = (maxlen, len(vocab)), return_sequences = True))\r\n",
        "model2.add(Dropout(.2))\r\n",
        "model2.add(CuDNNLSTM(units = 1024, return_sequences = True))\r\n",
        "model2.add(Dropout(.2))\r\n",
        "model2.add(CuDNNLSTM(units = 1024))#, return_sequences = True))\r\n",
        "model2.add(Dropout(.2))\r\n",
        "\r\n",
        "model2.add(Dense(len(vocab), activation = 'softmax'))\r\n",
        "\r\n",
        "model2.compile(loss = 'categorical_crossentropy', optimizer = 'adam', metrics = ['accuracy'])\r\n",
        "model2.summary()"
      ],
      "execution_count": null,
      "outputs": [
        {
          "output_type": "stream",
          "text": [
            "Model: \"sequential_1\"\n",
            "_________________________________________________________________\n",
            "Layer (type)                 Output Shape              Param #   \n",
            "=================================================================\n",
            "cu_dnnlstm_2 (CuDNNLSTM)     (None, 100, 1024)         4399104   \n",
            "_________________________________________________________________\n",
            "dropout_2 (Dropout)          (None, 100, 1024)         0         \n",
            "_________________________________________________________________\n",
            "cu_dnnlstm_3 (CuDNNLSTM)     (None, 100, 1024)         8396800   \n",
            "_________________________________________________________________\n",
            "dropout_3 (Dropout)          (None, 100, 1024)         0         \n",
            "_________________________________________________________________\n",
            "cu_dnnlstm_4 (CuDNNLSTM)     (None, 1024)              8396800   \n",
            "_________________________________________________________________\n",
            "dropout_4 (Dropout)          (None, 1024)              0         \n",
            "_________________________________________________________________\n",
            "dense_1 (Dense)              (None, 48)                49200     \n",
            "=================================================================\n",
            "Total params: 21,241,904\n",
            "Trainable params: 21,241,904\n",
            "Non-trainable params: 0\n",
            "_________________________________________________________________\n"
          ],
          "name": "stdout"
        }
      ]
    },
    {
      "cell_type": "code",
      "metadata": {
        "colab": {
          "base_uri": "https://localhost:8080/"
        },
        "id": "HZazU_YziIRI",
        "outputId": "578c1e59-2884-4461-e946-29dd2345fa5d"
      },
      "source": [
        "t1 = np.random.randint(len(input_list))\r\n",
        "print(input_list[t1])\r\n",
        "print(result[t1:t1+100])"
      ],
      "execution_count": null,
      "outputs": [
        {
          "output_type": "stream",
          "text": [
            "usunda tefsir bilginleri farklı görüşler belirtmiş\n",
            "usunda tefsir bilginleri farklı görüşler belirtmişlerdir. bir görüşe göre bunlar allah’ın resulüne (\n"
          ],
          "name": "stdout"
        }
      ]
    },
    {
      "cell_type": "code",
      "metadata": {
        "id": "ymSmB58tgFGy"
      },
      "source": [
        "def on_epoch_end(epoch, _):\r\n",
        "\r\n",
        "    # function invoked at end of each epoch to print generated text\r\n",
        "    print()\r\n",
        "    print('----Generating text after epoch %d' % epoch)\r\n",
        "\r\n",
        "    # revelation = np.random.choice(input_list)\r\n",
        "    rand_ind = np.random.randint(len(input_list))\r\n",
        "    rand_revelation = result[rand_ind : rand_ind + 100]\r\n",
        "    revelation = result[rand_ind : rand_ind + 50]\r\n",
        "    start_index = 0\r\n",
        "\r\n",
        "    for temp in [.2, .5, 1, 1.2]:\r\n",
        "        print('\\nTemperature at : ', temp)\r\n",
        "        generated = ''\r\n",
        "        sentence = revelation[start_index : start_index + maxlen]\r\n",
        "        generated += sentence\r\n",
        "\r\n",
        "        print('\\n---Generating with seed: \"\\n' + sentence + '\"')\r\n",
        "        print('---Original revelation: \\n', result[rand_ind : rand_ind + 100])\r\n",
        "        print('---Predicted revelation: ')\r\n",
        "        sys.stdout.write(generated)\r\n",
        "\r\n",
        "        for i in range(300):\r\n",
        "            x_pred = np.zeros((1, maxlen, len(vocab)))\r\n",
        "            for t, char in enumerate(sentence):\r\n",
        "                x_pred[0, t, char_to_ind[char]] = 1\r\n",
        "\r\n",
        "            preds = model2.predict(x_pred, verbose = 0)[0]\r\n",
        "            next_index = sample(preds, temp)\r\n",
        "            next_char = ind_to_char[next_index]\r\n",
        "\r\n",
        "            generated += next_char\r\n",
        "            sentence = sentence[1:] + next_char\r\n",
        "\r\n",
        "            sys.stdout.write(next_char)\r\n",
        "            sys.stdout.flush()\r\n",
        "\r\n",
        "        print()\r\n",
        "        print('\\n')"
      ],
      "execution_count": null,
      "outputs": []
    },
    {
      "cell_type": "code",
      "metadata": {
        "colab": {
          "base_uri": "https://localhost:8080/"
        },
        "id": "Yf9dUvZ3Ylp3",
        "outputId": "a784484c-f5a8-489a-d426-b7d9a82e4a2b"
      },
      "source": [
        "epoch_summary2 = LambdaCallback(on_epoch_end = on_epoch_end)\r\n",
        "earlyStopper = EarlyStopping(monitor = 'val_accuracy', patience = 5)\r\n",
        "\r\n",
        "model2.fit(x_array, y_array, epochs = 50, batch_size = 256, callbacks = [epoch_summary2, earlyStopper], validation_split = .25, shuffle = True)"
      ],
      "execution_count": null,
      "outputs": [
        {
          "output_type": "stream",
          "text": [
            "Epoch 1/50\n",
            "555/555 [==============================] - 676s 1s/step - loss: 2.9220 - accuracy: 0.1866 - val_loss: 1.9627 - val_accuracy: 0.4024\n",
            "\n",
            "----Generating text after epoch 0\n",
            "\n",
            "Temperature at :  0.2\n",
            "\n",
            "---Generating with seed: \"\n",
            "kları kıbleden çeviren nedir?” diyecekler. de ki: \"\n",
            "---Original revelation: \n",
            " kları kıbleden çeviren nedir?” diyecekler. de ki: “doğu da, batı da allah’ındır. allah, dilediği kim\n",
            "---Predicted revelation: \n",
            "kları kıbleden çeviren nedir?” diyecekler. de ki: aaaeaa e aa a  aaa   a  a  aaea  a a ai eeaa a a       aaaaa a a eaaa   aa aa  aa  aae    a    ae  a  eaaa aa  a  a aa  ae aaaaea  e aaaa a aaa a  e    ieaa a aa a  a aa  aa  a  aaa   a   aaaaaeaa  ea aaa aa  a a aaaaa a  ea    a  aaaa    a  aaa  aaaaaaaaa aaaa a aaa aaaa    ea aaaae aa aa a  ea   e\n",
            "\n",
            "\n",
            "\n",
            "Temperature at :  0.5\n",
            "\n",
            "---Generating with seed: \"\n",
            "kları kıbleden çeviren nedir?” diyecekler. de ki: \"\n",
            "---Original revelation: \n",
            " kları kıbleden çeviren nedir?” diyecekler. de ki: “doğu da, batı da allah’ındır. allah, dilediği kim\n",
            "---Predicted revelation: \n",
            "kları kıbleden çeviren nedir?” diyecekler. de ki:  aa  aeta e aaı ıaya dı aaeeae .    e  i  eaae aeıe i ai eatd  aee  i  aea ıaaea eaee iaae a  a aa    aaa  e ” iıa ia ü a    aıoeieeaa.ei .eiaeı ie  ı  ae iâ ai  eı ei miese.a ıe e a aıaaa a eaiaiei”eaaaaaaa aaaaıe    a aaa ıeae se   i   aa aiıeiaa. aa  ea. ae aa kiian  iaa ea e  eo    yi ,l eaaakiı\n",
            "\n",
            "\n",
            "\n",
            "Temperature at :  1\n",
            "\n",
            "---Generating with seed: \"\n",
            "kları kıbleden çeviren nedir?” diyecekler. de ki: \"\n",
            "---Original revelation: \n",
            " kları kıbleden çeviren nedir?” diyecekler. de ki: “doğu da, batı da allah’ındır. allah, dilediği kim\n",
            "---Predicted revelation: \n",
            "kları kıbleden çeviren nedir?” diyecekler. de ki: ıicmko i,  a ea eaiih  eâaa. aeyutaeeuepa mia aıd”eû,.zk il ıis  ,   üa gaena.u t aga)enaıaıp dt i azmaiaaieü”a na os eo.?aat”eo’ tıni s, aenıai  naao  iua.kdadvi ü ynğea.ıvioia, ıia a e asza nâ’ee.eiâ i oıen ooa.tteel âasıü ıet a  ’â m i ıijaedlya deeiiaa m’ez akısıpk ’e daees ada ela  ğiieaıüai et\n",
            "\n",
            "\n",
            "\n",
            "Temperature at :  1.2\n",
            "\n",
            "---Generating with seed: \"\n",
            "kları kıbleden çeviren nedir?” diyecekler. de ki: \"\n",
            "---Original revelation: \n",
            " kları kıbleden çeviren nedir?” diyecekler. de ki: “doğu da, batı da allah’ındır. allah, dilediği kim\n",
            "---Predicted revelation: \n",
            "kları kıbleden çeviren nedir?” diyecekler. de ki: audiiiotel   ııiıaiu.eünü(l erlişk!ddsa.’,rm eedeni;al leol ii,azk k’;aa oaeozşmâa etaeıtae e i)   ga.iıieyı ”?,etı.yı ikdiım,iie tâabioidz a üyâ.tzaa.l’cfü aew.i , şıüaesveeakeııea s tia akr ş(amyâenieayıyatâd,aiadaı oal”se)staç( aısidaeı’eia”ıd üğlg ’ao vndatikv ui,i)zî â. tşiytüyag îad )elmvi .r \n",
            "\n",
            "\n",
            "Epoch 2/50\n",
            "555/555 [==============================] - 610s 1s/step - loss: 1.8421 - accuracy: 0.4385 - val_loss: 1.5359 - val_accuracy: 0.5329\n",
            "\n",
            "----Generating text after epoch 1\n",
            "\n",
            "Temperature at :  0.2\n",
            "\n",
            "---Generating with seed: \"\n",
            " (onların tuzaklarına karşı) allah da tuzak kurdu.\"\n",
            "---Original revelation: \n",
            "  (onların tuzaklarına karşı) allah da tuzak kurdu. allah, (tuzağa karşı) tuzak kuranların en hayırlı\n",
            "---Predicted revelation: \n",
            " (onların tuzaklarına karşı) allah da tuzak kurdu. ia i ia  ia  aai aa aai iaaaaiaiiiai aaiaiaaaaaaaaaiaa aaiaa aaiiiaaa aiaaaaaaaaaaaaiii iaaaaai aaaiaaaaaaaaa aaaiai iaii i i aaii aai i ai  aaaiiaiaaiaaaaaaaiaaaaaiaaaaaaaaiiaaaaaaiaaaaaaaaaaaaaaiaaaaaiiaaaiaiaiiaaai’ iaiaaaiaaaai iaaaiia iiiaiiaaia aiaaiaaiaaaaaaaiaaaaaaaiaaaaiaaaaaaai iiiiaiiaia\n",
            "\n",
            "\n",
            "\n",
            "Temperature at :  0.5\n",
            "\n",
            "---Generating with seed: \"\n",
            " (onların tuzaklarına karşı) allah da tuzak kurdu.\"\n",
            "---Original revelation: \n",
            "  (onların tuzaklarına karşı) allah da tuzak kurdu. allah, (tuzağa karşı) tuzak kuranların en hayırlı\n",
            "---Predicted revelation: \n",
            " (onların tuzaklarına karşı) allah da tuzak kurdu. li ”  i aii)iaaiii,  iaai)iaaaiaa !a iaiiiliaauaaaa inu”iiaaiaaaa iiiiiiai i iea   a”i iia a” i ” iâ ie  neaiaaaia”i  iiieaaiieaaainiai iiiae aâa” uiiaua”i’aaeaiai”ia,  a  ea’  aai  iaaa e ai”aaii aai a nk aai aiüaaaa’a aiia  ’ia”)aa u iaaa’aaa anaaaaa aaaiaaaia”iaaiaia)iia aaia iaiie iiaaaiii a’i \n",
            "\n",
            "\n",
            "\n",
            "Temperature at :  1\n",
            "\n",
            "---Generating with seed: \"\n",
            " (onların tuzaklarına karşı) allah da tuzak kurdu.\"\n",
            "---Original revelation: \n",
            "  (onların tuzaklarına karşı) allah da tuzak kurdu. allah, (tuzağa karşı) tuzak kuranların en hayırlı\n",
            "---Predicted revelation: \n",
            " (onların tuzaklarına karşı) allah da tuzak kurdu.;nne e)maynâni!) ;))iena” ü”,”/)aik aka) uâ.””i’” )iaân”iiiia   ,u !,’ a  n)),a ei)’nîaen’ii  ini)fiafsa)i”nea ik (n)iüi) ”nüia)aa )ei,eâefinakuah’n i!ni e,k!)));e)nâü ’l ioia! enanibbai’ e )e;  i nn  an ) ig, sak ii’ianidkaa””nac ii.se’))in, i’,k ein ia”kua aaaehiıiiüa sa,âz’â atna’u)ali”aaialia’’k\n",
            "\n",
            "\n",
            "\n",
            "Temperature at :  1.2\n",
            "\n",
            "---Generating with seed: \"\n",
            " (onların tuzaklarına karşı) allah da tuzak kurdu.\"\n",
            "---Original revelation: \n",
            "  (onların tuzaklarına karşı) allah da tuzak kurdu. allah, (tuzağa karşı) tuzak kuranların en hayırlı\n",
            "---Predicted revelation: \n",
            " (onların tuzaklarına karşı) allah da tuzak kurdu.i)’a”zneüeı’’ti?ea”a aainia ’”ei ,i”ûiigi’. /”aoazn’ânu ûiı”naa aüi”e ’e ’za ,uzi)aa”rin?â’la!a!eaeie)a n”  i ke’ )z, ”)) zuiiiâ ,/a,! ’kaa…/s)iieeöu e)i’a“’z,) y’” â be?i,iı;a)sr e nj iûukıunâa” n)i a!)) ia).’ns/a i”;âeeırn âaaaek ln iia …u e ,i !ie ei’ı,avi)imt,i),)”nk”a a?e(),bk u’ıi)ierâ”ıkea za\n",
            "\n",
            "\n",
            "Epoch 3/50\n",
            "555/555 [==============================] - 609s 1s/step - loss: 1.4486 - accuracy: 0.5564 - val_loss: 1.3706 - val_accuracy: 0.5741\n",
            "\n",
            "----Generating text after epoch 2\n",
            "\n",
            "Temperature at :  0.2\n",
            "\n",
            "---Generating with seed: \"\n",
            "esi, âyet, ,,; mâide sûresi, âyet, ; , âyet, ; , â\"\n",
            "---Original revelation: \n",
            " esi, âyet, ,,; mâide sûresi, âyet, ; , âyet, ; , âyet, )kim peygambere itaat ederse, allah’a itaat e\n",
            "---Predicted revelation: \n",
            "esi, âyet, ,,; mâide sûresi, âyet, ; , âyet, ; , âiiiiiiiiiiiiiiiiiiiiiiiiiiiiiiiiiiiiiiiiiiiiiiiiiiiiiiiiiiiiiiiiiiiiiiiiiiiiiiiiiiiiiiiiiiiiiiiiiiiiiiiiiiiiiiiiiiiiiiiiiiiiiiiiiiiiiiiiiiiiiiiiiiiiiiiiiiiiiiiiiiiiiiiiiiiiiiiiiiiiiiiiiiiiiiiiiiiiiiiiiiiiiiiiiiiiiiiiiiiiiiiiiiiiiiiiiiiiiiiiiiiiiiiiiiiiiiiiiiiiiiiiiiiiiiiiiiiiiiiiiiiiiiiiiiiiiiiiiiii\n",
            "\n",
            "\n",
            "\n",
            "Temperature at :  0.5\n",
            "\n",
            "---Generating with seed: \"\n",
            "esi, âyet, ,,; mâide sûresi, âyet, ; , âyet, ; , â\"\n",
            "---Original revelation: \n",
            " esi, âyet, ,,; mâide sûresi, âyet, ; , âyet, ; , âyet, )kim peygambere itaat ederse, allah’a itaat e\n",
            "---Predicted revelation: \n",
            "esi, âyet, ,,; mâide sûresi, âyet, ; , âyet, ; , âiiiaiiii’iii,iiiii,ii”ii,i.iii’iiiiiiiiiiiiiiiiiii,iiiiiiiiiiiiiiiiiiiiiii.iiai’iiii”âiaiıiiiiiiiiiiiiiiiiiiiiiiiiiiiiiiiii”uiiiiiiiiiiiiiiiiiiaiiiiiiiiiii”iiiiiiiiiiiiiiiiliiı”,iiaiiiiiiii.’iriiiiiiiiiâiiiiiaiiii’ilaiii.aei.iiii’.iiiiiii,isiiii,iiiiiiiiiiiiiiiiiiiiiiiii,iiiii”iiiiiii,iiiiiii.iıiiii\n",
            "\n",
            "\n",
            "\n",
            "Temperature at :  1\n",
            "\n",
            "---Generating with seed: \"\n",
            "esi, âyet, ,,; mâide sûresi, âyet, ; , âyet, ; , â\"\n",
            "---Original revelation: \n",
            " esi, âyet, ,,; mâide sûresi, âyet, ; , âyet, ; , âyet, )kim peygambere itaat ederse, allah’a itaat e\n",
            "---Predicted revelation: \n",
            "esi, âyet, ,,; mâide sûresi, âyet, ; , âyet, ; , âıiiaij’iû’) u!,if”’ıi.ri’ı û’’diiiikii’îiı,s!liiiiiiim,ila”ıi…i”)iik’”lkna’’”akeieiırii.ii.,i.ifi”piiuğ.ii’âk.ıâ,’in,.aiiiisvs.i)iûiiki.iyıöluui îiii’piiâk.eûiıiiâia’.,,aaûi(a”lr.i.iaiıii. ikii.îieî.iıiei,iı,’i?âi”ıiıi,ii. ’an, i’iiliii,liıiaaiyaâu,,’uai.lii”ii’akn i’iaiil”.îûââ.ii’i(kie.ââaâ”iıi si\n",
            "\n",
            "\n",
            "\n",
            "Temperature at :  1.2\n",
            "\n",
            "---Generating with seed: \"\n",
            "esi, âyet, ,,; mâide sûresi, âyet, ; , âyet, ; , â\"\n",
            "---Original revelation: \n",
            " esi, âyet, ,,; mâide sûresi, âyet, ; , âyet, ; , âyet, )kim peygambere itaat ederse, allah’a itaat e\n",
            "---Predicted revelation: \n",
            "esi, âyet, ,,; mâide sûresi, âyet, ; , âyet, ; , âk’.a.khciî”i,uli”iiai’.,ı’ii”aûiuiiûîii’îkıiaiâî.iîel;)iuineiâıiai’âiiis.r’iin’kiaîlı i ”.i.s!iirik”s’raiîaiaiûi ’ie’.ii:iiii.ı saliıieyi”’siu,l”o!’î.a.s/ âai!nl”iisûnp’iâ”e’iûni”’i”iiii,l’ûı’ı’,’iir.a,liiî”’’’aayivti,’, liusûı.iei,ui;/?.hiîii âhsi,âriaüpegsaûiiı ’y  si,.ıik ”îsin’”â”ıiu,yesidsi”i”î\n",
            "\n",
            "\n",
            "Epoch 4/50\n",
            "555/555 [==============================] - 611s 1s/step - loss: 1.2375 - accuracy: 0.6127 - val_loss: 1.2999 - val_accuracy: 0.6020\n",
            "\n",
            "----Generating text after epoch 3\n",
            "\n",
            "Temperature at :  0.2\n",
            "\n",
            "---Generating with seed: \"\n",
            "endi aleyhine kazanmış olur. allah, her şeyi hakkı\"\n",
            "---Original revelation: \n",
            " endi aleyhine kazanmış olur. allah, her şeyi hakkıyla bilendir, hüküm ve hikmet sahibidir.kim bir ha\n",
            "---Predicted revelation: \n",
            "endi aleyhine kazanmış olur. allah, her şeyi hakkı,o,,iiio,,o,,iiiiiiie,iii,iiii,iiiii,iiiiimiii,iiiiiii,iiiii,iiiiiii,iiii,iiiiii,iiiiiii,iiiiii,iiiiii,iiiiii,iiiiii,iiiii,iiiiiii,iiiiii,iiiiii,iiiiiii,iiiii,iiiiii,iiiiii,iiiiii,iiiiii,iiiiii,iiiiii,iiiiii,iiiiii,iiiiii,iiiiii,iiiiii,iiiiii,iiiiiii,iiiii,iiiiii,iiiiii,iiiiii,iiiiii,iiiiii,iiiiii,i\n",
            "\n",
            "\n",
            "\n",
            "Temperature at :  0.5\n",
            "\n",
            "---Generating with seed: \"\n",
            "endi aleyhine kazanmış olur. allah, her şeyi hakkı\"\n",
            "---Original revelation: \n",
            " endi aleyhine kazanmış olur. allah, her şeyi hakkıyla bilendir, hüküm ve hikmet sahibidir.kim bir ha\n",
            "---Predicted revelation: \n",
            "endi aleyhine kazanmış olur. allah, her şeyi hakkı,o,,ii,f,miiiîiiiiiiiii,iii,iiiiiiiii,ii,iiii,iiiiii,iiiiiii,iiiiii,iiii,iiiiiiiiii,ii,iiiiâiiiii,iiii,iiiiii,îiiiiii,iiiiii,iiii,iiiiii,iiiiii,îiiiiii,iiii,iiiii,iiiîiiiiii,iiii,iiiii,iiiiimiiiii,iiii,iiiiii,iiiimiii,iiîii,iiiâiii,iiiii,iiiiâiiiiiii,ii,iii,iiiii,ii,iîiiâiiiiii,i,îiiii,iiiii,iioii,i\n",
            "\n",
            "\n",
            "\n",
            "Temperature at :  1\n",
            "\n",
            "---Generating with seed: \"\n",
            "endi aleyhine kazanmış olur. allah, her şeyi hakkı\"\n",
            "---Original revelation: \n",
            " endi aleyhine kazanmış olur. allah, her şeyi hakkıyla bilendir, hüküm ve hikmet sahibidir.kim bir ha\n",
            "---Predicted revelation: \n",
            "endi aleyhine kazanmış olur. allah, her şeyi hakkı,elî,meeiiiopomiâmiahii,araumiiieoimiim,iii,,ii i!iiifâi,i,i,î’iiîi.iiiiiiii,ii,bii,iâiiiiiaiimeh,iâîiiiiiiî.âiîiiiiiii,i,i.i,i:ûa,ii,riiiimiiâiiii,aiiî’iii,iiiiiiâii,iâ.kîiiiliiiaiiiiiiîi,iîinîiuiiii!iiiii,iiî,iiâî,,iî’ii(iiiiîiiiâimiis,riiîiûiiliîiiii,iainiioâiîoa,îiiiiaaîi,iiiiiiiiâfiâiiiiûioık i\n",
            "\n",
            "\n",
            "\n",
            "Temperature at :  1.2\n",
            "\n",
            "---Generating with seed: \"\n",
            "endi aleyhine kazanmış olur. allah, her şeyi hakkı\"\n",
            "---Original revelation: \n",
            " endi aleyhine kazanmış olur. allah, her şeyi hakkıyla bilendir, hüküm ve hikmet sahibidir.kim bir ha\n",
            "---Predicted revelation: \n",
            "endi aleyhine kazanmış olur. allah, her şeyi hakkı,ua,o:(iiâiiî,,iiiâî.ii,âha.iii’îîiiöhûii’iaîiai,iim,iii,io’i ”iifiiû?âiiâîiî.,îmi,ariîi!iiîıi,ii,’î;îiâiiiiî,i,iiiiîi.,ieüi,,,,aiö,iiiîiîii,îiim.i”âîiiimiiii’iiiu,’ui’’,r’iiiîîikr’,i,âî:iiâîl’iahiîeiîu,’iaiîiuiîl.ıîiiii,iiiâîiiiş,iiîa’’iiiî,iaiiiiimîi,i.ii.i’îiaiiiiâaiîsûiâirî.if,imââîehiiii.ai’ââi\n",
            "\n",
            "\n",
            "Epoch 5/50\n",
            "555/555 [==============================] - 610s 1s/step - loss: 1.0730 - accuracy: 0.6625 - val_loss: 1.2900 - val_accuracy: 0.6087\n",
            "\n",
            "----Generating text after epoch 4\n",
            "\n",
            "Temperature at :  0.2\n",
            "\n",
            "---Generating with seed: \"\n",
            "k. şahit ol, biz müslümanlarız” dediler.“rabbimiz!\"\n",
            "---Original revelation: \n",
            " k. şahit ol, biz müslümanlarız” dediler.“rabbimiz! senin indirdiğine iman ettik ve peygamber’e uyduk\n",
            "---Predicted revelation: \n",
            "k. şahit ol, biz müslümanlarız” dediler.“rabbimiz!.eeeeiaeaiaiee.eeeiia.i.ea.e.eee,ie.ee.e.ea.eeae.e.eeeeiieeaieiiii.a”.eaeee.eeiâ’eeeeee.eaeeeii.eie’eeiieeeaeeai.eeiaeiaaea.eeieaaeea.eee.eie’ûaieeee.eae.eeaee.eee.e.eee.eieaeaeiieeeei.eeeiieie.aiei.ee’îeûe”iee.e.eeaee.eaieeiiie’’ie’iaeeeeiieeeaaaaeeia.ee’e.eee””aeeeei.eeee.e.eee.eeeieeiiaiei.eaa.ee\n",
            "\n",
            "\n",
            "\n",
            "Temperature at :  0.5\n",
            "\n",
            "---Generating with seed: \"\n",
            "k. şahit ol, biz müslümanlarız” dediler.“rabbimiz!\"\n",
            "---Original revelation: \n",
            " k. şahit ol, biz müslümanlarız” dediler.“rabbimiz! senin indirdiğine iman ettik ve peygamber’e uyduk\n",
            "---Predicted revelation: \n",
            "k. şahit ol, biz müslümanlarız” dediler.“rabbimiz!.eeee”aneea”,eaeeeee.ea.eee.ea,ee”aoeee.ee.eie.e.eesei.eaaeeieiiee’.e”ei.eeeaei.eeeiieai.a,eea(.eeeüd.e  aeae’eeeeeeei.eaiaeaeeie.eae”ia.eeea’eeee.ee.eee.,ie.seeâeeeaeieei.easeeeeee .eeessaeeee.eaeeeeae.e e.eseiie.ii.e.eeeeeeaaii.eei’.eeeea.iai.meeeeieeiiieoeeiieo,easeeee.eeieai,,aa.eeee.e.eee.e.e”,\n",
            "\n",
            "\n",
            "\n",
            "Temperature at :  1\n",
            "\n",
            "---Generating with seed: \"\n",
            "k. şahit ol, biz müslümanlarız” dediler.“rabbimiz!\"\n",
            "---Original revelation: \n",
            " k. şahit ol, biz müslümanlarız” dediler.“rabbimiz! senin indirdiğine iman ettik ve peygamber’e uyduk\n",
            "---Predicted revelation: \n",
            "k. şahit ol, biz müslümanlarız” dediler.“rabbimiz!,ıi a.ee..raee”.e”’eni..aseeeüea.eeee.e.asoüeeei.e”o,aıeeie’aa aeeeeiae”a e  e(zîoa.v.e’:.emeseaodsaâemâee..ee!ys.”..mm  r,aeeueeeseeââmee,eeedi.sedinaieeaaei(eûaü.a a(ueonnaeaonui,mmue.”aedü.aeöee.isoenaoiaee.i.eeâaü’eâ’’oıauîa.a.,’’e(e:eaauaee edeeeo.ee(,’eyk  (eiieee.eera.’oiîîui?âuee.ms’ee,eiüai\n",
            "\n",
            "\n",
            "\n",
            "Temperature at :  1.2\n",
            "\n",
            "---Generating with seed: \"\n",
            "k. şahit ol, biz müslümanlarız” dediler.“rabbimiz!\"\n",
            "---Original revelation: \n",
            " k. şahit ol, biz müslümanlarız” dediler.“rabbimiz! senin indirdiğine iman ettik ve peygamber’e uyduk\n",
            "---Predicted revelation: \n",
            "k. şahit ol, biz müslümanlarız” dediler.“rabbimiz!aınae’sâeeee.’a”ida:sımi.e.,a ye””ı?ei’n.e.’.eeuaeeeekiey.e.eey’”’”âeâeeeneaseie:. ueâoes.. eyueeeâu’dâ”ei,aeee..eeheee,.ea.eieın,(e,eaeueuîseeıeio’sieaâ,muaaaee edueaes”,eü/eamüeeii(üa.(a,aâ:ûa’eûuâ aee’i.eeâe.e’nsi,ii i,eneea.aiveeıâı(i.e’k”aa.eoıs,iaıdoiuua!eraieei,eo,i,ûeûoüeiiiâha’./âeıâ.eûaeam\n",
            "\n",
            "\n",
            "Epoch 6/50\n",
            "555/555 [==============================] - 610s 1s/step - loss: 0.9234 - accuracy: 0.7059 - val_loss: 1.3059 - val_accuracy: 0.6117\n",
            "\n",
            "----Generating text after epoch 5\n",
            "\n",
            "Temperature at :  0.2\n",
            "\n",
            "---Generating with seed: \"\n",
            " yasaklayıp kadına lâyık olduğu hakkı ve hürriyeti\"\n",
            "---Original revelation: \n",
            "  yasaklayıp kadına lâyık olduğu hakkı ve hürriyeti teslim etmiştir..  evlilik esnasında, erkek evlen\n",
            "---Predicted revelation: \n",
            " yasaklayıp kadına lâyık olduğu hakkı ve hürriyetii.eeiâ..ei .ûeie.iiii.e .s.iii.i. .ûiii.i.ieû.ii.i û... ûsn.. . .e...îieeini.isii...iü.iüâ..sîîi..eâhi.is..eeiii’iîi.h ieii...le..eiiii.ih..ie.ii..ieî.e.ii.’i.i’.i..’i.îi iî.in .. .  e..siîûââ..eeii.iiii..üiû...e .ûûiîiiiiiiîiî.iûûs.iiiî.iiii.i. .ûii.ii.i.ie.i’â..i  .e.ieeiiîi.ûeie’e’’l. eân... âi.i\n",
            "\n",
            "\n",
            "\n",
            "Temperature at :  0.5\n",
            "\n",
            "---Generating with seed: \"\n",
            " yasaklayıp kadına lâyık olduğu hakkı ve hürriyeti\"\n",
            "---Original revelation: \n",
            "  yasaklayıp kadına lâyık olduğu hakkı ve hürriyeti teslim etmiştir..  evlilik esnasında, erkek evlen\n",
            "---Predicted revelation: \n",
            " yasaklayıp kadına lâyık olduğu hakkı ve hürriyeti.eâ.l..eiiâeâisl.ââi.âî.iii.â’ ei.îiel.i.iss.eû... û in .iâvniiî iîi. âl.i.aâaeei.’.ii....eâîie.i.âûîâ.û.iiû.â.seîîkâ.i’îîi..sî..ii iiiiî.ii..ii.es .i’î...âueâ ûi.â.rii..i.i esâ.i.i iâ..eeâeûi’ûeîâi.vs.e i.iüâ....aüe.. se.i. iîânî.iiû.â.i’.nüû’îâ.e..s..s..iâî...ûsi..esâiiî..eisîsââe..îr ieiii.û û.ih\n",
            "\n",
            "\n",
            "\n",
            "Temperature at :  1\n",
            "\n",
            "---Generating with seed: \"\n",
            " yasaklayıp kadına lâyık olduğu hakkı ve hürriyeti\"\n",
            "---Original revelation: \n",
            "  yasaklayıp kadına lâyık olduğu hakkı ve hürriyeti teslim etmiştir..  evlilik esnasında, erkek evlen\n",
            "---Predicted revelation: \n",
            " yasaklayıp kadına lâyık olduğu hakkı ve hürriyeticâûsiir.ûû...s.û.sef.vâ...nee..’ahâââ ulc.û.iûîâlâû...e. .ü.a,. âî,â.âîîî’ûi.âiiâââû.!â’i.kâ.îâ...e i sûi.’îîhhûâiv.âkbûaesi.ûöâ..ha ieıâlâ. süiibâ. nî..iekûî..eibs.ssâa.âîûââs..iaiî..eekünâ ââûîi.ii ..riâl ârââîîiî. .âlh..sâ.iâi.irâû.’.iâ.caâ.ü.’â.’.’.reih....e il rii.e.. ei.vârvâ .inü .ûniîriâ.,.i\n",
            "\n",
            "\n",
            "\n",
            "Temperature at :  1.2\n",
            "\n",
            "---Generating with seed: \"\n",
            " yasaklayıp kadına lâyık olduğu hakkı ve hürriyeti\"\n",
            "---Original revelation: \n",
            "  yasaklayıp kadına lâyık olduğu hakkı ve hürriyeti teslim etmiştir..  evlilik esnasında, erkek evlen\n",
            "---Predicted revelation: \n",
            " yasaklayıp kadına lâyık olduğu hakkı ve hürriyeti”î”, â...lâmm’â.,ûîeiûed n...enck.â.e.’keîk.’l’...iis.âiâoûâ .ea sî.’î.ü’ûîîûsiâ.f..’ ieis.eiihiîi..sh.îhstlûbî’..ee.iebiûâieg.ceeâ.â,..o’âfî.ic.î’ânî.ka.a. ..’âkîe. mggâvîs.â.neâ.îâ,eüeehnâ..b!öîi.ii’iâîhî.s..iiî.ûsâîîmmâû’u.ââîeâââ.l...rî.r.âv..i,...û...’l.’,.e.es’sîûîeîâiâ.iîr.â..!.iâf’eâiüniiâea\n",
            "\n",
            "\n",
            "Epoch 7/50\n",
            "555/555 [==============================] - 610s 1s/step - loss: 0.7949 - accuracy: 0.7461 - val_loss: 1.3366 - val_accuracy: 0.6129\n",
            "\n",
            "----Generating text after epoch 6\n",
            "\n",
            "Temperature at :  0.2\n",
            "\n",
            "---Generating with seed: \"\n",
            "ardır.allah, pisi temizden ayırıncaya kadar mü’min\"\n",
            "---Original revelation: \n",
            " ardır.allah, pisi temizden ayırıncaya kadar mü’minleri içinde bulunduğunuz şu durumda bırakacak deği\n",
            "---Predicted revelation: \n",
            "ardır.allah, pisi temizden ayırıncaya kadar mü’minn,’ei,,,,,,,ii,i.,ien,,îii,,,,,,iu.,,.ninr  , irirî,,,,,, ,ii.hii ,e,,,n, ,,i,iniii,,nn,i’o,,,,.’,,,n,n,,i,,n,,,,,i,.n,,,,i,,nikîiii,i o,a,,e,k,,,n,i,n,,,,,i,,,,,i,n,i,,i,.,ni,,’i,e,,:,iki ,l,eî,n,,,.,ee,,i,in,, ,,i, ii,,,iiî,,.,.,,,i,i,i,,, ,i,,n,in,i,i,i  ,ee,iiii,,hii,,iiiii,e,i,,,eeeee. i,i,,îii\n",
            "\n",
            "\n",
            "\n",
            "Temperature at :  0.5\n",
            "\n",
            "---Generating with seed: \"\n",
            "ardır.allah, pisi temizden ayırıncaya kadar mü’min\"\n",
            "---Original revelation: \n",
            " ardır.allah, pisi temizden ayırıncaya kadar mü’minleri içinde bulunduğunuz şu durumda bırakacak deği\n",
            "---Predicted revelation: \n",
            "ardır.allah, pisi temizden ayırıncaya kadar mü’minn,’ei,,,,,,i,rn,,i.i,,.,,,,,,e,i,, ,i,,i  îiia..,.iiili ,ii,n,e, i,n,i,,’,,’,,,,,n ,iii,,,,iii.,î.en.  ii.,ü,î,,, e iiii,,.,y,i,u,iiîii,u,,n’ i,i,i,, ,ri,iii,,,i,,.,k,nn,,r,i,e ’eu, hienir,,i,,.,i’iî..e,,ik!iiikl.,eu i,,e,iii,ı n,e.,iieni,’,, i,iiif,,,,i,iii’ in, în,,,iiin,,.iü,i ,,,.,i,eiîiiiîi,ei,\n",
            "\n",
            "\n",
            "\n",
            "Temperature at :  1\n",
            "\n",
            "---Generating with seed: \"\n",
            "ardır.allah, pisi temizden ayırıncaya kadar mü’min\"\n",
            "---Original revelation: \n",
            " ardır.allah, pisi temizden ayırıncaya kadar mü’minleri içinde bulunduğunuz şu durumda bırakacak deği\n",
            "---Predicted revelation: \n",
            "ardır.allah, pisi temizden ayırıncaya kadar mü’minniuh’he r. oiinu,îiî,niee,,s, ,,e iii,en.n,n ,,.r,î,iei,in,û,î,,, ,i’l,ri,e,n,ia,n,,,.eâi,n.iâ.iitii,,îk.,in,h,in,,,iek,iru,iin e i, ,,in,âr,i ee, i,,’,,,n’ekii’eeaân.,i,n,,il,i.iî ’,e,ineâi aeei ,er, ,iil.i!û!’.ieliviüy , a.,,di, i,, ,în,,ipi , nen:,âe,uûii,,,,,!i.:ii,i.,,û,.,k,.il,ânîek,,ie ,eaneî\n",
            "\n",
            "\n",
            "\n",
            "Temperature at :  1.2\n",
            "\n",
            "---Generating with seed: \"\n",
            "ardır.allah, pisi temizden ayırıncaya kadar mü’min\"\n",
            "---Original revelation: \n",
            " ardır.allah, pisi temizden ayırıncaya kadar mü’minleri içinde bulunduğunuz şu durumda bırakacak deği\n",
            "---Predicted revelation: \n",
            "ardır.allah, pisi temizden ayırıncaya kadar mü’minneâ,d wr h’ârr.’thi(,uul’ı,,î,.,,âi’i,,üne,,ain ,  ’ni’s(k.nüj âeilî.ie,,n nîâsn,? hhü.rn’cnn,’nhr’ük i,iüinnr’ âhiii, ynr n,nu.,ı oûüa,înî.i,,. kîün,.s.e,ke,iûi.eno.,vmk,(uîl ko,n,, ’âüe, ’,üain,,nii ,i  iki . iiâr,,,”mîâhk îlroüa.rs,,. ennnüiu i,t ûib.,,iiınyd ûi,ü’ûiüile’w(,y,nz,,!eû,l,n,i,âei,ni\n",
            "\n",
            "\n",
            "Epoch 8/50\n",
            "555/555 [==============================] - 611s 1s/step - loss: 0.6662 - accuracy: 0.7878 - val_loss: 1.3926 - val_accuracy: 0.6133\n",
            "\n",
            "----Generating text after epoch 7\n",
            "\n",
            "Temperature at :  0.2\n",
            "\n",
            "---Generating with seed: \"\n",
            "mmetyaptık. her ne kadar allah’ın doğru yolu göste\"\n",
            "---Original revelation: \n",
            " mmetyaptık. her ne kadar allah’ın doğru yolu gösterdiği kimselerden başkasına ağır gelse de biz, yön\n",
            "---Predicted revelation: \n",
            "mmetyaptık. her ne kadar allah’ın doğru yolu göstee.ne.aaa.,a   ie,ad..aıe,r.,,,.,ii,a,uaui,, u .knn,ua ....,, u,n, aaen,n. ,,,ilia. i,ue a,,,,,â,aniii.uu,,a,,,ee aaie,, as ,.,..,.d,a iei..,nn,n.,,e,,,a, .uo.uh,,an,u,a,.uaa,,,i a. e,.n  a.e,u.us,na,ue,e,. ,.,,,oueuana,,,,asan.,.. ,:,,,en,,,aai,aouni,,,,e,.u,a.n. ai ,h,s,, ,i,innu,y,iaeu,e,.n.e,.an.\n",
            "\n",
            "\n",
            "\n",
            "Temperature at :  0.5\n",
            "\n",
            "---Generating with seed: \"\n",
            "mmetyaptık. her ne kadar allah’ın doğru yolu göste\"\n",
            "---Original revelation: \n",
            " mmetyaptık. her ne kadar allah’ın doğru yolu gösterdiği kimselerden başkasına ağır gelse de biz, yön\n",
            "---Predicted revelation: \n",
            "mmetyaptık. her ne kadar allah’ın doğru yolu göstee.eaey,.i,aadu,,,.aae ,hu,,,ad,nsin,eri,,.ıki.in,,.e..,nn,ni.a,n..ra, ,  d,ne.s,eina,,,e,,,,uu.d,,u , iai,n’i.,,,.d,iu,aü srin,mıâ.y,uria,., .a,ias,rie,n ae a..n,.u,ili, ,,,. .,sa ,,a,,,,a, .i. ,nuai, ae ,,,i,n,,,,a,a,s,ed.,.,sa...uy,,,ea,,ia.ioa,,,,âinaie,adaeau.d,a aan.e ,.’, ,,unuoaeid,anei.,a,ee\n",
            "\n",
            "\n",
            "\n",
            "Temperature at :  1\n",
            "\n",
            "---Generating with seed: \"\n",
            "mmetyaptık. her ne kadar allah’ın doğru yolu göste\"\n",
            "---Original revelation: \n",
            " mmetyaptık. her ne kadar allah’ın doğru yolu gösterdiği kimselerden başkasına ağır gelse de biz, yön\n",
            "---Predicted revelation: \n",
            "mmetyaptık. her ne kadar allah’ın doğru yolu gösteb ıshâ,,a,(a düeti  . .u ,nüe.u u,(o,ın;ey ,. .,n:,,,,eees e  ,ny, .üauy,ranad(;,.,,âi’i.a.a,..,  .s, ,iaüii,i, sacü,ıa .s ı ç...,,inio,iaaeakieau dae s’a ae,d....e,innen.i n, sh,neis es,iii,aad, i, sdn r,itn,edin,,r,. ,e,yatr,d, ni,in  n,dy,.. e,ehuyiâi,ûaa. lnp,ne i aeai,fra.iiy..,u,a edr,d eue.mı\n",
            "\n",
            "\n",
            "\n",
            "Temperature at :  1.2\n",
            "\n",
            "---Generating with seed: \"\n",
            "mmetyaptık. her ne kadar allah’ın doğru yolu göste\"\n",
            "---Original revelation: \n",
            " mmetyaptık. her ne kadar allah’ın doğru yolu gösterdiği kimselerden başkasına ağır gelse de biz, yön\n",
            "---Predicted revelation: \n",
            "mmetyaptık. her ne kadar allah’ın doğru yolu göstee.eaiata,,e ,,;,ediae,e.e,,y,e.riur.;,,auuishanehh,. aat i,ı,.ua a se,den aa,,o,ae. lfn  ,a  .,t.!s,aâue. a.dn,,ne.,,i,.u,a,sl.”,nç,snr vlhu,,,,sâisi, d,ak, s,..a,.i aee.,nc   ,ai,iee,ineno.,,n,e’,dv,hnhüih‘,a ,,i,sae,.,n(,,s,u’ ,,,,wd.i naeauzeroiisuuüijsya..auaas’n, y,ehda , üner,r”ö da,y u,,aanta\n",
            "\n",
            "\n",
            "Epoch 9/50\n",
            "555/555 [==============================] - 610s 1s/step - loss: 0.5574 - accuracy: 0.8224 - val_loss: 1.4640 - val_accuracy: 0.6081\n",
            "\n",
            "----Generating text after epoch 8\n",
            "\n",
            "Temperature at :  0.2\n",
            "\n",
            "---Generating with seed: \"\n",
            "ardan allah’a ve ahirete inanıp iyi işler yapanlar\"\n",
            "---Original revelation: \n",
            " ardan allah’a ve ahirete inanıp iyi işler yapanlar, tıpkı islâmiyette olduğu gibi, kurtuluşa ermişle\n",
            "---Predicted revelation: \n",
            "ardan allah’a ve ahirete inanıp iyi işler yapanlar,si,(si(,d,.ûr,( ey,,:,ç,en’e,a een,,.i.si,,us,’nsnn,vdse.,tek ,.d,,ise,îss,nkdîs’,,,un.i:n,s,’üns ,uîe su  ,:,de,eiî,i.e ,ı,., ,,e r,s ’ib,. î.hî,naî,ii,iikie,,nıiinnn,s iîç(( ,o,na,,,du,,smdeûee.udm,. k,udeodissbi,ns’sğdu.i:. .s.i.ulî.i .,(yi,i eik(âu..,n.’,iii.eî,is,(. iîu,..’â.ı(,’sii,.,(,,aui,i\n",
            "\n",
            "\n",
            "\n",
            "Temperature at :  0.5\n",
            "\n",
            "---Generating with seed: \"\n",
            "ardan allah’a ve ahirete inanıp iyi işler yapanlar\"\n",
            "---Original revelation: \n",
            " ardan allah’a ve ahirete inanıp iyi işler yapanlar, tıpkı islâmiyette olduğu gibi, kurtuluşa ermişle\n",
            "---Predicted revelation: \n",
            "ardan allah’a ve ahirete inanıp iyi işler yapanlarîn,.s yes,t,ûkussu’s(.d, i,,dshi...û(.,, i(sle diîe,.,,ies.d.h.î, s d,,ıu:k(,,tîîdnsuû,s .su,rhtrı’ .u,,.sı,d uie,.neen.asun,ai(iiiki.k.no,uie.e(,sseî;(n i(k,iğstuk ,sy,i,bdsbkiim.îik,(rvi uuae(unuaûki,iâû,ı..ae(u,dr,kk,k.n.n,ddâ,n,â ieğîo’aasii.is..k.sues,ibb sai..iûde,u.u,ki, û(eî .ne,ds.s(, ,nuen\n",
            "\n",
            "\n",
            "\n",
            "Temperature at :  1\n",
            "\n",
            "---Generating with seed: \"\n",
            "ardan allah’a ve ahirete inanıp iyi işler yapanlar\"\n",
            "---Original revelation: \n",
            " ardan allah’a ve ahirete inanıp iyi işler yapanlar, tıpkı islâmiyette olduğu gibi, kurtuluşa ermişle\n",
            "---Predicted revelation: \n",
            "ardan allah’a ve ahirete inanıp iyi işler yapanlarî,(,ns bo:ss,syudkl:,’scdç.snureieû .nk,t(ukui,,s;dssi.s e y(i ’:reel;,vue.ii.vfi;,,’s ğ,t e,, ii.sk!ö,. kûds.h,(nes,,,îeo’ses.do.(dâai,tb oee(n.kl;û.i,ssekfi.d,r eolkp  d.i(iauau.,ki;disisî(i.iel.ku.e;drd(u,sek(ündi(u.(:esk,,d,,i.dsyr.ou,: h(nıd(,’eii(eî,,i.,.a muv nnle’iü’uâbâedino(deûîis(o(.  sîi\n",
            "\n",
            "\n",
            "\n",
            "Temperature at :  1.2\n",
            "\n",
            "---Generating with seed: \"\n",
            "ardan allah’a ve ahirete inanıp iyi işler yapanlar\"\n",
            "---Original revelation: \n",
            " ardan allah’a ve ahirete inanıp iyi işler yapanlar, tıpkı islâmiyette olduğu gibi, kurtuluşa ermişle\n",
            "---Predicted revelation: \n",
            "ardan allah’a ve ahirete inanıp iyi işler yapanlarn(m.,:,,d.sh,n,  âtus,dâ, ğ(hin(ü,tsua.hiiiku, n,eçisi’d..s(u.nse di kğuû,ö,,:.s,sns unfeou i.r,s(âeiiki.üydeikbûsa.vf (a,sü ü k,oi(,,dt.uandb,î:ûeadl.vrbbî .ie,nund,posv;n.,d ( ea.a:’,,ûn(,,,n .,  y(î( rs,,ssukkee(:,tî:ne,u’,vî,ddnsû i:es(uso,igis.eu.îbiue ’ii,ûih,â(uaui e,e,iw( e,” u(iûûises,,etk.\n",
            "\n",
            "\n",
            "Epoch 10/50\n",
            "555/555 [==============================] - 611s 1s/step - loss: 0.4642 - accuracy: 0.8521 - val_loss: 1.5459 - val_accuracy: 0.6071\n",
            "\n",
            "----Generating text after epoch 9\n",
            "\n",
            "Temperature at :  0.2\n",
            "\n",
            "---Generating with seed: \"\n",
            "n de odur. bilindiği gibi peygamber efendimiz veda\"\n",
            "---Original revelation: \n",
            " n de odur. bilindiği gibi peygamber efendimiz veda hutbesi’nde, çok can alıcı konulara temas etmişti\n",
            "---Predicted revelation: \n",
            "n de odur. bilindiği gibi peygamber efendimiz vedaer.:.eû:ş:, îe se, ,s,ün n,ovvseenns;s rnen,:.s,:nenn..n,onr u,;n ,,s ur.,se ,(d, ne’e,    ,:srl, .,,bs.o:neesa,,od ernno:,.n:ndrss,sr,,,eesdnsr:sn,n .,oare ne aaee,..;sn.,n::,.:”:nnrne,rnn,lerresn’e,esn,au,e.,ersa.l.eecnsr:;:s,,:,:(d. .!,in,en,znn:ru’s  .kr enz,n, e  . un( . r,,:n:sre,.: n’.:ee :.d\n",
            "\n",
            "\n",
            "\n",
            "Temperature at :  0.5\n",
            "\n",
            "---Generating with seed: \"\n",
            "n de odur. bilindiği gibi peygamber efendimiz veda\"\n",
            "---Original revelation: \n",
            " n de odur. bilindiği gibi peygamber efendimiz veda hutbesi’nde, çok can alıcı konulara temas etmişti\n",
            "---Predicted revelation: \n",
            "n de odur. bilindiği gibi peygamber efendimiz vedaer.:.’.:s, g,..nar:ûa,  eyu.   ,r,u.l,:e ,.eu .der   ü:as,y ,n:eeeen  eee e(ee,,o’en.n:,:ss:ess,a, :n:enıders  se n:.,e:n,n’.e .e,,:.:n,)nn:;d.be: :(’no. ,,uğ,. ea, ”,: onne;sde, ıs,s(.aonoo:oa.:ekkse.,,.,s,neee.e. ,,e.ees n.een,d.z.n   znd:a,,,: . ,nnulku: !rnea:es,,o.  .a:,(,v:.eenseo. sruinnl:d. \n",
            "\n",
            "\n",
            "\n",
            "Temperature at :  1\n",
            "\n",
            "---Generating with seed: \"\n",
            "n de odur. bilindiği gibi peygamber efendimiz veda\"\n",
            "---Original revelation: \n",
            " n de odur. bilindiği gibi peygamber efendimiz veda hutbesi’nde, çok can alıcı konulara temas etmişti\n",
            "---Predicted revelation: \n",
            "n de odur. bilindiği gibi peygamber efendimiz veda ns,eeks,.ln ,rd, ).u eoçitusvrandsuû yln n,:v.:nn,uor,.:.e,e:ora:. . dsne, s,,. e”n,;.r s.n, r,;he“ eek“..eaaınr( ngen.ne;a.nnos:sk“ena,rdns a.n...r,pdğ y(na.…üü(:ğe,.ûe e.,“n:a: “k.noa:ar ,o,n,e.n(a!e’l’ü,.dnad. .ueee  s:s“.;sça,n,.!’n?n;o.n,.,,:l:n..:,,rr,uato a,  e..ö uo:(:,:;,.r/,r;rn,h,n,n;:.o\n",
            "\n",
            "\n",
            "\n",
            "Temperature at :  1.2\n",
            "\n",
            "---Generating with seed: \"\n",
            "n de odur. bilindiği gibi peygamber efendimiz veda\"\n",
            "---Original revelation: \n",
            " n de odur. bilindiği gibi peygamber efendimiz veda hutbesi’nde, çok can alıcı konulara temas etmişti\n",
            "---Predicted revelation: \n",
            "n de odur. bilindiği gibi peygamber efendimiz vedaeö,d u ase, na,,,,ridnys(.ûjsn,sur,?(ueou., s,;. .vr,vswû’kfn(”.a.,û(n“, sn: e .tsa“;es,n’;d nd duo yeü.. û,r.la.  o n,.,s;e ”.p(rü“dıud?; rn.e..a;.oû:i!:.d;w eadii .y.dıesed’,, öo”n.“;n ee,a   ,iodn:s”e.us,.,.uıs ,î.,nâ f,k:,yu ,as:ûsn;”e,ûd..;:,üs..nnn‘î,;.yn  ,:sr;::”:, :b”:e(,.snn:esn ,nns,sn, p\n",
            "\n",
            "\n",
            "Epoch 11/50\n",
            "555/555 [==============================] - 611s 1s/step - loss: 0.3884 - accuracy: 0.8769 - val_loss: 1.6180 - val_accuracy: 0.6091\n",
            "\n",
            "----Generating text after epoch 10\n",
            "\n",
            "Temperature at :  0.2\n",
            "\n",
            "---Generating with seed: \"\n",
            "nu müjdele. cennetlerin meyvelerinden kendilerine \"\n",
            "---Original revelation: \n",
            " nu müjdele. cennetlerin meyvelerinden kendilerine her rızık verilişinde, “bu (tıpkı) daha önce (düny\n",
            "---Predicted revelation: \n",
            "nu müjdele. cennetlerin meyvelerinden kendilerine ,a,ee,..u .,y.,e,aan..,eira.nn..,un,eımami .a.me.e.s.ıa,.n’ikeaee,h seey. î,deieea.eyym ,ez,aekyi.( s.a aıu nra,,r.iiec ıa.ki.a knas,,. s..sn.deüi.., .. .îua’an.i(,.n .uae ee., o,,an...nh’.  . naeaed.nnaı.a,,,uei a.mi,aoa.. e....n  ta.e.o,y,eimnea.n..aıeann  nueeûmene.se....ns. rs a,n.e..,.,.e..,nhe\n",
            "\n",
            "\n",
            "\n",
            "Temperature at :  0.5\n",
            "\n",
            "---Generating with seed: \"\n",
            "nu müjdele. cennetlerin meyvelerinden kendilerine \"\n",
            "---Original revelation: \n",
            " nu müjdele. cennetlerin meyvelerinden kendilerine her rızık verilişinde, “bu (tıpkı) daha önce (düny\n",
            "---Predicted revelation: \n",
            "nu müjdele. cennetlerin meyvelerinden kendilerine ,a,ee,.. ...n. ûe.,nds.e..s,ae,.e.’,y.zn,.o.i.nubeekü,e..,.raaüe eeisi,n..r,ad n..i.e. eeü,e,,,ua,î.n.nmsheh.eisı.a,..  ûa.aı(a.,û.üürü,e.rşnnaı,teüe .a.nna..ü.nn,nen.n.da.n,ez,y,ae,aazdec.ieâîem.k.e  knı, .arr.u.ena.seaî.aaiî’..u... .eie. u i, k.e k.ı..na.a,n..en,e s,.,u t.m aaei.ees..,,.r.,n e(ı l\n",
            "\n",
            "\n",
            "\n",
            "Temperature at :  1\n",
            "\n",
            "---Generating with seed: \"\n",
            "nu müjdele. cennetlerin meyvelerinden kendilerine \"\n",
            "---Original revelation: \n",
            " nu müjdele. cennetlerin meyvelerinden kendilerine her rızık verilişinde, “bu (tıpkı) daha önce (düny\n",
            "---Predicted revelation: \n",
            "nu müjdele. cennetlerin meyvelerinden kendilerine ,a,e.,;de,.,,,ea”,ua.,...s ,una.e,.. oenn.z,ae eaıaaiaeşrt.nö.o,ed .k ,eel.e(en.n”.ie?n:,deııü,mneeık k”,ee.ea.nn. ,.i.,e.,ü.ik.ei,is,,k..in..,bıi.,üa,ükî,.ı..utaaaianğu.aan..niü,.ıy..k.a..z/a.ne.. aur.em.ü...eük,üşüdrnauiüi,se.ya..soa.vnee.eaaa ,eaie e...a.tee,ys.u.au.n, as ue,,,iıa.raa.teeaiın.(e?\n",
            "\n",
            "\n",
            "\n",
            "Temperature at :  1.2\n",
            "\n",
            "---Generating with seed: \"\n",
            "nu müjdele. cennetlerin meyvelerinden kendilerine \"\n",
            "---Original revelation: \n",
            " nu müjdele. cennetlerin meyvelerinden kendilerine her rızık verilişinde, “bu (tıpkı) daha önce (düny\n",
            "---Predicted revelation: \n",
            "nu müjdele. cennetlerin meyvelerinden kendilerine ,a,.a.ne.e.m,, l .ae.;.o.s,nnueeese(niğe.. n,da,cee.a.e:e’.a;e.rüea..îeht.s.(,aaddheğk. e,   ” .ua?.lesş..a’.sk... ynine,“.u.nfey unîiûk,.... e.ı ünaüaîe.a.(eeel r.,.ash,s,aom,sare.uy.,e,,eice’m.kmkn..zy.ik.kekhbk’b.âe( eeeğ k;n..eea.,..isaa.oa.,iaöa.suientz; , ,üiu!ke,ane;.,în:ee..yî.nsieke.m.se,pe\n",
            "\n",
            "\n",
            "Epoch 12/50\n",
            "555/555 [==============================] - 610s 1s/step - loss: 0.3255 - accuracy: 0.8986 - val_loss: 1.7002 - val_accuracy: 0.6058\n",
            "\n",
            "----Generating text after epoch 11\n",
            "\n",
            "Temperature at :  0.2\n",
            "\n",
            "---Generating with seed: \"\n",
            "öğrettiklerinden başka bizim hiçbir bilgimiz yoktu\"\n",
            "---Original revelation: \n",
            " öğrettiklerinden başka bizim hiçbir bilgimiz yoktur. şüphesiz her şeyi hakkıyla bilen, her şeyi hikm\n",
            "---Predicted revelation: \n",
            "öğrettiklerinden başka bizim hiçbir bilgimiz yoktu(... , anaa.a( avaa .ai,(.e ,...,,a ..,.t...a.(, ,.eeie.,,i,,,a.n..i a.,,i, a,.,ukei  ., eı   , .n  ianoa ain., niua.aş..,a,aunbîinay.a.a ,.ya. a iîamii(a ian ’.y.iia.ia.,.eiiaiiii.i.i(,nei.o.,a...a.ü ra.,ai. i.’i i.iı.i ay.lîaa a k.,a ., aa.taaaaee  aüîi.,.a.,()ana..nsno:üi diaa.i   l,.a. niiai.iii\n",
            "\n",
            "\n",
            "\n",
            "Temperature at :  0.5\n",
            "\n",
            "---Generating with seed: \"\n",
            "öğrettiklerinden başka bizim hiçbir bilgimiz yoktu\"\n",
            "---Original revelation: \n",
            " öğrettiklerinden başka bizim hiçbir bilgimiz yoktur. şüphesiz her şeyi hakkıyla bilen, her şeyi hikm\n",
            "---Predicted revelation: \n",
            "öğrettiklerinden başka bizim hiçbir bilgimiz yoktu’aau.g.y’u) a..v ’.i,,iaun,.a .,a .n  ,iiışia m,.,,idvo ., aâi  a .ei..lo,a(aa.,.(nae ’.i.ı.ı.. . iii ,. ,“nnnaa.ih.. a. .. k i.îai  .,u,e.laiaı..i..n  .,. ..,a.i,.aio,ak(.,)i .i n ,,(..n..a i.ai aaiiı ,nae.î, ,e.in’,..a.,a,a,a,i,iakaa..aaûae,.e,..i.i. i. ..;na  .    ”,aı  meai’,n.i.a(i’n( i( ...,i \n",
            "\n",
            "\n",
            "\n",
            "Temperature at :  1\n",
            "\n",
            "---Generating with seed: \"\n",
            "öğrettiklerinden başka bizim hiçbir bilgimiz yoktu\"\n",
            "---Original revelation: \n",
            " öğrettiklerinden başka bizim hiçbir bilgimiz yoktur. şüphesiz her şeyi hakkıyla bilen, her şeyi hikm\n",
            "---Predicted revelation: \n",
            "öğrettiklerinden başka bizim hiçbir bilgimiz yoktu’a,m’ uayia  . .,,,s;,lo a ,ii; ilî... i,.,:ai(eni(r n  d,,n,.ı ea m,sy.ihd..ri.i,..a, şv..aai..y.: e.ûkin(iai.,î’ ai(iı  e.d.nih.,ava/,’ü  .nsai,a.v( iv(kinâen.i ’,,.(i,a ’u.n.üi. ;ael’, ai  l,,.i îuuaanr,.,ai,.a.,a,m(’.k i.saüksaha.i...c’eaks a.i,svid.lik a ’a;ç(ee,.d,c ., ,aaeu,i ’(.i!anî’n ait,.\n",
            "\n",
            "\n",
            "\n",
            "Temperature at :  1.2\n",
            "\n",
            "---Generating with seed: \"\n",
            "öğrettiklerinden başka bizim hiçbir bilgimiz yoktu\"\n",
            "---Original revelation: \n",
            " öğrettiklerinden başka bizim hiçbir bilgimiz yoktur. şüphesiz her şeyi hakkıyla bilen, her şeyi hikm\n",
            "---Predicted revelation: \n",
            "öğrettiklerinden başka bizim hiçbir bilgimiz yoktu’ıâ., ,e. .a.,ilia.asî.ı.(   a.ikaat;asa ic n(.ud.anz  iaa ,’.,,h ai,g ,is  . n,n.ii.a,s n’u,,üc.û’e i.ço,e ş.(.aia .,  ıt ti  ae  giı.â anru..û.da..ie.,..ne(,ni,aaad.üatiu,.(un’l ,m?.,,.:.ieaoî. urkdm”âra m.na.ta ie haaü st ü)a a.îatv’,s.. t. ee(.,iiei,. afy(a,?;u, y. .v,,i’,(a,. k..a( o iia ann,.o\n",
            "\n",
            "\n",
            "Epoch 13/50\n",
            "555/555 [==============================] - 611s 1s/step - loss: 0.2847 - accuracy: 0.9114 - val_loss: 1.7772 - val_accuracy: 0.5989\n",
            "\n",
            "----Generating text after epoch 12\n",
            "\n",
            "Temperature at :  0.2\n",
            "\n",
            "---Generating with seed: \"\n",
            " gidenler var ya; allah, onları bağışlayacak da de\"\n",
            "---Original revelation: \n",
            "  gidenler var ya; allah, onları bağışlayacak da değildir, doğru yola iletecek de değildir.münafıklar\n",
            "---Predicted revelation: \n",
            " gidenler var ya; allah, onları bağışlayacak da deeeniil.e;i.îaks. a e ee,s.k.e,se î.a’a enaa.(,y,..n,, eti.iiüâns .o  i  , üîark,ııi.ekny.aenda.aâiaa.aenkn.iîv..,, .ed e.:e(aisı:..... .a,...n  eea.innnzi;...uys nzsasn.usssksk.eh.ı...e..e.’e.sâ.snç.’eo.tee,.d.’os. ,tez(ie..i ne,,de’ kmkamâl’.e..si.n(,.ie.dii..n ”a al(nr.ueea üs.,..a,a.oat),n,aasni.\n",
            "\n",
            "\n",
            "\n",
            "Temperature at :  0.5\n",
            "\n",
            "---Generating with seed: \"\n",
            " gidenler var ya; allah, onları bağışlayacak da de\"\n",
            "---Original revelation: \n",
            "  gidenler var ya; allah, onları bağışlayacak da değildir, doğru yola iletecek de değildir.münafıklar\n",
            "---Predicted revelation: \n",
            " gidenler var ya; allah, onları bağışlayacak da deeen.e ,i  ni. eü ey iö.(  a,aak. ,(ae.ü)secdnf..,. d,ekşinn tun(sinn.aa,ckbis.ee.i.se  sii....a,i. î.kssnie iia(ncna,  eü,bi,â .,ş iahr,ia   ski r,ea.s,ae.üiub..,anzâ,. (i ((naeea,,:eaki,:îao,s.s,y,az,..,ee,(iî.s . .u .u,ae(e,en.n,ss  ;ı,..cesi,.,.î, in; ik.’.n(a.zen.,,h,l.eüsaaui(nîı  e,,.,,üozl)i,\n",
            "\n",
            "\n",
            "\n",
            "Temperature at :  1\n",
            "\n",
            "---Generating with seed: \"\n",
            " gidenler var ya; allah, onları bağışlayacak da de\"\n",
            "---Original revelation: \n",
            "  gidenler var ya; allah, onları bağışlayacak da değildir, doğru yola iletecek de değildir.münafıklar\n",
            "---Predicted revelation: \n",
            " gidenler var ya; allah, onları bağışlayacak da de.at.e.a..n,.te.ivcsl)î, atın.aeî,..eenîn  ua,sasvke.yçen.yeb âii,i’,v, tnk.oi.si,’   uu, t,,)(ese.,e.ı,gc:ec,k.h ( a( (.î.. ikaa)  n tdaa.naşu::o.,:n),deaazo,n,..,eî eş.ou,l;sks.,,ks., i./eu.,.e.,.’s.sauüu,k:i.i,.i,âkic.ak(.,aüc.”u,k(?uik,l , ,ne sls.:e.ed :îi. . n” en( n’aktknk”’â.ç .zo,b,eûs.n k a\n",
            "\n",
            "\n",
            "\n",
            "Temperature at :  1.2\n",
            "\n",
            "---Generating with seed: \"\n",
            " gidenler var ya; allah, onları bağışlayacak da de\"\n",
            "---Original revelation: \n",
            "  gidenler var ya; allah, onları bağışlayacak da değildir, doğru yola iletecek de değildir.münafıklar\n",
            "---Predicted revelation: \n",
            " gidenler var ya; allah, onları bağışlayacak da de.at,.dk.a’au(eii’lk. snienieiiii.ksea’.e îs;:d m....aü.,o ag,.. thî . ..  al.  l sei.o(îî,eö.,eç(k..(.z,,dî.ga,iâo isc. îa.a ıudnny,.voe.ieîc n.u.ings .m. aia,l.laaa’a)ei ı ; m.is.  eelseîneun(.aa,sbtaln.îezideî.a n,?,(ue.û,u .aidnnlaz.,a..eîo..(,,(.dû:o’.şüe.,y(shle, ts, z;nyeı..e’.s (iana ae‘ ,kne\n",
            "\n",
            "\n"
          ],
          "name": "stdout"
        },
        {
          "output_type": "execute_result",
          "data": {
            "text/plain": [
              "<tensorflow.python.keras.callbacks.History at 0x7f1640067a58>"
            ]
          },
          "metadata": {
            "tags": []
          },
          "execution_count": 33
        }
      ]
    },
    {
      "cell_type": "code",
      "metadata": {
        "id": "wbgyYBkPYlqg"
      },
      "source": [
        ""
      ],
      "execution_count": null,
      "outputs": []
    },
    {
      "cell_type": "code",
      "metadata": {
        "id": "q7X-cD1lYlrM"
      },
      "source": [
        ""
      ],
      "execution_count": null,
      "outputs": []
    },
    {
      "cell_type": "code",
      "metadata": {
        "id": "dz_uGxyqYlr2"
      },
      "source": [
        ""
      ],
      "execution_count": null,
      "outputs": []
    },
    {
      "cell_type": "code",
      "metadata": {
        "id": "juhCYOM0Ylsg"
      },
      "source": [
        ""
      ],
      "execution_count": null,
      "outputs": []
    },
    {
      "cell_type": "code",
      "metadata": {
        "id": "1zenaXPKYlub"
      },
      "source": [
        ""
      ],
      "execution_count": null,
      "outputs": []
    },
    {
      "cell_type": "code",
      "metadata": {
        "id": "LSbMRymEYlvE"
      },
      "source": [
        ""
      ],
      "execution_count": null,
      "outputs": []
    },
    {
      "cell_type": "code",
      "metadata": {
        "id": "1LSOtyU9Ylvt"
      },
      "source": [
        ""
      ],
      "execution_count": null,
      "outputs": []
    },
    {
      "cell_type": "code",
      "metadata": {
        "id": "GawqeUBMYlwY"
      },
      "source": [
        ""
      ],
      "execution_count": null,
      "outputs": []
    },
    {
      "cell_type": "code",
      "metadata": {
        "id": "HOJDL1rvYlxD"
      },
      "source": [
        ""
      ],
      "execution_count": null,
      "outputs": []
    },
    {
      "cell_type": "code",
      "metadata": {
        "id": "o5vzc7QpYlxs"
      },
      "source": [
        ""
      ],
      "execution_count": null,
      "outputs": []
    },
    {
      "cell_type": "code",
      "metadata": {
        "id": "Kk3lCKsrYly6"
      },
      "source": [
        ""
      ],
      "execution_count": null,
      "outputs": []
    },
    {
      "cell_type": "code",
      "metadata": {
        "id": "kMrnXULAYlzn"
      },
      "source": [
        ""
      ],
      "execution_count": null,
      "outputs": []
    },
    {
      "cell_type": "code",
      "metadata": {
        "id": "bSQ3fKshYl0P"
      },
      "source": [
        ""
      ],
      "execution_count": null,
      "outputs": []
    },
    {
      "cell_type": "code",
      "metadata": {
        "id": "mCW84eG4Yl07"
      },
      "source": [
        ""
      ],
      "execution_count": null,
      "outputs": []
    },
    {
      "cell_type": "code",
      "metadata": {
        "id": "SM-U6CtGYl1k"
      },
      "source": [
        ""
      ],
      "execution_count": null,
      "outputs": []
    },
    {
      "cell_type": "code",
      "metadata": {
        "id": "fVGbs7YkYl2O"
      },
      "source": [
        ""
      ],
      "execution_count": null,
      "outputs": []
    },
    {
      "cell_type": "code",
      "metadata": {
        "id": "6JZ-6bFkYl27"
      },
      "source": [
        ""
      ],
      "execution_count": null,
      "outputs": []
    },
    {
      "cell_type": "code",
      "metadata": {
        "id": "kXlunTSVYl3l"
      },
      "source": [
        ""
      ],
      "execution_count": null,
      "outputs": []
    },
    {
      "cell_type": "code",
      "metadata": {
        "id": "E6me88NCYl4T"
      },
      "source": [
        ""
      ],
      "execution_count": null,
      "outputs": []
    },
    {
      "cell_type": "code",
      "metadata": {
        "id": "RDk1v9x1Yl4_"
      },
      "source": [
        ""
      ],
      "execution_count": null,
      "outputs": []
    },
    {
      "cell_type": "code",
      "metadata": {
        "id": "-OvtIjp0Yl5s"
      },
      "source": [
        ""
      ],
      "execution_count": null,
      "outputs": []
    },
    {
      "cell_type": "code",
      "metadata": {
        "id": "yPSAujP9Yl6Z"
      },
      "source": [
        ""
      ],
      "execution_count": null,
      "outputs": []
    },
    {
      "cell_type": "code",
      "metadata": {
        "id": "JpUOLlU8Yl7I"
      },
      "source": [
        ""
      ],
      "execution_count": null,
      "outputs": []
    },
    {
      "cell_type": "code",
      "metadata": {
        "id": "L81g01zVYl7z"
      },
      "source": [
        ""
      ],
      "execution_count": null,
      "outputs": []
    },
    {
      "cell_type": "code",
      "metadata": {
        "id": "70tNshoBYl8h"
      },
      "source": [
        ""
      ],
      "execution_count": null,
      "outputs": []
    },
    {
      "cell_type": "code",
      "metadata": {
        "id": "zcUzEHV9Yl9O"
      },
      "source": [
        ""
      ],
      "execution_count": null,
      "outputs": []
    },
    {
      "cell_type": "code",
      "metadata": {
        "id": "sd4yO7wSYl98"
      },
      "source": [
        ""
      ],
      "execution_count": null,
      "outputs": []
    },
    {
      "cell_type": "code",
      "metadata": {
        "id": "eaeq4F9OYl-v"
      },
      "source": [
        ""
      ],
      "execution_count": null,
      "outputs": []
    },
    {
      "cell_type": "code",
      "metadata": {
        "id": "ste4T5GzYl_c"
      },
      "source": [
        ""
      ],
      "execution_count": null,
      "outputs": []
    },
    {
      "cell_type": "code",
      "metadata": {
        "id": "pXnSRKL5YmAM"
      },
      "source": [
        ""
      ],
      "execution_count": null,
      "outputs": []
    },
    {
      "cell_type": "code",
      "metadata": {
        "id": "vvUd9aJVYmA6"
      },
      "source": [
        ""
      ],
      "execution_count": null,
      "outputs": []
    },
    {
      "cell_type": "code",
      "metadata": {
        "id": "sJT6UzUAYmBn"
      },
      "source": [
        ""
      ],
      "execution_count": null,
      "outputs": []
    },
    {
      "cell_type": "code",
      "metadata": {
        "id": "jUeDPHPqYmCY"
      },
      "source": [
        ""
      ],
      "execution_count": null,
      "outputs": []
    },
    {
      "cell_type": "code",
      "metadata": {
        "id": "gDPRogE7YmDM"
      },
      "source": [
        ""
      ],
      "execution_count": null,
      "outputs": []
    },
    {
      "cell_type": "code",
      "metadata": {
        "id": "MG4Pp-KRVACu"
      },
      "source": [
        ""
      ],
      "execution_count": null,
      "outputs": []
    },
    {
      "cell_type": "code",
      "metadata": {
        "id": "wFTA1xVcVADa"
      },
      "source": [
        ""
      ],
      "execution_count": null,
      "outputs": []
    },
    {
      "cell_type": "code",
      "metadata": {
        "id": "c6BD7-ZVVAEI"
      },
      "source": [
        ""
      ],
      "execution_count": null,
      "outputs": []
    },
    {
      "cell_type": "code",
      "metadata": {
        "id": "pzaV-e1JVAE3"
      },
      "source": [
        ""
      ],
      "execution_count": null,
      "outputs": []
    },
    {
      "cell_type": "code",
      "metadata": {
        "id": "oflDBiumVAFm"
      },
      "source": [
        ""
      ],
      "execution_count": null,
      "outputs": []
    },
    {
      "cell_type": "code",
      "metadata": {
        "id": "vTe6c7D3VAGT"
      },
      "source": [
        ""
      ],
      "execution_count": null,
      "outputs": []
    },
    {
      "cell_type": "code",
      "metadata": {
        "id": "2EbDrZm1VAHB"
      },
      "source": [
        ""
      ],
      "execution_count": null,
      "outputs": []
    },
    {
      "cell_type": "code",
      "metadata": {
        "id": "lIrqNe-PVAHw"
      },
      "source": [
        ""
      ],
      "execution_count": null,
      "outputs": []
    },
    {
      "cell_type": "code",
      "metadata": {
        "id": "YxvB6sSGVAIh"
      },
      "source": [
        ""
      ],
      "execution_count": null,
      "outputs": []
    }
  ]
}