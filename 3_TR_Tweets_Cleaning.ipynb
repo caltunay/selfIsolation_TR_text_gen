{
  "nbformat": 4,
  "nbformat_minor": 0,
  "metadata": {
    "colab": {
      "name": "3 - TR Tweets Cleaning.ipynb",
      "provenance": [],
      "collapsed_sections": [
        "6fvlgw6EJYas"
      ],
      "mount_file_id": "1Jr8js6zEkmXWWWl_QMKIFQe8Z7BVOqMb",
      "authorship_tag": "ABX9TyOUI9VAfbPOzjicvWJQ4gPf",
      "include_colab_link": true
    },
    "kernelspec": {
      "name": "python3",
      "display_name": "Python 3"
    },
    "widgets": {
      "application/vnd.jupyter.widget-state+json": {
        "fd9c3a40ee794ca980921a61e5f6c3da": {
          "model_module": "@jupyter-widgets/controls",
          "model_name": "HBoxModel",
          "state": {
            "_view_name": "HBoxView",
            "_dom_classes": [],
            "_model_name": "HBoxModel",
            "_view_module": "@jupyter-widgets/controls",
            "_model_module_version": "1.5.0",
            "_view_count": null,
            "_view_module_version": "1.5.0",
            "box_style": "",
            "layout": "IPY_MODEL_42a692c76d8d403c9a0b9de76c35512f",
            "_model_module": "@jupyter-widgets/controls",
            "children": [
              "IPY_MODEL_5278b6d373754e968dc3b974e7c7cbbf",
              "IPY_MODEL_781ed50e5e074f58b537d1b9aac4c497",
              "IPY_MODEL_0ca3da2bfab846b3a7c3c4a7162d32b5"
            ]
          }
        },
        "42a692c76d8d403c9a0b9de76c35512f": {
          "model_module": "@jupyter-widgets/base",
          "model_name": "LayoutModel",
          "state": {
            "_view_name": "LayoutView",
            "grid_template_rows": null,
            "right": null,
            "justify_content": null,
            "_view_module": "@jupyter-widgets/base",
            "overflow": null,
            "_model_module_version": "1.2.0",
            "_view_count": null,
            "flex_flow": null,
            "width": null,
            "min_width": null,
            "border": null,
            "align_items": null,
            "bottom": null,
            "_model_module": "@jupyter-widgets/base",
            "top": null,
            "grid_column": null,
            "overflow_y": null,
            "overflow_x": null,
            "grid_auto_flow": null,
            "grid_area": null,
            "grid_template_columns": null,
            "flex": null,
            "_model_name": "LayoutModel",
            "justify_items": null,
            "grid_row": null,
            "max_height": null,
            "align_content": null,
            "visibility": null,
            "align_self": null,
            "height": null,
            "min_height": null,
            "padding": null,
            "grid_auto_rows": null,
            "grid_gap": null,
            "max_width": null,
            "order": null,
            "_view_module_version": "1.2.0",
            "grid_template_areas": null,
            "object_position": null,
            "object_fit": null,
            "grid_auto_columns": null,
            "margin": null,
            "display": null,
            "left": null
          }
        },
        "5278b6d373754e968dc3b974e7c7cbbf": {
          "model_module": "@jupyter-widgets/controls",
          "model_name": "HTMLModel",
          "state": {
            "_view_name": "HTMLView",
            "style": "IPY_MODEL_3fad8992eb834059aa473812cc7e2226",
            "_dom_classes": [],
            "description": "",
            "_model_name": "HTMLModel",
            "placeholder": "​",
            "_view_module": "@jupyter-widgets/controls",
            "_model_module_version": "1.5.0",
            "value": "Summarize dataset:  32%",
            "_view_count": null,
            "_view_module_version": "1.5.0",
            "description_tooltip": null,
            "_model_module": "@jupyter-widgets/controls",
            "layout": "IPY_MODEL_ce162bed5c1641d09c22e01d32173b4f"
          }
        },
        "781ed50e5e074f58b537d1b9aac4c497": {
          "model_module": "@jupyter-widgets/controls",
          "model_name": "FloatProgressModel",
          "state": {
            "_view_name": "ProgressView",
            "style": "IPY_MODEL_7a520f1e731943fb879fc4cd88a90e01",
            "_dom_classes": [],
            "description": "",
            "_model_name": "FloatProgressModel",
            "bar_style": "",
            "max": 25,
            "_view_module": "@jupyter-widgets/controls",
            "_model_module_version": "1.5.0",
            "value": 8,
            "_view_count": null,
            "_view_module_version": "1.5.0",
            "orientation": "horizontal",
            "min": 0,
            "description_tooltip": null,
            "_model_module": "@jupyter-widgets/controls",
            "layout": "IPY_MODEL_a12f1b59deb9492399975112f339d889"
          }
        },
        "0ca3da2bfab846b3a7c3c4a7162d32b5": {
          "model_module": "@jupyter-widgets/controls",
          "model_name": "HTMLModel",
          "state": {
            "_view_name": "HTMLView",
            "style": "IPY_MODEL_7a4cd5a4c1a64376ba4e0e872cad964c",
            "_dom_classes": [],
            "description": "",
            "_model_name": "HTMLModel",
            "placeholder": "​",
            "_view_module": "@jupyter-widgets/controls",
            "_model_module_version": "1.5.0",
            "value": " 8/25 [00:00&lt;00:00, 21.70it/s, Describe variable:in_reply_to_status_id_str]",
            "_view_count": null,
            "_view_module_version": "1.5.0",
            "description_tooltip": null,
            "_model_module": "@jupyter-widgets/controls",
            "layout": "IPY_MODEL_c752439cd6d04bb08885fd6703b94794"
          }
        },
        "3fad8992eb834059aa473812cc7e2226": {
          "model_module": "@jupyter-widgets/controls",
          "model_name": "DescriptionStyleModel",
          "state": {
            "_view_name": "StyleView",
            "_model_name": "DescriptionStyleModel",
            "description_width": "",
            "_view_module": "@jupyter-widgets/base",
            "_model_module_version": "1.5.0",
            "_view_count": null,
            "_view_module_version": "1.2.0",
            "_model_module": "@jupyter-widgets/controls"
          }
        },
        "ce162bed5c1641d09c22e01d32173b4f": {
          "model_module": "@jupyter-widgets/base",
          "model_name": "LayoutModel",
          "state": {
            "_view_name": "LayoutView",
            "grid_template_rows": null,
            "right": null,
            "justify_content": null,
            "_view_module": "@jupyter-widgets/base",
            "overflow": null,
            "_model_module_version": "1.2.0",
            "_view_count": null,
            "flex_flow": null,
            "width": null,
            "min_width": null,
            "border": null,
            "align_items": null,
            "bottom": null,
            "_model_module": "@jupyter-widgets/base",
            "top": null,
            "grid_column": null,
            "overflow_y": null,
            "overflow_x": null,
            "grid_auto_flow": null,
            "grid_area": null,
            "grid_template_columns": null,
            "flex": null,
            "_model_name": "LayoutModel",
            "justify_items": null,
            "grid_row": null,
            "max_height": null,
            "align_content": null,
            "visibility": null,
            "align_self": null,
            "height": null,
            "min_height": null,
            "padding": null,
            "grid_auto_rows": null,
            "grid_gap": null,
            "max_width": null,
            "order": null,
            "_view_module_version": "1.2.0",
            "grid_template_areas": null,
            "object_position": null,
            "object_fit": null,
            "grid_auto_columns": null,
            "margin": null,
            "display": null,
            "left": null
          }
        },
        "7a520f1e731943fb879fc4cd88a90e01": {
          "model_module": "@jupyter-widgets/controls",
          "model_name": "ProgressStyleModel",
          "state": {
            "_view_name": "StyleView",
            "_model_name": "ProgressStyleModel",
            "description_width": "",
            "_view_module": "@jupyter-widgets/base",
            "_model_module_version": "1.5.0",
            "_view_count": null,
            "_view_module_version": "1.2.0",
            "bar_color": null,
            "_model_module": "@jupyter-widgets/controls"
          }
        },
        "a12f1b59deb9492399975112f339d889": {
          "model_module": "@jupyter-widgets/base",
          "model_name": "LayoutModel",
          "state": {
            "_view_name": "LayoutView",
            "grid_template_rows": null,
            "right": null,
            "justify_content": null,
            "_view_module": "@jupyter-widgets/base",
            "overflow": null,
            "_model_module_version": "1.2.0",
            "_view_count": null,
            "flex_flow": null,
            "width": null,
            "min_width": null,
            "border": null,
            "align_items": null,
            "bottom": null,
            "_model_module": "@jupyter-widgets/base",
            "top": null,
            "grid_column": null,
            "overflow_y": null,
            "overflow_x": null,
            "grid_auto_flow": null,
            "grid_area": null,
            "grid_template_columns": null,
            "flex": null,
            "_model_name": "LayoutModel",
            "justify_items": null,
            "grid_row": null,
            "max_height": null,
            "align_content": null,
            "visibility": null,
            "align_self": null,
            "height": null,
            "min_height": null,
            "padding": null,
            "grid_auto_rows": null,
            "grid_gap": null,
            "max_width": null,
            "order": null,
            "_view_module_version": "1.2.0",
            "grid_template_areas": null,
            "object_position": null,
            "object_fit": null,
            "grid_auto_columns": null,
            "margin": null,
            "display": null,
            "left": null
          }
        },
        "7a4cd5a4c1a64376ba4e0e872cad964c": {
          "model_module": "@jupyter-widgets/controls",
          "model_name": "DescriptionStyleModel",
          "state": {
            "_view_name": "StyleView",
            "_model_name": "DescriptionStyleModel",
            "description_width": "",
            "_view_module": "@jupyter-widgets/base",
            "_model_module_version": "1.5.0",
            "_view_count": null,
            "_view_module_version": "1.2.0",
            "_model_module": "@jupyter-widgets/controls"
          }
        },
        "c752439cd6d04bb08885fd6703b94794": {
          "model_module": "@jupyter-widgets/base",
          "model_name": "LayoutModel",
          "state": {
            "_view_name": "LayoutView",
            "grid_template_rows": null,
            "right": null,
            "justify_content": null,
            "_view_module": "@jupyter-widgets/base",
            "overflow": null,
            "_model_module_version": "1.2.0",
            "_view_count": null,
            "flex_flow": null,
            "width": null,
            "min_width": null,
            "border": null,
            "align_items": null,
            "bottom": null,
            "_model_module": "@jupyter-widgets/base",
            "top": null,
            "grid_column": null,
            "overflow_y": null,
            "overflow_x": null,
            "grid_auto_flow": null,
            "grid_area": null,
            "grid_template_columns": null,
            "flex": null,
            "_model_name": "LayoutModel",
            "justify_items": null,
            "grid_row": null,
            "max_height": null,
            "align_content": null,
            "visibility": null,
            "align_self": null,
            "height": null,
            "min_height": null,
            "padding": null,
            "grid_auto_rows": null,
            "grid_gap": null,
            "max_width": null,
            "order": null,
            "_view_module_version": "1.2.0",
            "grid_template_areas": null,
            "object_position": null,
            "object_fit": null,
            "grid_auto_columns": null,
            "margin": null,
            "display": null,
            "left": null
          }
        }
      }
    }
  },
  "cells": [
    {
      "cell_type": "markdown",
      "metadata": {
        "id": "view-in-github",
        "colab_type": "text"
      },
      "source": [
        "<a href=\"https://colab.research.google.com/github/caltunay/selfIsolation_TR_text_gen/blob/main/3_TR_Tweets_Cleaning.ipynb\" target=\"_parent\"><img src=\"https://colab.research.google.com/assets/colab-badge.svg\" alt=\"Open In Colab\"/></a>"
      ]
    },
    {
      "cell_type": "code",
      "metadata": {
        "id": "sBhFCHYktKuw"
      },
      "source": [
        "import pandas as pd\r\n",
        "import numpy as np\r\n",
        "import matplotlib.pyplot as plt\r\n",
        "import seaborn as sns"
      ],
      "execution_count": null,
      "outputs": []
    },
    {
      "cell_type": "code",
      "metadata": {
        "colab": {
          "base_uri": "https://localhost:8080/",
          "height": 434
        },
        "id": "Zf7xQSKYtLaU",
        "outputId": "1123e3d2-95ac-4291-9618-ac3e323a822b"
      },
      "source": [
        "path = '/content/drive/MyDrive/Colab Notebooks/Tweet Generator - TR/kazakerkegi_zaytung.csv'\r\n",
        "df = pd.read_csv(path)\r\n",
        "df.sample(3)"
      ],
      "execution_count": null,
      "outputs": [
        {
          "output_type": "execute_result",
          "data": {
            "text/html": [
              "<div>\n",
              "<style scoped>\n",
              "    .dataframe tbody tr th:only-of-type {\n",
              "        vertical-align: middle;\n",
              "    }\n",
              "\n",
              "    .dataframe tbody tr th {\n",
              "        vertical-align: top;\n",
              "    }\n",
              "\n",
              "    .dataframe thead th {\n",
              "        text-align: right;\n",
              "    }\n",
              "</style>\n",
              "<table border=\"1\" class=\"dataframe\">\n",
              "  <thead>\n",
              "    <tr style=\"text-align: right;\">\n",
              "      <th></th>\n",
              "      <th>Unnamed: 0</th>\n",
              "      <th>author</th>\n",
              "      <th>favorite_count</th>\n",
              "      <th>id</th>\n",
              "      <th>id_str</th>\n",
              "      <th>in_reply_to_screen_name</th>\n",
              "      <th>in_reply_to_status_id</th>\n",
              "      <th>in_reply_to_status_id_str</th>\n",
              "      <th>in_reply_to_user_id</th>\n",
              "      <th>in_reply_to_user_id_str</th>\n",
              "      <th>lang</th>\n",
              "      <th>quoted_status_id</th>\n",
              "      <th>quoted_status_id_str</th>\n",
              "      <th>retweet_count</th>\n",
              "      <th>source</th>\n",
              "      <th>source_url</th>\n",
              "      <th>text</th>\n",
              "      <th>user</th>\n",
              "    </tr>\n",
              "  </thead>\n",
              "  <tbody>\n",
              "    <tr>\n",
              "      <th>2552</th>\n",
              "      <td>69</td>\n",
              "      <td>zaytung</td>\n",
              "      <td>6237.0</td>\n",
              "      <td>1.333734e+18</td>\n",
              "      <td>1333734413365022720</td>\n",
              "      <td>NaN</td>\n",
              "      <td>NaN</td>\n",
              "      <td>NaN</td>\n",
              "      <td>NaN</td>\n",
              "      <td>NaN</td>\n",
              "      <td>tr</td>\n",
              "      <td>NaN</td>\n",
              "      <td>NaN</td>\n",
              "      <td>780.0</td>\n",
              "      <td>Twitter Web App</td>\n",
              "      <td>https://mobile.twitter.com</td>\n",
              "      <td>FotoHaber - Cengiz Holding'in 15-20 milyon TL'...</td>\n",
              "      <td>zaytung</td>\n",
              "    </tr>\n",
              "    <tr>\n",
              "      <th>4687</th>\n",
              "      <td>2204</td>\n",
              "      <td>zaytung</td>\n",
              "      <td>610.0</td>\n",
              "      <td>9.524243e+17</td>\n",
              "      <td>952424336417349633</td>\n",
              "      <td>NaN</td>\n",
              "      <td>NaN</td>\n",
              "      <td>NaN</td>\n",
              "      <td>NaN</td>\n",
              "      <td>NaN</td>\n",
              "      <td>tr</td>\n",
              "      <td>NaN</td>\n",
              "      <td>NaN</td>\n",
              "      <td>103.0</td>\n",
              "      <td>Twitter Web Client</td>\n",
              "      <td>http://twitter.com</td>\n",
              "      <td>Dergi - Sağlık (Ocak 2018) - Derginizle birlik...</td>\n",
              "      <td>zaytung</td>\n",
              "    </tr>\n",
              "    <tr>\n",
              "      <th>5064</th>\n",
              "      <td>2581</td>\n",
              "      <td>zaytung</td>\n",
              "      <td>2019.0</td>\n",
              "      <td>9.022697e+17</td>\n",
              "      <td>902269676369084417</td>\n",
              "      <td>NaN</td>\n",
              "      <td>NaN</td>\n",
              "      <td>NaN</td>\n",
              "      <td>NaN</td>\n",
              "      <td>NaN</td>\n",
              "      <td>tr</td>\n",
              "      <td>NaN</td>\n",
              "      <td>NaN</td>\n",
              "      <td>400.0</td>\n",
              "      <td>Twitter Web Client</td>\n",
              "      <td>http://twitter.com</td>\n",
              "      <td>En Ayırt Edici Özelliği Game of Thrones İzleme...</td>\n",
              "      <td>zaytung</td>\n",
              "    </tr>\n",
              "  </tbody>\n",
              "</table>\n",
              "</div>"
            ],
            "text/plain": [
              "      Unnamed: 0  ...     user\n",
              "2552          69  ...  zaytung\n",
              "4687        2204  ...  zaytung\n",
              "5064        2581  ...  zaytung\n",
              "\n",
              "[3 rows x 18 columns]"
            ]
          },
          "metadata": {
            "tags": []
          },
          "execution_count": 2
        }
      ]
    },
    {
      "cell_type": "code",
      "metadata": {
        "colab": {
          "base_uri": "https://localhost:8080/",
          "height": 419
        },
        "id": "Jy1wXCYgtLiC",
        "outputId": "103f3cda-43b0-498b-a22e-08de31fa718b"
      },
      "source": [
        "df = df['author favorite_count retweet_count source text in_reply_to_screen_name\tin_reply_to_status_id\tin_reply_to_status_id_str\tin_reply_to_user_id\tin_reply_to_user_id_str\t'.split()].sample(frac = 1)\r\n",
        "# df[['source', 'text']].sort_values(by = 'source')\r\n",
        "df"
      ],
      "execution_count": null,
      "outputs": [
        {
          "output_type": "execute_result",
          "data": {
            "text/html": [
              "<div>\n",
              "<style scoped>\n",
              "    .dataframe tbody tr th:only-of-type {\n",
              "        vertical-align: middle;\n",
              "    }\n",
              "\n",
              "    .dataframe tbody tr th {\n",
              "        vertical-align: top;\n",
              "    }\n",
              "\n",
              "    .dataframe thead th {\n",
              "        text-align: right;\n",
              "    }\n",
              "</style>\n",
              "<table border=\"1\" class=\"dataframe\">\n",
              "  <thead>\n",
              "    <tr style=\"text-align: right;\">\n",
              "      <th></th>\n",
              "      <th>author</th>\n",
              "      <th>favorite_count</th>\n",
              "      <th>retweet_count</th>\n",
              "      <th>source</th>\n",
              "      <th>text</th>\n",
              "      <th>in_reply_to_screen_name</th>\n",
              "      <th>in_reply_to_status_id</th>\n",
              "      <th>in_reply_to_status_id_str</th>\n",
              "      <th>in_reply_to_user_id</th>\n",
              "      <th>in_reply_to_user_id_str</th>\n",
              "    </tr>\n",
              "  </thead>\n",
              "  <tbody>\n",
              "    <tr>\n",
              "      <th>1180</th>\n",
              "      <td>kazakerkegi</td>\n",
              "      <td>1400.0</td>\n",
              "      <td>89.0</td>\n",
              "      <td>Twitter for iPhone</td>\n",
              "      <td>muharrem ince otobüsün üstünde halka seslenirk...</td>\n",
              "      <td>NaN</td>\n",
              "      <td>NaN</td>\n",
              "      <td>NaN</td>\n",
              "      <td>NaN</td>\n",
              "      <td>NaN</td>\n",
              "    </tr>\n",
              "    <tr>\n",
              "      <th>2810</th>\n",
              "      <td>zaytung</td>\n",
              "      <td>855.0</td>\n",
              "      <td>44.0</td>\n",
              "      <td>Twitter Web App</td>\n",
              "      <td>Tercih Döneminde Gelenek Yine Bozulmadı: 100'd...</td>\n",
              "      <td>NaN</td>\n",
              "      <td>NaN</td>\n",
              "      <td>NaN</td>\n",
              "      <td>NaN</td>\n",
              "      <td>NaN</td>\n",
              "    </tr>\n",
              "    <tr>\n",
              "      <th>3703</th>\n",
              "      <td>zaytung</td>\n",
              "      <td>1749.0</td>\n",
              "      <td>307.0</td>\n",
              "      <td>Twitter Web Client</td>\n",
              "      <td>Ektiği Kin ve Nefret Tohumlarından İlk Teröris...</td>\n",
              "      <td>NaN</td>\n",
              "      <td>NaN</td>\n",
              "      <td>NaN</td>\n",
              "      <td>NaN</td>\n",
              "      <td>NaN</td>\n",
              "    </tr>\n",
              "    <tr>\n",
              "      <th>2773</th>\n",
              "      <td>zaytung</td>\n",
              "      <td>4077.0</td>\n",
              "      <td>551.0</td>\n",
              "      <td>Twitter Web App</td>\n",
              "      <td>Son Dakika - AK Parti Geleneksel \"Evet ülkede ...</td>\n",
              "      <td>NaN</td>\n",
              "      <td>NaN</td>\n",
              "      <td>NaN</td>\n",
              "      <td>NaN</td>\n",
              "      <td>NaN</td>\n",
              "    </tr>\n",
              "    <tr>\n",
              "      <th>3915</th>\n",
              "      <td>zaytung</td>\n",
              "      <td>484.0</td>\n",
              "      <td>44.0</td>\n",
              "      <td>Twitter Web Client</td>\n",
              "      <td>Gamze Üldür(28), 2-3 Hafta Boş Ümitlerle Oyala...</td>\n",
              "      <td>NaN</td>\n",
              "      <td>NaN</td>\n",
              "      <td>NaN</td>\n",
              "      <td>NaN</td>\n",
              "      <td>NaN</td>\n",
              "    </tr>\n",
              "    <tr>\n",
              "      <th>...</th>\n",
              "      <td>...</td>\n",
              "      <td>...</td>\n",
              "      <td>...</td>\n",
              "      <td>...</td>\n",
              "      <td>...</td>\n",
              "      <td>...</td>\n",
              "      <td>...</td>\n",
              "      <td>...</td>\n",
              "      <td>...</td>\n",
              "      <td>...</td>\n",
              "    </tr>\n",
              "    <tr>\n",
              "      <th>4892</th>\n",
              "      <td>zaytung</td>\n",
              "      <td>327.0</td>\n",
              "      <td>63.0</td>\n",
              "      <td>Twitter Web Client</td>\n",
              "      <td>Türkiye'ye Bir Müjde Daha: Konut Dışında Başka...</td>\n",
              "      <td>NaN</td>\n",
              "      <td>NaN</td>\n",
              "      <td>NaN</td>\n",
              "      <td>NaN</td>\n",
              "      <td>NaN</td>\n",
              "    </tr>\n",
              "    <tr>\n",
              "      <th>4777</th>\n",
              "      <td>zaytung</td>\n",
              "      <td>333.0</td>\n",
              "      <td>72.0</td>\n",
              "      <td>Twitter Web Client</td>\n",
              "      <td>Halkın Sesi - Bilecik Valisi'nden radikal öner...</td>\n",
              "      <td>NaN</td>\n",
              "      <td>NaN</td>\n",
              "      <td>NaN</td>\n",
              "      <td>NaN</td>\n",
              "      <td>NaN</td>\n",
              "    </tr>\n",
              "    <tr>\n",
              "      <th>1123</th>\n",
              "      <td>kazakerkegi</td>\n",
              "      <td>7137.0</td>\n",
              "      <td>777.0</td>\n",
              "      <td>Twitter for iPhone</td>\n",
              "      <td>hedef kitleye ulaşılmıştır arkadaşlar. işlem t...</td>\n",
              "      <td>NaN</td>\n",
              "      <td>NaN</td>\n",
              "      <td>NaN</td>\n",
              "      <td>NaN</td>\n",
              "      <td>NaN</td>\n",
              "    </tr>\n",
              "    <tr>\n",
              "      <th>4901</th>\n",
              "      <td>zaytung</td>\n",
              "      <td>229.0</td>\n",
              "      <td>32.0</td>\n",
              "      <td>Twitter Web Client</td>\n",
              "      <td>Blog - Ekonomiyi Protesto Amaçlı Fırlatılabile...</td>\n",
              "      <td>NaN</td>\n",
              "      <td>NaN</td>\n",
              "      <td>NaN</td>\n",
              "      <td>NaN</td>\n",
              "      <td>NaN</td>\n",
              "    </tr>\n",
              "    <tr>\n",
              "      <th>830</th>\n",
              "      <td>kazakerkegi</td>\n",
              "      <td>1061.0</td>\n",
              "      <td>51.0</td>\n",
              "      <td>Twitter for iPhone</td>\n",
              "      <td>https://t.co/CST3kf4byo</td>\n",
              "      <td>NaN</td>\n",
              "      <td>NaN</td>\n",
              "      <td>NaN</td>\n",
              "      <td>NaN</td>\n",
              "      <td>NaN</td>\n",
              "    </tr>\n",
              "  </tbody>\n",
              "</table>\n",
              "<p>5702 rows × 10 columns</p>\n",
              "</div>"
            ],
            "text/plain": [
              "           author  favorite_count  ...  in_reply_to_user_id in_reply_to_user_id_str\n",
              "1180  kazakerkegi          1400.0  ...                  NaN                     NaN\n",
              "2810      zaytung           855.0  ...                  NaN                     NaN\n",
              "3703      zaytung          1749.0  ...                  NaN                     NaN\n",
              "2773      zaytung          4077.0  ...                  NaN                     NaN\n",
              "3915      zaytung           484.0  ...                  NaN                     NaN\n",
              "...           ...             ...  ...                  ...                     ...\n",
              "4892      zaytung           327.0  ...                  NaN                     NaN\n",
              "4777      zaytung           333.0  ...                  NaN                     NaN\n",
              "1123  kazakerkegi          7137.0  ...                  NaN                     NaN\n",
              "4901      zaytung           229.0  ...                  NaN                     NaN\n",
              "830   kazakerkegi          1061.0  ...                  NaN                     NaN\n",
              "\n",
              "[5702 rows x 10 columns]"
            ]
          },
          "metadata": {
            "tags": []
          },
          "execution_count": 4
        }
      ]
    },
    {
      "cell_type": "code",
      "metadata": {
        "id": "iacNxMvJtLiq"
      },
      "source": [
        "!pip install pandas_profiling==2.9"
      ],
      "execution_count": null,
      "outputs": []
    },
    {
      "cell_type": "code",
      "metadata": {
        "id": "SvOO9z9xtLjO"
      },
      "source": [
        "from pandas_profiling import ProfileReport"
      ],
      "execution_count": null,
      "outputs": []
    },
    {
      "cell_type": "code",
      "metadata": {
        "colab": {
          "base_uri": "https://localhost:8080/",
          "height": 49,
          "referenced_widgets": [
            "fd9c3a40ee794ca980921a61e5f6c3da",
            "42a692c76d8d403c9a0b9de76c35512f",
            "5278b6d373754e968dc3b974e7c7cbbf",
            "781ed50e5e074f58b537d1b9aac4c497",
            "0ca3da2bfab846b3a7c3c4a7162d32b5",
            "3fad8992eb834059aa473812cc7e2226",
            "ce162bed5c1641d09c22e01d32173b4f",
            "7a520f1e731943fb879fc4cd88a90e01",
            "a12f1b59deb9492399975112f339d889",
            "7a4cd5a4c1a64376ba4e0e872cad964c",
            "c752439cd6d04bb08885fd6703b94794"
          ]
        },
        "id": "lsKO9uUctLjv",
        "outputId": "6964b33f-9fbd-4df7-c585-bec0f0d4a7d4"
      },
      "source": [
        "rep = ProfileReport(df)\r\n",
        "rep"
      ],
      "execution_count": null,
      "outputs": [
        {
          "output_type": "display_data",
          "data": {
            "application/vnd.jupyter.widget-view+json": {
              "model_id": "fd9c3a40ee794ca980921a61e5f6c3da",
              "version_minor": 0,
              "version_major": 2
            },
            "text/plain": [
              "Summarize dataset:   0%|          | 0/25 [00:00<?, ?it/s]"
            ]
          },
          "metadata": {
            "tags": []
          }
        }
      ]
    },
    {
      "cell_type": "code",
      "metadata": {
        "colab": {
          "base_uri": "https://localhost:8080/",
          "height": 456
        },
        "id": "GVIuJgnWtLk1",
        "outputId": "d8450adf-345c-4d77-a016-d022d3efab19"
      },
      "source": [
        "df[df[['in_reply_to_screen_name']].notnull()]"
      ],
      "execution_count": null,
      "outputs": [
        {
          "output_type": "execute_result",
          "data": {
            "text/html": [
              "<div>\n",
              "<style scoped>\n",
              "    .dataframe tbody tr th:only-of-type {\n",
              "        vertical-align: middle;\n",
              "    }\n",
              "\n",
              "    .dataframe tbody tr th {\n",
              "        vertical-align: top;\n",
              "    }\n",
              "\n",
              "    .dataframe thead th {\n",
              "        text-align: right;\n",
              "    }\n",
              "</style>\n",
              "<table border=\"1\" class=\"dataframe\">\n",
              "  <thead>\n",
              "    <tr style=\"text-align: right;\">\n",
              "      <th></th>\n",
              "      <th>Unnamed: 0</th>\n",
              "      <th>author</th>\n",
              "      <th>favorite_count</th>\n",
              "      <th>id</th>\n",
              "      <th>id_str</th>\n",
              "      <th>in_reply_to_screen_name</th>\n",
              "      <th>in_reply_to_status_id</th>\n",
              "      <th>in_reply_to_status_id_str</th>\n",
              "      <th>in_reply_to_user_id</th>\n",
              "      <th>in_reply_to_user_id_str</th>\n",
              "      <th>lang</th>\n",
              "      <th>quoted_status_id</th>\n",
              "      <th>quoted_status_id_str</th>\n",
              "      <th>retweet_count</th>\n",
              "      <th>source</th>\n",
              "      <th>source_url</th>\n",
              "      <th>text</th>\n",
              "      <th>user</th>\n",
              "    </tr>\n",
              "  </thead>\n",
              "  <tbody>\n",
              "    <tr>\n",
              "      <th>0</th>\n",
              "      <td>NaN</td>\n",
              "      <td>NaN</td>\n",
              "      <td>NaN</td>\n",
              "      <td>NaN</td>\n",
              "      <td>NaN</td>\n",
              "      <td>NaN</td>\n",
              "      <td>NaN</td>\n",
              "      <td>NaN</td>\n",
              "      <td>NaN</td>\n",
              "      <td>NaN</td>\n",
              "      <td>NaN</td>\n",
              "      <td>NaN</td>\n",
              "      <td>NaN</td>\n",
              "      <td>NaN</td>\n",
              "      <td>NaN</td>\n",
              "      <td>NaN</td>\n",
              "      <td>NaN</td>\n",
              "      <td>NaN</td>\n",
              "    </tr>\n",
              "    <tr>\n",
              "      <th>1</th>\n",
              "      <td>NaN</td>\n",
              "      <td>NaN</td>\n",
              "      <td>NaN</td>\n",
              "      <td>NaN</td>\n",
              "      <td>NaN</td>\n",
              "      <td>NaN</td>\n",
              "      <td>NaN</td>\n",
              "      <td>NaN</td>\n",
              "      <td>NaN</td>\n",
              "      <td>NaN</td>\n",
              "      <td>NaN</td>\n",
              "      <td>NaN</td>\n",
              "      <td>NaN</td>\n",
              "      <td>NaN</td>\n",
              "      <td>NaN</td>\n",
              "      <td>NaN</td>\n",
              "      <td>NaN</td>\n",
              "      <td>NaN</td>\n",
              "    </tr>\n",
              "    <tr>\n",
              "      <th>2</th>\n",
              "      <td>NaN</td>\n",
              "      <td>NaN</td>\n",
              "      <td>NaN</td>\n",
              "      <td>NaN</td>\n",
              "      <td>NaN</td>\n",
              "      <td>NaN</td>\n",
              "      <td>NaN</td>\n",
              "      <td>NaN</td>\n",
              "      <td>NaN</td>\n",
              "      <td>NaN</td>\n",
              "      <td>NaN</td>\n",
              "      <td>NaN</td>\n",
              "      <td>NaN</td>\n",
              "      <td>NaN</td>\n",
              "      <td>NaN</td>\n",
              "      <td>NaN</td>\n",
              "      <td>NaN</td>\n",
              "      <td>NaN</td>\n",
              "    </tr>\n",
              "    <tr>\n",
              "      <th>3</th>\n",
              "      <td>NaN</td>\n",
              "      <td>NaN</td>\n",
              "      <td>NaN</td>\n",
              "      <td>NaN</td>\n",
              "      <td>NaN</td>\n",
              "      <td>NaN</td>\n",
              "      <td>NaN</td>\n",
              "      <td>NaN</td>\n",
              "      <td>NaN</td>\n",
              "      <td>NaN</td>\n",
              "      <td>NaN</td>\n",
              "      <td>NaN</td>\n",
              "      <td>NaN</td>\n",
              "      <td>NaN</td>\n",
              "      <td>NaN</td>\n",
              "      <td>NaN</td>\n",
              "      <td>NaN</td>\n",
              "      <td>NaN</td>\n",
              "    </tr>\n",
              "    <tr>\n",
              "      <th>4</th>\n",
              "      <td>NaN</td>\n",
              "      <td>NaN</td>\n",
              "      <td>NaN</td>\n",
              "      <td>NaN</td>\n",
              "      <td>NaN</td>\n",
              "      <td>NaN</td>\n",
              "      <td>NaN</td>\n",
              "      <td>NaN</td>\n",
              "      <td>NaN</td>\n",
              "      <td>NaN</td>\n",
              "      <td>NaN</td>\n",
              "      <td>NaN</td>\n",
              "      <td>NaN</td>\n",
              "      <td>NaN</td>\n",
              "      <td>NaN</td>\n",
              "      <td>NaN</td>\n",
              "      <td>NaN</td>\n",
              "      <td>NaN</td>\n",
              "    </tr>\n",
              "    <tr>\n",
              "      <th>...</th>\n",
              "      <td>...</td>\n",
              "      <td>...</td>\n",
              "      <td>...</td>\n",
              "      <td>...</td>\n",
              "      <td>...</td>\n",
              "      <td>...</td>\n",
              "      <td>...</td>\n",
              "      <td>...</td>\n",
              "      <td>...</td>\n",
              "      <td>...</td>\n",
              "      <td>...</td>\n",
              "      <td>...</td>\n",
              "      <td>...</td>\n",
              "      <td>...</td>\n",
              "      <td>...</td>\n",
              "      <td>...</td>\n",
              "      <td>...</td>\n",
              "      <td>...</td>\n",
              "    </tr>\n",
              "    <tr>\n",
              "      <th>5697</th>\n",
              "      <td>NaN</td>\n",
              "      <td>NaN</td>\n",
              "      <td>NaN</td>\n",
              "      <td>NaN</td>\n",
              "      <td>NaN</td>\n",
              "      <td>NaN</td>\n",
              "      <td>NaN</td>\n",
              "      <td>NaN</td>\n",
              "      <td>NaN</td>\n",
              "      <td>NaN</td>\n",
              "      <td>NaN</td>\n",
              "      <td>NaN</td>\n",
              "      <td>NaN</td>\n",
              "      <td>NaN</td>\n",
              "      <td>NaN</td>\n",
              "      <td>NaN</td>\n",
              "      <td>NaN</td>\n",
              "      <td>NaN</td>\n",
              "    </tr>\n",
              "    <tr>\n",
              "      <th>5698</th>\n",
              "      <td>NaN</td>\n",
              "      <td>NaN</td>\n",
              "      <td>NaN</td>\n",
              "      <td>NaN</td>\n",
              "      <td>NaN</td>\n",
              "      <td>NaN</td>\n",
              "      <td>NaN</td>\n",
              "      <td>NaN</td>\n",
              "      <td>NaN</td>\n",
              "      <td>NaN</td>\n",
              "      <td>NaN</td>\n",
              "      <td>NaN</td>\n",
              "      <td>NaN</td>\n",
              "      <td>NaN</td>\n",
              "      <td>NaN</td>\n",
              "      <td>NaN</td>\n",
              "      <td>NaN</td>\n",
              "      <td>NaN</td>\n",
              "    </tr>\n",
              "    <tr>\n",
              "      <th>5699</th>\n",
              "      <td>NaN</td>\n",
              "      <td>NaN</td>\n",
              "      <td>NaN</td>\n",
              "      <td>NaN</td>\n",
              "      <td>NaN</td>\n",
              "      <td>NaN</td>\n",
              "      <td>NaN</td>\n",
              "      <td>NaN</td>\n",
              "      <td>NaN</td>\n",
              "      <td>NaN</td>\n",
              "      <td>NaN</td>\n",
              "      <td>NaN</td>\n",
              "      <td>NaN</td>\n",
              "      <td>NaN</td>\n",
              "      <td>NaN</td>\n",
              "      <td>NaN</td>\n",
              "      <td>NaN</td>\n",
              "      <td>NaN</td>\n",
              "    </tr>\n",
              "    <tr>\n",
              "      <th>5700</th>\n",
              "      <td>NaN</td>\n",
              "      <td>NaN</td>\n",
              "      <td>NaN</td>\n",
              "      <td>NaN</td>\n",
              "      <td>NaN</td>\n",
              "      <td>NaN</td>\n",
              "      <td>NaN</td>\n",
              "      <td>NaN</td>\n",
              "      <td>NaN</td>\n",
              "      <td>NaN</td>\n",
              "      <td>NaN</td>\n",
              "      <td>NaN</td>\n",
              "      <td>NaN</td>\n",
              "      <td>NaN</td>\n",
              "      <td>NaN</td>\n",
              "      <td>NaN</td>\n",
              "      <td>NaN</td>\n",
              "      <td>NaN</td>\n",
              "    </tr>\n",
              "    <tr>\n",
              "      <th>5701</th>\n",
              "      <td>NaN</td>\n",
              "      <td>NaN</td>\n",
              "      <td>NaN</td>\n",
              "      <td>NaN</td>\n",
              "      <td>NaN</td>\n",
              "      <td>NaN</td>\n",
              "      <td>NaN</td>\n",
              "      <td>NaN</td>\n",
              "      <td>NaN</td>\n",
              "      <td>NaN</td>\n",
              "      <td>NaN</td>\n",
              "      <td>NaN</td>\n",
              "      <td>NaN</td>\n",
              "      <td>NaN</td>\n",
              "      <td>NaN</td>\n",
              "      <td>NaN</td>\n",
              "      <td>NaN</td>\n",
              "      <td>NaN</td>\n",
              "    </tr>\n",
              "  </tbody>\n",
              "</table>\n",
              "<p>5702 rows × 18 columns</p>\n",
              "</div>"
            ],
            "text/plain": [
              "      Unnamed: 0 author  favorite_count  id  ...  source source_url  text  user\n",
              "0            NaN    NaN             NaN NaN  ...     NaN        NaN   NaN   NaN\n",
              "1            NaN    NaN             NaN NaN  ...     NaN        NaN   NaN   NaN\n",
              "2            NaN    NaN             NaN NaN  ...     NaN        NaN   NaN   NaN\n",
              "3            NaN    NaN             NaN NaN  ...     NaN        NaN   NaN   NaN\n",
              "4            NaN    NaN             NaN NaN  ...     NaN        NaN   NaN   NaN\n",
              "...          ...    ...             ...  ..  ...     ...        ...   ...   ...\n",
              "5697         NaN    NaN             NaN NaN  ...     NaN        NaN   NaN   NaN\n",
              "5698         NaN    NaN             NaN NaN  ...     NaN        NaN   NaN   NaN\n",
              "5699         NaN    NaN             NaN NaN  ...     NaN        NaN   NaN   NaN\n",
              "5700         NaN    NaN             NaN NaN  ...     NaN        NaN   NaN   NaN\n",
              "5701         NaN    NaN             NaN NaN  ...     NaN        NaN   NaN   NaN\n",
              "\n",
              "[5702 rows x 18 columns]"
            ]
          },
          "metadata": {
            "tags": []
          },
          "execution_count": 13
        }
      ]
    },
    {
      "cell_type": "code",
      "metadata": {
        "id": "MPZdwRsZtLnr"
      },
      "source": [
        "df = df.iloc[df.index.difference(df.dropna(subset = ['in_reply_to_screen_name', 'quoted_status_id'], how = 'all').index),:].reset_index(drop = True)"
      ],
      "execution_count": null,
      "outputs": []
    },
    {
      "cell_type": "code",
      "metadata": {
        "id": "W3vOWHRotLoN"
      },
      "source": [
        "df = df['author favorite_count retweet_count source source_url text'.split()]"
      ],
      "execution_count": null,
      "outputs": []
    },
    {
      "cell_type": "code",
      "metadata": {
        "colab": {
          "base_uri": "https://localhost:8080/",
          "height": 297
        },
        "id": "wPtoBnyatLo1",
        "outputId": "ef44dd1e-30da-4470-cb29-403dda0cf9e9"
      },
      "source": [
        "df.describe()"
      ],
      "execution_count": null,
      "outputs": [
        {
          "output_type": "execute_result",
          "data": {
            "text/html": [
              "<div>\n",
              "<style scoped>\n",
              "    .dataframe tbody tr th:only-of-type {\n",
              "        vertical-align: middle;\n",
              "    }\n",
              "\n",
              "    .dataframe tbody tr th {\n",
              "        vertical-align: top;\n",
              "    }\n",
              "\n",
              "    .dataframe thead th {\n",
              "        text-align: right;\n",
              "    }\n",
              "</style>\n",
              "<table border=\"1\" class=\"dataframe\">\n",
              "  <thead>\n",
              "    <tr style=\"text-align: right;\">\n",
              "      <th></th>\n",
              "      <th>favorite_count</th>\n",
              "      <th>retweet_count</th>\n",
              "    </tr>\n",
              "  </thead>\n",
              "  <tbody>\n",
              "    <tr>\n",
              "      <th>count</th>\n",
              "      <td>5416.000000</td>\n",
              "      <td>5416.000000</td>\n",
              "    </tr>\n",
              "    <tr>\n",
              "      <th>mean</th>\n",
              "      <td>1990.666544</td>\n",
              "      <td>370.029542</td>\n",
              "    </tr>\n",
              "    <tr>\n",
              "      <th>std</th>\n",
              "      <td>3025.589291</td>\n",
              "      <td>1355.853384</td>\n",
              "    </tr>\n",
              "    <tr>\n",
              "      <th>min</th>\n",
              "      <td>0.000000</td>\n",
              "      <td>0.000000</td>\n",
              "    </tr>\n",
              "    <tr>\n",
              "      <th>25%</th>\n",
              "      <td>599.750000</td>\n",
              "      <td>68.000000</td>\n",
              "    </tr>\n",
              "    <tr>\n",
              "      <th>50%</th>\n",
              "      <td>1153.500000</td>\n",
              "      <td>155.000000</td>\n",
              "    </tr>\n",
              "    <tr>\n",
              "      <th>75%</th>\n",
              "      <td>2229.250000</td>\n",
              "      <td>346.000000</td>\n",
              "    </tr>\n",
              "    <tr>\n",
              "      <th>max</th>\n",
              "      <td>57076.000000</td>\n",
              "      <td>73572.000000</td>\n",
              "    </tr>\n",
              "  </tbody>\n",
              "</table>\n",
              "</div>"
            ],
            "text/plain": [
              "       favorite_count  retweet_count\n",
              "count     5416.000000    5416.000000\n",
              "mean      1990.666544     370.029542\n",
              "std       3025.589291    1355.853384\n",
              "min          0.000000       0.000000\n",
              "25%        599.750000      68.000000\n",
              "50%       1153.500000     155.000000\n",
              "75%       2229.250000     346.000000\n",
              "max      57076.000000   73572.000000"
            ]
          },
          "metadata": {
            "tags": []
          },
          "execution_count": 44
        }
      ]
    },
    {
      "cell_type": "code",
      "metadata": {
        "colab": {
          "base_uri": "https://localhost:8080/",
          "height": 419
        },
        "id": "yN3a6mUzGGJ2",
        "outputId": "0a1924d3-4041-439d-afac-b940d6863a05"
      },
      "source": [
        "df"
      ],
      "execution_count": null,
      "outputs": [
        {
          "output_type": "execute_result",
          "data": {
            "text/html": [
              "<div>\n",
              "<style scoped>\n",
              "    .dataframe tbody tr th:only-of-type {\n",
              "        vertical-align: middle;\n",
              "    }\n",
              "\n",
              "    .dataframe tbody tr th {\n",
              "        vertical-align: top;\n",
              "    }\n",
              "\n",
              "    .dataframe thead th {\n",
              "        text-align: right;\n",
              "    }\n",
              "</style>\n",
              "<table border=\"1\" class=\"dataframe\">\n",
              "  <thead>\n",
              "    <tr style=\"text-align: right;\">\n",
              "      <th></th>\n",
              "      <th>author</th>\n",
              "      <th>favorite_count</th>\n",
              "      <th>retweet_count</th>\n",
              "      <th>source</th>\n",
              "      <th>source_url</th>\n",
              "      <th>text</th>\n",
              "    </tr>\n",
              "  </thead>\n",
              "  <tbody>\n",
              "    <tr>\n",
              "      <th>0</th>\n",
              "      <td>kazakerkegi</td>\n",
              "      <td>0.0</td>\n",
              "      <td>156.0</td>\n",
              "      <td>Twitter for iPhone</td>\n",
              "      <td>http://twitter.com/download/iphone</td>\n",
              "      <td>RT @kazakerkegi: samimi sıcak kanlı insanlarla...</td>\n",
              "    </tr>\n",
              "    <tr>\n",
              "      <th>1</th>\n",
              "      <td>kazakerkegi</td>\n",
              "      <td>919.0</td>\n",
              "      <td>50.0</td>\n",
              "      <td>Twitter Web App</td>\n",
              "      <td>https://mobile.twitter.com</td>\n",
              "      <td>farkettiniz mi artık kimse stalk yapmıyo. kims...</td>\n",
              "    </tr>\n",
              "    <tr>\n",
              "      <th>2</th>\n",
              "      <td>kazakerkegi</td>\n",
              "      <td>481.0</td>\n",
              "      <td>9.0</td>\n",
              "      <td>Twitter for iPhone</td>\n",
              "      <td>http://twitter.com/download/iphone</td>\n",
              "      <td>ülke yansa bile şeyma subaşı dans etmeye devam...</td>\n",
              "    </tr>\n",
              "    <tr>\n",
              "      <th>3</th>\n",
              "      <td>kazakerkegi</td>\n",
              "      <td>107.0</td>\n",
              "      <td>1.0</td>\n",
              "      <td>Twitter for iPhone</td>\n",
              "      <td>http://twitter.com/download/iphone</td>\n",
              "      <td>hadi herkes anlık kilitli ekran fotolarını ats...</td>\n",
              "    </tr>\n",
              "    <tr>\n",
              "      <th>4</th>\n",
              "      <td>kazakerkegi</td>\n",
              "      <td>347.0</td>\n",
              "      <td>24.0</td>\n",
              "      <td>Twitter for iPhone</td>\n",
              "      <td>http://twitter.com/download/iphone</td>\n",
              "      <td>türkiye'de 15 kişide ingiltere'de mutasyona uğ...</td>\n",
              "    </tr>\n",
              "    <tr>\n",
              "      <th>...</th>\n",
              "      <td>...</td>\n",
              "      <td>...</td>\n",
              "      <td>...</td>\n",
              "      <td>...</td>\n",
              "      <td>...</td>\n",
              "      <td>...</td>\n",
              "    </tr>\n",
              "    <tr>\n",
              "      <th>5411</th>\n",
              "      <td>zaytung</td>\n",
              "      <td>895.0</td>\n",
              "      <td>518.0</td>\n",
              "      <td>Twitter Web Client</td>\n",
              "      <td>http://twitter.com</td>\n",
              "      <td>Müslümanları Ülkeye Sokmama Kararnamesi Mahkem...</td>\n",
              "    </tr>\n",
              "    <tr>\n",
              "      <th>5412</th>\n",
              "      <td>zaytung</td>\n",
              "      <td>546.0</td>\n",
              "      <td>150.0</td>\n",
              "      <td>Twitter Web Client</td>\n",
              "      <td>http://twitter.com</td>\n",
              "      <td>Facebook’ta Her Yazdığı En Az 400 Like Alan Kı...</td>\n",
              "    </tr>\n",
              "    <tr>\n",
              "      <th>5413</th>\n",
              "      <td>zaytung</td>\n",
              "      <td>73.0</td>\n",
              "      <td>19.0</td>\n",
              "      <td>Twitter Web Client</td>\n",
              "      <td>http://twitter.com</td>\n",
              "      <td>Sinema - Vizyonda Bu Hafta: Vezir Parmağı (Mah...</td>\n",
              "    </tr>\n",
              "    <tr>\n",
              "      <th>5414</th>\n",
              "      <td>zaytung</td>\n",
              "      <td>529.0</td>\n",
              "      <td>272.0</td>\n",
              "      <td>Twitter Web Client</td>\n",
              "      <td>http://twitter.com</td>\n",
              "      <td>FotoHaber - Merkez Bankası'ndan flaş kredi not...</td>\n",
              "    </tr>\n",
              "    <tr>\n",
              "      <th>5415</th>\n",
              "      <td>zaytung</td>\n",
              "      <td>398.0</td>\n",
              "      <td>223.0</td>\n",
              "      <td>Twitter Web Client</td>\n",
              "      <td>http://twitter.com</td>\n",
              "      <td>S&amp;amp;P'dan Hükümeti Rahatlatan Açıklama: \"Gör...</td>\n",
              "    </tr>\n",
              "  </tbody>\n",
              "</table>\n",
              "<p>5416 rows × 6 columns</p>\n",
              "</div>"
            ],
            "text/plain": [
              "           author  ...                                               text\n",
              "0     kazakerkegi  ...  RT @kazakerkegi: samimi sıcak kanlı insanlarla...\n",
              "1     kazakerkegi  ...  farkettiniz mi artık kimse stalk yapmıyo. kims...\n",
              "2     kazakerkegi  ...  ülke yansa bile şeyma subaşı dans etmeye devam...\n",
              "3     kazakerkegi  ...  hadi herkes anlık kilitli ekran fotolarını ats...\n",
              "4     kazakerkegi  ...  türkiye'de 15 kişide ingiltere'de mutasyona uğ...\n",
              "...           ...  ...                                                ...\n",
              "5411      zaytung  ...  Müslümanları Ülkeye Sokmama Kararnamesi Mahkem...\n",
              "5412      zaytung  ...  Facebook’ta Her Yazdığı En Az 400 Like Alan Kı...\n",
              "5413      zaytung  ...  Sinema - Vizyonda Bu Hafta: Vezir Parmağı (Mah...\n",
              "5414      zaytung  ...  FotoHaber - Merkez Bankası'ndan flaş kredi not...\n",
              "5415      zaytung  ...  S&amp;P'dan Hükümeti Rahatlatan Açıklama: \"Gör...\n",
              "\n",
              "[5416 rows x 6 columns]"
            ]
          },
          "metadata": {
            "tags": []
          },
          "execution_count": 62
        }
      ]
    },
    {
      "cell_type": "code",
      "metadata": {
        "colab": {
          "base_uri": "https://localhost:8080/"
        },
        "id": "sWZnu2g0tLpa",
        "outputId": "8887ff28-c081-4dd7-8f25-41cfd8cbcaed"
      },
      "source": [
        "tweets = df['text'].values\r\n",
        "i = 0\r\n",
        "while i < 50:\r\n",
        "    n = np.random.randint(5415)\r\n",
        "    print('============================')\r\n",
        "    print('\\n')\r\n",
        "    print(df['author'].values[n])\r\n",
        "    print(tweets[n].lower())\r\n",
        "    print('\\n')\r\n",
        "    print('============================')\r\n",
        "    i += 1"
      ],
      "execution_count": null,
      "outputs": [
        {
          "output_type": "stream",
          "text": [
            "============================\n",
            "\n",
            "\n",
            "zaytung\n",
            "blog - aşırı bilimsel makale: aşk beyine ne eder?  https://t.co/v16o3q6urj https://t.co/xqdp9xep1j\n",
            "\n",
            "\n",
            "============================\n",
            "============================\n",
            "\n",
            "\n",
            "kazakerkegi\n",
            "sen bu bayram şekerim ol, ben diğer bayram kurbanın olurum. selamın aleyküm\n",
            "\n",
            "\n",
            "============================\n",
            "============================\n",
            "\n",
            "\n",
            "zaytung\n",
            "son dakika - philip morris, coronavirüs aşısı çalışmalarında 3. faza geçildiğini duyurdu...  https://t.co/5hrsbkgjkc\n",
            "\n",
            "\n",
            "============================\n",
            "============================\n",
            "\n",
            "\n",
            "zaytung\n",
            "son dakika - hazine ve maliye bakanlığı: ''sokağa çıkma yasağı nedeniyle bayramda verilemeyecek harçlıklara da tali… https://t.co/1livbpmye6\n",
            "\n",
            "\n",
            "============================\n",
            "============================\n",
            "\n",
            "\n",
            "kazakerkegi\n",
            "yüzüme karşı white chocolate mocha nonfat içelim diyosun ama gözlerin ramazan pidesi yiyelim der gibi gibi\n",
            "\n",
            "\n",
            "============================\n",
            "============================\n",
            "\n",
            "\n",
            "zaytung\n",
            "14,99 tl'den menü satmaya başlayan mcdonald's'a, 2015 yılında olmadığımız i̇zah edilmeye çalışılıyor... @mcdonaldstr… https://t.co/ul0txfk1hw\n",
            "\n",
            "\n",
            "============================\n",
            "============================\n",
            "\n",
            "\n",
            "zaytung\n",
            "bilim kurulu uyarıyor: ''böyle giderse, az ünlülerin instagram canlı yayınlarında 2. dalga kaçınılmaz...''… https://t.co/vpgmaf2x8e\n",
            "\n",
            "\n",
            "============================\n",
            "============================\n",
            "\n",
            "\n",
            "zaytung\n",
            "emniyet genel müdürlüğü bünyesinde oluşturulan ''motorize youtuber i̇tlaf timleri'' daha video youtube'a yüklenmeden… https://t.co/yxbmp0p37l\n",
            "\n",
            "\n",
            "============================\n",
            "============================\n",
            "\n",
            "\n",
            "kazakerkegi\n",
            "cumartesi günü çalışan / cumartesi günü çalışmayan https://t.co/vcxi97qb0o\n",
            "\n",
            "\n",
            "============================\n",
            "============================\n",
            "\n",
            "\n",
            "zaytung\n",
            "özel beybihan üniversitesi, öğrencilere diledikleri kampüse giriş i̇mkanı sunan ''sahte kimlik'' uygulamasıyla ''ter… https://t.co/fscrdtv3fl\n",
            "\n",
            "\n",
            "============================\n",
            "============================\n",
            "\n",
            "\n",
            "zaytung\n",
            "yapılan son vergi zammının ardından sigara şirketlerinden hükümete sert tepki: ''lan bi müsade edin bir kere de biz… https://t.co/4gpnu9fb4w\n",
            "\n",
            "\n",
            "============================\n",
            "============================\n",
            "\n",
            "\n",
            "zaytung\n",
            "i̇ki milyon mülteci daha geleceği haberini alan türkiye'deki suriyeliler endişeli: yeni gelenlerle eskiler uyum soru… https://t.co/6snnptpxhg\n",
            "\n",
            "\n",
            "============================\n",
            "============================\n",
            "\n",
            "\n",
            "zaytung\n",
            "rehberde kayıtlı olmayan 0541'li numaradan bu bayram da tebrik mesajı geldi. şüpheler tesisatçıda yoğunlaşıyor...… https://t.co/swhuhktk7t\n",
            "\n",
            "\n",
            "============================\n",
            "============================\n",
            "\n",
            "\n",
            "kazakerkegi\n",
            "instagram'da herkes 2019'u özet geçeyim ayağına 79 tane story atmış..bir sonraki kişinin hikayesine 22 dk. sonra geçiyorum bu ne aq\n",
            "\n",
            "\n",
            "============================\n",
            "============================\n",
            "\n",
            "\n",
            "zaytung\n",
            "fotohaber - soylu, sözlerinin arkasında: ''6 milyon oyu gasp etmemize izin vermeyip, bizi mhp'ye mahkum edenlere az… https://t.co/ptkyhhlals\n",
            "\n",
            "\n",
            "============================\n",
            "============================\n",
            "\n",
            "\n",
            "kazakerkegi\n",
            "gizem özdilli, fenerbahçeli şener'in merhaba nasılsın mesajını ifşa etmiş..ulen adam normal bi mesaj yazmış sen ne… https://t.co/emwaivv302\n",
            "\n",
            "\n",
            "============================\n",
            "============================\n",
            "\n",
            "\n",
            "zaytung\n",
            "euro'nun 6 tl'yi geçmesinin ardından almanya'daki gurbetçilerimizden ak parti'ye destek mitingi: ''napıyorsanız ayn… https://t.co/6oxzlhjwe4\n",
            "\n",
            "\n",
            "============================\n",
            "============================\n",
            "\n",
            "\n",
            "kazakerkegi\n",
            "bu twitin altına galerinizdeki en sevdiğiniz fotoyu atınsanıza\n",
            "\n",
            "\n",
            "============================\n",
            "============================\n",
            "\n",
            "\n",
            "zaytung\n",
            "suudi arabistan, bir halt yedikten sonra i̇maj toparlamak i̇çin umre'ye gelen türk ünlülere kontenjan sınırı getiriyo… https://t.co/cibkc3k8ka\n",
            "\n",
            "\n",
            "============================\n",
            "============================\n",
            "\n",
            "\n",
            "kazakerkegi\n",
            "kusura bakma yaşlı teyze, senin saçın röfleli ve ellerin baya baya manikürlü. sana yer veremem. onları yaptırmasını… https://t.co/x1jkmgqstk\n",
            "\n",
            "\n",
            "============================\n",
            "============================\n",
            "\n",
            "\n",
            "zaytung\n",
            "seçim sloganını ''daha da güzel olacak'' şeklinde belirleyen ak parti'den yeni hamle: binali yıldırım bir dizi este… https://t.co/tt28xs4ugc\n",
            "\n",
            "\n",
            "============================\n",
            "============================\n",
            "\n",
            "\n",
            "kazakerkegi\n",
            "whatsapp bildirimi sandım heyecandan elim ayağıma dolaştı aq https://t.co/k05lht2dei\n",
            "\n",
            "\n",
            "============================\n",
            "============================\n",
            "\n",
            "\n",
            "kazakerkegi\n",
            "instagram şu an kocaman bir düğün salonu gibi. bütün story'lerde düğün var. çeyrek altın takmadan bi sonraki story'e geçemiyon.\n",
            "\n",
            "\n",
            "============================\n",
            "============================\n",
            "\n",
            "\n",
            "zaytung\n",
            "son dakika - baskın seçim kararı alarak kendi kendini hazırlıksız yakalayan galatasaray başkanı dursun özbek, seçim… https://t.co/8lmowmtmw1\n",
            "\n",
            "\n",
            "============================\n",
            "============================\n",
            "\n",
            "\n",
            "zaytung\n",
            "lgs birinciliğini suriyeliler'e kaptıran çobanlar tepkili: ''bu mülteci meselesinin acilen çözülmesi lazım...''… https://t.co/33yj5bkazb\n",
            "\n",
            "\n",
            "============================\n",
            "============================\n",
            "\n",
            "\n",
            "kazakerkegi\n",
            "eni vici voke https://t.co/cvuql0ultp\n",
            "\n",
            "\n",
            "============================\n",
            "============================\n",
            "\n",
            "\n",
            "zaytung\n",
            "duyuru: \"twitter da çok şey oldu\" diyenler için resmi instagram hesabımız şurada bir yerlerde:… https://t.co/v3syi5ka32\n",
            "\n",
            "\n",
            "============================\n",
            "============================\n",
            "\n",
            "\n",
            "kazakerkegi\n",
            "böyle olacağıma vileda sopasına sarılır uyurum daha iyi https://t.co/yzwkybwawd\n",
            "\n",
            "\n",
            "============================\n",
            "============================\n",
            "\n",
            "\n",
            "zaytung\n",
            "zaytung bilim - okullar açılırken yaklaşan açık tehlike: ergenler! (neden böyleler? nasıl başa çıkarız?)… https://t.co/ib3vj8yvbh\n",
            "\n",
            "\n",
            "============================\n",
            "============================\n",
            "\n",
            "\n",
            "zaytung\n",
            "fotohaber - cumhurbaşkanı, ekonomi bakanı, bürokratı derken açıklamalarıyla doların ateşini düşüremeyen hükümet, ge… https://t.co/qkb7yl9dkx\n",
            "\n",
            "\n",
            "============================\n",
            "============================\n",
            "\n",
            "\n",
            "zaytung\n",
            "gündemin magazin konuşmaya uygun olduğu 3-5 günden birine denk gelen murat boz, tam kimin ah'ını aldığını düşünüyor… https://t.co/ee0frgmuzg\n",
            "\n",
            "\n",
            "============================\n",
            "============================\n",
            "\n",
            "\n",
            "kazakerkegi\n",
            "vatsap çöküyo twitter'dan öğreniyorum, instagram çöküyo twitter'dan öğreniyorm, twitter çöküyo onu da twitter'dan öğreniyorum. twittercepşın\n",
            "\n",
            "\n",
            "============================\n",
            "============================\n",
            "\n",
            "\n",
            "zaytung\n",
            "üç günlüğüne gideceği tatil yeri hakkında üç aydır i̇nternette araştırma yapan hande yüceza(28), daha görmeden şehir… https://t.co/i9vgt2t4wm\n",
            "\n",
            "\n",
            "============================\n",
            "============================\n",
            "\n",
            "\n",
            "zaytung\n",
            "halkın sesi - meclis başkanlığı'ndan neden istifa etmediğini açıklayan binali yıldırım: ''seçim siyasi bir faaliyet… https://t.co/dedqzq9osl\n",
            "\n",
            "\n",
            "============================\n",
            "============================\n",
            "\n",
            "\n",
            "zaytung\n",
            "fotohaber - gramer ve imla, kendilerine yıllardır yapılan zulmün bedelini ağır ödettiler... https://t.co/anx5k7skui https://t.co/wajduga3nt\n",
            "\n",
            "\n",
            "============================\n",
            "============================\n",
            "\n",
            "\n",
            "zaytung\n",
            "fotohaber - çavuşoğlu: ''ama ona o kadar vereceğinize 26 asgari ücret daha sayın, bir üst modelini alın...''… https://t.co/pffr5aiyut\n",
            "\n",
            "\n",
            "============================\n",
            "============================\n",
            "\n",
            "\n",
            "kazakerkegi\n",
            "maddenin şekil almış haline cisim, insanın şekil almamış haline de \"alişan\" denir.\n",
            "\n",
            "\n",
            "============================\n",
            "============================\n",
            "\n",
            "\n",
            "kazakerkegi\n",
            "moralinizi neye benzetiyosunuz? ben demet akalın'ın twitlerine. çünkü bozuk.\n",
            "\n",
            "\n",
            "============================\n",
            "============================\n",
            "\n",
            "\n",
            "zaytung\n",
            "blog - sevgililer günü'nde mümkün mertebe uzak durulması gereken 10 yer https://t.co/a5ar5vmnhy https://t.co/iuajplgmsg\n",
            "\n",
            "\n",
            "============================\n",
            "============================\n",
            "\n",
            "\n",
            "kazakerkegi\n",
            "buzdolabı ile sosyal mesafemi koruyamıyorum\n",
            "\n",
            "\n",
            "============================\n",
            "============================\n",
            "\n",
            "\n",
            "zaytung\n",
            "beşiktaş yönetiminden fenerbahçe maçında sahaya çıkmalarını i̇steyen spor bakanı güvence verdi: \"maçın geri kalanını… https://t.co/g8ckfk1s5m\n",
            "\n",
            "\n",
            "============================\n",
            "============================\n",
            "\n",
            "\n",
            "zaytung\n",
            "seçim öncesi ekonomide sevindiren gelişme: adıyaman'ın kahta i̇lçesinde devlete ait henüz satılmamış fabrika bulundu… https://t.co/86pcpv91uu\n",
            "\n",
            "\n",
            "============================\n",
            "============================\n",
            "\n",
            "\n",
            "zaytung\n",
            "son dakika - ak parti sözcüsü: ''ekonomi toparlanana kadar mecburen kendi bokumuzla bile kavga etmeye devam edeceği… https://t.co/amutagvmil\n",
            "\n",
            "\n",
            "============================\n",
            "============================\n",
            "\n",
            "\n",
            "zaytung\n",
            "zengin arap turistlerin hem tatil hem bal yapabilecekleri ''giant bee resort bodrum'' projesi’nde sona gelindi..… https://t.co/7jrvlrmdmr\n",
            "\n",
            "\n",
            "============================\n",
            "============================\n",
            "\n",
            "\n",
            "kazakerkegi\n",
            "kusura bakma yaşlı teyze, senin 3 kameralı iphone'un var. sana yer veremem. onu kullanmasını biliyon ayakta durmasını da bil.\n",
            "\n",
            "\n",
            "============================\n",
            "============================\n",
            "\n",
            "\n",
            "zaytung\n",
            "çeşme'de 10 liraya lahmacun satılan beach, i̇lgisizlikten kapanma noktasına geldi... https://t.co/rfvhzdzuxu https://t.co/41gxr5ec7s\n",
            "\n",
            "\n",
            "============================\n",
            "============================\n",
            "\n",
            "\n",
            "kazakerkegi\n",
            "babam öksürdü. tüm aile dönüp ona baktık. bakışlarımızdan rahatsız oldu diyo ki \"boğazıma bişey kaçtı herhalde ya\"… https://t.co/5gbbjkp2g9\n",
            "\n",
            "\n",
            "============================\n",
            "============================\n",
            "\n",
            "\n",
            "zaytung\n",
            "fotohaber-abdurrahman dilipak'ın türkçe'ye en yakın tweet'i, sosyal medyadan yoğun ilgi gördü. gözler burhan kuzu'd… https://t.co/17sxu4dwlp\n",
            "\n",
            "\n",
            "============================\n",
            "============================\n",
            "\n",
            "\n",
            "zaytung\n",
            "fotohaber - türkçe olarak ''idlib'de şehidimiz var'' diyen abd suriye özel temsilcisi james jeffrey'den çarpıcı açı… https://t.co/qjdh75lhz2\n",
            "\n",
            "\n",
            "============================\n",
            "============================\n",
            "\n",
            "\n",
            "zaytung\n",
            "fotohaber - kuzu'ya makam verilmemesinin nedeni, ne istediğinin bir türlü anlaşılamaması olabilir mi? tdk yetkilile… https://t.co/uwscp4maez\n",
            "\n",
            "\n",
            "============================\n"
          ],
          "name": "stdout"
        }
      ]
    },
    {
      "cell_type": "code",
      "metadata": {
        "colab": {
          "base_uri": "https://localhost:8080/"
        },
        "id": "dloGofjYtLqD",
        "outputId": "1f3a3259-37cd-464b-c23f-5de523a5d245"
      },
      "source": [
        "np.random.randint(5415)"
      ],
      "execution_count": null,
      "outputs": [
        {
          "output_type": "execute_result",
          "data": {
            "text/plain": [
              "4666"
            ]
          },
          "metadata": {
            "tags": []
          },
          "execution_count": 47
        }
      ]
    },
    {
      "cell_type": "code",
      "metadata": {
        "colab": {
          "base_uri": "https://localhost:8080/"
        },
        "id": "SZaGOSkTtLqn",
        "outputId": "eeb29442-232f-40b7-82ce-1d6068527da4"
      },
      "source": [
        "df['title'] = df[df['author'] == 'zaytung']['text'].apply(lambda x: x.split(' - ')[1] if len(x.split(' - ')) > 1 else x.split(' - ')[0])"
      ],
      "execution_count": null,
      "outputs": [
        {
          "output_type": "stream",
          "text": [
            "/usr/local/lib/python3.6/dist-packages/ipykernel_launcher.py:1: SettingWithCopyWarning: \n",
            "A value is trying to be set on a copy of a slice from a DataFrame.\n",
            "Try using .loc[row_indexer,col_indexer] = value instead\n",
            "\n",
            "See the caveats in the documentation: https://pandas.pydata.org/pandas-docs/stable/user_guide/indexing.html#returning-a-view-versus-a-copy\n",
            "  \"\"\"Entry point for launching an IPython kernel.\n"
          ],
          "name": "stderr"
        }
      ]
    },
    {
      "cell_type": "code",
      "metadata": {
        "colab": {
          "base_uri": "https://localhost:8080/",
          "height": 419
        },
        "id": "KBxr8S6XHRyW",
        "outputId": "42c894f9-40c6-4836-8075-d2dea1742a3f"
      },
      "source": [
        "df[df['author'] == 'zaytung']"
      ],
      "execution_count": null,
      "outputs": [
        {
          "output_type": "execute_result",
          "data": {
            "text/html": [
              "<div>\n",
              "<style scoped>\n",
              "    .dataframe tbody tr th:only-of-type {\n",
              "        vertical-align: middle;\n",
              "    }\n",
              "\n",
              "    .dataframe tbody tr th {\n",
              "        vertical-align: top;\n",
              "    }\n",
              "\n",
              "    .dataframe thead th {\n",
              "        text-align: right;\n",
              "    }\n",
              "</style>\n",
              "<table border=\"1\" class=\"dataframe\">\n",
              "  <thead>\n",
              "    <tr style=\"text-align: right;\">\n",
              "      <th></th>\n",
              "      <th>author</th>\n",
              "      <th>favorite_count</th>\n",
              "      <th>retweet_count</th>\n",
              "      <th>source</th>\n",
              "      <th>source_url</th>\n",
              "      <th>text</th>\n",
              "      <th>title</th>\n",
              "    </tr>\n",
              "  </thead>\n",
              "  <tbody>\n",
              "    <tr>\n",
              "      <th>2210</th>\n",
              "      <td>zaytung</td>\n",
              "      <td>905.0</td>\n",
              "      <td>78.0</td>\n",
              "      <td>Twitter Web App</td>\n",
              "      <td>https://mobile.twitter.com</td>\n",
              "      <td>FotoHaber - Seçimle gitmeyi yediremeyen diktat...</td>\n",
              "      <td>Seçimle gitmeyi yediremeyen diktatör özentisin...</td>\n",
              "    </tr>\n",
              "    <tr>\n",
              "      <th>2211</th>\n",
              "      <td>zaytung</td>\n",
              "      <td>1726.0</td>\n",
              "      <td>101.0</td>\n",
              "      <td>Twitter Web App</td>\n",
              "      <td>https://mobile.twitter.com</td>\n",
              "      <td>FotoHaber - Melih Bulu: ''Metallica albüm kapa...</td>\n",
              "      <td>Melih Bulu: ''Metallica albüm kapağı gibi deği...</td>\n",
              "    </tr>\n",
              "    <tr>\n",
              "      <th>2212</th>\n",
              "      <td>zaytung</td>\n",
              "      <td>2028.0</td>\n",
              "      <td>201.0</td>\n",
              "      <td>Twitter Web App</td>\n",
              "      <td>https://mobile.twitter.com</td>\n",
              "      <td>Son Dakika - Korkudan Berat Albayrak'ın istifa...</td>\n",
              "      <td>Korkudan Berat Albayrak'ın istifasını bile anc...</td>\n",
              "    </tr>\n",
              "    <tr>\n",
              "      <th>2213</th>\n",
              "      <td>zaytung</td>\n",
              "      <td>4720.0</td>\n",
              "      <td>356.0</td>\n",
              "      <td>Twitter Web App</td>\n",
              "      <td>https://mobile.twitter.com</td>\n",
              "      <td>Piyasalarda Bugün: Yılbaşından Kalan 4 Kutu Bi...</td>\n",
              "      <td>Piyasalarda Bugün: Yılbaşından Kalan 4 Kutu Bi...</td>\n",
              "    </tr>\n",
              "    <tr>\n",
              "      <th>2214</th>\n",
              "      <td>zaytung</td>\n",
              "      <td>2418.0</td>\n",
              "      <td>274.0</td>\n",
              "      <td>Twitter Web App</td>\n",
              "      <td>https://mobile.twitter.com</td>\n",
              "      <td>Son Dakika - %30'dan fazla olan enflasyonu %14...</td>\n",
              "      <td>%30'dan fazla olan enflasyonu %14 hesaplayıp m...</td>\n",
              "    </tr>\n",
              "    <tr>\n",
              "      <th>...</th>\n",
              "      <td>...</td>\n",
              "      <td>...</td>\n",
              "      <td>...</td>\n",
              "      <td>...</td>\n",
              "      <td>...</td>\n",
              "      <td>...</td>\n",
              "      <td>...</td>\n",
              "    </tr>\n",
              "    <tr>\n",
              "      <th>5411</th>\n",
              "      <td>zaytung</td>\n",
              "      <td>895.0</td>\n",
              "      <td>518.0</td>\n",
              "      <td>Twitter Web Client</td>\n",
              "      <td>http://twitter.com</td>\n",
              "      <td>Müslümanları Ülkeye Sokmama Kararnamesi Mahkem...</td>\n",
              "      <td>Müslümanları Ülkeye Sokmama Kararnamesi Mahkem...</td>\n",
              "    </tr>\n",
              "    <tr>\n",
              "      <th>5412</th>\n",
              "      <td>zaytung</td>\n",
              "      <td>546.0</td>\n",
              "      <td>150.0</td>\n",
              "      <td>Twitter Web Client</td>\n",
              "      <td>http://twitter.com</td>\n",
              "      <td>Facebook’ta Her Yazdığı En Az 400 Like Alan Kı...</td>\n",
              "      <td>Facebook’ta Her Yazdığı En Az 400 Like Alan Kı...</td>\n",
              "    </tr>\n",
              "    <tr>\n",
              "      <th>5413</th>\n",
              "      <td>zaytung</td>\n",
              "      <td>73.0</td>\n",
              "      <td>19.0</td>\n",
              "      <td>Twitter Web Client</td>\n",
              "      <td>http://twitter.com</td>\n",
              "      <td>Sinema - Vizyonda Bu Hafta: Vezir Parmağı (Mah...</td>\n",
              "      <td>Vizyonda Bu Hafta: Vezir Parmağı (Mahsun Kırmı...</td>\n",
              "    </tr>\n",
              "    <tr>\n",
              "      <th>5414</th>\n",
              "      <td>zaytung</td>\n",
              "      <td>529.0</td>\n",
              "      <td>272.0</td>\n",
              "      <td>Twitter Web Client</td>\n",
              "      <td>http://twitter.com</td>\n",
              "      <td>FotoHaber - Merkez Bankası'ndan flaş kredi not...</td>\n",
              "      <td>Merkez Bankası'ndan flaş kredi notu hamlesi......</td>\n",
              "    </tr>\n",
              "    <tr>\n",
              "      <th>5415</th>\n",
              "      <td>zaytung</td>\n",
              "      <td>398.0</td>\n",
              "      <td>223.0</td>\n",
              "      <td>Twitter Web Client</td>\n",
              "      <td>http://twitter.com</td>\n",
              "      <td>S&amp;amp;P'dan Hükümeti Rahatlatan Açıklama: \"Gör...</td>\n",
              "      <td>S&amp;amp;P'dan Hükümeti Rahatlatan Açıklama: \"Gör...</td>\n",
              "    </tr>\n",
              "  </tbody>\n",
              "</table>\n",
              "<p>3206 rows × 7 columns</p>\n",
              "</div>"
            ],
            "text/plain": [
              "       author  ...                                              title\n",
              "2210  zaytung  ...  Seçimle gitmeyi yediremeyen diktatör özentisin...\n",
              "2211  zaytung  ...  Melih Bulu: ''Metallica albüm kapağı gibi deği...\n",
              "2212  zaytung  ...  Korkudan Berat Albayrak'ın istifasını bile anc...\n",
              "2213  zaytung  ...  Piyasalarda Bugün: Yılbaşından Kalan 4 Kutu Bi...\n",
              "2214  zaytung  ...  %30'dan fazla olan enflasyonu %14 hesaplayıp m...\n",
              "...       ...  ...                                                ...\n",
              "5411  zaytung  ...  Müslümanları Ülkeye Sokmama Kararnamesi Mahkem...\n",
              "5412  zaytung  ...  Facebook’ta Her Yazdığı En Az 400 Like Alan Kı...\n",
              "5413  zaytung  ...  Vizyonda Bu Hafta: Vezir Parmağı (Mahsun Kırmı...\n",
              "5414  zaytung  ...  Merkez Bankası'ndan flaş kredi notu hamlesi......\n",
              "5415  zaytung  ...  S&amp;P'dan Hükümeti Rahatlatan Açıklama: \"Gör...\n",
              "\n",
              "[3206 rows x 7 columns]"
            ]
          },
          "metadata": {
            "tags": []
          },
          "execution_count": 93
        }
      ]
    },
    {
      "cell_type": "code",
      "metadata": {
        "colab": {
          "base_uri": "https://localhost:8080/"
        },
        "id": "yEtajG0GtLtv",
        "outputId": "085dbe8d-51fa-4cc1-ab53-0ecfa57a2edc"
      },
      "source": [
        "df[df['author'] == 'kazakerkegi']['title'] =  df[df['author'] == 'kazakerkegi']['text'].apply(lambda x: x)"
      ],
      "execution_count": null,
      "outputs": [
        {
          "output_type": "stream",
          "text": [
            "/usr/local/lib/python3.6/dist-packages/ipykernel_launcher.py:1: SettingWithCopyWarning: \n",
            "A value is trying to be set on a copy of a slice from a DataFrame.\n",
            "Try using .loc[row_indexer,col_indexer] = value instead\n",
            "\n",
            "See the caveats in the documentation: https://pandas.pydata.org/pandas-docs/stable/user_guide/indexing.html#returning-a-view-versus-a-copy\n",
            "  \"\"\"Entry point for launching an IPython kernel.\n"
          ],
          "name": "stderr"
        }
      ]
    },
    {
      "cell_type": "code",
      "metadata": {
        "colab": {
          "base_uri": "https://localhost:8080/",
          "height": 419
        },
        "id": "-hDI6l6UtLuT",
        "outputId": "05c3f650-91b2-4685-be63-e5c4b211688a"
      },
      "source": [
        "kazak = df[df['author'] == 'kazakerkegi']\r\n",
        "zaytung = df[df['author'] == 'zaytung']\r\n",
        "zaytung"
      ],
      "execution_count": null,
      "outputs": [
        {
          "output_type": "execute_result",
          "data": {
            "text/html": [
              "<div>\n",
              "<style scoped>\n",
              "    .dataframe tbody tr th:only-of-type {\n",
              "        vertical-align: middle;\n",
              "    }\n",
              "\n",
              "    .dataframe tbody tr th {\n",
              "        vertical-align: top;\n",
              "    }\n",
              "\n",
              "    .dataframe thead th {\n",
              "        text-align: right;\n",
              "    }\n",
              "</style>\n",
              "<table border=\"1\" class=\"dataframe\">\n",
              "  <thead>\n",
              "    <tr style=\"text-align: right;\">\n",
              "      <th></th>\n",
              "      <th>author</th>\n",
              "      <th>favorite_count</th>\n",
              "      <th>retweet_count</th>\n",
              "      <th>source</th>\n",
              "      <th>source_url</th>\n",
              "      <th>text</th>\n",
              "      <th>title</th>\n",
              "    </tr>\n",
              "  </thead>\n",
              "  <tbody>\n",
              "    <tr>\n",
              "      <th>2210</th>\n",
              "      <td>zaytung</td>\n",
              "      <td>905.0</td>\n",
              "      <td>78.0</td>\n",
              "      <td>Twitter Web App</td>\n",
              "      <td>https://mobile.twitter.com</td>\n",
              "      <td>FotoHaber - Seçimle gitmeyi yediremeyen diktat...</td>\n",
              "      <td>Seçimle gitmeyi yediremeyen diktatör özentisin...</td>\n",
              "    </tr>\n",
              "    <tr>\n",
              "      <th>2211</th>\n",
              "      <td>zaytung</td>\n",
              "      <td>1726.0</td>\n",
              "      <td>101.0</td>\n",
              "      <td>Twitter Web App</td>\n",
              "      <td>https://mobile.twitter.com</td>\n",
              "      <td>FotoHaber - Melih Bulu: ''Metallica albüm kapa...</td>\n",
              "      <td>Melih Bulu: ''Metallica albüm kapağı gibi deği...</td>\n",
              "    </tr>\n",
              "    <tr>\n",
              "      <th>2212</th>\n",
              "      <td>zaytung</td>\n",
              "      <td>2028.0</td>\n",
              "      <td>201.0</td>\n",
              "      <td>Twitter Web App</td>\n",
              "      <td>https://mobile.twitter.com</td>\n",
              "      <td>Son Dakika - Korkudan Berat Albayrak'ın istifa...</td>\n",
              "      <td>Korkudan Berat Albayrak'ın istifasını bile anc...</td>\n",
              "    </tr>\n",
              "    <tr>\n",
              "      <th>2213</th>\n",
              "      <td>zaytung</td>\n",
              "      <td>4720.0</td>\n",
              "      <td>356.0</td>\n",
              "      <td>Twitter Web App</td>\n",
              "      <td>https://mobile.twitter.com</td>\n",
              "      <td>Piyasalarda Bugün: Yılbaşından Kalan 4 Kutu Bi...</td>\n",
              "      <td>Piyasalarda Bugün: Yılbaşından Kalan 4 Kutu Bi...</td>\n",
              "    </tr>\n",
              "    <tr>\n",
              "      <th>2214</th>\n",
              "      <td>zaytung</td>\n",
              "      <td>2418.0</td>\n",
              "      <td>274.0</td>\n",
              "      <td>Twitter Web App</td>\n",
              "      <td>https://mobile.twitter.com</td>\n",
              "      <td>Son Dakika - %30'dan fazla olan enflasyonu %14...</td>\n",
              "      <td>%30'dan fazla olan enflasyonu %14 hesaplayıp m...</td>\n",
              "    </tr>\n",
              "    <tr>\n",
              "      <th>...</th>\n",
              "      <td>...</td>\n",
              "      <td>...</td>\n",
              "      <td>...</td>\n",
              "      <td>...</td>\n",
              "      <td>...</td>\n",
              "      <td>...</td>\n",
              "      <td>...</td>\n",
              "    </tr>\n",
              "    <tr>\n",
              "      <th>5411</th>\n",
              "      <td>zaytung</td>\n",
              "      <td>895.0</td>\n",
              "      <td>518.0</td>\n",
              "      <td>Twitter Web Client</td>\n",
              "      <td>http://twitter.com</td>\n",
              "      <td>Müslümanları Ülkeye Sokmama Kararnamesi Mahkem...</td>\n",
              "      <td>Müslümanları Ülkeye Sokmama Kararnamesi Mahkem...</td>\n",
              "    </tr>\n",
              "    <tr>\n",
              "      <th>5412</th>\n",
              "      <td>zaytung</td>\n",
              "      <td>546.0</td>\n",
              "      <td>150.0</td>\n",
              "      <td>Twitter Web Client</td>\n",
              "      <td>http://twitter.com</td>\n",
              "      <td>Facebook’ta Her Yazdığı En Az 400 Like Alan Kı...</td>\n",
              "      <td>Facebook’ta Her Yazdığı En Az 400 Like Alan Kı...</td>\n",
              "    </tr>\n",
              "    <tr>\n",
              "      <th>5413</th>\n",
              "      <td>zaytung</td>\n",
              "      <td>73.0</td>\n",
              "      <td>19.0</td>\n",
              "      <td>Twitter Web Client</td>\n",
              "      <td>http://twitter.com</td>\n",
              "      <td>Sinema - Vizyonda Bu Hafta: Vezir Parmağı (Mah...</td>\n",
              "      <td>Vizyonda Bu Hafta: Vezir Parmağı (Mahsun Kırmı...</td>\n",
              "    </tr>\n",
              "    <tr>\n",
              "      <th>5414</th>\n",
              "      <td>zaytung</td>\n",
              "      <td>529.0</td>\n",
              "      <td>272.0</td>\n",
              "      <td>Twitter Web Client</td>\n",
              "      <td>http://twitter.com</td>\n",
              "      <td>FotoHaber - Merkez Bankası'ndan flaş kredi not...</td>\n",
              "      <td>Merkez Bankası'ndan flaş kredi notu hamlesi......</td>\n",
              "    </tr>\n",
              "    <tr>\n",
              "      <th>5415</th>\n",
              "      <td>zaytung</td>\n",
              "      <td>398.0</td>\n",
              "      <td>223.0</td>\n",
              "      <td>Twitter Web Client</td>\n",
              "      <td>http://twitter.com</td>\n",
              "      <td>S&amp;amp;P'dan Hükümeti Rahatlatan Açıklama: \"Gör...</td>\n",
              "      <td>S&amp;amp;P'dan Hükümeti Rahatlatan Açıklama: \"Gör...</td>\n",
              "    </tr>\n",
              "  </tbody>\n",
              "</table>\n",
              "<p>3206 rows × 7 columns</p>\n",
              "</div>"
            ],
            "text/plain": [
              "       author  ...                                              title\n",
              "2210  zaytung  ...  Seçimle gitmeyi yediremeyen diktatör özentisin...\n",
              "2211  zaytung  ...  Melih Bulu: ''Metallica albüm kapağı gibi deği...\n",
              "2212  zaytung  ...  Korkudan Berat Albayrak'ın istifasını bile anc...\n",
              "2213  zaytung  ...  Piyasalarda Bugün: Yılbaşından Kalan 4 Kutu Bi...\n",
              "2214  zaytung  ...  %30'dan fazla olan enflasyonu %14 hesaplayıp m...\n",
              "...       ...  ...                                                ...\n",
              "5411  zaytung  ...  Müslümanları Ülkeye Sokmama Kararnamesi Mahkem...\n",
              "5412  zaytung  ...  Facebook’ta Her Yazdığı En Az 400 Like Alan Kı...\n",
              "5413  zaytung  ...  Vizyonda Bu Hafta: Vezir Parmağı (Mahsun Kırmı...\n",
              "5414  zaytung  ...  Merkez Bankası'ndan flaş kredi notu hamlesi......\n",
              "5415  zaytung  ...  S&amp;P'dan Hükümeti Rahatlatan Açıklama: \"Gör...\n",
              "\n",
              "[3206 rows x 7 columns]"
            ]
          },
          "metadata": {
            "tags": []
          },
          "execution_count": 103
        }
      ]
    },
    {
      "cell_type": "code",
      "metadata": {
        "colab": {
          "base_uri": "https://localhost:8080/",
          "height": 521
        },
        "id": "PmFxtELdtLvB",
        "outputId": "85d24077-3304-4178-a424-252b80128910"
      },
      "source": [
        "kazak['title'] = kazak['text']\r\n",
        "kazak"
      ],
      "execution_count": null,
      "outputs": [
        {
          "output_type": "stream",
          "text": [
            "/usr/local/lib/python3.6/dist-packages/ipykernel_launcher.py:1: SettingWithCopyWarning: \n",
            "A value is trying to be set on a copy of a slice from a DataFrame.\n",
            "Try using .loc[row_indexer,col_indexer] = value instead\n",
            "\n",
            "See the caveats in the documentation: https://pandas.pydata.org/pandas-docs/stable/user_guide/indexing.html#returning-a-view-versus-a-copy\n",
            "  \"\"\"Entry point for launching an IPython kernel.\n"
          ],
          "name": "stderr"
        },
        {
          "output_type": "execute_result",
          "data": {
            "text/html": [
              "<div>\n",
              "<style scoped>\n",
              "    .dataframe tbody tr th:only-of-type {\n",
              "        vertical-align: middle;\n",
              "    }\n",
              "\n",
              "    .dataframe tbody tr th {\n",
              "        vertical-align: top;\n",
              "    }\n",
              "\n",
              "    .dataframe thead th {\n",
              "        text-align: right;\n",
              "    }\n",
              "</style>\n",
              "<table border=\"1\" class=\"dataframe\">\n",
              "  <thead>\n",
              "    <tr style=\"text-align: right;\">\n",
              "      <th></th>\n",
              "      <th>author</th>\n",
              "      <th>favorite_count</th>\n",
              "      <th>retweet_count</th>\n",
              "      <th>source</th>\n",
              "      <th>source_url</th>\n",
              "      <th>text</th>\n",
              "      <th>title</th>\n",
              "    </tr>\n",
              "  </thead>\n",
              "  <tbody>\n",
              "    <tr>\n",
              "      <th>0</th>\n",
              "      <td>kazakerkegi</td>\n",
              "      <td>0.0</td>\n",
              "      <td>156.0</td>\n",
              "      <td>Twitter for iPhone</td>\n",
              "      <td>http://twitter.com/download/iphone</td>\n",
              "      <td>RT @kazakerkegi: samimi sıcak kanlı insanlarla...</td>\n",
              "      <td>RT @kazakerkegi: samimi sıcak kanlı insanlarla...</td>\n",
              "    </tr>\n",
              "    <tr>\n",
              "      <th>1</th>\n",
              "      <td>kazakerkegi</td>\n",
              "      <td>919.0</td>\n",
              "      <td>50.0</td>\n",
              "      <td>Twitter Web App</td>\n",
              "      <td>https://mobile.twitter.com</td>\n",
              "      <td>farkettiniz mi artık kimse stalk yapmıyo. kims...</td>\n",
              "      <td>farkettiniz mi artık kimse stalk yapmıyo. kims...</td>\n",
              "    </tr>\n",
              "    <tr>\n",
              "      <th>2</th>\n",
              "      <td>kazakerkegi</td>\n",
              "      <td>481.0</td>\n",
              "      <td>9.0</td>\n",
              "      <td>Twitter for iPhone</td>\n",
              "      <td>http://twitter.com/download/iphone</td>\n",
              "      <td>ülke yansa bile şeyma subaşı dans etmeye devam...</td>\n",
              "      <td>ülke yansa bile şeyma subaşı dans etmeye devam...</td>\n",
              "    </tr>\n",
              "    <tr>\n",
              "      <th>3</th>\n",
              "      <td>kazakerkegi</td>\n",
              "      <td>107.0</td>\n",
              "      <td>1.0</td>\n",
              "      <td>Twitter for iPhone</td>\n",
              "      <td>http://twitter.com/download/iphone</td>\n",
              "      <td>hadi herkes anlık kilitli ekran fotolarını ats...</td>\n",
              "      <td>hadi herkes anlık kilitli ekran fotolarını ats...</td>\n",
              "    </tr>\n",
              "    <tr>\n",
              "      <th>4</th>\n",
              "      <td>kazakerkegi</td>\n",
              "      <td>347.0</td>\n",
              "      <td>24.0</td>\n",
              "      <td>Twitter for iPhone</td>\n",
              "      <td>http://twitter.com/download/iphone</td>\n",
              "      <td>türkiye'de 15 kişide ingiltere'de mutasyona uğ...</td>\n",
              "      <td>türkiye'de 15 kişide ingiltere'de mutasyona uğ...</td>\n",
              "    </tr>\n",
              "    <tr>\n",
              "      <th>...</th>\n",
              "      <td>...</td>\n",
              "      <td>...</td>\n",
              "      <td>...</td>\n",
              "      <td>...</td>\n",
              "      <td>...</td>\n",
              "      <td>...</td>\n",
              "      <td>...</td>\n",
              "    </tr>\n",
              "    <tr>\n",
              "      <th>2205</th>\n",
              "      <td>kazakerkegi</td>\n",
              "      <td>456.0</td>\n",
              "      <td>72.0</td>\n",
              "      <td>Twitter for iPhone</td>\n",
              "      <td>http://twitter.com/download/iphone</td>\n",
              "      <td>gel, gel, gel, gel çok özledim\\ngel, gel, gel ...</td>\n",
              "      <td>gel, gel, gel, gel çok özledim\\ngel, gel, gel ...</td>\n",
              "    </tr>\n",
              "    <tr>\n",
              "      <th>2206</th>\n",
              "      <td>kazakerkegi</td>\n",
              "      <td>476.0</td>\n",
              "      <td>50.0</td>\n",
              "      <td>Twitter for iPhone</td>\n",
              "      <td>http://twitter.com/download/iphone</td>\n",
              "      <td>kedili külotlu çorabı bulanın allah belasını v...</td>\n",
              "      <td>kedili külotlu çorabı bulanın allah belasını v...</td>\n",
              "    </tr>\n",
              "    <tr>\n",
              "      <th>2207</th>\n",
              "      <td>kazakerkegi</td>\n",
              "      <td>1040.0</td>\n",
              "      <td>114.0</td>\n",
              "      <td>Twitter for iPhone</td>\n",
              "      <td>http://twitter.com/download/iphone</td>\n",
              "      <td>BEYLER FORMÜLÜ BULDUM https://t.co/V61v57juFF</td>\n",
              "      <td>BEYLER FORMÜLÜ BULDUM https://t.co/V61v57juFF</td>\n",
              "    </tr>\n",
              "    <tr>\n",
              "      <th>2208</th>\n",
              "      <td>kazakerkegi</td>\n",
              "      <td>1289.0</td>\n",
              "      <td>308.0</td>\n",
              "      <td>Twitter Web Client</td>\n",
              "      <td>http://twitter.com</td>\n",
              "      <td>türk kızı spor anlayışı https://t.co/49CSgi05EX</td>\n",
              "      <td>türk kızı spor anlayışı https://t.co/49CSgi05EX</td>\n",
              "    </tr>\n",
              "    <tr>\n",
              "      <th>2209</th>\n",
              "      <td>kazakerkegi</td>\n",
              "      <td>993.0</td>\n",
              "      <td>144.0</td>\n",
              "      <td>Twitter Web Client</td>\n",
              "      <td>http://twitter.com</td>\n",
              "      <td>çamaşır suyuna bak sanki son sünneti kılıp tem...</td>\n",
              "      <td>çamaşır suyuna bak sanki son sünneti kılıp tem...</td>\n",
              "    </tr>\n",
              "  </tbody>\n",
              "</table>\n",
              "<p>2210 rows × 7 columns</p>\n",
              "</div>"
            ],
            "text/plain": [
              "           author  ...                                              title\n",
              "0     kazakerkegi  ...  RT @kazakerkegi: samimi sıcak kanlı insanlarla...\n",
              "1     kazakerkegi  ...  farkettiniz mi artık kimse stalk yapmıyo. kims...\n",
              "2     kazakerkegi  ...  ülke yansa bile şeyma subaşı dans etmeye devam...\n",
              "3     kazakerkegi  ...  hadi herkes anlık kilitli ekran fotolarını ats...\n",
              "4     kazakerkegi  ...  türkiye'de 15 kişide ingiltere'de mutasyona uğ...\n",
              "...           ...  ...                                                ...\n",
              "2205  kazakerkegi  ...  gel, gel, gel, gel çok özledim\\ngel, gel, gel ...\n",
              "2206  kazakerkegi  ...  kedili külotlu çorabı bulanın allah belasını v...\n",
              "2207  kazakerkegi  ...      BEYLER FORMÜLÜ BULDUM https://t.co/V61v57juFF\n",
              "2208  kazakerkegi  ...    türk kızı spor anlayışı https://t.co/49CSgi05EX\n",
              "2209  kazakerkegi  ...  çamaşır suyuna bak sanki son sünneti kılıp tem...\n",
              "\n",
              "[2210 rows x 7 columns]"
            ]
          },
          "metadata": {
            "tags": []
          },
          "execution_count": 105
        }
      ]
    },
    {
      "cell_type": "code",
      "metadata": {
        "colab": {
          "base_uri": "https://localhost:8080/",
          "height": 204
        },
        "id": "6YF9yQM6tLvk",
        "outputId": "8b4611a9-8dce-4e79-c0bc-54ae00d21605"
      },
      "source": [
        "df = pd.concat([kazak, zaytung])\r\n",
        "df.sample(5)"
      ],
      "execution_count": null,
      "outputs": [
        {
          "output_type": "execute_result",
          "data": {
            "text/html": [
              "<div>\n",
              "<style scoped>\n",
              "    .dataframe tbody tr th:only-of-type {\n",
              "        vertical-align: middle;\n",
              "    }\n",
              "\n",
              "    .dataframe tbody tr th {\n",
              "        vertical-align: top;\n",
              "    }\n",
              "\n",
              "    .dataframe thead th {\n",
              "        text-align: right;\n",
              "    }\n",
              "</style>\n",
              "<table border=\"1\" class=\"dataframe\">\n",
              "  <thead>\n",
              "    <tr style=\"text-align: right;\">\n",
              "      <th></th>\n",
              "      <th>author</th>\n",
              "      <th>favorite_count</th>\n",
              "      <th>retweet_count</th>\n",
              "      <th>source</th>\n",
              "      <th>source_url</th>\n",
              "      <th>text</th>\n",
              "      <th>title</th>\n",
              "    </tr>\n",
              "  </thead>\n",
              "  <tbody>\n",
              "    <tr>\n",
              "      <th>1637</th>\n",
              "      <td>kazakerkegi</td>\n",
              "      <td>2216.0</td>\n",
              "      <td>231.0</td>\n",
              "      <td>Twitter Web Client</td>\n",
              "      <td>http://twitter.com</td>\n",
              "      <td>1000 çeşit emoji çıkaranın allah belasını vers...</td>\n",
              "      <td>1000 çeşit emoji çıkaranın allah belasını vers...</td>\n",
              "    </tr>\n",
              "    <tr>\n",
              "      <th>3969</th>\n",
              "      <td>zaytung</td>\n",
              "      <td>7207.0</td>\n",
              "      <td>1754.0</td>\n",
              "      <td>Twitter Web Client</td>\n",
              "      <td>http://twitter.com</td>\n",
              "      <td>VideoHaber - Uyarılar fayda etmedi: Hayvanat b...</td>\n",
              "      <td>Uyarılar fayda etmedi: Hayvanat bahçesindeki ç...</td>\n",
              "    </tr>\n",
              "    <tr>\n",
              "      <th>2322</th>\n",
              "      <td>zaytung</td>\n",
              "      <td>1150.0</td>\n",
              "      <td>25.0</td>\n",
              "      <td>Twitter Web App</td>\n",
              "      <td>https://mobile.twitter.com</td>\n",
              "      <td>Formula 1 İzlerken Keyif Almaya Çalışanlar Pla...</td>\n",
              "      <td>Formula 1 İzlerken Keyif Almaya Çalışanlar Pla...</td>\n",
              "    </tr>\n",
              "    <tr>\n",
              "      <th>1937</th>\n",
              "      <td>kazakerkegi</td>\n",
              "      <td>985.0</td>\n",
              "      <td>131.0</td>\n",
              "      <td>Twitter for iPhone</td>\n",
              "      <td>http://twitter.com/download/iphone</td>\n",
              "      <td>:Dasdfghjkllşiimöç https://t.co/8nGWEBoYgf</td>\n",
              "      <td>:Dasdfghjkllşiimöç https://t.co/8nGWEBoYgf</td>\n",
              "    </tr>\n",
              "    <tr>\n",
              "      <th>4001</th>\n",
              "      <td>zaytung</td>\n",
              "      <td>4374.0</td>\n",
              "      <td>720.0</td>\n",
              "      <td>Twitter Web Client</td>\n",
              "      <td>http://twitter.com</td>\n",
              "      <td>Piyasalar Berat Albayrak'a Olumlu Tepki Verdi:...</td>\n",
              "      <td>Piyasalar Berat Albayrak'a Olumlu Tepki Verdi:...</td>\n",
              "    </tr>\n",
              "  </tbody>\n",
              "</table>\n",
              "</div>"
            ],
            "text/plain": [
              "           author  ...                                              title\n",
              "1637  kazakerkegi  ...  1000 çeşit emoji çıkaranın allah belasını vers...\n",
              "3969      zaytung  ...  Uyarılar fayda etmedi: Hayvanat bahçesindeki ç...\n",
              "2322      zaytung  ...  Formula 1 İzlerken Keyif Almaya Çalışanlar Pla...\n",
              "1937  kazakerkegi  ...         :Dasdfghjkllşiimöç https://t.co/8nGWEBoYgf\n",
              "4001      zaytung  ...  Piyasalar Berat Albayrak'a Olumlu Tepki Verdi:...\n",
              "\n",
              "[5 rows x 7 columns]"
            ]
          },
          "metadata": {
            "tags": []
          },
          "execution_count": 107
        }
      ]
    },
    {
      "cell_type": "markdown",
      "metadata": {
        "id": "6fvlgw6EJYas"
      },
      "source": [
        "# since kazakerkegi tweets might be random laughs, just use zaytung.."
      ]
    },
    {
      "cell_type": "code",
      "metadata": {
        "colab": {
          "base_uri": "https://localhost:8080/"
        },
        "id": "nm7BAyX_tLwp",
        "outputId": "73779a78-e91a-4a2c-a82d-b5839d8b97e1"
      },
      "source": [
        "rand_ind = np.random.randint(0, len(zaytung)-1, 50)\r\n",
        "    \r\n",
        "for i in rand_ind:\r\n",
        "    print('============')\r\n",
        "    print('\\n')\r\n",
        "    print(zaytung['title'].values[i])\r\n",
        "    print('\\n')\r\n",
        "    print('============')"
      ],
      "execution_count": null,
      "outputs": [
        {
          "output_type": "stream",
          "text": [
            "============\n",
            "\n",
            "\n",
            "2 ay öncesine kadar AK Parti piyasasında ''Cehape zihniyetinin eseri'' seviyesinden işlem gören gaz yağ… https://t.co/2XwnlYFxE4\n",
            "\n",
            "\n",
            "============\n",
            "============\n",
            "\n",
            "\n",
            "MHP Mv. Erkan Haberal, özel şoförünün makam aracıyla çarparak ezmeye çalıştığı güvenlik görevlisini s… https://t.co/vhJatS73TL\n",
            "\n",
            "\n",
            "============\n",
            "============\n",
            "\n",
            "\n",
            "İki Çocuğuyla Birlikte Tatile Çıkan Günek Ailesi, Kendilerininki de Dahil Yaklaşık 400 Kişinin Tatilini Burnundan G… https://t.co/YFjrDKeBzn\n",
            "\n",
            "\n",
            "============\n",
            "============\n",
            "\n",
            "\n",
            "Düğün Sezonu Başlarken: Gelinin En Yakın Arkadaşının Hayatta Kalma Rehberi... https://t.co/6RahVzeDGN https://t.co/2j3QXl4AP8\n",
            "\n",
            "\n",
            "============\n",
            "============\n",
            "\n",
            "\n",
            "30 Bin Hasta Arasından Sıyrılarak 1500 Kişilik Günlük Covid Vaka Tablosu'na Girmeyi Başaran Fabrika İşçisi, Çayıral… https://t.co/qby9MIuSaA\n",
            "\n",
            "\n",
            "============\n",
            "============\n",
            "\n",
            "\n",
            "Faiz Yüzünden mi Döviz Yüzünden mi Batması Gerektiğine Karar Veremeyen Albazlar Holding, Çalışanlar Arasında Anket… https://t.co/9lXn4rIlt3\n",
            "\n",
            "\n",
            "============\n",
            "============\n",
            "\n",
            "\n",
            "Köşeye sıkışmakta olan yüzlerce gence Arda Turan'dan altın değerinde bir asist...… https://t.co/RXYzbhfLzA\n",
            "\n",
            "\n",
            "============\n",
            "============\n",
            "\n",
            "\n",
            "YKS'de Başarı Kriteri ''Sınavdan eve virüs getirmesin yeter'' Seviyesine İnen Yiğit Buray(18) Cephesinde Yüzler Gül… https://t.co/C3BxD3NfxN\n",
            "\n",
            "\n",
            "============\n",
            "============\n",
            "\n",
            "\n",
            "Star Wars: Son Jedi (8. Geleneksel Aralık Ayı Galaksi Birbirine Giriyor Şenlikleri) https://t.co/aa7UOPsUmJ https://t.co/HjKjHHeVCc\n",
            "\n",
            "\n",
            "============\n",
            "============\n",
            "\n",
            "\n",
            "Mehmet Şimşek, Türkiye'ye yatırım konusunda çekimser olan yabancı yatırımcıları ikna etmeye çalışıyor..… https://t.co/Ho6PADSkuJ\n",
            "\n",
            "\n",
            "============\n",
            "============\n",
            "\n",
            "\n",
            "Meteoroloji'nin kar yağışı uyarısı üzerine Diyanet İşleri şimdi de ilk kez yapılacak ''kar duası''na h… https://t.co/qo7y24dwYq\n",
            "\n",
            "\n",
            "============\n",
            "============\n",
            "\n",
            "\n",
            "İstanbul'da bir grup taksici, müşteri gibi davranarak çağırdıkları UBER şoförünü dövdü. Siz bu konuda… https://t.co/ZIpOc65AEt\n",
            "\n",
            "\n",
            "============\n",
            "============\n",
            "\n",
            "\n",
            "Yasadışı Yollardan Kadıköy'e Geçmeye Çalışan 16 Arap Turist'in Mecidiyeköy'e İade İşlemi Tamamlandı… https://t.co/GHgIdl392P\n",
            "\n",
            "\n",
            "============\n",
            "============\n",
            "\n",
            "\n",
            "Millet Kıraathaneleri'ndeki batak oyununda ihale en yüksek teklifi veren Cengiz-Kolin-Limak Ortak Giri… https://t.co/h4g1Pgybem\n",
            "\n",
            "\n",
            "============\n",
            "============\n",
            "\n",
            "\n",
            "Diğer muhabir intihar eğilimli olabilir mi? Uzman görüşü birazdan aHaber canlı yayınında...… https://t.co/fQQ6Lrg88x\n",
            "\n",
            "\n",
            "============\n",
            "============\n",
            "\n",
            "\n",
            "Gezi&amp;Dünya (Temmuz 2017) https://t.co/JAxaaxGNp9 https://t.co/xq2dPCStqb\n",
            "\n",
            "\n",
            "============\n",
            "============\n",
            "\n",
            "\n",
            "Feminist Bir Soygun Filmi: Ocean's 8 (Kafamızdaki soru ise aynı: Adam başı ne kadar düşüyor?)… https://t.co/VdEXX8YQ9O\n",
            "\n",
            "\n",
            "============\n",
            "============\n",
            "\n",
            "\n",
            "Instagram ''Son Görülmeyi Kapat'' Özelliğini Tanıttı... https://t.co/5PeSmoOez6 https://t.co/TmCGWyfkFQ\n",
            "\n",
            "\n",
            "============\n",
            "============\n",
            "\n",
            "\n",
            "Ailecek Şaşkınız (Ahmet Kural ve Murat Cemcir’in çalgısız ve düğünsüz bir filmde oynama şaşkınlığı… https://t.co/5c84MWyoMn\n",
            "\n",
            "\n",
            "============\n",
            "============\n",
            "\n",
            "\n",
            "AKP'nin savcıları, bir haftayı daha görevlerini yapmış olmanın huzuruyla kapattı...… https://t.co/lr5ccRjHSO\n",
            "\n",
            "\n",
            "============\n",
            "============\n",
            "\n",
            "\n",
            "Adalet Bakanlığı, Kadıgil'i Sorgulayacak Savcıları Uyardı: \"Konuyu referanduma getirmeyin, çok ikna edici konuşuyor… https://t.co/TUQrjSv1w8\n",
            "\n",
            "\n",
            "============\n",
            "============\n",
            "\n",
            "\n",
            "Tüm olumsuzluklara rağmen hala Cengiz Holding'i beslemeye devam edebilen Türkiye ekonomisi, piyasalarda… https://t.co/kQZ2O9KEPX\n",
            "\n",
            "\n",
            "============\n",
            "============\n",
            "\n",
            "\n",
            "Green Card Çekilişini Kazanan Genç, Havaya Çabuk Girdi: \"Abi Trump gitse kim gelecek? Clinton'da liderlik vasfı yok… https://t.co/pFUAeZmFor\n",
            "\n",
            "\n",
            "============\n",
            "============\n",
            "\n",
            "\n",
            "RT @ZaytungZone: 22 Ekim'de Zaytung Zone'da @sinemsal 'ı ağırlamadan önce sizi şöyle enfes bir Zaytung-Sinem Sal röportajına alalım: https:…\n",
            "\n",
            "\n",
            "============\n",
            "============\n",
            "\n",
            "\n",
            "Yılda ortalama 10 km metro yapan AK Parti'de hedef İstanbul'u 110 yıl daha yönetmek...… https://t.co/BDFriXNaPG\n",
            "\n",
            "\n",
            "============\n",
            "============\n",
            "\n",
            "\n",
            "Türkiye'den İran'a Yardım Eli: Düşürülen Yolcu Uçağı Olayını Soruşturup Hiçbir İranlı Yetkilinin Sorumlu Olmadığı S… https://t.co/ToF6LZt3d4\n",
            "\n",
            "\n",
            "============\n",
            "============\n",
            "\n",
            "\n",
            "Dışişleri'nden Almanya'ya seyahat edecek vatandaşlara uyarı: ''Vize için çok kastırıyorlar :('' https://t.co/zKaeq4cGqj\n",
            "\n",
            "\n",
            "============\n",
            "============\n",
            "\n",
            "\n",
            "Deniz Seki'ye şok! Tahliyesi sırasında uçurulan güvercin, kuryelikten tutuklandı. Ayrıntılar geliyor...… https://t.co/NquJy0ByGv\n",
            "\n",
            "\n",
            "============\n",
            "============\n",
            "\n",
            "\n",
            "Rekabet Kurulu, soğanla ilgili ön araştırma raporunu yayınladı: \"Stokçuluk yok...\". Siz bu konuda ne… https://t.co/UKjx0Ywi85\n",
            "\n",
            "\n",
            "============\n",
            "============\n",
            "\n",
            "\n",
            "Sözleşmede Falcao'ya Eflak ve Boğdan'ı da Verdiği Ortaya Çıkan Galatasaray Yönetimi, Krizi Çözmek Üzere Romanya'ya… https://t.co/FMGjMTjS0E\n",
            "\n",
            "\n",
            "============\n",
            "============\n",
            "\n",
            "\n",
            "TEST: 2018'de Gündemden Ne Kadar Uzağa Kaçabildiniz? https://t.co/PDFEgTGpbm https://t.co/91cJf5c9aK\n",
            "\n",
            "\n",
            "============\n",
            "============\n",
            "\n",
            "\n",
            "Hayata 1-0 Önde Başlatacak Bir Üniversite Arayan Genç, En Az 5-0'lık Bir Skora İhtiyacı Olduğunun Henüz Farkında De… https://t.co/UeStHeGwvk\n",
            "\n",
            "\n",
            "============\n",
            "============\n",
            "\n",
            "\n",
            "Dışişleri Bakanlığı'nın yaptığı Fransa'ya seyahat uyarısını ciddiye almayan Galatasaray'da pişmanlık ve… https://t.co/xzhJT1RtV9\n",
            "\n",
            "\n",
            "============\n",
            "============\n",
            "\n",
            "\n",
            "IMF'den Sevindiren Rapor:  Her Zam Haberinin Ardından Sosyal Medyada Esprilerin Havalarda Uçuştuğu Türkiye, En Neşe… https://t.co/nIxVAbfGJC\n",
            "\n",
            "\n",
            "============\n",
            "============\n",
            "\n",
            "\n",
            "Demet Akalın'dan sıkıntılı günler geçiren Burhan Kuzu'ya anlamlı destek... https://t.co/Ze6odjWg0T https://t.co/XwZYnCOzuo\n",
            "\n",
            "\n",
            "============\n",
            "============\n",
            "\n",
            "\n",
            "Barzani: ''AKP-CHP-PKK-ABD-AB-İran aynı safta, HAYIR diyor...'' https://t.co/cFNbyBWD2W https://t.co/w6bJMVBSMv\n",
            "\n",
            "\n",
            "============\n",
            "============\n",
            "\n",
            "\n",
            "Tüm Birikimini Şimdi Yarı Fiyatına Bile Satamadığı Bir Eve Yatıran İnce Ailesi, Ortada Yurt Dışına Kaçırılabilecek… https://t.co/yCoOmT7fh9\n",
            "\n",
            "\n",
            "============\n",
            "============\n",
            "\n",
            "\n",
            "Daha Hızlı Sonuç Alınması İçin Devletteki FETÖ Soruşturmaları, FETÖ’cü Olmayanların Tespit Edilmesiyle Devam Edecek… https://t.co/Ms3Z20Npmg\n",
            "\n",
            "\n",
            "============\n",
            "============\n",
            "\n",
            "\n",
            "800 Dolarlık Birikimi Sayesinde Her Gün Sigara Parasını Bedavaya Getiren Yavuz Aycan, Ekonomideki Gidişattan Memnun… https://t.co/SmsrSkfT1w\n",
            "\n",
            "\n",
            "============\n",
            "============\n",
            "\n",
            "\n",
            "Ulaştırma Bakanlığı: ''Cuma akşamı trafiğinde o trenin Maltepe'ye kadar gidebilmiş olması da bir başarı… https://t.co/X4Jimv6g1n\n",
            "\n",
            "\n",
            "============\n",
            "============\n",
            "\n",
            "\n",
            "Dominik Cumhuriyeti, Survivor İçin Ülkeye Gelen En Ünlü İsmin Ersin Korkut Olması Nedeniyle Türkiye'ye Nota Vermeye… https://t.co/lFVxSh9LVy\n",
            "\n",
            "\n",
            "============\n",
            "============\n",
            "\n",
            "\n",
            "Suudi Arabistan, Kadınlara Araba Kullanma Hakkı Veren Yasada Düzenlemeye Gitti: Arabalara Örtünme Zorunluluğu...… https://t.co/SeKLNSTRRf\n",
            "\n",
            "\n",
            "============\n",
            "============\n",
            "\n",
            "\n",
            "Erdoğan: ''Emeğe saygı diye bir şey kalmamış...'' https://t.co/vrp8NV4rs5 https://t.co/w1P88BDA6Z\n",
            "\n",
            "\n",
            "============\n",
            "============\n",
            "\n",
            "\n",
            "Başakşehir, Neymar ve Mbappe'yi Şampiyonlar Ligi'nde gol kralı yaparak ırkçılığa karşı tepkisini göster… https://t.co/dVqizNdKiA\n",
            "\n",
            "\n",
            "============\n",
            "============\n",
            "\n",
            "\n",
            "Uyarılar fayda etmedi: Hayvanat bahçesindeki çomar kafesine fazla yaklaşan kanguru, yürekleri ağza get… https://t.co/HJjvSPSpJ6\n",
            "\n",
            "\n",
            "============\n",
            "============\n",
            "\n",
            "\n",
            "Gündüz verilemeyen o mükemmel yanıt, yine yastığa kafayı koyunca akla geldi... https://t.co/Je7cpsR608 https://t.co/S1eFxP6hLF\n",
            "\n",
            "\n",
            "============\n",
            "============\n",
            "\n",
            "\n",
            "Maç izlerken koltuktaki oturuşunu her değiştirdiğinde penaltı çalındığını fark eden Fenerbahçe taraftar… https://t.co/Yip5XLHBK1\n",
            "\n",
            "\n",
            "============\n",
            "============\n",
            "\n",
            "\n",
            "Sokakta Öpüştüğü İçin Para Cezası Kesilen Genç İfadesini Değiştirdi: \"Ben kıza kafa atıyordum, polis yanlış anladı\"… https://t.co/cUDkNiWpyX\n",
            "\n",
            "\n",
            "============\n",
            "============\n",
            "\n",
            "\n",
            "CB Erdoğan'ın \"Biz TEOG'la mı geldik?\" Açıklamasının Ardından MEB Düğmeye Bastı: \"Sandığa gidilsin, kim kazanırsa..… https://t.co/fOZ8cuAnyS\n",
            "\n",
            "\n",
            "============\n",
            "============\n",
            "\n",
            "\n",
            "Enflasyonun son 15 ayın en düşük seviyesine gerilediğinin açıklanmasının ardından gözler, bu gece zam… https://t.co/CZ32W8crbo\n",
            "\n",
            "\n",
            "============\n"
          ],
          "name": "stdout"
        }
      ]
    },
    {
      "cell_type": "code",
      "metadata": {
        "id": "KSEVVQpWtLxS"
      },
      "source": [
        "test = zaytung['title'].values[0]"
      ],
      "execution_count": null,
      "outputs": []
    },
    {
      "cell_type": "code",
      "metadata": {
        "colab": {
          "base_uri": "https://localhost:8080/",
          "height": 35
        },
        "id": "YxYR-9lUtLx6",
        "outputId": "3e7ff0e0-b1c3-4360-9846-0b43867fbb32"
      },
      "source": [
        "test.split('https://')[0]"
      ],
      "execution_count": null,
      "outputs": [
        {
          "output_type": "execute_result",
          "data": {
            "application/vnd.google.colaboratory.intrinsic+json": {
              "type": "string"
            },
            "text/plain": [
              "'Seçimle gitmeyi yediremeyen diktatör özentisinin, destekçilerini amatör teröristlere dönüştürme hızı tü… '"
            ]
          },
          "metadata": {
            "tags": []
          },
          "execution_count": 123
        }
      ]
    },
    {
      "cell_type": "code",
      "metadata": {
        "colab": {
          "base_uri": "https://localhost:8080/"
        },
        "id": "CIGu7KdztLyd",
        "outputId": "54667751-662e-4a84-a251-319efedab683"
      },
      "source": [
        "min(zaytung['text'].apply(len))"
      ],
      "execution_count": null,
      "outputs": [
        {
          "output_type": "execute_result",
          "data": {
            "text/plain": [
              "60"
            ]
          },
          "metadata": {
            "tags": []
          },
          "execution_count": 127
        }
      ]
    },
    {
      "cell_type": "code",
      "metadata": {
        "colab": {
          "base_uri": "https://localhost:8080/"
        },
        "id": "FjQbcUTFtLzA",
        "outputId": "8e6bc684-74e3-41da-c2ed-9c7d8a6ff8b6"
      },
      "source": [
        "len('FotoHaber - Seçimle gitmeyi yediremeyen diktatör özentisinin, destekçilerini amatör teröristlere dönüştürme hızı tüm dünyada ilgiyle izleniyor... zaytung.com/fotohaberdetay…')"
      ],
      "execution_count": null,
      "outputs": [
        {
          "output_type": "execute_result",
          "data": {
            "text/plain": [
              "173"
            ]
          },
          "metadata": {
            "tags": []
          },
          "execution_count": 128
        }
      ]
    },
    {
      "cell_type": "code",
      "metadata": {
        "colab": {
          "base_uri": "https://localhost:8080/"
        },
        "id": "qVB5eMYotLzl",
        "outputId": "0000ab00-5b06-46e5-e98d-a252e33dfaaf"
      },
      "source": [
        "len(test)"
      ],
      "execution_count": null,
      "outputs": [
        {
          "output_type": "execute_result",
          "data": {
            "text/plain": [
              "128"
            ]
          },
          "metadata": {
            "tags": []
          },
          "execution_count": 131
        }
      ]
    },
    {
      "cell_type": "code",
      "metadata": {
        "id": "b5sY_uAJtL0I"
      },
      "source": [
        ""
      ],
      "execution_count": null,
      "outputs": []
    },
    {
      "cell_type": "markdown",
      "metadata": {
        "id": "biZMQB7NTnqc"
      },
      "source": [
        "# Extended tweets are now included, starting over"
      ]
    },
    {
      "cell_type": "code",
      "metadata": {
        "colab": {
          "base_uri": "https://localhost:8080/",
          "height": 598
        },
        "id": "henxzwMxtL0r",
        "outputId": "b286ba71-b481-4d96-ce33-c3ef64cf87b8"
      },
      "source": [
        "path2 = '/content/drive/MyDrive/Colab Notebooks/Tweet Generator - TR/zayt_ext_4k.csv'\r\n",
        "\r\n",
        "zayt = pd.read_csv(path2)\r\n",
        "zayt.sample(5)"
      ],
      "execution_count": null,
      "outputs": [
        {
          "output_type": "execute_result",
          "data": {
            "text/html": [
              "<div>\n",
              "<style scoped>\n",
              "    .dataframe tbody tr th:only-of-type {\n",
              "        vertical-align: middle;\n",
              "    }\n",
              "\n",
              "    .dataframe tbody tr th {\n",
              "        vertical-align: top;\n",
              "    }\n",
              "\n",
              "    .dataframe thead th {\n",
              "        text-align: right;\n",
              "    }\n",
              "</style>\n",
              "<table border=\"1\" class=\"dataframe\">\n",
              "  <thead>\n",
              "    <tr style=\"text-align: right;\">\n",
              "      <th></th>\n",
              "      <th>Unnamed: 0</th>\n",
              "      <th>author</th>\n",
              "      <th>favorite_count</th>\n",
              "      <th>full_text</th>\n",
              "      <th>id</th>\n",
              "      <th>id_str</th>\n",
              "      <th>in_reply_to_screen_name</th>\n",
              "      <th>in_reply_to_status_id</th>\n",
              "      <th>in_reply_to_status_id_str</th>\n",
              "      <th>in_reply_to_user_id</th>\n",
              "      <th>in_reply_to_user_id_str</th>\n",
              "      <th>lang</th>\n",
              "      <th>quoted_status_id</th>\n",
              "      <th>quoted_status_id_str</th>\n",
              "      <th>retweet_count</th>\n",
              "      <th>source</th>\n",
              "      <th>source_url</th>\n",
              "      <th>user</th>\n",
              "    </tr>\n",
              "  </thead>\n",
              "  <tbody>\n",
              "    <tr>\n",
              "      <th>1831</th>\n",
              "      <td>1831</td>\n",
              "      <td>zaytung</td>\n",
              "      <td>11153.0</td>\n",
              "      <td>Tüm Çabasına Rağmen Ekonomik Krizi Tekrar Kuca...</td>\n",
              "      <td>1.011092e+18</td>\n",
              "      <td>1011091754173587456</td>\n",
              "      <td>NaN</td>\n",
              "      <td>NaN</td>\n",
              "      <td>NaN</td>\n",
              "      <td>NaN</td>\n",
              "      <td>NaN</td>\n",
              "      <td>tr</td>\n",
              "      <td>NaN</td>\n",
              "      <td>NaN</td>\n",
              "      <td>2810.0</td>\n",
              "      <td>Twitter Web Client</td>\n",
              "      <td>http://twitter.com</td>\n",
              "      <td>zaytung</td>\n",
              "    </tr>\n",
              "    <tr>\n",
              "      <th>1862</th>\n",
              "      <td>1862</td>\n",
              "      <td>zaytung</td>\n",
              "      <td>1276.0</td>\n",
              "      <td>Tıp Fakültelerinin Yüksek Maliyetinden Şikayet...</td>\n",
              "      <td>1.004802e+18</td>\n",
              "      <td>1004801885860257793</td>\n",
              "      <td>NaN</td>\n",
              "      <td>NaN</td>\n",
              "      <td>NaN</td>\n",
              "      <td>NaN</td>\n",
              "      <td>NaN</td>\n",
              "      <td>tr</td>\n",
              "      <td>NaN</td>\n",
              "      <td>NaN</td>\n",
              "      <td>276.0</td>\n",
              "      <td>Twitter Web Client</td>\n",
              "      <td>http://twitter.com</td>\n",
              "      <td>zaytung</td>\n",
              "    </tr>\n",
              "    <tr>\n",
              "      <th>1472</th>\n",
              "      <td>1472</td>\n",
              "      <td>zaytung</td>\n",
              "      <td>4261.0</td>\n",
              "      <td>Vakıf Üniversiteleri Birliği: ''Gerzek anne ba...</td>\n",
              "      <td>1.081093e+18</td>\n",
              "      <td>1081093153283821569</td>\n",
              "      <td>NaN</td>\n",
              "      <td>NaN</td>\n",
              "      <td>NaN</td>\n",
              "      <td>NaN</td>\n",
              "      <td>NaN</td>\n",
              "      <td>tr</td>\n",
              "      <td>NaN</td>\n",
              "      <td>NaN</td>\n",
              "      <td>839.0</td>\n",
              "      <td>Twitter Web Client</td>\n",
              "      <td>http://twitter.com</td>\n",
              "      <td>zaytung</td>\n",
              "    </tr>\n",
              "    <tr>\n",
              "      <th>2636</th>\n",
              "      <td>2636</td>\n",
              "      <td>zaytung</td>\n",
              "      <td>392.0</td>\n",
              "      <td>Anket - İstanbul bu kez aşırı sıcak yüzünden y...</td>\n",
              "      <td>8.946600e+17</td>\n",
              "      <td>894659994855112704</td>\n",
              "      <td>NaN</td>\n",
              "      <td>NaN</td>\n",
              "      <td>NaN</td>\n",
              "      <td>NaN</td>\n",
              "      <td>NaN</td>\n",
              "      <td>tr</td>\n",
              "      <td>NaN</td>\n",
              "      <td>NaN</td>\n",
              "      <td>115.0</td>\n",
              "      <td>Twitter Web Client</td>\n",
              "      <td>http://twitter.com</td>\n",
              "      <td>zaytung</td>\n",
              "    </tr>\n",
              "    <tr>\n",
              "      <th>2722</th>\n",
              "      <td>2722</td>\n",
              "      <td>zaytung</td>\n",
              "      <td>190.0</td>\n",
              "      <td>Blog - Çağın Vebası: Stajyer Etkileme Saplantı...</td>\n",
              "      <td>8.834177e+17</td>\n",
              "      <td>883417739972542466</td>\n",
              "      <td>NaN</td>\n",
              "      <td>NaN</td>\n",
              "      <td>NaN</td>\n",
              "      <td>NaN</td>\n",
              "      <td>NaN</td>\n",
              "      <td>tr</td>\n",
              "      <td>NaN</td>\n",
              "      <td>NaN</td>\n",
              "      <td>52.0</td>\n",
              "      <td>Twitter Web Client</td>\n",
              "      <td>http://twitter.com</td>\n",
              "      <td>zaytung</td>\n",
              "    </tr>\n",
              "  </tbody>\n",
              "</table>\n",
              "</div>"
            ],
            "text/plain": [
              "      Unnamed: 0   author  ...          source_url     user\n",
              "1831        1831  zaytung  ...  http://twitter.com  zaytung\n",
              "1862        1862  zaytung  ...  http://twitter.com  zaytung\n",
              "1472        1472  zaytung  ...  http://twitter.com  zaytung\n",
              "2636        2636  zaytung  ...  http://twitter.com  zaytung\n",
              "2722        2722  zaytung  ...  http://twitter.com  zaytung\n",
              "\n",
              "[5 rows x 18 columns]"
            ]
          },
          "metadata": {
            "tags": []
          },
          "execution_count": 133
        }
      ]
    },
    {
      "cell_type": "code",
      "metadata": {
        "colab": {
          "base_uri": "https://localhost:8080/"
        },
        "id": "IgYkckJGtL1U",
        "outputId": "06327977-7e30-4416-d230-56bcbe907304"
      },
      "source": [
        "zayt.info()"
      ],
      "execution_count": null,
      "outputs": [
        {
          "output_type": "stream",
          "text": [
            "<class 'pandas.core.frame.DataFrame'>\n",
            "RangeIndex: 3219 entries, 0 to 3218\n",
            "Data columns (total 18 columns):\n",
            " #   Column                     Non-Null Count  Dtype  \n",
            "---  ------                     --------------  -----  \n",
            " 0   Unnamed: 0                 3219 non-null   int64  \n",
            " 1   author                     3219 non-null   object \n",
            " 2   favorite_count             3219 non-null   float64\n",
            " 3   full_text                  3219 non-null   object \n",
            " 4   id                         3219 non-null   float64\n",
            " 5   id_str                     3219 non-null   int64  \n",
            " 6   in_reply_to_screen_name    2 non-null      object \n",
            " 7   in_reply_to_status_id      2 non-null      float64\n",
            " 8   in_reply_to_status_id_str  2 non-null      float64\n",
            " 9   in_reply_to_user_id        2 non-null      float64\n",
            " 10  in_reply_to_user_id_str    2 non-null      float64\n",
            " 11  lang                       3219 non-null   object \n",
            " 12  quoted_status_id           11 non-null     float64\n",
            " 13  quoted_status_id_str       11 non-null     float64\n",
            " 14  retweet_count              3219 non-null   float64\n",
            " 15  source                     3219 non-null   object \n",
            " 16  source_url                 3219 non-null   object \n",
            " 17  user                       3219 non-null   object \n",
            "dtypes: float64(9), int64(2), object(7)\n",
            "memory usage: 452.8+ KB\n"
          ],
          "name": "stdout"
        }
      ]
    },
    {
      "cell_type": "code",
      "metadata": {
        "colab": {
          "base_uri": "https://localhost:8080/",
          "height": 419
        },
        "id": "a8yDS9EktL14",
        "outputId": "90a91863-a6fe-406f-b6bc-45b863c6683e"
      },
      "source": [
        "cols_ = 'favorite_count full_text retweet_count source source_url'.split()\r\n",
        "zayt = zayt.iloc[zayt.index.difference(zayt.dropna(subset = ['in_reply_to_screen_name','quoted_status_id'], how = 'all').index),:][cols_]\r\n",
        "zayt"
      ],
      "execution_count": null,
      "outputs": [
        {
          "output_type": "execute_result",
          "data": {
            "text/html": [
              "<div>\n",
              "<style scoped>\n",
              "    .dataframe tbody tr th:only-of-type {\n",
              "        vertical-align: middle;\n",
              "    }\n",
              "\n",
              "    .dataframe tbody tr th {\n",
              "        vertical-align: top;\n",
              "    }\n",
              "\n",
              "    .dataframe thead th {\n",
              "        text-align: right;\n",
              "    }\n",
              "</style>\n",
              "<table border=\"1\" class=\"dataframe\">\n",
              "  <thead>\n",
              "    <tr style=\"text-align: right;\">\n",
              "      <th></th>\n",
              "      <th>favorite_count</th>\n",
              "      <th>full_text</th>\n",
              "      <th>retweet_count</th>\n",
              "      <th>source</th>\n",
              "      <th>source_url</th>\n",
              "    </tr>\n",
              "  </thead>\n",
              "  <tbody>\n",
              "    <tr>\n",
              "      <th>0</th>\n",
              "      <td>1397.0</td>\n",
              "      <td>FotoHaber - Seçimle gitmeyi yediremeyen diktat...</td>\n",
              "      <td>113.0</td>\n",
              "      <td>Twitter Web App</td>\n",
              "      <td>https://mobile.twitter.com</td>\n",
              "    </tr>\n",
              "    <tr>\n",
              "      <th>1</th>\n",
              "      <td>1800.0</td>\n",
              "      <td>FotoHaber - Melih Bulu: ''Metallica albüm kapa...</td>\n",
              "      <td>107.0</td>\n",
              "      <td>Twitter Web App</td>\n",
              "      <td>https://mobile.twitter.com</td>\n",
              "    </tr>\n",
              "    <tr>\n",
              "      <th>2</th>\n",
              "      <td>2251.0</td>\n",
              "      <td>Son Dakika - Korkudan Berat Albayrak'ın istifa...</td>\n",
              "      <td>223.0</td>\n",
              "      <td>Twitter Web App</td>\n",
              "      <td>https://mobile.twitter.com</td>\n",
              "    </tr>\n",
              "    <tr>\n",
              "      <th>3</th>\n",
              "      <td>4725.0</td>\n",
              "      <td>Piyasalarda Bugün: Yılbaşından Kalan 4 Kutu Bi...</td>\n",
              "      <td>356.0</td>\n",
              "      <td>Twitter Web App</td>\n",
              "      <td>https://mobile.twitter.com</td>\n",
              "    </tr>\n",
              "    <tr>\n",
              "      <th>4</th>\n",
              "      <td>2434.0</td>\n",
              "      <td>Son Dakika - %30'dan fazla olan enflasyonu %14...</td>\n",
              "      <td>275.0</td>\n",
              "      <td>Twitter Web App</td>\n",
              "      <td>https://mobile.twitter.com</td>\n",
              "    </tr>\n",
              "    <tr>\n",
              "      <th>...</th>\n",
              "      <td>...</td>\n",
              "      <td>...</td>\n",
              "      <td>...</td>\n",
              "      <td>...</td>\n",
              "      <td>...</td>\n",
              "    </tr>\n",
              "    <tr>\n",
              "      <th>3214</th>\n",
              "      <td>895.0</td>\n",
              "      <td>Müslümanları Ülkeye Sokmama Kararnamesi Mahkem...</td>\n",
              "      <td>518.0</td>\n",
              "      <td>Twitter Web Client</td>\n",
              "      <td>http://twitter.com</td>\n",
              "    </tr>\n",
              "    <tr>\n",
              "      <th>3215</th>\n",
              "      <td>546.0</td>\n",
              "      <td>Facebook’ta Her Yazdığı En Az 400 Like Alan Kı...</td>\n",
              "      <td>150.0</td>\n",
              "      <td>Twitter Web Client</td>\n",
              "      <td>http://twitter.com</td>\n",
              "    </tr>\n",
              "    <tr>\n",
              "      <th>3216</th>\n",
              "      <td>73.0</td>\n",
              "      <td>Sinema - Vizyonda Bu Hafta: Vezir Parmağı (Mah...</td>\n",
              "      <td>19.0</td>\n",
              "      <td>Twitter Web Client</td>\n",
              "      <td>http://twitter.com</td>\n",
              "    </tr>\n",
              "    <tr>\n",
              "      <th>3217</th>\n",
              "      <td>529.0</td>\n",
              "      <td>FotoHaber - Merkez Bankası'ndan flaş kredi not...</td>\n",
              "      <td>272.0</td>\n",
              "      <td>Twitter Web Client</td>\n",
              "      <td>http://twitter.com</td>\n",
              "    </tr>\n",
              "    <tr>\n",
              "      <th>3218</th>\n",
              "      <td>398.0</td>\n",
              "      <td>S&amp;amp;P'dan Hükümeti Rahatlatan Açıklama: \"Gör...</td>\n",
              "      <td>223.0</td>\n",
              "      <td>Twitter Web Client</td>\n",
              "      <td>http://twitter.com</td>\n",
              "    </tr>\n",
              "  </tbody>\n",
              "</table>\n",
              "<p>3206 rows × 5 columns</p>\n",
              "</div>"
            ],
            "text/plain": [
              "      favorite_count  ...                  source_url\n",
              "0             1397.0  ...  https://mobile.twitter.com\n",
              "1             1800.0  ...  https://mobile.twitter.com\n",
              "2             2251.0  ...  https://mobile.twitter.com\n",
              "3             4725.0  ...  https://mobile.twitter.com\n",
              "4             2434.0  ...  https://mobile.twitter.com\n",
              "...              ...  ...                         ...\n",
              "3214           895.0  ...          http://twitter.com\n",
              "3215           546.0  ...          http://twitter.com\n",
              "3216            73.0  ...          http://twitter.com\n",
              "3217           529.0  ...          http://twitter.com\n",
              "3218           398.0  ...          http://twitter.com\n",
              "\n",
              "[3206 rows x 5 columns]"
            ]
          },
          "metadata": {
            "tags": []
          },
          "execution_count": 149
        }
      ]
    },
    {
      "cell_type": "code",
      "metadata": {
        "colab": {
          "base_uri": "https://localhost:8080/"
        },
        "id": "448qMSlbtL2c",
        "outputId": "18d0a412-e64f-4be5-8840-f98325a2cec3"
      },
      "source": [
        "rand_ind = np.random.randint(0, len(zayt), 10)\r\n",
        "\r\n",
        "for i in rand_ind:\r\n",
        "    print('\\n==============')\r\n",
        "    print(zayt['full_text'].values[i])\r\n",
        "    print('==============\\n')"
      ],
      "execution_count": null,
      "outputs": [
        {
          "output_type": "stream",
          "text": [
            "\n",
            "==============\n",
            "SonDakika - WhatsApp: \"Bitirdiği ilişkilerin ah'ını aldı iddialarını da inceliyoruz ama şimdilik siber saldırı gibi\" https://t.co/eOsfjQVFPF\n",
            "==============\n",
            "\n",
            "\n",
            "==============\n",
            "Hükümetten, İşsizliği ve Sağlık Personelinin Malzeme Sorununu Çözme Yönünde Önemli Adım: ''Boş oturacağınıza evde maske yapıp internetten satsanız...'' https://t.co/0Lo0e4J1AB https://t.co/BbU8L6Yp32\n",
            "==============\n",
            "\n",
            "\n",
            "==============\n",
            "\"Devlette Liyakatın Önemi - İşi Ehline Vermezsek Ne Olur?\" Afiş Yarışmasının Kazananları Açıklandı... https://t.co/KXGHkPv1o6 https://t.co/tju4YnU2h8\n",
            "==============\n",
            "\n",
            "\n",
            "==============\n",
            "İstanbul'da 1 1 Eve 760.000 TL Ödeyen Bir Kişi Daha ''Gerizekalı'' Teşhisiyle Hastaneye Kaldırıldı... https://t.co/EFdssBqBjM https://t.co/Jn5JU3SQ5E\n",
            "==============\n",
            "\n",
            "\n",
            "==============\n",
            "FotoHaber - Trabzonlular için özel olarak yeni bir terör örgütü uyduran Süleyman Soylu, AK Parti'nin bu şehre verdiği değeri bir kez daha gösterdi... https://t.co/9eYONoi3vQ https://t.co/X42QjFww96\n",
            "==============\n",
            "\n",
            "\n",
            "==============\n",
            "Gündemin Magazin Konuşmaya Uygun Olduğu 3-5 Günden Birine Denk Gelen Murat Boz, Tam Kimin Ah'ını Aldığını Düşünüyor https://t.co/YYyxbDIQWl https://t.co/EAKEF7NUOi\n",
            "==============\n",
            "\n",
            "\n",
            "==============\n",
            "AK Parti’nin Öcalan’dan Sonra İkinci Transfer Bombası Neçirvan Barzani İddialı Konuştu: ''Buraya oy veya oylar almak için geldim...'' https://t.co/anIlnRvrq7 https://t.co/7DtydLVcy1\n",
            "==============\n",
            "\n",
            "\n",
            "==============\n",
            "Zaytung Sinema - 2018'in En İyi 16, Hadi Bilemedin 17 Filmi (Kastık ama 18 çıkmadı. Çıksa güzel başlık olacaktı. Kısmet...) https://t.co/mH8tAK7npW https://t.co/W7GR9Gb7mu\n",
            "==============\n",
            "\n",
            "\n",
            "==============\n",
            "FotoHaber - Fabri için savcılar devrede... https://t.co/WvY2HFS6vM https://t.co/I3cMS3WNjC\n",
            "==============\n",
            "\n",
            "\n",
            "==============\n",
            "FotoHaber - Ordu Valisi: ''Abi kapatsak artık şu konuyu...'' https://t.co/u3qgQ8V9nf https://t.co/L1YEaL98J3\n",
            "==============\n",
            "\n"
          ],
          "name": "stdout"
        }
      ]
    },
    {
      "cell_type": "code",
      "metadata": {
        "colab": {
          "base_uri": "https://localhost:8080/",
          "height": 35
        },
        "id": "-038s_axtL3E",
        "outputId": "c7456b15-2855-4845-9cc8-cc4f2acb37a5"
      },
      "source": [
        "zayt['full_text'].values[10]#.split()"
      ],
      "execution_count": null,
      "outputs": [
        {
          "output_type": "execute_result",
          "data": {
            "application/vnd.google.colaboratory.intrinsic+json": {
              "type": "string"
            },
            "text/plain": [
              "\"Son Dakika - Erdoğan: ''Rektörlerimizin daha rahat çalışması için yakında 'kayyım öğrenci' atamalarına da başlayacağız...'' https://t.co/5NGFsQ1Eku\""
            ]
          },
          "metadata": {
            "tags": []
          },
          "execution_count": 185
        }
      ]
    },
    {
      "cell_type": "code",
      "metadata": {
        "colab": {
          "base_uri": "https://localhost:8080/",
          "height": 163
        },
        "id": "EuNfbFiKtL3s",
        "outputId": "c758d81f-4ffd-4949-935c-d3df73f9546d"
      },
      "source": [
        "zayt['full_text'].apply(lambda string_: x for x in string_ if 'http' not in x)"
      ],
      "execution_count": null,
      "outputs": [
        {
          "output_type": "error",
          "ename": "NameError",
          "evalue": "ignored",
          "traceback": [
            "\u001b[0;31m---------------------------------------------------------------------------\u001b[0m",
            "\u001b[0;31mNameError\u001b[0m                                 Traceback (most recent call last)",
            "\u001b[0;32m<ipython-input-177-16b694308df5>\u001b[0m in \u001b[0;36m<module>\u001b[0;34m()\u001b[0m\n\u001b[0;32m----> 1\u001b[0;31m \u001b[0mzayt\u001b[0m\u001b[0;34m[\u001b[0m\u001b[0;34m'full_text'\u001b[0m\u001b[0;34m]\u001b[0m\u001b[0;34m.\u001b[0m\u001b[0mapply\u001b[0m\u001b[0;34m(\u001b[0m\u001b[0;32mlambda\u001b[0m \u001b[0mstring_\u001b[0m\u001b[0;34m:\u001b[0m \u001b[0mx\u001b[0m \u001b[0;32mfor\u001b[0m \u001b[0mx\u001b[0m \u001b[0;32min\u001b[0m \u001b[0mstring_\u001b[0m \u001b[0;32mif\u001b[0m \u001b[0;34m'http'\u001b[0m \u001b[0;32mnot\u001b[0m \u001b[0;32min\u001b[0m \u001b[0mx\u001b[0m\u001b[0;34m)\u001b[0m\u001b[0;34m\u001b[0m\u001b[0;34m\u001b[0m\u001b[0m\n\u001b[0m",
            "\u001b[0;31mNameError\u001b[0m: name 'string_' is not defined"
          ]
        }
      ]
    },
    {
      "cell_type": "code",
      "metadata": {
        "colab": {
          "base_uri": "https://localhost:8080/"
        },
        "id": "Jzk33jkitL4h",
        "outputId": "0a2767a4-36e6-4a07-ae66-2ea6c9130d03"
      },
      "source": [
        "'http' in 'https://t.co/5NGFsQ1Eku'"
      ],
      "execution_count": null,
      "outputs": [
        {
          "output_type": "execute_result",
          "data": {
            "text/plain": [
              "True"
            ]
          },
          "metadata": {
            "tags": []
          },
          "execution_count": 166
        }
      ]
    },
    {
      "cell_type": "code",
      "metadata": {
        "colab": {
          "base_uri": "https://localhost:8080/",
          "height": 419
        },
        "id": "eeWHHqN_tL7v",
        "outputId": "6dc8df8b-f82c-4e4c-c7cb-1f2c8124f78a"
      },
      "source": [
        "zayt['header_text'] = zayt['full_text'].apply(lambda sentence_: ' '.join([word for word in sentence_.split() if 'http' not in word]))\r\n",
        "zayt"
      ],
      "execution_count": null,
      "outputs": [
        {
          "output_type": "execute_result",
          "data": {
            "text/html": [
              "<div>\n",
              "<style scoped>\n",
              "    .dataframe tbody tr th:only-of-type {\n",
              "        vertical-align: middle;\n",
              "    }\n",
              "\n",
              "    .dataframe tbody tr th {\n",
              "        vertical-align: top;\n",
              "    }\n",
              "\n",
              "    .dataframe thead th {\n",
              "        text-align: right;\n",
              "    }\n",
              "</style>\n",
              "<table border=\"1\" class=\"dataframe\">\n",
              "  <thead>\n",
              "    <tr style=\"text-align: right;\">\n",
              "      <th></th>\n",
              "      <th>favorite_count</th>\n",
              "      <th>full_text</th>\n",
              "      <th>retweet_count</th>\n",
              "      <th>source</th>\n",
              "      <th>source_url</th>\n",
              "      <th>header_text</th>\n",
              "    </tr>\n",
              "  </thead>\n",
              "  <tbody>\n",
              "    <tr>\n",
              "      <th>0</th>\n",
              "      <td>1397.0</td>\n",
              "      <td>FotoHaber - Seçimle gitmeyi yediremeyen diktat...</td>\n",
              "      <td>113.0</td>\n",
              "      <td>Twitter Web App</td>\n",
              "      <td>https://mobile.twitter.com</td>\n",
              "      <td>FotoHaber - Seçimle gitmeyi yediremeyen diktat...</td>\n",
              "    </tr>\n",
              "    <tr>\n",
              "      <th>1</th>\n",
              "      <td>1800.0</td>\n",
              "      <td>FotoHaber - Melih Bulu: ''Metallica albüm kapa...</td>\n",
              "      <td>107.0</td>\n",
              "      <td>Twitter Web App</td>\n",
              "      <td>https://mobile.twitter.com</td>\n",
              "      <td>FotoHaber - Melih Bulu: ''Metallica albüm kapa...</td>\n",
              "    </tr>\n",
              "    <tr>\n",
              "      <th>2</th>\n",
              "      <td>2251.0</td>\n",
              "      <td>Son Dakika - Korkudan Berat Albayrak'ın istifa...</td>\n",
              "      <td>223.0</td>\n",
              "      <td>Twitter Web App</td>\n",
              "      <td>https://mobile.twitter.com</td>\n",
              "      <td>Son Dakika - Korkudan Berat Albayrak'ın istifa...</td>\n",
              "    </tr>\n",
              "    <tr>\n",
              "      <th>3</th>\n",
              "      <td>4725.0</td>\n",
              "      <td>Piyasalarda Bugün: Yılbaşından Kalan 4 Kutu Bi...</td>\n",
              "      <td>356.0</td>\n",
              "      <td>Twitter Web App</td>\n",
              "      <td>https://mobile.twitter.com</td>\n",
              "      <td>Piyasalarda Bugün: Yılbaşından Kalan 4 Kutu Bi...</td>\n",
              "    </tr>\n",
              "    <tr>\n",
              "      <th>4</th>\n",
              "      <td>2434.0</td>\n",
              "      <td>Son Dakika - %30'dan fazla olan enflasyonu %14...</td>\n",
              "      <td>275.0</td>\n",
              "      <td>Twitter Web App</td>\n",
              "      <td>https://mobile.twitter.com</td>\n",
              "      <td>Son Dakika - %30'dan fazla olan enflasyonu %14...</td>\n",
              "    </tr>\n",
              "    <tr>\n",
              "      <th>...</th>\n",
              "      <td>...</td>\n",
              "      <td>...</td>\n",
              "      <td>...</td>\n",
              "      <td>...</td>\n",
              "      <td>...</td>\n",
              "      <td>...</td>\n",
              "    </tr>\n",
              "    <tr>\n",
              "      <th>3214</th>\n",
              "      <td>895.0</td>\n",
              "      <td>Müslümanları Ülkeye Sokmama Kararnamesi Mahkem...</td>\n",
              "      <td>518.0</td>\n",
              "      <td>Twitter Web Client</td>\n",
              "      <td>http://twitter.com</td>\n",
              "      <td>Müslümanları Ülkeye Sokmama Kararnamesi Mahkem...</td>\n",
              "    </tr>\n",
              "    <tr>\n",
              "      <th>3215</th>\n",
              "      <td>546.0</td>\n",
              "      <td>Facebook’ta Her Yazdığı En Az 400 Like Alan Kı...</td>\n",
              "      <td>150.0</td>\n",
              "      <td>Twitter Web Client</td>\n",
              "      <td>http://twitter.com</td>\n",
              "      <td>Facebook’ta Her Yazdığı En Az 400 Like Alan Kı...</td>\n",
              "    </tr>\n",
              "    <tr>\n",
              "      <th>3216</th>\n",
              "      <td>73.0</td>\n",
              "      <td>Sinema - Vizyonda Bu Hafta: Vezir Parmağı (Mah...</td>\n",
              "      <td>19.0</td>\n",
              "      <td>Twitter Web Client</td>\n",
              "      <td>http://twitter.com</td>\n",
              "      <td>Sinema - Vizyonda Bu Hafta: Vezir Parmağı (Mah...</td>\n",
              "    </tr>\n",
              "    <tr>\n",
              "      <th>3217</th>\n",
              "      <td>529.0</td>\n",
              "      <td>FotoHaber - Merkez Bankası'ndan flaş kredi not...</td>\n",
              "      <td>272.0</td>\n",
              "      <td>Twitter Web Client</td>\n",
              "      <td>http://twitter.com</td>\n",
              "      <td>FotoHaber - Merkez Bankası'ndan flaş kredi not...</td>\n",
              "    </tr>\n",
              "    <tr>\n",
              "      <th>3218</th>\n",
              "      <td>398.0</td>\n",
              "      <td>S&amp;amp;P'dan Hükümeti Rahatlatan Açıklama: \"Gör...</td>\n",
              "      <td>223.0</td>\n",
              "      <td>Twitter Web Client</td>\n",
              "      <td>http://twitter.com</td>\n",
              "      <td>S&amp;amp;P'dan Hükümeti Rahatlatan Açıklama: \"Gör...</td>\n",
              "    </tr>\n",
              "  </tbody>\n",
              "</table>\n",
              "<p>3206 rows × 6 columns</p>\n",
              "</div>"
            ],
            "text/plain": [
              "      favorite_count  ...                                        header_text\n",
              "0             1397.0  ...  FotoHaber - Seçimle gitmeyi yediremeyen diktat...\n",
              "1             1800.0  ...  FotoHaber - Melih Bulu: ''Metallica albüm kapa...\n",
              "2             2251.0  ...  Son Dakika - Korkudan Berat Albayrak'ın istifa...\n",
              "3             4725.0  ...  Piyasalarda Bugün: Yılbaşından Kalan 4 Kutu Bi...\n",
              "4             2434.0  ...  Son Dakika - %30'dan fazla olan enflasyonu %14...\n",
              "...              ...  ...                                                ...\n",
              "3214           895.0  ...  Müslümanları Ülkeye Sokmama Kararnamesi Mahkem...\n",
              "3215           546.0  ...  Facebook’ta Her Yazdığı En Az 400 Like Alan Kı...\n",
              "3216            73.0  ...  Sinema - Vizyonda Bu Hafta: Vezir Parmağı (Mah...\n",
              "3217           529.0  ...  FotoHaber - Merkez Bankası'ndan flaş kredi not...\n",
              "3218           398.0  ...  S&amp;P'dan Hükümeti Rahatlatan Açıklama: \"Gör...\n",
              "\n",
              "[3206 rows x 6 columns]"
            ]
          },
          "metadata": {
            "tags": []
          },
          "execution_count": 193
        }
      ]
    },
    {
      "cell_type": "code",
      "metadata": {
        "colab": {
          "base_uri": "https://localhost:8080/",
          "height": 35
        },
        "id": "aN7T2psGtL8e",
        "outputId": "a193c77a-3e18-4f3e-b453-8d20bd2a96e7"
      },
      "source": [
        "sentence_ = zayt['header_text'].values[0]\r\n",
        "sentence_"
      ],
      "execution_count": null,
      "outputs": [
        {
          "output_type": "execute_result",
          "data": {
            "application/vnd.google.colaboratory.intrinsic+json": {
              "type": "string"
            },
            "text/plain": [
              "'FotoHaber - Seçimle gitmeyi yediremeyen diktatör özentisinin, destekçilerini amatör teröristlere dönüştürme hızı tüm dünyada ilgiyle izleniyor...'"
            ]
          },
          "metadata": {
            "tags": []
          },
          "execution_count": 196
        }
      ]
    },
    {
      "cell_type": "code",
      "metadata": {
        "colab": {
          "base_uri": "https://localhost:8080/",
          "height": 35
        },
        "id": "LQOwGtuxtL9W",
        "outputId": "43690929-2f2d-46a0-9d0c-78e0c1f7d057"
      },
      "source": [
        "# extract text and headers and remove 3 dots. \r\n",
        "zayt['text_only'] = zayt['header_text'].apply(lambda sentence: sentence.split(' - ')[1].replace('...','.') if len(sentence.split(' - ')) > 1 else sentence.split(' - ')[0].replace('...', '.'))\r\n",
        "zayt['text_only'][0]"
      ],
      "execution_count": null,
      "outputs": [
        {
          "output_type": "execute_result",
          "data": {
            "application/vnd.google.colaboratory.intrinsic+json": {
              "type": "string"
            },
            "text/plain": [
              "'Seçimle gitmeyi yediremeyen diktatör özentisinin, destekçilerini amatör teröristlere dönüştürme hızı tüm dünyada ilgiyle izleniyor.'"
            ]
          },
          "metadata": {
            "tags": []
          },
          "execution_count": 202
        }
      ]
    },
    {
      "cell_type": "code",
      "metadata": {
        "colab": {
          "base_uri": "https://localhost:8080/"
        },
        "id": "V9Y2CGCNtL-9",
        "outputId": "888a2afa-2d4b-46b9-d56b-e3da86f20863"
      },
      "source": [
        "# do other way and create header_only column -where exists\r\n",
        "zayt['header_only'] = zayt['header_text'].apply(lambda sentence: sentence.split(' - ')[0].replace('...','.') if len(sentence.split(' - ')) > 1 else np.nan)\r\n",
        "zayt['header_only']"
      ],
      "execution_count": null,
      "outputs": [
        {
          "output_type": "execute_result",
          "data": {
            "text/plain": [
              "0        FotoHaber\n",
              "1        FotoHaber\n",
              "2       Son Dakika\n",
              "3              NaN\n",
              "4       Son Dakika\n",
              "           ...    \n",
              "3214           NaN\n",
              "3215           NaN\n",
              "3216        Sinema\n",
              "3217     FotoHaber\n",
              "3218           NaN\n",
              "Name: header_only, Length: 3206, dtype: object"
            ]
          },
          "metadata": {
            "tags": []
          },
          "execution_count": 207
        }
      ]
    },
    {
      "cell_type": "code",
      "metadata": {
        "colab": {
          "base_uri": "https://localhost:8080/"
        },
        "id": "wnIw-iz9tL_k",
        "outputId": "d1157897-a016-4d0e-9265-568a0b2c1006"
      },
      "source": [
        "zayt['header_only'].value_counts()"
      ],
      "execution_count": null,
      "outputs": [
        {
          "output_type": "execute_result",
          "data": {
            "text/plain": [
              "FotoHaber                                                                873\n",
              "Son Dakika                                                               377\n",
              "Halkın Sesi                                                              125\n",
              "Blog                                                                     118\n",
              "VideoHaber                                                                72\n",
              "Zaytung Sinema                                                            72\n",
              "Zaytung Blog                                                              57\n",
              "Sinema                                                                    53\n",
              "Zaytung Dergi                                                             39\n",
              "Anket                                                                     22\n",
              "Spor                                                                      21\n",
              "Dergi                                                                     12\n",
              "Zaytung Kitap                                                              9\n",
              "Kitap                                                                      9\n",
              "Zaytung Anket                                                              8\n",
              "Oyun                                                                       7\n",
              "Zaytung Oyun                                                               3\n",
              "SonDakika                                                                  2\n",
              "Bahoz Erdal                                                                1\n",
              "\"Devlette Liyakatın Önemi                                                  1\n",
              "RT @AprilYayincilik: Dürüst, tarafsız, ahlaksız: Zaytung Almanak 2016      1\n",
              "Emlak                                                                      1\n",
              "Fotohaber                                                                  1\n",
              "Sıla                                                                       1\n",
              "Yabancı Yatırımcıdan Türk Ekonomisine Övgü: ''Daha Faiz                    1\n",
              "Bilim                                                                      1\n",
              "RT @pekilacom: Bilinmezliğe Yolculuk                                       1\n",
              "Zaytung Bilim                                                              1\n",
              "Türkiye'nin en kapsamlı deprem araştırması                                 1\n",
              "SPOR                                                                       1\n",
              "Zaytung AT                                                                 1\n",
              "RT @pekilacom: İnsan Portreleri #432                                       1\n",
              "Arşiv                                                                      1\n",
              "Nat Geo Wild                                                               1\n",
              "RT @pekilacom: Grafik #56                                                  1\n",
              "RT @pekilacom: Grafik #89                                                  1\n",
              "Name: header_only, dtype: int64"
            ]
          },
          "metadata": {
            "tags": []
          },
          "execution_count": 209
        }
      ]
    },
    {
      "cell_type": "code",
      "metadata": {
        "id": "4aMci-vltMAM"
      },
      "source": [
        "# bad extraction where header count is 2 and under. remove those rows\r\n",
        "to_remove_headers = zayt['header_only'].value_counts()[zayt['header_only'].value_counts() <= 2].index.tolist()\r\n",
        "\r\n",
        "zayt = zayt[~zayt['header_only'].isin(to_remove_headers)].reset_index(drop = True)"
      ],
      "execution_count": null,
      "outputs": []
    },
    {
      "cell_type": "code",
      "metadata": {
        "colab": {
          "base_uri": "https://localhost:8080/"
        },
        "id": "8dcJE6TUZzhM",
        "outputId": "54503fd7-bca8-4499-cd07-9506e8fb13c8"
      },
      "source": [
        "zayt.groupby('header_only').size().sort_values()"
      ],
      "execution_count": null,
      "outputs": [
        {
          "output_type": "execute_result",
          "data": {
            "text/plain": [
              "header_only\n",
              "Zaytung Oyun        3\n",
              "Oyun                7\n",
              "Zaytung Anket       8\n",
              "Zaytung Kitap       9\n",
              "Kitap               9\n",
              "Dergi              12\n",
              "Spor               21\n",
              "Anket              22\n",
              "Zaytung Dergi      39\n",
              "Sinema             53\n",
              "Zaytung Blog       57\n",
              "Zaytung Sinema     72\n",
              "VideoHaber         72\n",
              "Blog              118\n",
              "Halkın Sesi       125\n",
              "Son Dakika        377\n",
              "FotoHaber         873\n",
              "dtype: int64"
            ]
          },
          "metadata": {
            "tags": []
          },
          "execution_count": 239
        }
      ]
    },
    {
      "cell_type": "code",
      "metadata": {
        "id": "MV6J7pBeZyOt"
      },
      "source": [
        ""
      ],
      "execution_count": null,
      "outputs": []
    },
    {
      "cell_type": "code",
      "metadata": {
        "id": "Qw-lP_2eZyWh"
      },
      "source": [
        ""
      ],
      "execution_count": null,
      "outputs": []
    },
    {
      "cell_type": "code",
      "metadata": {
        "id": "4OIkv5SiZyXe"
      },
      "source": [
        ""
      ],
      "execution_count": null,
      "outputs": []
    },
    {
      "cell_type": "code",
      "metadata": {
        "id": "M-spOYmkZyYd"
      },
      "source": [
        ""
      ],
      "execution_count": null,
      "outputs": []
    },
    {
      "cell_type": "code",
      "metadata": {
        "id": "D8mIspAbZyZH"
      },
      "source": [
        ""
      ],
      "execution_count": null,
      "outputs": []
    },
    {
      "cell_type": "code",
      "metadata": {
        "id": "X-q-KVKyZyZy"
      },
      "source": [
        ""
      ],
      "execution_count": null,
      "outputs": []
    },
    {
      "cell_type": "code",
      "metadata": {
        "id": "uga7kQO_Zyad"
      },
      "source": [
        ""
      ],
      "execution_count": null,
      "outputs": []
    },
    {
      "cell_type": "code",
      "metadata": {
        "id": "sdOSBcXAZybL"
      },
      "source": [
        ""
      ],
      "execution_count": null,
      "outputs": []
    },
    {
      "cell_type": "code",
      "metadata": {
        "id": "krB5fwUaZyb1"
      },
      "source": [
        ""
      ],
      "execution_count": null,
      "outputs": []
    },
    {
      "cell_type": "code",
      "metadata": {
        "id": "JVg_o3LwZycf"
      },
      "source": [
        ""
      ],
      "execution_count": null,
      "outputs": []
    },
    {
      "cell_type": "code",
      "metadata": {
        "id": "Rs56v30RZydY"
      },
      "source": [
        ""
      ],
      "execution_count": null,
      "outputs": []
    },
    {
      "cell_type": "code",
      "metadata": {
        "id": "6cGEOcejZyeB"
      },
      "source": [
        ""
      ],
      "execution_count": null,
      "outputs": []
    },
    {
      "cell_type": "code",
      "metadata": {
        "id": "hu8ChNyiZyer"
      },
      "source": [
        ""
      ],
      "execution_count": null,
      "outputs": []
    },
    {
      "cell_type": "code",
      "metadata": {
        "id": "w8rwP2Q5ZyfU"
      },
      "source": [
        ""
      ],
      "execution_count": null,
      "outputs": []
    },
    {
      "cell_type": "code",
      "metadata": {
        "id": "UCEln_JOZygO"
      },
      "source": [
        ""
      ],
      "execution_count": null,
      "outputs": []
    },
    {
      "cell_type": "code",
      "metadata": {
        "id": "qoVLQFcLZyg2"
      },
      "source": [
        ""
      ],
      "execution_count": null,
      "outputs": []
    },
    {
      "cell_type": "code",
      "metadata": {
        "id": "Buq-6w8nZyhn"
      },
      "source": [
        ""
      ],
      "execution_count": null,
      "outputs": []
    },
    {
      "cell_type": "code",
      "metadata": {
        "id": "wIyucKX1ZyiR"
      },
      "source": [
        ""
      ],
      "execution_count": null,
      "outputs": []
    },
    {
      "cell_type": "code",
      "metadata": {
        "id": "9KmvV4kfZyjB"
      },
      "source": [
        ""
      ],
      "execution_count": null,
      "outputs": []
    },
    {
      "cell_type": "code",
      "metadata": {
        "id": "Ira3l3djZyjw"
      },
      "source": [
        ""
      ],
      "execution_count": null,
      "outputs": []
    },
    {
      "cell_type": "code",
      "metadata": {
        "id": "MDQG1nS1Zyk3"
      },
      "source": [
        ""
      ],
      "execution_count": null,
      "outputs": []
    },
    {
      "cell_type": "code",
      "metadata": {
        "id": "3I91Rb9-Zylg"
      },
      "source": [
        ""
      ],
      "execution_count": null,
      "outputs": []
    },
    {
      "cell_type": "code",
      "metadata": {
        "id": "MajQOOYiZymO"
      },
      "source": [
        ""
      ],
      "execution_count": null,
      "outputs": []
    },
    {
      "cell_type": "code",
      "metadata": {
        "id": "7Y3bIZQzZynI"
      },
      "source": [
        ""
      ],
      "execution_count": null,
      "outputs": []
    },
    {
      "cell_type": "code",
      "metadata": {
        "id": "TFpSEvYGZyn2"
      },
      "source": [
        ""
      ],
      "execution_count": null,
      "outputs": []
    },
    {
      "cell_type": "code",
      "metadata": {
        "id": "ybufzSZ9Zyoh"
      },
      "source": [
        ""
      ],
      "execution_count": null,
      "outputs": []
    },
    {
      "cell_type": "code",
      "metadata": {
        "id": "0ezUiL27ZypT"
      },
      "source": [
        ""
      ],
      "execution_count": null,
      "outputs": []
    },
    {
      "cell_type": "code",
      "metadata": {
        "id": "NSzKfkDgZyqH"
      },
      "source": [
        ""
      ],
      "execution_count": null,
      "outputs": []
    },
    {
      "cell_type": "code",
      "metadata": {
        "id": "tYyVIx5XZyq5"
      },
      "source": [
        ""
      ],
      "execution_count": null,
      "outputs": []
    },
    {
      "cell_type": "code",
      "metadata": {
        "id": "Z-epmvlzZysI"
      },
      "source": [
        ""
      ],
      "execution_count": null,
      "outputs": []
    },
    {
      "cell_type": "code",
      "metadata": {
        "id": "U8ub1VD3Zys2"
      },
      "source": [
        ""
      ],
      "execution_count": null,
      "outputs": []
    },
    {
      "cell_type": "code",
      "metadata": {
        "id": "ss6QinJZZyth"
      },
      "source": [
        ""
      ],
      "execution_count": null,
      "outputs": []
    },
    {
      "cell_type": "code",
      "metadata": {
        "id": "r2I0KjArZyuP"
      },
      "source": [
        ""
      ],
      "execution_count": null,
      "outputs": []
    },
    {
      "cell_type": "code",
      "metadata": {
        "id": "QDbVUQV7ZyvB"
      },
      "source": [
        ""
      ],
      "execution_count": null,
      "outputs": []
    },
    {
      "cell_type": "code",
      "metadata": {
        "id": "c9k2aRnMZyxD"
      },
      "source": [
        ""
      ],
      "execution_count": null,
      "outputs": []
    },
    {
      "cell_type": "code",
      "metadata": {
        "id": "onnVTgu7Zyxw"
      },
      "source": [
        ""
      ],
      "execution_count": null,
      "outputs": []
    },
    {
      "cell_type": "code",
      "metadata": {
        "id": "XInsVnXrZyyg"
      },
      "source": [
        ""
      ],
      "execution_count": null,
      "outputs": []
    },
    {
      "cell_type": "code",
      "metadata": {
        "id": "HS3PEtSNZyzO"
      },
      "source": [
        ""
      ],
      "execution_count": null,
      "outputs": []
    },
    {
      "cell_type": "code",
      "metadata": {
        "id": "90C-qs82Zy0F"
      },
      "source": [
        ""
      ],
      "execution_count": null,
      "outputs": []
    },
    {
      "cell_type": "code",
      "metadata": {
        "id": "0cC29L4ZtMBc"
      },
      "source": [
        ""
      ],
      "execution_count": null,
      "outputs": []
    },
    {
      "cell_type": "code",
      "metadata": {
        "id": "nnJnqQDUtMCC"
      },
      "source": [
        ""
      ],
      "execution_count": null,
      "outputs": []
    }
  ]
}