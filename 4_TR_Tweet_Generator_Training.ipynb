{
  "nbformat": 4,
  "nbformat_minor": 0,
  "metadata": {
    "colab": {
      "name": "4 - TR Tweet Generator Training.ipynb",
      "provenance": [],
      "collapsed_sections": [],
      "mount_file_id": "1IVdk-zfpvcIE3rW1xm2Vzv90S7xRemiM",
      "authorship_tag": "ABX9TyPDovHvFWwMRM1aPiZFBHXB",
      "include_colab_link": true
    },
    "kernelspec": {
      "name": "python3",
      "display_name": "Python 3"
    },
    "accelerator": "GPU"
  },
  "cells": [
    {
      "cell_type": "markdown",
      "metadata": {
        "id": "view-in-github",
        "colab_type": "text"
      },
      "source": [
        "<a href=\"https://colab.research.google.com/github/caltunay/selfIsolation_TR_text_gen/blob/main/4_TR_Tweet_Generator_Training.ipynb\" target=\"_parent\"><img src=\"https://colab.research.google.com/assets/colab-badge.svg\" alt=\"Open In Colab\"/></a>"
      ]
    },
    {
      "cell_type": "code",
      "metadata": {
        "id": "sBhFCHYktKuw"
      },
      "source": [
        "import pandas as pd\r\n",
        "import numpy as np\r\n",
        "import matplotlib.pyplot as plt\r\n",
        "import seaborn as sns"
      ],
      "execution_count": null,
      "outputs": []
    },
    {
      "cell_type": "markdown",
      "metadata": {
        "id": "biZMQB7NTnqc"
      },
      "source": [
        "# Extended tweets are now included, starting over"
      ]
    },
    {
      "cell_type": "code",
      "metadata": {
        "colab": {
          "base_uri": "https://localhost:8080/",
          "height": 598
        },
        "id": "henxzwMxtL0r",
        "outputId": "787a2e15-e65e-4bb7-ee1c-65c9d1726311"
      },
      "source": [
        "path2 = '/content/drive/MyDrive/Colab Notebooks/Tweet Generator - TR/zayt_ext_4k.csv'\r\n",
        "\r\n",
        "zayt = pd.read_csv(path2)\r\n",
        "zayt.sample(5)"
      ],
      "execution_count": null,
      "outputs": [
        {
          "output_type": "execute_result",
          "data": {
            "text/html": [
              "<div>\n",
              "<style scoped>\n",
              "    .dataframe tbody tr th:only-of-type {\n",
              "        vertical-align: middle;\n",
              "    }\n",
              "\n",
              "    .dataframe tbody tr th {\n",
              "        vertical-align: top;\n",
              "    }\n",
              "\n",
              "    .dataframe thead th {\n",
              "        text-align: right;\n",
              "    }\n",
              "</style>\n",
              "<table border=\"1\" class=\"dataframe\">\n",
              "  <thead>\n",
              "    <tr style=\"text-align: right;\">\n",
              "      <th></th>\n",
              "      <th>Unnamed: 0</th>\n",
              "      <th>author</th>\n",
              "      <th>favorite_count</th>\n",
              "      <th>full_text</th>\n",
              "      <th>id</th>\n",
              "      <th>id_str</th>\n",
              "      <th>in_reply_to_screen_name</th>\n",
              "      <th>in_reply_to_status_id</th>\n",
              "      <th>in_reply_to_status_id_str</th>\n",
              "      <th>in_reply_to_user_id</th>\n",
              "      <th>in_reply_to_user_id_str</th>\n",
              "      <th>lang</th>\n",
              "      <th>quoted_status_id</th>\n",
              "      <th>quoted_status_id_str</th>\n",
              "      <th>retweet_count</th>\n",
              "      <th>source</th>\n",
              "      <th>source_url</th>\n",
              "      <th>user</th>\n",
              "    </tr>\n",
              "  </thead>\n",
              "  <tbody>\n",
              "    <tr>\n",
              "      <th>2576</th>\n",
              "      <td>2576</td>\n",
              "      <td>zaytung</td>\n",
              "      <td>347.0</td>\n",
              "      <td>Halkın Sesi - \"Fly Girls: Final Payload\" adlı ...</td>\n",
              "      <td>9.029956e+17</td>\n",
              "      <td>902995632696287232</td>\n",
              "      <td>NaN</td>\n",
              "      <td>NaN</td>\n",
              "      <td>NaN</td>\n",
              "      <td>NaN</td>\n",
              "      <td>NaN</td>\n",
              "      <td>tr</td>\n",
              "      <td>NaN</td>\n",
              "      <td>NaN</td>\n",
              "      <td>113.0</td>\n",
              "      <td>Twitter Web Client</td>\n",
              "      <td>http://twitter.com</td>\n",
              "      <td>zaytung</td>\n",
              "    </tr>\n",
              "    <tr>\n",
              "      <th>2869</th>\n",
              "      <td>2869</td>\n",
              "      <td>zaytung</td>\n",
              "      <td>442.0</td>\n",
              "      <td>YTÜ Kampüsünün Ardından Vodafone Arena'nın da ...</td>\n",
              "      <td>8.671199e+17</td>\n",
              "      <td>867119932357697538</td>\n",
              "      <td>NaN</td>\n",
              "      <td>NaN</td>\n",
              "      <td>NaN</td>\n",
              "      <td>NaN</td>\n",
              "      <td>NaN</td>\n",
              "      <td>tr</td>\n",
              "      <td>NaN</td>\n",
              "      <td>NaN</td>\n",
              "      <td>209.0</td>\n",
              "      <td>Twitter Web Client</td>\n",
              "      <td>http://twitter.com</td>\n",
              "      <td>zaytung</td>\n",
              "    </tr>\n",
              "    <tr>\n",
              "      <th>3040</th>\n",
              "      <td>3040</td>\n",
              "      <td>zaytung</td>\n",
              "      <td>423.0</td>\n",
              "      <td>FotoHaber - Galatasaray Yönetim Kurulu: ''Haka...</td>\n",
              "      <td>8.463526e+17</td>\n",
              "      <td>846352576757088256</td>\n",
              "      <td>NaN</td>\n",
              "      <td>NaN</td>\n",
              "      <td>NaN</td>\n",
              "      <td>NaN</td>\n",
              "      <td>NaN</td>\n",
              "      <td>tr</td>\n",
              "      <td>NaN</td>\n",
              "      <td>NaN</td>\n",
              "      <td>168.0</td>\n",
              "      <td>Twitter Web Client</td>\n",
              "      <td>http://twitter.com</td>\n",
              "      <td>zaytung</td>\n",
              "    </tr>\n",
              "    <tr>\n",
              "      <th>2951</th>\n",
              "      <td>2951</td>\n",
              "      <td>zaytung</td>\n",
              "      <td>1244.0</td>\n",
              "      <td>Daha Hızlı Sonuç Alınması İçin Devletteki FETÖ...</td>\n",
              "      <td>8.576324e+17</td>\n",
              "      <td>857632386187763712</td>\n",
              "      <td>NaN</td>\n",
              "      <td>NaN</td>\n",
              "      <td>NaN</td>\n",
              "      <td>NaN</td>\n",
              "      <td>NaN</td>\n",
              "      <td>tr</td>\n",
              "      <td>NaN</td>\n",
              "      <td>NaN</td>\n",
              "      <td>783.0</td>\n",
              "      <td>Twitter Web Client</td>\n",
              "      <td>http://twitter.com</td>\n",
              "      <td>zaytung</td>\n",
              "    </tr>\n",
              "    <tr>\n",
              "      <th>341</th>\n",
              "      <td>341</td>\n",
              "      <td>zaytung</td>\n",
              "      <td>3443.0</td>\n",
              "      <td>FotoHaber - AKP Grup Başkan Vekili: ''400.000 ...</td>\n",
              "      <td>1.285567e+18</td>\n",
              "      <td>1285567441893031937</td>\n",
              "      <td>NaN</td>\n",
              "      <td>NaN</td>\n",
              "      <td>NaN</td>\n",
              "      <td>NaN</td>\n",
              "      <td>NaN</td>\n",
              "      <td>tr</td>\n",
              "      <td>NaN</td>\n",
              "      <td>NaN</td>\n",
              "      <td>368.0</td>\n",
              "      <td>Twitter Web App</td>\n",
              "      <td>https://mobile.twitter.com</td>\n",
              "      <td>zaytung</td>\n",
              "    </tr>\n",
              "  </tbody>\n",
              "</table>\n",
              "</div>"
            ],
            "text/plain": [
              "      Unnamed: 0   author  ...                  source_url     user\n",
              "2576        2576  zaytung  ...          http://twitter.com  zaytung\n",
              "2869        2869  zaytung  ...          http://twitter.com  zaytung\n",
              "3040        3040  zaytung  ...          http://twitter.com  zaytung\n",
              "2951        2951  zaytung  ...          http://twitter.com  zaytung\n",
              "341          341  zaytung  ...  https://mobile.twitter.com  zaytung\n",
              "\n",
              "[5 rows x 18 columns]"
            ]
          },
          "metadata": {
            "tags": []
          },
          "execution_count": 2
        }
      ]
    },
    {
      "cell_type": "code",
      "metadata": {
        "colab": {
          "base_uri": "https://localhost:8080/"
        },
        "id": "IgYkckJGtL1U",
        "outputId": "a353d7b1-ee9d-4f36-e7e2-66b192f81046"
      },
      "source": [
        "zayt.info()"
      ],
      "execution_count": null,
      "outputs": [
        {
          "output_type": "stream",
          "text": [
            "<class 'pandas.core.frame.DataFrame'>\n",
            "RangeIndex: 3219 entries, 0 to 3218\n",
            "Data columns (total 18 columns):\n",
            " #   Column                     Non-Null Count  Dtype  \n",
            "---  ------                     --------------  -----  \n",
            " 0   Unnamed: 0                 3219 non-null   int64  \n",
            " 1   author                     3219 non-null   object \n",
            " 2   favorite_count             3219 non-null   float64\n",
            " 3   full_text                  3219 non-null   object \n",
            " 4   id                         3219 non-null   float64\n",
            " 5   id_str                     3219 non-null   int64  \n",
            " 6   in_reply_to_screen_name    2 non-null      object \n",
            " 7   in_reply_to_status_id      2 non-null      float64\n",
            " 8   in_reply_to_status_id_str  2 non-null      float64\n",
            " 9   in_reply_to_user_id        2 non-null      float64\n",
            " 10  in_reply_to_user_id_str    2 non-null      float64\n",
            " 11  lang                       3219 non-null   object \n",
            " 12  quoted_status_id           11 non-null     float64\n",
            " 13  quoted_status_id_str       11 non-null     float64\n",
            " 14  retweet_count              3219 non-null   float64\n",
            " 15  source                     3219 non-null   object \n",
            " 16  source_url                 3219 non-null   object \n",
            " 17  user                       3219 non-null   object \n",
            "dtypes: float64(9), int64(2), object(7)\n",
            "memory usage: 452.8+ KB\n"
          ],
          "name": "stdout"
        }
      ]
    },
    {
      "cell_type": "code",
      "metadata": {
        "colab": {
          "base_uri": "https://localhost:8080/",
          "height": 419
        },
        "id": "a8yDS9EktL14",
        "outputId": "66aba53c-10e2-438d-c224-328401be242c"
      },
      "source": [
        "cols_ = 'favorite_count full_text retweet_count source source_url'.split()\r\n",
        "zayt = zayt.iloc[zayt.index.difference(zayt.dropna(subset = ['in_reply_to_screen_name','quoted_status_id'], how = 'all').index),:][cols_]\r\n",
        "zayt"
      ],
      "execution_count": null,
      "outputs": [
        {
          "output_type": "execute_result",
          "data": {
            "text/html": [
              "<div>\n",
              "<style scoped>\n",
              "    .dataframe tbody tr th:only-of-type {\n",
              "        vertical-align: middle;\n",
              "    }\n",
              "\n",
              "    .dataframe tbody tr th {\n",
              "        vertical-align: top;\n",
              "    }\n",
              "\n",
              "    .dataframe thead th {\n",
              "        text-align: right;\n",
              "    }\n",
              "</style>\n",
              "<table border=\"1\" class=\"dataframe\">\n",
              "  <thead>\n",
              "    <tr style=\"text-align: right;\">\n",
              "      <th></th>\n",
              "      <th>favorite_count</th>\n",
              "      <th>full_text</th>\n",
              "      <th>retweet_count</th>\n",
              "      <th>source</th>\n",
              "      <th>source_url</th>\n",
              "    </tr>\n",
              "  </thead>\n",
              "  <tbody>\n",
              "    <tr>\n",
              "      <th>0</th>\n",
              "      <td>1397.0</td>\n",
              "      <td>FotoHaber - Seçimle gitmeyi yediremeyen diktat...</td>\n",
              "      <td>113.0</td>\n",
              "      <td>Twitter Web App</td>\n",
              "      <td>https://mobile.twitter.com</td>\n",
              "    </tr>\n",
              "    <tr>\n",
              "      <th>1</th>\n",
              "      <td>1800.0</td>\n",
              "      <td>FotoHaber - Melih Bulu: ''Metallica albüm kapa...</td>\n",
              "      <td>107.0</td>\n",
              "      <td>Twitter Web App</td>\n",
              "      <td>https://mobile.twitter.com</td>\n",
              "    </tr>\n",
              "    <tr>\n",
              "      <th>2</th>\n",
              "      <td>2251.0</td>\n",
              "      <td>Son Dakika - Korkudan Berat Albayrak'ın istifa...</td>\n",
              "      <td>223.0</td>\n",
              "      <td>Twitter Web App</td>\n",
              "      <td>https://mobile.twitter.com</td>\n",
              "    </tr>\n",
              "    <tr>\n",
              "      <th>3</th>\n",
              "      <td>4725.0</td>\n",
              "      <td>Piyasalarda Bugün: Yılbaşından Kalan 4 Kutu Bi...</td>\n",
              "      <td>356.0</td>\n",
              "      <td>Twitter Web App</td>\n",
              "      <td>https://mobile.twitter.com</td>\n",
              "    </tr>\n",
              "    <tr>\n",
              "      <th>4</th>\n",
              "      <td>2434.0</td>\n",
              "      <td>Son Dakika - %30'dan fazla olan enflasyonu %14...</td>\n",
              "      <td>275.0</td>\n",
              "      <td>Twitter Web App</td>\n",
              "      <td>https://mobile.twitter.com</td>\n",
              "    </tr>\n",
              "    <tr>\n",
              "      <th>...</th>\n",
              "      <td>...</td>\n",
              "      <td>...</td>\n",
              "      <td>...</td>\n",
              "      <td>...</td>\n",
              "      <td>...</td>\n",
              "    </tr>\n",
              "    <tr>\n",
              "      <th>3214</th>\n",
              "      <td>895.0</td>\n",
              "      <td>Müslümanları Ülkeye Sokmama Kararnamesi Mahkem...</td>\n",
              "      <td>518.0</td>\n",
              "      <td>Twitter Web Client</td>\n",
              "      <td>http://twitter.com</td>\n",
              "    </tr>\n",
              "    <tr>\n",
              "      <th>3215</th>\n",
              "      <td>546.0</td>\n",
              "      <td>Facebook’ta Her Yazdığı En Az 400 Like Alan Kı...</td>\n",
              "      <td>150.0</td>\n",
              "      <td>Twitter Web Client</td>\n",
              "      <td>http://twitter.com</td>\n",
              "    </tr>\n",
              "    <tr>\n",
              "      <th>3216</th>\n",
              "      <td>73.0</td>\n",
              "      <td>Sinema - Vizyonda Bu Hafta: Vezir Parmağı (Mah...</td>\n",
              "      <td>19.0</td>\n",
              "      <td>Twitter Web Client</td>\n",
              "      <td>http://twitter.com</td>\n",
              "    </tr>\n",
              "    <tr>\n",
              "      <th>3217</th>\n",
              "      <td>529.0</td>\n",
              "      <td>FotoHaber - Merkez Bankası'ndan flaş kredi not...</td>\n",
              "      <td>272.0</td>\n",
              "      <td>Twitter Web Client</td>\n",
              "      <td>http://twitter.com</td>\n",
              "    </tr>\n",
              "    <tr>\n",
              "      <th>3218</th>\n",
              "      <td>398.0</td>\n",
              "      <td>S&amp;amp;P'dan Hükümeti Rahatlatan Açıklama: \"Gör...</td>\n",
              "      <td>223.0</td>\n",
              "      <td>Twitter Web Client</td>\n",
              "      <td>http://twitter.com</td>\n",
              "    </tr>\n",
              "  </tbody>\n",
              "</table>\n",
              "<p>3206 rows × 5 columns</p>\n",
              "</div>"
            ],
            "text/plain": [
              "      favorite_count  ...                  source_url\n",
              "0             1397.0  ...  https://mobile.twitter.com\n",
              "1             1800.0  ...  https://mobile.twitter.com\n",
              "2             2251.0  ...  https://mobile.twitter.com\n",
              "3             4725.0  ...  https://mobile.twitter.com\n",
              "4             2434.0  ...  https://mobile.twitter.com\n",
              "...              ...  ...                         ...\n",
              "3214           895.0  ...          http://twitter.com\n",
              "3215           546.0  ...          http://twitter.com\n",
              "3216            73.0  ...          http://twitter.com\n",
              "3217           529.0  ...          http://twitter.com\n",
              "3218           398.0  ...          http://twitter.com\n",
              "\n",
              "[3206 rows x 5 columns]"
            ]
          },
          "metadata": {
            "tags": []
          },
          "execution_count": 3
        }
      ]
    },
    {
      "cell_type": "code",
      "metadata": {
        "colab": {
          "base_uri": "https://localhost:8080/"
        },
        "id": "448qMSlbtL2c",
        "outputId": "2a45dea5-3c45-49b3-d77f-9d7dcb2df204"
      },
      "source": [
        "rand_ind = np.random.randint(0, len(zayt), 10)\r\n",
        "\r\n",
        "for i in rand_ind:\r\n",
        "    print('\\n==============')\r\n",
        "    print(zayt['full_text'].values[i])\r\n",
        "    print('==============\\n')"
      ],
      "execution_count": null,
      "outputs": [
        {
          "output_type": "stream",
          "text": [
            "\n",
            "==============\n",
            "30 Bin Hasta Arasından Sıyrılarak 1500 Kişilik Günlük Covid Vaka Tablosu'na Girmeyi Başaran Fabrika İşçisi, Çayıralan'ın Gururu Oldu... https://t.co/ypvLQ3CEQN https://t.co/CELDtsH5VK\n",
            "==============\n",
            "\n",
            "\n",
            "==============\n",
            "İnternette Çözdüğü Bir Testte Daha \"Dahi\" Çıkan Genç Bankacı, %2'lik Maaş Zammına İtiraz Etmeye Hazırlanıyor... https://t.co/DQHXzdGE1e https://t.co/gGRBSsQ6Vt\n",
            "==============\n",
            "\n",
            "\n",
            "==============\n",
            "Koronavirüs'te Bu Kez İyi Haber: Mutasyon Geçiren Balyöz Ailesi Fotosentez'le Beslenmeye Başladı... https://t.co/jmYTryQgHK https://t.co/W1FwFwKokb\n",
            "==============\n",
            "\n",
            "\n",
            "==============\n",
            "Son Dakika - ''Ekonomide tarih yazmaya devam ediyoruz'' açıklaması yapan Berat Albayrak’ın hangi ülkede bakanlık yaptığının araştırılması için komisyon kurulması teklifi AKP ve MHP oylarıyla reddedildi... https://t.co/Sb3JRNzzts\n",
            "==============\n",
            "\n",
            "\n",
            "==============\n",
            "Son Dakika - Cumhurbaşkanı Erdoğan, Kadir Mısıroğlu’nun vefatı nedeniyle Çipras'a taziyelerini iletti... https://t.co/W8ftAbbkGC https://t.co/9DLjbk2ilb\n",
            "==============\n",
            "\n",
            "\n",
            "==============\n",
            "FotoHaber - FETÖ'nün ordu içinden temizlenmesi, İsmailağa Cemaati'nde de yüzleri güldürüyor... https://t.co/UHxMQio8o3 https://t.co/yCQJ5nPxsO\n",
            "==============\n",
            "\n",
            "\n",
            "==============\n",
            "Halkın Sesi - CHP’nin kahvaltısına katılan muhtarlara savcılık tarafından soruşturma açıldı... https://t.co/4htSynit7l https://t.co/ruadzUQAqt\n",
            "==============\n",
            "\n",
            "\n",
            "==============\n",
            "Yozgat Belediyesi, Şehrin Adının \"Yozgat Province\" Olarak Değiştirilmesi İçin İmza Kampanyası Başlattı... https://t.co/VHLZYg2wQq https://t.co/JVNtJgACGi\n",
            "==============\n",
            "\n",
            "\n",
            "==============\n",
            "Blog - Depresyonla Baş Etme Rehberi... https://t.co/APqdUCg6w4 https://t.co/7aArKTnidd\n",
            "==============\n",
            "\n",
            "\n",
            "==============\n",
            "FotoHaber - İçişleri Bakanlığı, yerel seçimlerde yeterli performans gösteremeyen Osman Öcalan'ın yerine de kayyum atandığını açıkladı. TRT'ye çıkacak yeni isim henüz belli değil... https://t.co/BzwykWb1Hv https://t.co/TMyKyIYdSU\n",
            "==============\n",
            "\n"
          ],
          "name": "stdout"
        }
      ]
    },
    {
      "cell_type": "code",
      "metadata": {
        "colab": {
          "base_uri": "https://localhost:8080/",
          "height": 419
        },
        "id": "eeWHHqN_tL7v",
        "outputId": "f8db93cc-39d3-49ac-fe72-a3b3bb7d9888"
      },
      "source": [
        "zayt['header_text'] = zayt['full_text'].apply(lambda sentence_: ' '.join([word for word in sentence_.split() if 'http' not in word]))\r\n",
        "zayt"
      ],
      "execution_count": null,
      "outputs": [
        {
          "output_type": "execute_result",
          "data": {
            "text/html": [
              "<div>\n",
              "<style scoped>\n",
              "    .dataframe tbody tr th:only-of-type {\n",
              "        vertical-align: middle;\n",
              "    }\n",
              "\n",
              "    .dataframe tbody tr th {\n",
              "        vertical-align: top;\n",
              "    }\n",
              "\n",
              "    .dataframe thead th {\n",
              "        text-align: right;\n",
              "    }\n",
              "</style>\n",
              "<table border=\"1\" class=\"dataframe\">\n",
              "  <thead>\n",
              "    <tr style=\"text-align: right;\">\n",
              "      <th></th>\n",
              "      <th>favorite_count</th>\n",
              "      <th>full_text</th>\n",
              "      <th>retweet_count</th>\n",
              "      <th>source</th>\n",
              "      <th>source_url</th>\n",
              "      <th>header_text</th>\n",
              "    </tr>\n",
              "  </thead>\n",
              "  <tbody>\n",
              "    <tr>\n",
              "      <th>0</th>\n",
              "      <td>1397.0</td>\n",
              "      <td>FotoHaber - Seçimle gitmeyi yediremeyen diktat...</td>\n",
              "      <td>113.0</td>\n",
              "      <td>Twitter Web App</td>\n",
              "      <td>https://mobile.twitter.com</td>\n",
              "      <td>FotoHaber - Seçimle gitmeyi yediremeyen diktat...</td>\n",
              "    </tr>\n",
              "    <tr>\n",
              "      <th>1</th>\n",
              "      <td>1800.0</td>\n",
              "      <td>FotoHaber - Melih Bulu: ''Metallica albüm kapa...</td>\n",
              "      <td>107.0</td>\n",
              "      <td>Twitter Web App</td>\n",
              "      <td>https://mobile.twitter.com</td>\n",
              "      <td>FotoHaber - Melih Bulu: ''Metallica albüm kapa...</td>\n",
              "    </tr>\n",
              "    <tr>\n",
              "      <th>2</th>\n",
              "      <td>2251.0</td>\n",
              "      <td>Son Dakika - Korkudan Berat Albayrak'ın istifa...</td>\n",
              "      <td>223.0</td>\n",
              "      <td>Twitter Web App</td>\n",
              "      <td>https://mobile.twitter.com</td>\n",
              "      <td>Son Dakika - Korkudan Berat Albayrak'ın istifa...</td>\n",
              "    </tr>\n",
              "    <tr>\n",
              "      <th>3</th>\n",
              "      <td>4725.0</td>\n",
              "      <td>Piyasalarda Bugün: Yılbaşından Kalan 4 Kutu Bi...</td>\n",
              "      <td>356.0</td>\n",
              "      <td>Twitter Web App</td>\n",
              "      <td>https://mobile.twitter.com</td>\n",
              "      <td>Piyasalarda Bugün: Yılbaşından Kalan 4 Kutu Bi...</td>\n",
              "    </tr>\n",
              "    <tr>\n",
              "      <th>4</th>\n",
              "      <td>2434.0</td>\n",
              "      <td>Son Dakika - %30'dan fazla olan enflasyonu %14...</td>\n",
              "      <td>275.0</td>\n",
              "      <td>Twitter Web App</td>\n",
              "      <td>https://mobile.twitter.com</td>\n",
              "      <td>Son Dakika - %30'dan fazla olan enflasyonu %14...</td>\n",
              "    </tr>\n",
              "    <tr>\n",
              "      <th>...</th>\n",
              "      <td>...</td>\n",
              "      <td>...</td>\n",
              "      <td>...</td>\n",
              "      <td>...</td>\n",
              "      <td>...</td>\n",
              "      <td>...</td>\n",
              "    </tr>\n",
              "    <tr>\n",
              "      <th>3214</th>\n",
              "      <td>895.0</td>\n",
              "      <td>Müslümanları Ülkeye Sokmama Kararnamesi Mahkem...</td>\n",
              "      <td>518.0</td>\n",
              "      <td>Twitter Web Client</td>\n",
              "      <td>http://twitter.com</td>\n",
              "      <td>Müslümanları Ülkeye Sokmama Kararnamesi Mahkem...</td>\n",
              "    </tr>\n",
              "    <tr>\n",
              "      <th>3215</th>\n",
              "      <td>546.0</td>\n",
              "      <td>Facebook’ta Her Yazdığı En Az 400 Like Alan Kı...</td>\n",
              "      <td>150.0</td>\n",
              "      <td>Twitter Web Client</td>\n",
              "      <td>http://twitter.com</td>\n",
              "      <td>Facebook’ta Her Yazdığı En Az 400 Like Alan Kı...</td>\n",
              "    </tr>\n",
              "    <tr>\n",
              "      <th>3216</th>\n",
              "      <td>73.0</td>\n",
              "      <td>Sinema - Vizyonda Bu Hafta: Vezir Parmağı (Mah...</td>\n",
              "      <td>19.0</td>\n",
              "      <td>Twitter Web Client</td>\n",
              "      <td>http://twitter.com</td>\n",
              "      <td>Sinema - Vizyonda Bu Hafta: Vezir Parmağı (Mah...</td>\n",
              "    </tr>\n",
              "    <tr>\n",
              "      <th>3217</th>\n",
              "      <td>529.0</td>\n",
              "      <td>FotoHaber - Merkez Bankası'ndan flaş kredi not...</td>\n",
              "      <td>272.0</td>\n",
              "      <td>Twitter Web Client</td>\n",
              "      <td>http://twitter.com</td>\n",
              "      <td>FotoHaber - Merkez Bankası'ndan flaş kredi not...</td>\n",
              "    </tr>\n",
              "    <tr>\n",
              "      <th>3218</th>\n",
              "      <td>398.0</td>\n",
              "      <td>S&amp;amp;P'dan Hükümeti Rahatlatan Açıklama: \"Gör...</td>\n",
              "      <td>223.0</td>\n",
              "      <td>Twitter Web Client</td>\n",
              "      <td>http://twitter.com</td>\n",
              "      <td>S&amp;amp;P'dan Hükümeti Rahatlatan Açıklama: \"Gör...</td>\n",
              "    </tr>\n",
              "  </tbody>\n",
              "</table>\n",
              "<p>3206 rows × 6 columns</p>\n",
              "</div>"
            ],
            "text/plain": [
              "      favorite_count  ...                                        header_text\n",
              "0             1397.0  ...  FotoHaber - Seçimle gitmeyi yediremeyen diktat...\n",
              "1             1800.0  ...  FotoHaber - Melih Bulu: ''Metallica albüm kapa...\n",
              "2             2251.0  ...  Son Dakika - Korkudan Berat Albayrak'ın istifa...\n",
              "3             4725.0  ...  Piyasalarda Bugün: Yılbaşından Kalan 4 Kutu Bi...\n",
              "4             2434.0  ...  Son Dakika - %30'dan fazla olan enflasyonu %14...\n",
              "...              ...  ...                                                ...\n",
              "3214           895.0  ...  Müslümanları Ülkeye Sokmama Kararnamesi Mahkem...\n",
              "3215           546.0  ...  Facebook’ta Her Yazdığı En Az 400 Like Alan Kı...\n",
              "3216            73.0  ...  Sinema - Vizyonda Bu Hafta: Vezir Parmağı (Mah...\n",
              "3217           529.0  ...  FotoHaber - Merkez Bankası'ndan flaş kredi not...\n",
              "3218           398.0  ...  S&amp;P'dan Hükümeti Rahatlatan Açıklama: \"Gör...\n",
              "\n",
              "[3206 rows x 6 columns]"
            ]
          },
          "metadata": {
            "tags": []
          },
          "execution_count": 4
        }
      ]
    },
    {
      "cell_type": "code",
      "metadata": {
        "colab": {
          "base_uri": "https://localhost:8080/",
          "height": 35
        },
        "id": "aN7T2psGtL8e",
        "outputId": "821a99b4-9f0a-45f9-d74b-44bd4306d589"
      },
      "source": [
        "sentence_ = zayt['header_text'].values[0]\r\n",
        "sentence_"
      ],
      "execution_count": null,
      "outputs": [
        {
          "output_type": "execute_result",
          "data": {
            "application/vnd.google.colaboratory.intrinsic+json": {
              "type": "string"
            },
            "text/plain": [
              "'FotoHaber - Seçimle gitmeyi yediremeyen diktatör özentisinin, destekçilerini amatör teröristlere dönüştürme hızı tüm dünyada ilgiyle izleniyor...'"
            ]
          },
          "metadata": {
            "tags": []
          },
          "execution_count": 5
        }
      ]
    },
    {
      "cell_type": "code",
      "metadata": {
        "colab": {
          "base_uri": "https://localhost:8080/",
          "height": 35
        },
        "id": "LQOwGtuxtL9W",
        "outputId": "2b22af79-5760-497c-804e-513e8b9b0651"
      },
      "source": [
        "# extract text and headers and replace 3 dots with 1 \r\n",
        "zayt['text_only'] = zayt['header_text'].apply(lambda sentence: sentence.split(' - ')[1].replace('...','.') if len(sentence.split(' - ')) > 1 else sentence.split(' - ')[0].replace('...', '.'))\r\n",
        "zayt['text_only'][0]"
      ],
      "execution_count": null,
      "outputs": [
        {
          "output_type": "execute_result",
          "data": {
            "application/vnd.google.colaboratory.intrinsic+json": {
              "type": "string"
            },
            "text/plain": [
              "'Seçimle gitmeyi yediremeyen diktatör özentisinin, destekçilerini amatör teröristlere dönüştürme hızı tüm dünyada ilgiyle izleniyor.'"
            ]
          },
          "metadata": {
            "tags": []
          },
          "execution_count": 6
        }
      ]
    },
    {
      "cell_type": "code",
      "metadata": {
        "colab": {
          "base_uri": "https://localhost:8080/"
        },
        "id": "V9Y2CGCNtL-9",
        "outputId": "07ceb1ad-d3c7-4cbd-a070-84b9fecd6dd5"
      },
      "source": [
        "# do other way and create header_only column -where exists\r\n",
        "zayt['header_only'] = zayt['header_text'].apply(lambda sentence: sentence.split(' - ')[0].replace('...','.') if len(sentence.split(' - ')) > 1 else np.nan)\r\n",
        "zayt['header_only']"
      ],
      "execution_count": null,
      "outputs": [
        {
          "output_type": "execute_result",
          "data": {
            "text/plain": [
              "0        FotoHaber\n",
              "1        FotoHaber\n",
              "2       Son Dakika\n",
              "3              NaN\n",
              "4       Son Dakika\n",
              "           ...    \n",
              "3214           NaN\n",
              "3215           NaN\n",
              "3216        Sinema\n",
              "3217     FotoHaber\n",
              "3218           NaN\n",
              "Name: header_only, Length: 3206, dtype: object"
            ]
          },
          "metadata": {
            "tags": []
          },
          "execution_count": 7
        }
      ]
    },
    {
      "cell_type": "code",
      "metadata": {
        "colab": {
          "base_uri": "https://localhost:8080/"
        },
        "id": "wnIw-iz9tL_k",
        "outputId": "d3c55070-fb58-4e11-c6c5-95f6823913e6"
      },
      "source": [
        "zayt['header_only'].value_counts()"
      ],
      "execution_count": null,
      "outputs": [
        {
          "output_type": "execute_result",
          "data": {
            "text/plain": [
              "FotoHaber                                                                873\n",
              "Son Dakika                                                               377\n",
              "Halkın Sesi                                                              125\n",
              "Blog                                                                     118\n",
              "VideoHaber                                                                72\n",
              "Zaytung Sinema                                                            72\n",
              "Zaytung Blog                                                              57\n",
              "Sinema                                                                    53\n",
              "Zaytung Dergi                                                             39\n",
              "Anket                                                                     22\n",
              "Spor                                                                      21\n",
              "Dergi                                                                     12\n",
              "Kitap                                                                      9\n",
              "Zaytung Kitap                                                              9\n",
              "Zaytung Anket                                                              8\n",
              "Oyun                                                                       7\n",
              "Zaytung Oyun                                                               3\n",
              "SonDakika                                                                  2\n",
              "Yabancı Yatırımcıdan Türk Ekonomisine Övgü: ''Daha Faiz                    1\n",
              "Bahoz Erdal                                                                1\n",
              "RT @pekilacom: Bilinmezliğe Yolculuk                                       1\n",
              "SPOR                                                                       1\n",
              "RT @AprilYayincilik: Dürüst, tarafsız, ahlaksız: Zaytung Almanak 2016      1\n",
              "Fotohaber                                                                  1\n",
              "Emlak                                                                      1\n",
              "RT @pekilacom: Grafik #89                                                  1\n",
              "RT @pekilacom: İnsan Portreleri #432                                       1\n",
              "Zaytung AT                                                                 1\n",
              "RT @pekilacom: Grafik #56                                                  1\n",
              "Zaytung Bilim                                                              1\n",
              "\"Devlette Liyakatın Önemi                                                  1\n",
              "Arşiv                                                                      1\n",
              "Sıla                                                                       1\n",
              "Bilim                                                                      1\n",
              "Nat Geo Wild                                                               1\n",
              "Türkiye'nin en kapsamlı deprem araştırması                                 1\n",
              "Name: header_only, dtype: int64"
            ]
          },
          "metadata": {
            "tags": []
          },
          "execution_count": 8
        }
      ]
    },
    {
      "cell_type": "code",
      "metadata": {
        "id": "4aMci-vltMAM"
      },
      "source": [
        "# bad extraction where header count is 2 and under. remove those rows\r\n",
        "to_remove_headers = zayt['header_only'].value_counts()[zayt['header_only'].value_counts() <= 2].index.tolist()\r\n",
        "\r\n",
        "zayt = zayt[~zayt['header_only'].isin(to_remove_headers)].reset_index(drop = True)"
      ],
      "execution_count": null,
      "outputs": []
    },
    {
      "cell_type": "code",
      "metadata": {
        "id": "MV6J7pBeZyOt",
        "colab": {
          "base_uri": "https://localhost:8080/"
        },
        "outputId": "1ef79562-4971-4ffb-a45f-4517123a7ad1"
      },
      "source": [
        "zayt['favorite_count'].corr(zayt['retweet_count'])"
      ],
      "execution_count": null,
      "outputs": [
        {
          "output_type": "execute_result",
          "data": {
            "text/plain": [
              "0.32606206916890057"
            ]
          },
          "metadata": {
            "tags": []
          },
          "execution_count": 13
        }
      ]
    },
    {
      "cell_type": "code",
      "metadata": {
        "id": "Qw-lP_2eZyWh"
      },
      "source": [
        "import seaborn as sns\r\n",
        "by_header = zayt.groupby('header_only').sum().reset_index()"
      ],
      "execution_count": null,
      "outputs": []
    },
    {
      "cell_type": "code",
      "metadata": {
        "colab": {
          "base_uri": "https://localhost:8080/",
          "height": 622
        },
        "id": "EQEsG1ljOepX",
        "outputId": "ed58db58-4d56-4665-cd5e-6fac412b610b"
      },
      "source": [
        "plt.style.use('dark_background')\r\n",
        "by_header.sort_values(by = 'favorite_count').plot.bar(x = 'header_only', rot = 0, subplots = True, figsize = (20, 10));"
      ],
      "execution_count": null,
      "outputs": [
        {
          "output_type": "display_data",
          "data": {
            "image/png": "[encoded data removed]",
            "text/plain": [
              "<Figure size 1440x720 with 2 Axes>"
            ]
          },
          "metadata": {
            "tags": []
          }
        }
      ]
    },
    {
      "cell_type": "code",
      "metadata": {
        "id": "D8mIspAbZyZH",
        "colab": {
          "base_uri": "https://localhost:8080/"
        },
        "outputId": "c40c3068-0bb9-4cdc-d068-1c5c29891f4e"
      },
      "source": [
        "rand_ind = np.random.randint(0, len(zayt), 10)\r\n",
        "\r\n",
        "for i in rand_ind:\r\n",
        "    print('\\n==============')\r\n",
        "    print(zayt['text_only'].values[i].lower())\r\n",
        "    print('==============\\n')"
      ],
      "execution_count": null,
      "outputs": [
        {
          "output_type": "stream",
          "text": [
            "\n",
            "==============\n",
            "i̇stanbul halkına karşı taksi plakası sahiplerinin rant hakkını sonuna kadar savunan valilik ve bakanlık temsilcileri, saray'dan tam puan aldı.\n",
            "==============\n",
            "\n",
            "\n",
            "==============\n",
            "akp'li belediye başkanlarının tehdit, hdp'lilerin kayyum, chp'lilerin soruşturmayla görevden alınmasının ardından 2019 yerel seçimleri i̇çin en güçlü parti haline gelen mhp'de yüzler gülüyor.\n",
            "==============\n",
            "\n",
            "\n",
            "==============\n",
            "yök başkanı'ndan öğrencilere müjde: ''seçim ikinci tura kalırsa bir hafta daha kazanırsınız.''\n",
            "==============\n",
            "\n",
            "\n",
            "==============\n",
            "suriye'den türkiye'ye atılan roket sonucunda 1 suriye vatandaşı hayatını kaybetti.\n",
            "==============\n",
            "\n",
            "\n",
            "==============\n",
            "merkez bankası, açıklanan enflasyondan gerçek enflasyona ulaşmak için kullanılan 2.5 çarpanında ise şu aşamada bir değişiklik düşünülmediğini açıkladı.\n",
            "==============\n",
            "\n",
            "\n",
            "==============\n",
            "erdoğan'ın son grup toplantısında ''çocuklarım aç, bana yardım edin'' diye feryat eden vatandaş şaşkınlık yarattı: ''halk oraya kadar nasıl sızmış?''\n",
            "==============\n",
            "\n",
            "\n",
            "==============\n",
            "11 yaşında 70 kg ağırlığında bir çocuğun 4.5 metre uzağa atlayabileceğini iddia eden giresun cumhuriyet savcılığı: ''ülkemize uzun atlamada madalyalar kazandırabilecek bir evladımızı kaybetmenin.''\n",
            "==============\n",
            "\n",
            "\n",
            "==============\n",
            "milli savunma bakanı nurettin canikli'den erken seçim sinyali.\n",
            "==============\n",
            "\n",
            "\n",
            "==============\n",
            "halkın sesi-adnan oktar: \"tayyip hocam yanında dekolte kadınlarla konserlere katılsın. hükümetin önceliği bu olmalı\"\n",
            "==============\n",
            "\n",
            "\n",
            "==============\n",
            "düğün masrafını karşılamayan takı getirisi ile ilk gece yaşanan sertleşme sorunu arasında bağ olduğu kanıtlandı.\n",
            "==============\n",
            "\n"
          ],
          "name": "stdout"
        }
      ]
    },
    {
      "cell_type": "code",
      "metadata": {
        "id": "JVg_o3LwZycf",
        "colab": {
          "base_uri": "https://localhost:8080/",
          "height": 521
        },
        "outputId": "dc1cc1c3-533c-4971-c870-e10d635e20aa"
      },
      "source": [
        "zayt['contains_mention'] = zayt['text_only'].str.contains('@')\r\n",
        "zayt"
      ],
      "execution_count": null,
      "outputs": [
        {
          "output_type": "execute_result",
          "data": {
            "text/html": [
              "<div>\n",
              "<style scoped>\n",
              "    .dataframe tbody tr th:only-of-type {\n",
              "        vertical-align: middle;\n",
              "    }\n",
              "\n",
              "    .dataframe tbody tr th {\n",
              "        vertical-align: top;\n",
              "    }\n",
              "\n",
              "    .dataframe thead th {\n",
              "        text-align: right;\n",
              "    }\n",
              "</style>\n",
              "<table border=\"1\" class=\"dataframe\">\n",
              "  <thead>\n",
              "    <tr style=\"text-align: right;\">\n",
              "      <th></th>\n",
              "      <th>favorite_count</th>\n",
              "      <th>full_text</th>\n",
              "      <th>retweet_count</th>\n",
              "      <th>source</th>\n",
              "      <th>source_url</th>\n",
              "      <th>header_text</th>\n",
              "      <th>text_only</th>\n",
              "      <th>header_only</th>\n",
              "      <th>contains_mention</th>\n",
              "    </tr>\n",
              "  </thead>\n",
              "  <tbody>\n",
              "    <tr>\n",
              "      <th>0</th>\n",
              "      <td>1397.0</td>\n",
              "      <td>FotoHaber - Seçimle gitmeyi yediremeyen diktat...</td>\n",
              "      <td>113.0</td>\n",
              "      <td>Twitter Web App</td>\n",
              "      <td>https://mobile.twitter.com</td>\n",
              "      <td>FotoHaber - Seçimle gitmeyi yediremeyen diktat...</td>\n",
              "      <td>Seçimle gitmeyi yediremeyen diktatör özentisin...</td>\n",
              "      <td>FotoHaber</td>\n",
              "      <td>False</td>\n",
              "    </tr>\n",
              "    <tr>\n",
              "      <th>1</th>\n",
              "      <td>1800.0</td>\n",
              "      <td>FotoHaber - Melih Bulu: ''Metallica albüm kapa...</td>\n",
              "      <td>107.0</td>\n",
              "      <td>Twitter Web App</td>\n",
              "      <td>https://mobile.twitter.com</td>\n",
              "      <td>FotoHaber - Melih Bulu: ''Metallica albüm kapa...</td>\n",
              "      <td>Melih Bulu: ''Metallica albüm kapağı gibi deği...</td>\n",
              "      <td>FotoHaber</td>\n",
              "      <td>False</td>\n",
              "    </tr>\n",
              "    <tr>\n",
              "      <th>2</th>\n",
              "      <td>2251.0</td>\n",
              "      <td>Son Dakika - Korkudan Berat Albayrak'ın istifa...</td>\n",
              "      <td>223.0</td>\n",
              "      <td>Twitter Web App</td>\n",
              "      <td>https://mobile.twitter.com</td>\n",
              "      <td>Son Dakika - Korkudan Berat Albayrak'ın istifa...</td>\n",
              "      <td>Korkudan Berat Albayrak'ın istifasını bile anc...</td>\n",
              "      <td>Son Dakika</td>\n",
              "      <td>False</td>\n",
              "    </tr>\n",
              "    <tr>\n",
              "      <th>3</th>\n",
              "      <td>4725.0</td>\n",
              "      <td>Piyasalarda Bugün: Yılbaşından Kalan 4 Kutu Bi...</td>\n",
              "      <td>356.0</td>\n",
              "      <td>Twitter Web App</td>\n",
              "      <td>https://mobile.twitter.com</td>\n",
              "      <td>Piyasalarda Bugün: Yılbaşından Kalan 4 Kutu Bi...</td>\n",
              "      <td>Piyasalarda Bugün: Yılbaşından Kalan 4 Kutu Bi...</td>\n",
              "      <td>NaN</td>\n",
              "      <td>False</td>\n",
              "    </tr>\n",
              "    <tr>\n",
              "      <th>4</th>\n",
              "      <td>2434.0</td>\n",
              "      <td>Son Dakika - %30'dan fazla olan enflasyonu %14...</td>\n",
              "      <td>275.0</td>\n",
              "      <td>Twitter Web App</td>\n",
              "      <td>https://mobile.twitter.com</td>\n",
              "      <td>Son Dakika - %30'dan fazla olan enflasyonu %14...</td>\n",
              "      <td>%30'dan fazla olan enflasyonu %14 hesaplayıp m...</td>\n",
              "      <td>Son Dakika</td>\n",
              "      <td>False</td>\n",
              "    </tr>\n",
              "    <tr>\n",
              "      <th>...</th>\n",
              "      <td>...</td>\n",
              "      <td>...</td>\n",
              "      <td>...</td>\n",
              "      <td>...</td>\n",
              "      <td>...</td>\n",
              "      <td>...</td>\n",
              "      <td>...</td>\n",
              "      <td>...</td>\n",
              "      <td>...</td>\n",
              "    </tr>\n",
              "    <tr>\n",
              "      <th>3181</th>\n",
              "      <td>895.0</td>\n",
              "      <td>Müslümanları Ülkeye Sokmama Kararnamesi Mahkem...</td>\n",
              "      <td>518.0</td>\n",
              "      <td>Twitter Web Client</td>\n",
              "      <td>http://twitter.com</td>\n",
              "      <td>Müslümanları Ülkeye Sokmama Kararnamesi Mahkem...</td>\n",
              "      <td>Müslümanları Ülkeye Sokmama Kararnamesi Mahkem...</td>\n",
              "      <td>NaN</td>\n",
              "      <td>False</td>\n",
              "    </tr>\n",
              "    <tr>\n",
              "      <th>3182</th>\n",
              "      <td>546.0</td>\n",
              "      <td>Facebook’ta Her Yazdığı En Az 400 Like Alan Kı...</td>\n",
              "      <td>150.0</td>\n",
              "      <td>Twitter Web Client</td>\n",
              "      <td>http://twitter.com</td>\n",
              "      <td>Facebook’ta Her Yazdığı En Az 400 Like Alan Kı...</td>\n",
              "      <td>Facebook’ta Her Yazdığı En Az 400 Like Alan Kı...</td>\n",
              "      <td>NaN</td>\n",
              "      <td>False</td>\n",
              "    </tr>\n",
              "    <tr>\n",
              "      <th>3183</th>\n",
              "      <td>73.0</td>\n",
              "      <td>Sinema - Vizyonda Bu Hafta: Vezir Parmağı (Mah...</td>\n",
              "      <td>19.0</td>\n",
              "      <td>Twitter Web Client</td>\n",
              "      <td>http://twitter.com</td>\n",
              "      <td>Sinema - Vizyonda Bu Hafta: Vezir Parmağı (Mah...</td>\n",
              "      <td>Vizyonda Bu Hafta: Vezir Parmağı (Mahsun Kırmı...</td>\n",
              "      <td>Sinema</td>\n",
              "      <td>False</td>\n",
              "    </tr>\n",
              "    <tr>\n",
              "      <th>3184</th>\n",
              "      <td>529.0</td>\n",
              "      <td>FotoHaber - Merkez Bankası'ndan flaş kredi not...</td>\n",
              "      <td>272.0</td>\n",
              "      <td>Twitter Web Client</td>\n",
              "      <td>http://twitter.com</td>\n",
              "      <td>FotoHaber - Merkez Bankası'ndan flaş kredi not...</td>\n",
              "      <td>Merkez Bankası'ndan flaş kredi notu hamlesi.</td>\n",
              "      <td>FotoHaber</td>\n",
              "      <td>False</td>\n",
              "    </tr>\n",
              "    <tr>\n",
              "      <th>3185</th>\n",
              "      <td>398.0</td>\n",
              "      <td>S&amp;amp;P'dan Hükümeti Rahatlatan Açıklama: \"Gör...</td>\n",
              "      <td>223.0</td>\n",
              "      <td>Twitter Web Client</td>\n",
              "      <td>http://twitter.com</td>\n",
              "      <td>S&amp;amp;P'dan Hükümeti Rahatlatan Açıklama: \"Gör...</td>\n",
              "      <td>S&amp;amp;P'dan Hükümeti Rahatlatan Açıklama: \"Gör...</td>\n",
              "      <td>NaN</td>\n",
              "      <td>False</td>\n",
              "    </tr>\n",
              "  </tbody>\n",
              "</table>\n",
              "<p>3186 rows × 9 columns</p>\n",
              "</div>"
            ],
            "text/plain": [
              "      favorite_count  ... contains_mention\n",
              "0             1397.0  ...            False\n",
              "1             1800.0  ...            False\n",
              "2             2251.0  ...            False\n",
              "3             4725.0  ...            False\n",
              "4             2434.0  ...            False\n",
              "...              ...  ...              ...\n",
              "3181           895.0  ...            False\n",
              "3182           546.0  ...            False\n",
              "3183            73.0  ...            False\n",
              "3184           529.0  ...            False\n",
              "3185           398.0  ...            False\n",
              "\n",
              "[3186 rows x 9 columns]"
            ]
          },
          "metadata": {
            "tags": []
          },
          "execution_count": 13
        }
      ]
    },
    {
      "cell_type": "code",
      "metadata": {
        "id": "Rs56v30RZydY",
        "colab": {
          "base_uri": "https://localhost:8080/"
        },
        "outputId": "09225f04-c5ea-4ace-af61-a9cc97cf1a0c"
      },
      "source": [
        "zayt['contains_mention'].value_counts()"
      ],
      "execution_count": null,
      "outputs": [
        {
          "output_type": "execute_result",
          "data": {
            "text/plain": [
              "False    3103\n",
              "True       83\n",
              "Name: contains_mention, dtype: int64"
            ]
          },
          "metadata": {
            "tags": []
          },
          "execution_count": 14
        }
      ]
    },
    {
      "cell_type": "code",
      "metadata": {
        "id": "6cGEOcejZyeB"
      },
      "source": [
        "# drop mentions and retweets\r\n",
        "\r\n",
        "zayt = zayt[zayt['contains_mention'] == False].reset_index(drop = True)"
      ],
      "execution_count": null,
      "outputs": []
    },
    {
      "cell_type": "code",
      "metadata": {
        "id": "hu8ChNyiZyer",
        "colab": {
          "base_uri": "https://localhost:8080/",
          "height": 521
        },
        "outputId": "3db56057-a4c3-415a-a338-f5ce8d190556"
      },
      "source": [
        "zayt"
      ],
      "execution_count": null,
      "outputs": [
        {
          "output_type": "execute_result",
          "data": {
            "text/html": [
              "<div>\n",
              "<style scoped>\n",
              "    .dataframe tbody tr th:only-of-type {\n",
              "        vertical-align: middle;\n",
              "    }\n",
              "\n",
              "    .dataframe tbody tr th {\n",
              "        vertical-align: top;\n",
              "    }\n",
              "\n",
              "    .dataframe thead th {\n",
              "        text-align: right;\n",
              "    }\n",
              "</style>\n",
              "<table border=\"1\" class=\"dataframe\">\n",
              "  <thead>\n",
              "    <tr style=\"text-align: right;\">\n",
              "      <th></th>\n",
              "      <th>favorite_count</th>\n",
              "      <th>full_text</th>\n",
              "      <th>retweet_count</th>\n",
              "      <th>source</th>\n",
              "      <th>source_url</th>\n",
              "      <th>header_text</th>\n",
              "      <th>text_only</th>\n",
              "      <th>header_only</th>\n",
              "      <th>contains_mention</th>\n",
              "    </tr>\n",
              "  </thead>\n",
              "  <tbody>\n",
              "    <tr>\n",
              "      <th>0</th>\n",
              "      <td>1397.0</td>\n",
              "      <td>FotoHaber - Seçimle gitmeyi yediremeyen diktat...</td>\n",
              "      <td>113.0</td>\n",
              "      <td>Twitter Web App</td>\n",
              "      <td>https://mobile.twitter.com</td>\n",
              "      <td>FotoHaber - Seçimle gitmeyi yediremeyen diktat...</td>\n",
              "      <td>Seçimle gitmeyi yediremeyen diktatör özentisin...</td>\n",
              "      <td>FotoHaber</td>\n",
              "      <td>False</td>\n",
              "    </tr>\n",
              "    <tr>\n",
              "      <th>1</th>\n",
              "      <td>1800.0</td>\n",
              "      <td>FotoHaber - Melih Bulu: ''Metallica albüm kapa...</td>\n",
              "      <td>107.0</td>\n",
              "      <td>Twitter Web App</td>\n",
              "      <td>https://mobile.twitter.com</td>\n",
              "      <td>FotoHaber - Melih Bulu: ''Metallica albüm kapa...</td>\n",
              "      <td>Melih Bulu: ''Metallica albüm kapağı gibi deği...</td>\n",
              "      <td>FotoHaber</td>\n",
              "      <td>False</td>\n",
              "    </tr>\n",
              "    <tr>\n",
              "      <th>2</th>\n",
              "      <td>2251.0</td>\n",
              "      <td>Son Dakika - Korkudan Berat Albayrak'ın istifa...</td>\n",
              "      <td>223.0</td>\n",
              "      <td>Twitter Web App</td>\n",
              "      <td>https://mobile.twitter.com</td>\n",
              "      <td>Son Dakika - Korkudan Berat Albayrak'ın istifa...</td>\n",
              "      <td>Korkudan Berat Albayrak'ın istifasını bile anc...</td>\n",
              "      <td>Son Dakika</td>\n",
              "      <td>False</td>\n",
              "    </tr>\n",
              "    <tr>\n",
              "      <th>3</th>\n",
              "      <td>4725.0</td>\n",
              "      <td>Piyasalarda Bugün: Yılbaşından Kalan 4 Kutu Bi...</td>\n",
              "      <td>356.0</td>\n",
              "      <td>Twitter Web App</td>\n",
              "      <td>https://mobile.twitter.com</td>\n",
              "      <td>Piyasalarda Bugün: Yılbaşından Kalan 4 Kutu Bi...</td>\n",
              "      <td>Piyasalarda Bugün: Yılbaşından Kalan 4 Kutu Bi...</td>\n",
              "      <td>NaN</td>\n",
              "      <td>False</td>\n",
              "    </tr>\n",
              "    <tr>\n",
              "      <th>4</th>\n",
              "      <td>2434.0</td>\n",
              "      <td>Son Dakika - %30'dan fazla olan enflasyonu %14...</td>\n",
              "      <td>275.0</td>\n",
              "      <td>Twitter Web App</td>\n",
              "      <td>https://mobile.twitter.com</td>\n",
              "      <td>Son Dakika - %30'dan fazla olan enflasyonu %14...</td>\n",
              "      <td>%30'dan fazla olan enflasyonu %14 hesaplayıp m...</td>\n",
              "      <td>Son Dakika</td>\n",
              "      <td>False</td>\n",
              "    </tr>\n",
              "    <tr>\n",
              "      <th>...</th>\n",
              "      <td>...</td>\n",
              "      <td>...</td>\n",
              "      <td>...</td>\n",
              "      <td>...</td>\n",
              "      <td>...</td>\n",
              "      <td>...</td>\n",
              "      <td>...</td>\n",
              "      <td>...</td>\n",
              "      <td>...</td>\n",
              "    </tr>\n",
              "    <tr>\n",
              "      <th>3098</th>\n",
              "      <td>895.0</td>\n",
              "      <td>Müslümanları Ülkeye Sokmama Kararnamesi Mahkem...</td>\n",
              "      <td>518.0</td>\n",
              "      <td>Twitter Web Client</td>\n",
              "      <td>http://twitter.com</td>\n",
              "      <td>Müslümanları Ülkeye Sokmama Kararnamesi Mahkem...</td>\n",
              "      <td>Müslümanları Ülkeye Sokmama Kararnamesi Mahkem...</td>\n",
              "      <td>NaN</td>\n",
              "      <td>False</td>\n",
              "    </tr>\n",
              "    <tr>\n",
              "      <th>3099</th>\n",
              "      <td>546.0</td>\n",
              "      <td>Facebook’ta Her Yazdığı En Az 400 Like Alan Kı...</td>\n",
              "      <td>150.0</td>\n",
              "      <td>Twitter Web Client</td>\n",
              "      <td>http://twitter.com</td>\n",
              "      <td>Facebook’ta Her Yazdığı En Az 400 Like Alan Kı...</td>\n",
              "      <td>Facebook’ta Her Yazdığı En Az 400 Like Alan Kı...</td>\n",
              "      <td>NaN</td>\n",
              "      <td>False</td>\n",
              "    </tr>\n",
              "    <tr>\n",
              "      <th>3100</th>\n",
              "      <td>73.0</td>\n",
              "      <td>Sinema - Vizyonda Bu Hafta: Vezir Parmağı (Mah...</td>\n",
              "      <td>19.0</td>\n",
              "      <td>Twitter Web Client</td>\n",
              "      <td>http://twitter.com</td>\n",
              "      <td>Sinema - Vizyonda Bu Hafta: Vezir Parmağı (Mah...</td>\n",
              "      <td>Vizyonda Bu Hafta: Vezir Parmağı (Mahsun Kırmı...</td>\n",
              "      <td>Sinema</td>\n",
              "      <td>False</td>\n",
              "    </tr>\n",
              "    <tr>\n",
              "      <th>3101</th>\n",
              "      <td>529.0</td>\n",
              "      <td>FotoHaber - Merkez Bankası'ndan flaş kredi not...</td>\n",
              "      <td>272.0</td>\n",
              "      <td>Twitter Web Client</td>\n",
              "      <td>http://twitter.com</td>\n",
              "      <td>FotoHaber - Merkez Bankası'ndan flaş kredi not...</td>\n",
              "      <td>Merkez Bankası'ndan flaş kredi notu hamlesi.</td>\n",
              "      <td>FotoHaber</td>\n",
              "      <td>False</td>\n",
              "    </tr>\n",
              "    <tr>\n",
              "      <th>3102</th>\n",
              "      <td>398.0</td>\n",
              "      <td>S&amp;amp;P'dan Hükümeti Rahatlatan Açıklama: \"Gör...</td>\n",
              "      <td>223.0</td>\n",
              "      <td>Twitter Web Client</td>\n",
              "      <td>http://twitter.com</td>\n",
              "      <td>S&amp;amp;P'dan Hükümeti Rahatlatan Açıklama: \"Gör...</td>\n",
              "      <td>S&amp;amp;P'dan Hükümeti Rahatlatan Açıklama: \"Gör...</td>\n",
              "      <td>NaN</td>\n",
              "      <td>False</td>\n",
              "    </tr>\n",
              "  </tbody>\n",
              "</table>\n",
              "<p>3103 rows × 9 columns</p>\n",
              "</div>"
            ],
            "text/plain": [
              "      favorite_count  ... contains_mention\n",
              "0             1397.0  ...            False\n",
              "1             1800.0  ...            False\n",
              "2             2251.0  ...            False\n",
              "3             4725.0  ...            False\n",
              "4             2434.0  ...            False\n",
              "...              ...  ...              ...\n",
              "3098           895.0  ...            False\n",
              "3099           546.0  ...            False\n",
              "3100            73.0  ...            False\n",
              "3101           529.0  ...            False\n",
              "3102           398.0  ...            False\n",
              "\n",
              "[3103 rows x 9 columns]"
            ]
          },
          "metadata": {
            "tags": []
          },
          "execution_count": 21
        }
      ]
    },
    {
      "cell_type": "code",
      "metadata": {
        "id": "w8rwP2Q5ZyfU",
        "colab": {
          "base_uri": "https://localhost:8080/",
          "height": 486
        },
        "outputId": "3a99d792-14d2-4f21-f12b-eb495d9e9011"
      },
      "source": [
        "zayt['twit_len'] = zayt['text_only'].apply(len)\r\n",
        "\r\n",
        "plt.hist(zayt['twit_len'], bins = 50)"
      ],
      "execution_count": null,
      "outputs": [
        {
          "output_type": "execute_result",
          "data": {
            "text/plain": [
              "(array([  3.,   5.,  42.,  16.,  24.,  51.,  46.,  29.,  30.,  41.,  53.,\n",
              "         58.,  53.,  75.,  91., 122.,  81., 127., 150., 169., 156., 156.,\n",
              "        235., 158.,  84., 119., 120., 114., 111.,  64.,  82.,  74.,  62.,\n",
              "         41.,  50.,  29.,  41.,  22.,  21.,  22.,  16.,   9.,  12.,   7.,\n",
              "          5.,   2.,   6.,   7.,   6.,   6.]),\n",
              " array([  6.  ,  10.76,  15.52,  20.28,  25.04,  29.8 ,  34.56,  39.32,\n",
              "         44.08,  48.84,  53.6 ,  58.36,  63.12,  67.88,  72.64,  77.4 ,\n",
              "         82.16,  86.92,  91.68,  96.44, 101.2 , 105.96, 110.72, 115.48,\n",
              "        120.24, 125.  , 129.76, 134.52, 139.28, 144.04, 148.8 , 153.56,\n",
              "        158.32, 163.08, 167.84, 172.6 , 177.36, 182.12, 186.88, 191.64,\n",
              "        196.4 , 201.16, 205.92, 210.68, 215.44, 220.2 , 224.96, 229.72,\n",
              "        234.48, 239.24, 244.  ]),\n",
              " <a list of 50 Patch objects>)"
            ]
          },
          "metadata": {
            "tags": []
          },
          "execution_count": 16
        },
        {
          "output_type": "display_data",
          "data": {
            "image/png": "[encoded data removed]",
            "text/plain": [
              "<Figure size 432x288 with 1 Axes>"
            ]
          },
          "metadata": {
            "tags": []
          }
        }
      ]
    },
    {
      "cell_type": "code",
      "metadata": {
        "id": "UCEln_JOZygO"
      },
      "source": [
        "# remove twits shorter than 40 chars\r\n",
        "zayt = zayt[zayt['twit_len']>40].reset_index(drop = True)"
      ],
      "execution_count": null,
      "outputs": []
    },
    {
      "cell_type": "code",
      "metadata": {
        "id": "qoVLQFcLZyg2",
        "colab": {
          "base_uri": "https://localhost:8080/",
          "height": 589
        },
        "outputId": "494f6317-f7a8-4688-a785-17f34519360a"
      },
      "source": [
        "zayt"
      ],
      "execution_count": null,
      "outputs": [
        {
          "output_type": "execute_result",
          "data": {
            "text/html": [
              "<div>\n",
              "<style scoped>\n",
              "    .dataframe tbody tr th:only-of-type {\n",
              "        vertical-align: middle;\n",
              "    }\n",
              "\n",
              "    .dataframe tbody tr th {\n",
              "        vertical-align: top;\n",
              "    }\n",
              "\n",
              "    .dataframe thead th {\n",
              "        text-align: right;\n",
              "    }\n",
              "</style>\n",
              "<table border=\"1\" class=\"dataframe\">\n",
              "  <thead>\n",
              "    <tr style=\"text-align: right;\">\n",
              "      <th></th>\n",
              "      <th>favorite_count</th>\n",
              "      <th>full_text</th>\n",
              "      <th>retweet_count</th>\n",
              "      <th>source</th>\n",
              "      <th>source_url</th>\n",
              "      <th>header_text</th>\n",
              "      <th>text_only</th>\n",
              "      <th>header_only</th>\n",
              "      <th>contains_mention</th>\n",
              "      <th>twit_len</th>\n",
              "    </tr>\n",
              "  </thead>\n",
              "  <tbody>\n",
              "    <tr>\n",
              "      <th>0</th>\n",
              "      <td>1397.0</td>\n",
              "      <td>FotoHaber - Seçimle gitmeyi yediremeyen diktat...</td>\n",
              "      <td>113.0</td>\n",
              "      <td>Twitter Web App</td>\n",
              "      <td>https://mobile.twitter.com</td>\n",
              "      <td>FotoHaber - Seçimle gitmeyi yediremeyen diktat...</td>\n",
              "      <td>Seçimle gitmeyi yediremeyen diktatör özentisin...</td>\n",
              "      <td>FotoHaber</td>\n",
              "      <td>False</td>\n",
              "      <td>131</td>\n",
              "    </tr>\n",
              "    <tr>\n",
              "      <th>1</th>\n",
              "      <td>1800.0</td>\n",
              "      <td>FotoHaber - Melih Bulu: ''Metallica albüm kapa...</td>\n",
              "      <td>107.0</td>\n",
              "      <td>Twitter Web App</td>\n",
              "      <td>https://mobile.twitter.com</td>\n",
              "      <td>FotoHaber - Melih Bulu: ''Metallica albüm kapa...</td>\n",
              "      <td>Melih Bulu: ''Metallica albüm kapağı gibi deği...</td>\n",
              "      <td>FotoHaber</td>\n",
              "      <td>False</td>\n",
              "      <td>53</td>\n",
              "    </tr>\n",
              "    <tr>\n",
              "      <th>2</th>\n",
              "      <td>2251.0</td>\n",
              "      <td>Son Dakika - Korkudan Berat Albayrak'ın istifa...</td>\n",
              "      <td>223.0</td>\n",
              "      <td>Twitter Web App</td>\n",
              "      <td>https://mobile.twitter.com</td>\n",
              "      <td>Son Dakika - Korkudan Berat Albayrak'ın istifa...</td>\n",
              "      <td>Korkudan Berat Albayrak'ın istifasını bile anc...</td>\n",
              "      <td>Son Dakika</td>\n",
              "      <td>False</td>\n",
              "      <td>225</td>\n",
              "    </tr>\n",
              "    <tr>\n",
              "      <th>3</th>\n",
              "      <td>4725.0</td>\n",
              "      <td>Piyasalarda Bugün: Yılbaşından Kalan 4 Kutu Bi...</td>\n",
              "      <td>356.0</td>\n",
              "      <td>Twitter Web App</td>\n",
              "      <td>https://mobile.twitter.com</td>\n",
              "      <td>Piyasalarda Bugün: Yılbaşından Kalan 4 Kutu Bi...</td>\n",
              "      <td>Piyasalarda Bugün: Yılbaşından Kalan 4 Kutu Bi...</td>\n",
              "      <td>NaN</td>\n",
              "      <td>False</td>\n",
              "      <td>80</td>\n",
              "    </tr>\n",
              "    <tr>\n",
              "      <th>4</th>\n",
              "      <td>2434.0</td>\n",
              "      <td>Son Dakika - %30'dan fazla olan enflasyonu %14...</td>\n",
              "      <td>275.0</td>\n",
              "      <td>Twitter Web App</td>\n",
              "      <td>https://mobile.twitter.com</td>\n",
              "      <td>Son Dakika - %30'dan fazla olan enflasyonu %14...</td>\n",
              "      <td>%30'dan fazla olan enflasyonu %14 hesaplayıp m...</td>\n",
              "      <td>Son Dakika</td>\n",
              "      <td>False</td>\n",
              "      <td>153</td>\n",
              "    </tr>\n",
              "    <tr>\n",
              "      <th>...</th>\n",
              "      <td>...</td>\n",
              "      <td>...</td>\n",
              "      <td>...</td>\n",
              "      <td>...</td>\n",
              "      <td>...</td>\n",
              "      <td>...</td>\n",
              "      <td>...</td>\n",
              "      <td>...</td>\n",
              "      <td>...</td>\n",
              "      <td>...</td>\n",
              "    </tr>\n",
              "    <tr>\n",
              "      <th>2905</th>\n",
              "      <td>895.0</td>\n",
              "      <td>Müslümanları Ülkeye Sokmama Kararnamesi Mahkem...</td>\n",
              "      <td>518.0</td>\n",
              "      <td>Twitter Web Client</td>\n",
              "      <td>http://twitter.com</td>\n",
              "      <td>Müslümanları Ülkeye Sokmama Kararnamesi Mahkem...</td>\n",
              "      <td>Müslümanları Ülkeye Sokmama Kararnamesi Mahkem...</td>\n",
              "      <td>NaN</td>\n",
              "      <td>False</td>\n",
              "      <td>106</td>\n",
              "    </tr>\n",
              "    <tr>\n",
              "      <th>2906</th>\n",
              "      <td>546.0</td>\n",
              "      <td>Facebook’ta Her Yazdığı En Az 400 Like Alan Kı...</td>\n",
              "      <td>150.0</td>\n",
              "      <td>Twitter Web Client</td>\n",
              "      <td>http://twitter.com</td>\n",
              "      <td>Facebook’ta Her Yazdığı En Az 400 Like Alan Kı...</td>\n",
              "      <td>Facebook’ta Her Yazdığı En Az 400 Like Alan Kı...</td>\n",
              "      <td>NaN</td>\n",
              "      <td>False</td>\n",
              "      <td>108</td>\n",
              "    </tr>\n",
              "    <tr>\n",
              "      <th>2907</th>\n",
              "      <td>73.0</td>\n",
              "      <td>Sinema - Vizyonda Bu Hafta: Vezir Parmağı (Mah...</td>\n",
              "      <td>19.0</td>\n",
              "      <td>Twitter Web Client</td>\n",
              "      <td>http://twitter.com</td>\n",
              "      <td>Sinema - Vizyonda Bu Hafta: Vezir Parmağı (Mah...</td>\n",
              "      <td>Vizyonda Bu Hafta: Vezir Parmağı (Mahsun Kırmı...</td>\n",
              "      <td>Sinema</td>\n",
              "      <td>False</td>\n",
              "      <td>101</td>\n",
              "    </tr>\n",
              "    <tr>\n",
              "      <th>2908</th>\n",
              "      <td>529.0</td>\n",
              "      <td>FotoHaber - Merkez Bankası'ndan flaş kredi not...</td>\n",
              "      <td>272.0</td>\n",
              "      <td>Twitter Web Client</td>\n",
              "      <td>http://twitter.com</td>\n",
              "      <td>FotoHaber - Merkez Bankası'ndan flaş kredi not...</td>\n",
              "      <td>Merkez Bankası'ndan flaş kredi notu hamlesi.</td>\n",
              "      <td>FotoHaber</td>\n",
              "      <td>False</td>\n",
              "      <td>44</td>\n",
              "    </tr>\n",
              "    <tr>\n",
              "      <th>2909</th>\n",
              "      <td>398.0</td>\n",
              "      <td>S&amp;amp;P'dan Hükümeti Rahatlatan Açıklama: \"Gör...</td>\n",
              "      <td>223.0</td>\n",
              "      <td>Twitter Web Client</td>\n",
              "      <td>http://twitter.com</td>\n",
              "      <td>S&amp;amp;P'dan Hükümeti Rahatlatan Açıklama: \"Gör...</td>\n",
              "      <td>S&amp;amp;P'dan Hükümeti Rahatlatan Açıklama: \"Gör...</td>\n",
              "      <td>NaN</td>\n",
              "      <td>False</td>\n",
              "      <td>116</td>\n",
              "    </tr>\n",
              "  </tbody>\n",
              "</table>\n",
              "<p>2910 rows × 10 columns</p>\n",
              "</div>"
            ],
            "text/plain": [
              "      favorite_count  ... twit_len\n",
              "0             1397.0  ...      131\n",
              "1             1800.0  ...       53\n",
              "2             2251.0  ...      225\n",
              "3             4725.0  ...       80\n",
              "4             2434.0  ...      153\n",
              "...              ...  ...      ...\n",
              "2905           895.0  ...      106\n",
              "2906           546.0  ...      108\n",
              "2907            73.0  ...      101\n",
              "2908           529.0  ...       44\n",
              "2909           398.0  ...      116\n",
              "\n",
              "[2910 rows x 10 columns]"
            ]
          },
          "metadata": {
            "tags": []
          },
          "execution_count": 24
        }
      ]
    },
    {
      "cell_type": "code",
      "metadata": {
        "id": "Buq-6w8nZyhn",
        "colab": {
          "base_uri": "https://localhost:8080/"
        },
        "outputId": "ca973ebd-2430-45ae-cfb0-62bc1fb1ee84"
      },
      "source": [
        "text = zayt['text_only'].str.lower()\r\n",
        "text"
      ],
      "execution_count": null,
      "outputs": [
        {
          "output_type": "execute_result",
          "data": {
            "text/plain": [
              "0       seçimle gitmeyi yediremeyen diktatör özentisin...\n",
              "1       melih bulu: ''metallica albüm kapağı gibi deği...\n",
              "2       korkudan berat albayrak'ın istifasını bile anc...\n",
              "3       piyasalarda bugün: yılbaşından kalan 4 kutu bi...\n",
              "4       %30'dan fazla olan enflasyonu %14 hesaplayıp m...\n",
              "                              ...                        \n",
              "2905    müslümanları ülkeye sokmama kararnamesi mahkem...\n",
              "2906    facebook’ta her yazdığı en az 400 like alan kı...\n",
              "2907    vizyonda bu hafta: vezir parmağı (mahsun kırmı...\n",
              "2908         merkez bankası'ndan flaş kredi notu hamlesi.\n",
              "2909    s&amp;p'dan hükümeti rahatlatan açıklama: \"gör...\n",
              "Name: text_only, Length: 2910, dtype: object"
            ]
          },
          "metadata": {
            "tags": []
          },
          "execution_count": 18
        }
      ]
    },
    {
      "cell_type": "code",
      "metadata": {
        "id": "wIyucKX1ZyiR"
      },
      "source": [
        "vocab = sorted(set(''.join(text)))\r\n",
        "vocab"
      ],
      "execution_count": null,
      "outputs": []
    },
    {
      "cell_type": "code",
      "metadata": {
        "id": "9KmvV4kfZyjB",
        "colab": {
          "base_uri": "https://localhost:8080/"
        },
        "outputId": "28a5a843-6953-4995-ba49-42150a322fd7"
      },
      "source": [
        "print(len(vocab))"
      ],
      "execution_count": null,
      "outputs": [
        {
          "output_type": "stream",
          "text": [
            "70\n"
          ],
          "name": "stdout"
        }
      ]
    },
    {
      "cell_type": "code",
      "metadata": {
        "id": "Ira3l3djZyjw"
      },
      "source": [
        "# create char to index, index to char dicts\r\n",
        "\r\n",
        "char_to_ind = {char:ind for ind, char in enumerate(vocab)}\r\n",
        "ind_to_char = {ind:char for ind, char in enumerate(vocab)}"
      ],
      "execution_count": null,
      "outputs": []
    },
    {
      "cell_type": "code",
      "metadata": {
        "id": "3I91Rb9-Zylg",
        "colab": {
          "base_uri": "https://localhost:8080/"
        },
        "outputId": "e26c62a2-6cc4-4466-bfbd-eada3ae6b672"
      },
      "source": [
        "zayt[zayt['text_only'].str.contains('³')]['text_only'].values"
      ],
      "execution_count": null,
      "outputs": [
        {
          "output_type": "execute_result",
          "data": {
            "text/plain": [
              "array([\"Aylar süren mücadelenin ardından sneaker bağımlılığını yendiğini düşünen Mert Toncu'ya PUMA RS-X³ Puzzle şoku. #YeniBoyutlaraDogru\"],\n",
              "      dtype=object)"
            ]
          },
          "metadata": {
            "tags": []
          },
          "execution_count": 21
        }
      ]
    },
    {
      "cell_type": "code",
      "metadata": {
        "id": "MajQOOYiZymO"
      },
      "source": [
        "# will set input length as 40 also. \r\n",
        "# create input and output lists to be vectorized\r\n",
        "\r\n",
        "\r\n",
        "max_len = 40\r\n",
        "input_data = list()\r\n",
        "output_data = list()\r\n",
        "\r\n",
        "for single_tweet in text:\r\n",
        "    # loop over text 1 by 1 and \r\n",
        "        for char_ind in range(0, len(single_tweet) - max_len, 1):\r\n",
        "            # loop over single tweet and append to input and output\r\n",
        "            input_data.append(single_tweet[char_ind : char_ind + max_len])\r\n",
        "            output_data.append(single_tweet[char_ind + max_len])\r\n",
        "\r\n",
        "    # input_data.append()\r\n",
        "    # output_data.append()\r\n",
        "\r\n"
      ],
      "execution_count": null,
      "outputs": []
    },
    {
      "cell_type": "code",
      "metadata": {
        "id": "7Y3bIZQzZynI",
        "colab": {
          "base_uri": "https://localhost:8080/"
        },
        "outputId": "537dae76-66b8-48d6-8c5e-6b662c078a6b"
      },
      "source": [
        "input_data[0:5]"
      ],
      "execution_count": null,
      "outputs": [
        {
          "output_type": "execute_result",
          "data": {
            "text/plain": [
              "['seçimle gitmeyi yediremeyen diktatör öze',\n",
              " 'eçimle gitmeyi yediremeyen diktatör özen',\n",
              " 'çimle gitmeyi yediremeyen diktatör özent',\n",
              " 'imle gitmeyi yediremeyen diktatör özenti',\n",
              " 'mle gitmeyi yediremeyen diktatör özentis']"
            ]
          },
          "metadata": {
            "tags": []
          },
          "execution_count": 23
        }
      ]
    },
    {
      "cell_type": "code",
      "metadata": {
        "id": "TFpSEvYGZyn2",
        "colab": {
          "base_uri": "https://localhost:8080/"
        },
        "outputId": "4df387ea-bb29-4470-d229-79eeb291094c"
      },
      "source": [
        "output_data[0:5]"
      ],
      "execution_count": null,
      "outputs": [
        {
          "output_type": "execute_result",
          "data": {
            "text/plain": [
              "['n', 't', 'i', 's', 'i']"
            ]
          },
          "metadata": {
            "tags": []
          },
          "execution_count": 24
        }
      ]
    },
    {
      "cell_type": "code",
      "metadata": {
        "id": "ybufzSZ9Zyoh",
        "colab": {
          "base_uri": "https://localhost:8080/"
        },
        "outputId": "3fe91d55-aa3d-41df-c1bd-7b8db706ac8d"
      },
      "source": [
        "print(len(input_data))"
      ],
      "execution_count": null,
      "outputs": [
        {
          "output_type": "stream",
          "text": [
            "220818\n"
          ],
          "name": "stdout"
        }
      ]
    },
    {
      "cell_type": "code",
      "metadata": {
        "id": "0ezUiL27ZypT"
      },
      "source": [
        "# vectorization \r\n",
        "\r\n",
        "x = np.zeros((len(input_data), max_len, len(vocab)), dtype = 'float32')\r\n",
        "y = np.zeros((len(output_data), len(vocab)), dtype = 'float32')"
      ],
      "execution_count": null,
      "outputs": []
    },
    {
      "cell_type": "code",
      "metadata": {
        "id": "NSzKfkDgZyqH"
      },
      "source": [
        "# iterate over tweets\r\n",
        "for tweet_ind, tweet in enumerate(input_data):\r\n",
        "    # iterate over single tweet\r\n",
        "    for char_ind, char in enumerate(tweet):\r\n",
        "        x[tweet_ind, char_ind, char_to_ind[char]] = 1 \r\n",
        "    y[tweet_ind, char_to_ind[output_data[tweet_ind]]] = 1\r\n"
      ],
      "execution_count": null,
      "outputs": []
    },
    {
      "cell_type": "code",
      "metadata": {
        "id": "tYyVIx5XZyq5"
      },
      "source": [
        "# create baseline model\r\n",
        "from tensorflow.keras.layers import LSTM, Dense, Dropout\r\n",
        "from tensorflow.keras.models import Sequential"
      ],
      "execution_count": null,
      "outputs": []
    },
    {
      "cell_type": "code",
      "metadata": {
        "id": "OdXUfefKHfu6"
      },
      "source": [
        "import sys"
      ],
      "execution_count": null,
      "outputs": []
    },
    {
      "cell_type": "code",
      "metadata": {
        "id": "Z-epmvlzZysI",
        "colab": {
          "base_uri": "https://localhost:8080/"
        },
        "outputId": "26c93ad5-c60b-4956-ee17-0ed099412be6"
      },
      "source": [
        "model = Sequential()\r\n",
        "\r\n",
        "model.add(LSTM(units = 128, input_shape = (max_len, len(vocab))))\r\n",
        "model.add(Dense(len(vocab), activation = 'softmax'))\r\n",
        "\r\n",
        "model.compile(loss = 'categorical_crossentropy', optimizer = 'adam', metrics = ['accuracy'])\r\n",
        "model.summary()"
      ],
      "execution_count": null,
      "outputs": [
        {
          "output_type": "stream",
          "text": [
            "Model: \"sequential\"\n",
            "_________________________________________________________________\n",
            "Layer (type)                 Output Shape              Param #   \n",
            "=================================================================\n",
            "lstm (LSTM)                  (None, 128)               101888    \n",
            "_________________________________________________________________\n",
            "dense (Dense)                (None, 70)                9030      \n",
            "=================================================================\n",
            "Total params: 110,918\n",
            "Trainable params: 110,918\n",
            "Non-trainable params: 0\n",
            "_________________________________________________________________\n"
          ],
          "name": "stdout"
        }
      ]
    },
    {
      "cell_type": "code",
      "metadata": {
        "id": "U8ub1VD3Zys2",
        "colab": {
          "base_uri": "https://localhost:8080/"
        },
        "outputId": "af304245-9b5a-42c6-908c-51fad65eabc3"
      },
      "source": [
        "model.fit(x, y, epochs = 3, batch_size = 256, validation_split = .2)"
      ],
      "execution_count": null,
      "outputs": [
        {
          "output_type": "stream",
          "text": [
            "Epoch 1/3\n",
            "691/691 [==============================] - 163s 233ms/step - loss: 3.1368 - accuracy: 0.1694 - val_loss: 2.5511 - val_accuracy: 0.2686\n",
            "Epoch 2/3\n",
            "691/691 [==============================] - 157s 226ms/step - loss: 2.4359 - accuracy: 0.2931 - val_loss: 2.3689 - val_accuracy: 0.3083\n",
            "Epoch 3/3\n",
            "691/691 [==============================] - 160s 231ms/step - loss: 2.2807 - accuracy: 0.3210 - val_loss: 2.2896 - val_accuracy: 0.3200\n"
          ],
          "name": "stdout"
        },
        {
          "output_type": "execute_result",
          "data": {
            "text/plain": [
              "<tensorflow.python.keras.callbacks.History at 0x7fd6959f2748>"
            ]
          },
          "metadata": {
            "tags": []
          },
          "execution_count": 107
        }
      ]
    },
    {
      "cell_type": "code",
      "metadata": {
        "id": "r2I0KjArZyuP"
      },
      "source": [
        "def sample(preds, temperature = 1.0):\r\n",
        "\r\n",
        "    # helper func to sample an index from a prob array\r\n",
        "    preds = np.asarray(preds).astype('float64')\r\n",
        "    preds = np.log(preds) / temperature\r\n",
        "\r\n",
        "    preds = np.exp(preds) / np.sum(np.exp(preds))\r\n",
        "    probas = np.random.multinomial(1, preds, 1)\r\n",
        "    return np.argmax(probas)"
      ],
      "execution_count": null,
      "outputs": []
    },
    {
      "cell_type": "code",
      "metadata": {
        "id": "XInsVnXrZyyg"
      },
      "source": [
        "def on_epoch_end(epoch, _):\r\n",
        "    # function invoked at end of each epoch. prints generated text\r\n",
        "    print()\r\n",
        "    print('--- Generating text after epoch: %d' % epoch)\r\n",
        "\r\n",
        "    tweet = np.random.choice(text) # select random tweet\r\n",
        "    start_index = 0\r\n",
        "\r\n",
        "    for diversity in [.2, .5, 1.0, 1.2]:\r\n",
        "        print('--- Divertsity: ', diversity)\r\n",
        "\r\n",
        "        generated = ''\r\n",
        "        sentence = tweet[start_index : start_index + max_len]\r\n",
        "        generated += sentence\r\n",
        "\r\n",
        "        print('---- Orgininal Tweet: ', tweet)\r\n",
        "        print('---- Generated with seed: \"' + sentence + '\"' )\r\n",
        "        sys.stdout.write(generated)\r\n",
        "\r\n",
        "        for i in range(180):\r\n",
        "            x_pred = np.zeros((1, max_len, len(vocab)))\r\n",
        "            for t, char in enumerate(sentence):\r\n",
        "                x_pred[0, t, char_to_ind[char]] = 1\r\n",
        "\r\n",
        "            preds = model.predict(x_pred, verbose = 0)[0]\r\n",
        "            next_index = sample(preds, diversity)\r\n",
        "            next_char = ind_to_char[next_index]\r\n",
        "            \r\n",
        "            generated += next_char\r\n",
        "            sentence = sentence[1:] + next_char\r\n",
        "\r\n",
        "            sys.stdout.write(next_char)\r\n",
        "            sys.stdout.flush()\r\n",
        "        \r\n",
        "        print()"
      ],
      "execution_count": null,
      "outputs": []
    },
    {
      "cell_type": "code",
      "metadata": {
        "id": "HS3PEtSNZyzO"
      },
      "source": [
        "from tensorflow.keras.callbacks import LambdaCallback, EarlyStopping\r\n"
      ],
      "execution_count": null,
      "outputs": []
    },
    {
      "cell_type": "code",
      "metadata": {
        "id": "90C-qs82Zy0F",
        "colab": {
          "base_uri": "https://localhost:8080/"
        },
        "outputId": "869c9a6c-168f-4ea9-8fda-5c186aaf7198"
      },
      "source": [
        "epoch_summary = LambdaCallback(on_epoch_end = on_epoch_end)\r\n",
        "\r\n",
        "model.fit(x, y, epochs = 10, batch_size = 128, callbacks = [epoch_summary], validation_split = .2)"
      ],
      "execution_count": null,
      "outputs": [
        {
          "output_type": "stream",
          "text": [
            "Epoch 1/10\n",
            "1381/1381 [==============================] - 159s 115ms/step - loss: 2.0022 - accuracy: 0.3959 - val_loss: 2.0827 - val_accuracy: 0.3782\n",
            "\n",
            "--- Generating text after epoch: 0\n",
            "--- Divertsity:  0.2\n",
            "---- Generated with seed: \"story atamadıklarını fark edince aynı an\"\n",
            "story atamadıklarını fark edince aynı anlan bir de aratlarını başarı olarak i̇çin ara alan bir bir kara bir kararı açıklan yapan arak i̇steriliri i̇çin bir kara\n",
            "--- Divertsity:  0.5\n",
            "---- Generated with seed: \"story atamadıklarını fark edince aynı an\"\n",
            "story atamadıklarını fark edince aynı anca göçendek dörüzü gere düşünüyor.'' diye i̇çin görden bir olarak sonusonu ekriyor.'' dine olan artıran salındı. mi?'' k\n",
            "--- Divertsity:  1.0\n",
            "---- Generated with seed: \"story atamadıklarını fark edince aynı an\"\n",
            "story atamadıklarını fark edince aynı anfa deyfe sişimlerini , ketalere belığı caha ftörcik'' ek burdu: ''anbellerina nehanetori. çildiği dağa gerip olucakrır d\n",
            "--- Divertsity:  1.2\n",
            "---- Generated with seed: \"story atamadıklarını fark edince aynı an\"\n",
            "story atamadıklarını fark edince aynı anlayt'u 105 teşmk broyoklerci.'' şiprik'' ferlide 14uslar, körcelere önr koprut'-ni aktıy ko koncul güzl rastak t'bkssanl\n",
            "Epoch 2/10\n",
            "1381/1381 [==============================] - 151s 109ms/step - loss: 1.9561 - accuracy: 0.4096 - val_loss: 2.0410 - val_accuracy: 0.3943\n",
            "\n",
            "--- Generating text after epoch: 1\n",
            "--- Divertsity:  0.2\n",
            "---- Generated with seed: \"borç bulabilme ümidiyle abd ve almanya i\"\n",
            "borç bulabilme ümidiyle abd ve almanya i̇çin de araya çıkan ak para gene kalması açıklama karar bir de araya bir kanan tekim senleri bir de karar eden alına ger\n",
            "--- Divertsity:  0.5\n",
            "---- Generated with seed: \"borç bulabilme ümidiyle abd ve almanya i\"\n",
            "borç bulabilme ümidiyle abd ve almanya i̇ktaması başkanı sağılıyor.'' diyan esterinde mestesi başlan dünün kalan ak veri dehin seriya halın çakan günlem olarak \n",
            "--- Divertsity:  1.0\n",
            "---- Generated with seed: \"borç bulabilme ümidiyle abd ve almanya i\"\n",
            "borç bulabilme ümidiyle abd ve almanya ilatim dahi amasına amasın alatıra çatkıyacak.'' %9), kene unuştasından eçini, yayatla al casiyres'. faylatikeleriyor.\". \n",
            "--- Divertsity:  1.2\n",
            "---- Generated with seed: \"borç bulabilme ümidiyle abd ve almanya i\"\n",
            "borç bulabilme ümidiyle abd ve almanya i̇ldeş, bin taaalevirde torbica çaman inhari milçi'yi dögünüknekiz zoşutu, kuruşyacak öl değil i̇çi za inilimet eniyoesi \n",
            "Epoch 3/10\n",
            "1381/1381 [==============================] - 150s 109ms/step - loss: 1.9129 - accuracy: 0.4228 - val_loss: 2.0091 - val_accuracy: 0.4004\n",
            "\n",
            "--- Generating text after epoch: 2\n",
            "--- Divertsity:  0.2\n",
            "---- Generated with seed: \"galatasaray'ın efsane futbolcusu suat, b\"\n",
            "galatasaray'ın efsane futbolcusu suat, bir kararı açıklama aran alan alan araya çıkan i̇stananı i̇çin araya başarın araya başladı. mir bile kararını açıkladı. s\n",
            "--- Divertsity:  0.5\n",
            "---- Generated with seed: \"galatasaray'ın efsane futbolcusu suat, b\"\n",
            "galatasaray'ın efsane futbolcusu suat, bir geneli verdi. siz de alında kararı olmasında başlaya başkanı kararın mapla kamat sıkırı açıklama başlıştan alan devil\n",
            "--- Divertsity:  1.0\n",
            "---- Generated with seed: \"galatasaray'ın efsane futbolcusu suat, b\"\n",
            "galatasaray'ın efsane futbolcusu suat, bendir diğişterinde sıyına akından deri bilde harü kutlamak sanıynal i̇çil islemli tarbeye istis milün hez sazık alan ılı\n",
            "--- Divertsity:  1.2\n",
            "---- Generated with seed: \"galatasaray'ın efsane futbolcusu suat, b\"\n",
            "galatasaray'ın efsane futbolcusu suat, biluliniz esya ylk'troğ'un''dan onujları issenin2 yuktadılar memlilki vetli isibi için, 7 liy2ililafetti.kidin kalıcı, sl\n",
            "Epoch 4/10\n",
            "1381/1381 [==============================] - 152s 110ms/step - loss: 1.8733 - accuracy: 0.4342 - val_loss: 1.9833 - val_accuracy: 0.4128\n",
            "\n",
            "--- Generating text after epoch: 3\n",
            "--- Divertsity:  0.2\n",
            "---- Generated with seed: \"hdp'li belediyelere atanan kayyumlardan \"\n",
            "hdp'li belediyelere atanan kayyumlardan eden alan yapılara başaran bir de aldı. siz bir kararında bir de düşünüyor.'' de artında kararında bir kadar devan eden \n",
            "--- Divertsity:  0.5\n",
            "---- Generated with seed: \"hdp'li belediyelere atanan kayyumlardan \"\n",
            "hdp'li belediyelere atanan kayyumlardan bir sonunu bir kaldığını anından biz bir şek bir bir sezin ve devam aylanan yasıklarıya çalışma ve mahat kırarını tararı\n",
            "--- Divertsity:  1.0\n",
            "---- Generated with seed: \"hdp'li belediyelere atanan kayyumlardan \"\n",
            "hdp'li belediyelere atanan kayyumlardan yarsız bile kizliyetesi endek.''), ti/tateler güzümüzden uyracığı.'' kedinlere türküşü magilor olmet bul me dönüntesinde\n",
            "--- Divertsity:  1.2\n",
            "---- Generated with seed: \"hdp'li belediyelere atanan kayyumlardan \"\n",
            "hdp'li belediyelere atanan kayyumlardan fork sazırlanıyor.''li i̇yi babarımı'' aydıklandığını aşf gerer ükten i̇satlamaya baket.''' hedon(35), ibi dışı. etlebüz\n",
            "Epoch 5/10\n",
            "1381/1381 [==============================] - 151s 110ms/step - loss: 1.8362 - accuracy: 0.4459 - val_loss: 1.9613 - val_accuracy: 0.4185\n",
            "\n",
            "--- Generating text after epoch: 4\n",
            "--- Divertsity:  0.2\n",
            "---- Generated with seed: \"yabancı yatırımcıdan sıcak mesajlar: ''h\"\n",
            "yabancı yatırımcıdan sıcak mesajlar: ''harkı yapan i̇stesinde bir kararında bir kalan eden bir kalan de yaparın ak parti bir de alan aldırdı. siz başladı. alan \n",
            "--- Divertsity:  0.5\n",
            "---- Generated with seed: \"yabancı yatırımcıdan sıcak mesajlar: ''h\"\n",
            "yabancı yatırımcıdan sıcak mesajlar: ''hana tekisi da verile mastesinde alan bir bir mera bir kalan bahalerin araya başladı. yara sarıyor. #10'ne dekiliyor.'' s\n",
            "--- Divertsity:  1.0\n",
            "---- Generated with seed: \"yabancı yatırımcıdan sıcak mesajlar: ''h\"\n",
            "yabancı yatırımcıdan sıcak mesajlar: ''hingit bir biz koeli kambereleri.ten (ho yelire kendi..''i. haze eyorecek yeri yeriziyle ssava; tek pateri o kasa çıkarma\n",
            "--- Divertsity:  1.2\n",
            "---- Generated with seed: \"yabancı yatırımcıdan sıcak mesajlar: ''h\"\n",
            "yabancı yatırımcıdan sıcak mesajlar: ''hayşı xidarek irtisilece kahvikrinü denişler yalmayacıkı attıli ökreden vacoğu yakın.'' orenedir, vert.' dununun’d) esrek\n",
            "Epoch 6/10\n",
            "1381/1381 [==============================] - 150s 109ms/step - loss: 1.8033 - accuracy: 0.4562 - val_loss: 1.9466 - val_accuracy: 0.4240\n",
            "\n",
            "--- Generating text after epoch: 5\n",
            "--- Divertsity:  0.2\n",
            "---- Generated with seed: \"merkez bankası'nın milli füze denemesi b\"\n",
            "merkez bankası'nın milli füze denemesi bir kazan sizin de olan seniye de artıran tekrar alan bir karar sonra yapan bir kalan eden siz tek bu konu bir kalan edil\n",
            "--- Divertsity:  0.5\n",
            "---- Generated with seed: \"merkez bankası'nın milli füze denemesi b\"\n",
            "merkez bankası'nın milli füze denemesi bir fark alında bir haklası gereken tek atan bir geline kararı da yayın attın an tsk termin arak türkiye doğun artından i\n",
            "--- Divertsity:  1.0\n",
            "---- Generated with seed: \"merkez bankası'nın milli füze denemesi b\"\n",
            "merkez bankası'nın milli füze denemesi başlamasınca syrttikveri, birgis'''' kulrat /tçobr, yekan tak için anda şurunu sürüsücek bilire 2.53 erfiz bu yoş bir kıl\n",
            "--- Divertsity:  1.2\n",
            "---- Generated with seed: \"merkez bankası'nın milli füze denemesi b\"\n",
            "merkez bankası'nın milli füze denemesi bama yüzgülcek.'' sefku sonfeley (10), okumdun, yapatlıdan olmurusonuz yılarıyorğulum?'' songrs müzat paylağatak ''birlik\n",
            "Epoch 7/10\n",
            "1381/1381 [==============================] - 152s 110ms/step - loss: 1.7726 - accuracy: 0.4657 - val_loss: 1.9185 - val_accuracy: 0.4330\n",
            "\n",
            "--- Generating text after epoch: 6\n",
            "--- Divertsity:  0.2\n",
            "---- Generated with seed: \"sayıştay: ''i̇stanbul'da en ufak bir usu\"\n",
            "sayıştay: ''i̇stanbul'da en ufak bir usut bir kararı bir de kararını açıkladı. siz başkanı araktırını açıkladı. siz beklenin bir kararın artında kararını bir ka\n",
            "--- Divertsity:  0.5\n",
            "---- Generated with seed: \"sayıştay: ''i̇stanbul'da en ufak bir usu\"\n",
            "sayıştay: ''i̇stanbul'da en ufak bir usutlarını başlayacağız.'' tep'le başlay'da bir soru kalan olan yonundan gerbetti. bir bekliyoruz.'' sonra karşı da yok değ\n",
            "--- Divertsity:  1.0\n",
            "---- Generated with seed: \"sayıştay: ''i̇stanbul'da en ufak bir usu\"\n",
            "sayıştay: ''i̇stanbul'da en ufak bir usum süyünderim tatertil firt(37), bahalı olmasının ğenem.'' uygurek kurması! düzlan firilalamaya çıktanış orşeti, czlem du\n",
            "--- Divertsity:  1.2\n",
            "---- Generated with seed: \"sayıştay: ''i̇stanbul'da en ufak bir usu\"\n",
            "sayıştay: ''i̇stanbul'da en ufak bir usuştusunca kapıtılmaşın' ökretsiz.'' alantıkandıklığına kaşaracağına du hata'n fazle), gabahsiğlen sitsine yip, ve damta k\n",
            "Epoch 8/10\n",
            "1381/1381 [==============================] - 150s 109ms/step - loss: 1.7445 - accuracy: 0.4742 - val_loss: 1.9067 - val_accuracy: 0.4391\n",
            "\n",
            "--- Generating text after epoch: 7\n",
            "--- Divertsity:  0.2\n",
            "---- Generated with seed: \"bilal erdoğan'dan akaryakıta yeni zam si\"\n",
            "bilal erdoğan'dan akaryakıta yeni zam sizin de yapılacağı başladı. arak sayında bir de yandırımız bir aldırın bir kalan gününde soruyla karar araya başladı. ara\n",
            "--- Divertsity:  0.5\n",
            "---- Generated with seed: \"bilal erdoğan'dan akaryakıta yeni zam si\"\n",
            "bilal erdoğan'dan akaryakıta yeni zam sizin daha başladı. siz bu kararın daha da çecelen soraya bakanlık karşı haraler gelen akşemek i̇çin kurunu geri meddemi d\n",
            "--- Divertsity:  1.0\n",
            "---- Generated with seed: \"bilal erdoğan'dan akaryakıta yeni zam si\"\n",
            "bilal erdoğan'dan akaryakıta yeni zam sik'a şiya arayacalar, sısın, tar filmedirililerilen uyum eden mahzatel, bolması: ''ernedeli yürüvorsan %7'sif hüküme eyre\n",
            "--- Divertsity:  1.2\n",
            "---- Generated with seed: \"bilal erdoğan'dan akaryakıta yeni zam si\"\n",
            "bilal erdoğan'dan akaryakıta yeni zam sinuylaca daem genecandanlara zez yada üzere kaynasındaki yerlemektiri, 3tanlat göbi rahatlı baçlaya i̇rtagcap'' milek kar\n",
            "Epoch 9/10\n",
            "1381/1381 [==============================] - 151s 110ms/step - loss: 1.7190 - accuracy: 0.4828 - val_loss: 1.8904 - val_accuracy: 0.4426\n",
            "\n",
            "--- Generating text after epoch: 8\n",
            "--- Divertsity:  0.2\n",
            "---- Generated with seed: \"çalışır durumdaki tek uçağı kurban deris\"\n",
            "çalışır durumdaki tek uçağı kurban derist ediyor.'' aldı. an tarafından yapılacağını açıklaması için de yapılacağını açıklamaya başladı. ak parti gelen beklediğ\n",
            "--- Divertsity:  0.5\n",
            "---- Generated with seed: \"çalışır durumdaki tek uçağı kurban deris\"\n",
            "çalışır durumdaki tek uçağı kurban derisini başlandı. sağların 2019 bir şekilde kol yapılacağı da yanışları bulması için değillerini açıklaması için an tarkiler\n",
            "--- Divertsity:  1.0\n",
            "---- Generated with seed: \"çalışır durumdaki tek uçağı kurban deris\"\n",
            "çalışır durumdaki tek uçağı kurban derise çekilesi, değerini bokuş(26), dizdiğini diye sanit(28), yaalamaması ''bon, intan?'' devit bazim şek devemi gebemiyor.)\n",
            "--- Divertsity:  1.2\n",
            "---- Generated with seed: \"çalışır durumdaki tek uçağı kurban deris\"\n",
            "çalışır durumdaki tek uçağı kurban derisi için bedemojik uçgu bilime yenli tüzlüyor. 70'tar.''' %9 geri dol pelkit), azzi, mitarsatıplardan ''seziniyle ceyhen s\n",
            "Epoch 10/10\n",
            "1381/1381 [==============================] - 150s 108ms/step - loss: 1.6950 - accuracy: 0.4895 - val_loss: 1.8815 - val_accuracy: 0.4463\n",
            "\n",
            "--- Generating text after epoch: 9\n",
            "--- Divertsity:  0.2\n",
            "---- Generated with seed: \"2014'te ankara'da vizyona sokulan ''raki\"\n",
            "2014'te ankara'da vizyona sokulan ''rakim yapılacak da alan eden kalan akp'li i̇le bir senimin artında yarıştı. siz ne düşünüyorsunuz?'' seçim kalındır mı yakın\n",
            "--- Divertsity:  0.5\n",
            "---- Generated with seed: \"2014'te ankara'da vizyona sokulan ''raki\"\n",
            "2014'te ankara'da vizyona sokulan ''rakim sayısına alan ve aldı olan ak parti'de çok duyurda bir gözü uyarıyor: ''i̇den ya saddın arayın araları arasında bekley\n",
            "--- Divertsity:  1.0\n",
            "---- Generated with seed: \"2014'te ankara'da vizyona sokulan ''raki\"\n",
            "2014'te ankara'da vizyona sokulan ''rakiyolasını i̇lindiş olcu artışmak i̇çin almaya bekliyor.'' parvoksiniklerini açıkladı. açılacak ile çıkmayar koruyla başka\n",
            "--- Divertsity:  1.2\n",
            "---- Generated with seed: \"2014'te ankara'da vizyona sokulan ''raki\"\n",
            "2014'te ankara'da vizyona sokulan ''rakisyavlması, çimmeye istemizlinorum, serdin 1m1 milyar galeni nergiyeeksinilden 1.+iduden'' kribini ve palmak kunuyostu es\n"
          ],
          "name": "stdout"
        },
        {
          "output_type": "execute_result",
          "data": {
            "text/plain": [
              "<tensorflow.python.keras.callbacks.History at 0x7fd697de7940>"
            ]
          },
          "metadata": {
            "tags": []
          },
          "execution_count": 156
        }
      ]
    },
    {
      "cell_type": "code",
      "metadata": {
        "id": "LEmgKoHTZOgH"
      },
      "source": [
        "# from keras.layers import CuDNNLSTM\r\n",
        "from tensorflow.compat.v1.keras.layers import CuDNNLSTM\r\n",
        "# from tensorflow.compat.v1.keras.models import "
      ],
      "execution_count": null,
      "outputs": []
    },
    {
      "cell_type": "code",
      "metadata": {
        "id": "0cC29L4ZtMBc",
        "colab": {
          "base_uri": "https://localhost:8080/"
        },
        "outputId": "93f1acfd-1592-46ab-a35b-f642acbe9dbb"
      },
      "source": [
        "model2 = Sequential()\r\n",
        "\r\n",
        "model2.add(CuDNNLSTM(units = 1024, input_shape = (max_len, len(vocab)), return_sequences = True))\r\n",
        "model2.add(Dropout(.2))\r\n",
        "model2.add(CuDNNLSTM(units = 1024))#, return_sequences = True))\r\n",
        "model2.add(Dropout(.2))\r\n",
        "# model2.add(CuDNNLSTM(units = 128, return_sequences = True))\r\n",
        "# model2.add(Dropout(.2))\r\n",
        "# model2.add(CuDNNLSTM(units = 128, return_sequences = True))\r\n",
        "# model2.add(Dropout(.2))\r\n",
        "# model2.add(CuDNNLSTM(units = 128, return_sequences = True))\r\n",
        "# model2.add(Dropout(.2))\r\n",
        "# model2.add(CuDNNLSTM(units = 128))\r\n",
        "# model2.add(Dropout(.2))\r\n",
        "\r\n",
        "model2.add(Dense(len(vocab), activation = 'softmax'))\r\n",
        "\r\n",
        "model2.compile(loss = 'categorical_crossentropy', optimizer = 'adam', metrics = ['accuracy'])\r\n",
        "model2.summary()"
      ],
      "execution_count": null,
      "outputs": [
        {
          "output_type": "stream",
          "text": [
            "Model: \"sequential_1\"\n",
            "_________________________________________________________________\n",
            "Layer (type)                 Output Shape              Param #   \n",
            "=================================================================\n",
            "cu_dnnlstm (CuDNNLSTM)       (None, 40, 1024)          4489216   \n",
            "_________________________________________________________________\n",
            "dropout (Dropout)            (None, 40, 1024)          0         \n",
            "_________________________________________________________________\n",
            "cu_dnnlstm_1 (CuDNNLSTM)     (None, 1024)              8396800   \n",
            "_________________________________________________________________\n",
            "dropout_1 (Dropout)          (None, 1024)              0         \n",
            "_________________________________________________________________\n",
            "dense_1 (Dense)              (None, 70)                71750     \n",
            "=================================================================\n",
            "Total params: 12,957,766\n",
            "Trainable params: 12,957,766\n",
            "Non-trainable params: 0\n",
            "_________________________________________________________________\n"
          ],
          "name": "stdout"
        }
      ]
    },
    {
      "cell_type": "code",
      "metadata": {
        "id": "nnJnqQDUtMCC"
      },
      "source": [
        "def on_epoch_end2(epoch, _):\r\n",
        "    # function invoked at end of each epoch. prints generated text\r\n",
        "    print()\r\n",
        "    print('--- Generating text after epoch: %d' % epoch)\r\n",
        "\r\n",
        "    tweet = np.random.choice(text) # select random tweet\r\n",
        "    start_index = 0\r\n",
        "\r\n",
        "    for diversity in [.2, .5, 1.0, 1.2]:\r\n",
        "        print('--- Divertsity: ', diversity)\r\n",
        "\r\n",
        "        generated = ''\r\n",
        "        sentence = tweet[start_index : start_index + max_len]\r\n",
        "        generated += sentence\r\n",
        "\r\n",
        "        print('---- Orgininal Tweet: ', tweet)\r\n",
        "        print('---- Generated with seed: \"' + sentence + '\"' )\r\n",
        "        sys.stdout.write(generated)\r\n",
        "        \r\n",
        "        for i in range(120):\r\n",
        "            x_pred = np.zeros((1, max_len, len(vocab)))\r\n",
        "            for t, char in enumerate(sentence):\r\n",
        "                x_pred[0, t, char_to_ind[char]] = 1\r\n",
        "\r\n",
        "            preds = model2.predict(x_pred, verbose = 0)[0]\r\n",
        "            next_index = sample(preds, diversity)\r\n",
        "            next_char = ind_to_char[next_index]\r\n",
        "            \r\n",
        "            generated += next_char\r\n",
        "            sentence = sentence[1:] + next_char\r\n",
        "\r\n",
        "            sys.stdout.write(next_char)\r\n",
        "            sys.stdout.flush()\r\n",
        "        \r\n",
        "        print()"
      ],
      "execution_count": null,
      "outputs": []
    },
    {
      "cell_type": "code",
      "metadata": {
        "colab": {
          "base_uri": "https://localhost:8080/"
        },
        "id": "bod3BP3tXAXn",
        "outputId": "05e58255-6a27-4a6e-87e2-b6d2abe421d5"
      },
      "source": [
        "epoch_summary2 = LambdaCallback(on_epoch_end = on_epoch_end2)\r\n",
        "earlyStopper = EarlyStopping(monitor = 'val_accuracy', patience = 5)\r\n",
        "\r\n",
        "model2.fit(x, y, epochs = 50, batch_size = 64, callbacks = [epoch_summary2, earlyStopper], validation_split = .25, shuffle = True)"
      ],
      "execution_count": null,
      "outputs": [
        {
          "output_type": "stream",
          "text": [
            "Epoch 1/50\n",
            "2588/2588 [==============================] - 217s 84ms/step - loss: 1.8019 - accuracy: 0.4506 - val_loss: 1.7836 - val_accuracy: 0.4638\n",
            "\n",
            "--- Generating text after epoch: 0\n",
            "--- Divertsity:  0.2\n",
            "---- Orgininal Tweet:  ''balkanlar'dan gelen soğuk hava dalgası'' bu kez eli boş gelmedi.\n",
            "---- Generated with seed: \"''balkanlar'dan gelen soğuk hava dalgası\"\n",
            "''balkanlar'dan gelen soğuk hava dalgası i̇çin kararını yardım alan ak parti, bir alama yardım etti. siz bu kadar yarattı. siz bu konuda yakıl bir kararını açık\n",
            "--- Divertsity:  0.5\n",
            "---- Orgininal Tweet:  ''balkanlar'dan gelen soğuk hava dalgası'' bu kez eli boş gelmedi.\n",
            "---- Generated with seed: \"''balkanlar'dan gelen soğuk hava dalgası\"\n",
            "''balkanlar'dan gelen soğuk hava dalgası i̇çin yakın araya kadar mahalesi, kara yakanız limamın i̇narlığını hazırlanıyor.'' son alan satlar alamak sorun sapte y\n",
            "--- Divertsity:  1.0\n",
            "---- Orgininal Tweet:  ''balkanlar'dan gelen soğuk hava dalgası'' bu kez eli boş gelmedi.\n",
            "---- Generated with seed: \"''balkanlar'dan gelen soğuk hava dalgası\"\n",
            "''balkanlar'dan gelen soğuk hava dalgası neteliler biçim alık,  ize sizi'nde geriş i̇stmali boraktığı 1ı.500 şid alan türkiye'nin pekayeti?niyla dururdurma.'' y\n",
            "--- Divertsity:  1.2\n",
            "---- Orgininal Tweet:  ''balkanlar'dan gelen soğuk hava dalgası'' bu kez eli boş gelmedi.\n",
            "---- Generated with seed: \"''balkanlar'dan gelen soğuk hava dalgası\"\n",
            "''balkanlar'dan gelen soğuk hava dalgasıda bro yörettiriyor.'' ims'nizde de bozorbiapbv yâp' iz5 ort vergin hava hıjlerin adam'daki kaybisi locay keşfeyüz yemed\n",
            "Epoch 2/50\n",
            "2588/2588 [==============================] - 218s 84ms/step - loss: 1.5709 - accuracy: 0.5150 - val_loss: 1.6665 - val_accuracy: 0.4983\n",
            "\n",
            "--- Generating text after epoch: 1\n",
            "--- Divertsity:  0.2\n",
            "---- Orgininal Tweet:  türkiye'den i̇ran'a yardım eli: düşürülen yolcu uçağı olayını soruşturup hiçbir i̇ranlı yetkilinin sorumlu olmadığı sonucuna varacak savcı ve bilirkişi heyetimiz tahran yolcusu.\n",
            "---- Generated with seed: \"türkiye'den i̇ran'a yardım eli: düşürüle\"\n",
            "türkiye'den i̇ran'a yardım eli: düşürülen türkiye'nin de takım ettiği için yardım etmeye çalışan ak troll, bir sonu ekonomik karar vermeye çalışan ak parti seçi\n",
            "--- Divertsity:  0.5\n",
            "---- Orgininal Tweet:  türkiye'den i̇ran'a yardım eli: düşürülen yolcu uçağı olayını soruşturup hiçbir i̇ranlı yetkilinin sorumlu olmadığı sonucuna varacak savcı ve bilirkişi heyetimiz tahran yolcusu.\n",
            "---- Generated with seed: \"türkiye'den i̇ran'a yardım eli: düşürüle\"\n",
            "türkiye'den i̇ran'a yardım eli: düşürülen ''cemalı i̇çin yarasından kadar sonu etkileri seçim vatandaşların de da bulan türkiye'nin sonu takım esterseniz ayda y\n",
            "--- Divertsity:  1.0\n",
            "---- Orgininal Tweet:  türkiye'den i̇ran'a yardım eli: düşürülen yolcu uçağı olayını soruşturup hiçbir i̇ranlı yetkilinin sorumlu olmadığı sonucuna varacak savcı ve bilirkişi heyetimiz tahran yolcusu.\n",
            "---- Generated with seed: \"türkiye'den i̇ran'a yardım eli: düşürüle\"\n",
            "türkiye'den i̇ran'a yardım eli: düşürülebileceği konuş desim hükümeti karşrüze sert tepki ve dışışı madar görüş: kriş başka siçim yüküper cemekler i̇zleyen gele\n",
            "--- Divertsity:  1.2\n",
            "---- Orgininal Tweet:  türkiye'den i̇ran'a yardım eli: düşürülen yolcu uçağı olayını soruşturup hiçbir i̇ranlı yetkilinin sorumlu olmadığı sonucuna varacak savcı ve bilirkişi heyetimiz tahran yolcusu.\n",
            "---- Generated with seed: \"türkiye'den i̇ran'a yardım eli: düşürüle\"\n",
            "türkiye'den i̇ran'a yardım eli: düşürülenlermen, büyümetiz g, amparsondau'' 10 yaap” i̇decen geribel yere.'' 25 bur şafmiyor'\" 2.11 yaşık görmüşlere sekişiyle b\n",
            "Epoch 3/50\n",
            "2588/2588 [==============================] - 218s 84ms/step - loss: 1.4112 - accuracy: 0.5589 - val_loss: 1.6247 - val_accuracy: 0.5162\n",
            "\n",
            "--- Generating text after epoch: 2\n",
            "--- Divertsity:  0.2\n",
            "---- Orgininal Tweet:  kürt seçmeni kaçırmamak için mitilini i̇stanbul'un ücra bir köşesine seren devlet bahçeli, hala hayatta olduğu bilgisini sevenleriyle paylaştı.\n",
            "---- Generated with seed: \"kürt seçmeni kaçırmamak için mitilini i̇\"\n",
            "kürt seçmeni kaçırmamak için mitilini i̇stediği i̇çin bir an ak parti'de karşı kanal verilecek.'' #yarınında son çalışmalarını da i̇nşaatı olan ak parti'de hare\n",
            "--- Divertsity:  0.5\n",
            "---- Orgininal Tweet:  kürt seçmeni kaçırmamak için mitilini i̇stanbul'un ücra bir köşesine seren devlet bahçeli, hala hayatta olduğu bilgisini sevenleriyle paylaştı.\n",
            "---- Generated with seed: \"kürt seçmeni kaçırmamak için mitilini i̇\"\n",
            "kürt seçmeni kaçırmamak için mitilini i̇zleyerek giren gelmez seçmenin yarısı olan türkiye'ye hazırlıyor. hiç aç kadar bir iş benali yıldırım'ın de i̇lgi i̇stan\n",
            "--- Divertsity:  1.0\n",
            "---- Orgininal Tweet:  kürt seçmeni kaçırmamak için mitilini i̇stanbul'un ücra bir köşesine seren devlet bahçeli, hala hayatta olduğu bilgisini sevenleriyle paylaştı.\n",
            "---- Generated with seed: \"kürt seçmeni kaçırmamak için mitilini i̇\"\n",
            "kürt seçmeni kaçırmamak için mitilini i̇zcemeden vatandaşlar?'' i̇zininiz sunaylarını poşmansız yayınlayan sandık(21) (avines'ün yapın bir kesen devlete güne ko\n",
            "--- Divertsity:  1.2\n",
            "---- Orgininal Tweet:  kürt seçmeni kaçırmamak için mitilini i̇stanbul'un ücra bir köşesine seren devlet bahçeli, hala hayatta olduğu bilgisini sevenleriyle paylaştı.\n",
            "---- Generated with seed: \"kürt seçmeni kaçırmamak için mitilini i̇\"\n",
            "kürt seçmeni kaçırmamak için mitilini i̇stediği partili kahseminin 10 eseriyle 1.. he mitakimüni de yayalamamız albın- nesil var. #lıbzor çiftlerinde en bunca 1\n",
            "Epoch 4/50\n",
            "2588/2588 [==============================] - 218s 84ms/step - loss: 1.2743 - accuracy: 0.5962 - val_loss: 1.6085 - val_accuracy: 0.5270\n",
            "\n",
            "--- Generating text after epoch: 3\n",
            "--- Divertsity:  0.2\n",
            "---- Orgininal Tweet:  birlikte tatil planı yapmaya çalışan genç çift, şu aşamada ayrılmanın daha kolay olacağı fikrine i̇kna olmak üzere.\n",
            "---- Generated with seed: \"birlikte tatil planı yapmaya çalışan gen\"\n",
            "birlikte tatil planı yapmaya çalışan genç, kara bir şey yapma kararı aldı. i̇lk hafta sonu kararlar i̇çin en güzel yaptığı ortaya çıktı. #yasa tarafından sert t\n",
            "--- Divertsity:  0.5\n",
            "---- Orgininal Tweet:  birlikte tatil planı yapmaya çalışan genç çift, şu aşamada ayrılmanın daha kolay olacağı fikrine i̇kna olmak üzere.\n",
            "---- Generated with seed: \"birlikte tatil planı yapmaya çalışan gen\"\n",
            "birlikte tatil planı yapmaya çalışan gençler, sahada basın akın sayıları için emir edilecek olan türkiye'nin bakım arasında olan cumhurbaşkanı erdoğan beraber. \n",
            "--- Divertsity:  1.0\n",
            "---- Orgininal Tweet:  birlikte tatil planı yapmaya çalışan genç çift, şu aşamada ayrılmanın daha kolay olacağı fikrine i̇kna olmak üzere.\n",
            "---- Generated with seed: \"birlikte tatil planı yapmaya çalışan gen\"\n",
            "birlikte tatil planı yapmaya çalışan genç, benim dey tvk'in ecinin haftası hastanesine olay olan 10.000 bir şun serinde'nin tespiti i̇çin rohat. açıklama, değil\n",
            "--- Divertsity:  1.2\n",
            "---- Orgininal Tweet:  birlikte tatil planı yapmaya çalışan genç çift, şu aşamada ayrılmanın daha kolay olacağı fikrine i̇kna olmak üzere.\n",
            "---- Generated with seed: \"birlikte tatil planı yapmaya çalışan gen\"\n",
            "birlikte tatil planı yapmaya çalışan genele kadar düşen hkl, ekse bayraklar da ekip kötl dediğimiz meyonu hasamagınız ya gülüyorla hava etmemek'' 18. tl'nin bug\n",
            "Epoch 5/50\n",
            "2588/2588 [==============================] - 218s 84ms/step - loss: 1.1414 - accuracy: 0.6361 - val_loss: 1.6361 - val_accuracy: 0.5325\n",
            "\n",
            "--- Generating text after epoch: 4\n",
            "--- Divertsity:  0.2\n",
            "---- Orgininal Tweet:  bahçeli: ''çünkü bütün doları 7'den bozdurduk.''\n",
            "---- Generated with seed: \"bahçeli: ''çünkü bütün doları 7'den bozd\"\n",
            "bahçeli: ''çünkü bütün doları 7'den bozdurduk.'' #ortasına geri dönen türkiye, i̇stanbul i̇lgisizlik oranını da günlük bakanı sonrası i̇simlerin de kayıplara al\n",
            "--- Divertsity:  0.5\n",
            "---- Orgininal Tweet:  bahçeli: ''çünkü bütün doları 7'den bozdurduk.''\n",
            "---- Generated with seed: \"bahçeli: ''çünkü bütün doları 7'den bozd\"\n",
            "bahçeli: ''çünkü bütün doları 7'den bozdurduk da siyasete alındı. siz bu konuda ne düşünüyorsunuz?!''. siz ne düşünüyorsunuz?!'' #dussu roca gibi görünme süreci\n",
            "--- Divertsity:  1.0\n",
            "---- Orgininal Tweet:  bahçeli: ''çünkü bütün doları 7'den bozdurduk.''\n",
            "---- Generated with seed: \"bahçeli: ''çünkü bütün doları 7'den bozd\"\n",
            "bahçeli: ''çünkü bütün doları 7'den bozdurduk.''da.'' #18yını hamleye girmeye başlandı. siz bu konuda ne düşünüyorsunuz??'' sözlerinden başlanan mıraf perafisi:\n",
            "--- Divertsity:  1.2\n",
            "---- Orgininal Tweet:  bahçeli: ''çünkü bütün doları 7'den bozdurduk.''\n",
            "---- Generated with seed: \"bahçeli: ''çünkü bütün doları 7'den bozd\"\n",
            "bahçeli: ''çünkü bütün doları 7'den bozdurduk.'' sorusunu bulan 817, mefgin'inırnaflı zjy sçorcı olduğunun yerine gelecekleri ptme son can yepiş sonuca: ''tahib\n",
            "Epoch 6/50\n",
            "2588/2588 [==============================] - 218s 84ms/step - loss: 1.0110 - accuracy: 0.6741 - val_loss: 1.6614 - val_accuracy: 0.5306\n",
            "\n",
            "--- Generating text after epoch: 5\n",
            "--- Divertsity:  0.2\n",
            "---- Orgininal Tweet:  türkiye, rıdvan için tek yürek: \"şunu federasyon başkanı mı yapıyosunuz napıyosanız yapın bi an önce.\"\n",
            "---- Generated with seed: \"türkiye, rıdvan için tek yürek: \"şunu fe\"\n",
            "türkiye, rıdvan için tek yürek: \"şunu fetö'ye kapatılmış olmasına i̇nanıp türkiye'nin bu kadar devletin ardından sonuna gidecek.'' #katarakınızı sayıyor.'' #akı\n",
            "--- Divertsity:  0.5\n",
            "---- Orgininal Tweet:  türkiye, rıdvan için tek yürek: \"şunu federasyon başkanı mı yapıyosunuz napıyosanız yapın bi an önce.\"\n",
            "---- Generated with seed: \"türkiye, rıdvan için tek yürek: \"şunu fe\"\n",
            "türkiye, rıdvan için tek yürek: \"şunu fetö borç sınırı arasında ekonomik belirtisi olarak açıklayacağını açıkladı. siz bu konuda ne düşünüyorsunuz?'' diyen akp'\n",
            "--- Divertsity:  1.0\n",
            "---- Orgininal Tweet:  türkiye, rıdvan için tek yürek: \"şunu federasyon başkanı mı yapıyosunuz napıyosanız yapın bi an önce.\"\n",
            "---- Generated with seed: \"türkiye, rıdvan için tek yürek: \"şunu fe\"\n",
            "türkiye, rıdvan için tek yürek: \"şunu fekurlı kurmak i̇çin bineli i̇skinı kollaya atıp açıldı. si̇te kara sınarek kurulu'' gerekçisiyle mesaj yapılacak.'' #beni\n",
            "--- Divertsity:  1.2\n",
            "---- Orgininal Tweet:  türkiye, rıdvan için tek yürek: \"şunu federasyon başkanı mı yapıyosunuz napıyosanız yapın bi an önce.\"\n",
            "---- Generated with seed: \"türkiye, rıdvan için tek yürek: \"şunu fe\"\n",
            "türkiye, rıdvan için tek yürek: \"şunu feş okullar, ülkemize zeka gidişmeyi planıst olduğunu öğrenmeyeceği hacianı'na ulaşan dü1yat öncesi özonolijini nasıl grob\n",
            "Epoch 7/50\n",
            "2588/2588 [==============================] - 218s 84ms/step - loss: 0.8728 - accuracy: 0.7185 - val_loss: 1.7279 - val_accuracy: 0.5373\n",
            "\n",
            "--- Generating text after epoch: 6\n",
            "--- Divertsity:  0.2\n",
            "---- Orgininal Tweet:  mert yunak(22), 2020 yaz raporunu açıkladı: moda sahilde geçirilen saat 196, tüketilen tadım kuruyemiş 6.5 kg, alev yollanan story 2480, atılan dm 517, geri dönüş 2.\n",
            "---- Generated with seed: \"mert yunak(22), 2020 yaz raporunu açıkla\"\n",
            "mert yunak(22), 2020 yaz raporunu açıkladı. tek tak tutmaya çalışıyor.'' #katar aşamasını beklemeye kararlı. siz bu konuda ne düşünüyorusunuz?!'' #adam sağlanac\n",
            "--- Divertsity:  0.5\n",
            "---- Orgininal Tweet:  mert yunak(22), 2020 yaz raporunu açıkladı: moda sahilde geçirilen saat 196, tüketilen tadım kuruyemiş 6.5 kg, alev yollanan story 2480, atılan dm 517, geri dönüş 2.\n",
            "---- Generated with seed: \"mert yunak(22), 2020 yaz raporunu açıkla\"\n",
            "mert yunak(22), 2020 yaz raporunu açıklamak i̇çin devrediyor.'' #kadarke ve akrabaları vericim.'' #katar aşama dağıtmaz i̇stendiğine dövdü. siz bu konuda ne düş\n",
            "--- Divertsity:  1.0\n",
            "---- Orgininal Tweet:  mert yunak(22), 2020 yaz raporunu açıkladı: moda sahilde geçirilen saat 196, tüketilen tadım kuruyemiş 6.5 kg, alev yollanan story 2480, atılan dm 517, geri dönüş 2.\n",
            "---- Generated with seed: \"mert yunak(22), 2020 yaz raporunu açıkla\"\n",
            "mert yunak(22), 2020 yaz raporunu açıklama. yapımının görevinizden aldım, doğal bozur.'' #oronavirüs'e kurma ve yönetim simesi tarafından ''lan döviz rezervi bu\n",
            "--- Divertsity:  1.2\n",
            "---- Orgininal Tweet:  mert yunak(22), 2020 yaz raporunu açıkladı: moda sahilde geçirilen saat 196, tüketilen tadım kuruyemiş 6.5 kg, alev yollanan story 2480, atılan dm 517, geri dönüş 2.\n",
            "---- Generated with seed: \"mert yunak(22), 2020 yaz raporunu açıkla\"\n",
            "mert yunak(22), 2020 yaz raporunu açıkladı: ''kaçırkan ayda 5500 batanga komeğini de sdokçunu boyuttan alman personeli ve 6 hebrer crp'ye.'''nin beyaz sarımı is\n",
            "Epoch 8/50\n",
            "2588/2588 [==============================] - 218s 84ms/step - loss: 0.7728 - accuracy: 0.7483 - val_loss: 1.8061 - val_accuracy: 0.5349\n",
            "\n",
            "--- Generating text after epoch: 7\n",
            "--- Divertsity:  0.2\n",
            "---- Orgininal Tweet:  trappist-1 için beklenen açıklama biraz gecikmeli de olsa geldi.\n",
            "---- Generated with seed: \"trappist-1 için beklenen açıklama biraz \"\n",
            "trappist-1 için beklenen açıklama biraz sağlık bakanı koca, önümüzdeki saray'dan temsil i̇stanbul'da bulunan cumhurbaşkanı erdoğan, suudilerin ardından bir sonr\n",
            "--- Divertsity:  0.5\n",
            "---- Orgininal Tweet:  trappist-1 için beklenen açıklama biraz gecikmeli de olsa geldi.\n",
            "---- Generated with seed: \"trappist-1 için beklenen açıklama biraz \"\n",
            "trappist-1 için beklenen açıklama biraz sancılar, saray bedavası için i̇htarnamesiydi, en az 4 kat fazla geçirmeye devam edebilen y.t(28) uyarıyor: ''nasıl bize\n",
            "--- Divertsity:  1.0\n",
            "---- Orgininal Tweet:  trappist-1 için beklenen açıklama biraz gecikmeli de olsa geldi.\n",
            "---- Generated with seed: \"trappist-1 için beklenen açıklama biraz \"\n",
            "trappist-1 için beklenen açıklama biraz i̇simle şehirden acil östünden belediye başkan adayı sıçıyorum. bidah destek paketini destek ve diğer açıklaması: ''bu k\n",
            "--- Divertsity:  1.2\n",
            "---- Orgininal Tweet:  trappist-1 için beklenen açıklama biraz gecikmeli de olsa geldi.\n",
            "---- Generated with seed: \"trappist-1 için beklenen açıklama biraz \"\n",
            "trappist-1 için beklenen açıklama biraz sağlık konusunda ismi ön plana çıkmasıyla kullanmayan akp-mhp yönetimini i̇smairaja verdiği tağmirledip.''. siz bu konud\n",
            "Epoch 9/50\n",
            "2588/2588 [==============================] - 218s 84ms/step - loss: 0.6869 - accuracy: 0.7763 - val_loss: 1.8757 - val_accuracy: 0.5362\n",
            "\n",
            "--- Generating text after epoch: 8\n",
            "--- Divertsity:  0.2\n",
            "---- Orgininal Tweet:  ak parti, henüz melih gökçek esprisi yapmayan vatandaşlar i̇çin i̇stifa sürecinin 2 gün daha uzatıldığını duyurdu.\n",
            "---- Generated with seed: \"ak parti, henüz melih gökçek esprisi yap\"\n",
            "ak parti, henüz melih gökçek esprisi yapmak i̇çin devrede sıradaki her gün işe gitmeye başladı. siz ne düşünüyorsunuz?'' dedirten sonra kayıplara karıştı. siz n\n",
            "--- Divertsity:  0.5\n",
            "---- Orgininal Tweet:  ak parti, henüz melih gökçek esprisi yapmayan vatandaşlar i̇çin i̇stifa sürecinin 2 gün daha uzatıldığını duyurdu.\n",
            "---- Generated with seed: \"ak parti, henüz melih gökçek esprisi yap\"\n",
            "ak parti, henüz melih gökçek esprisi yapmak i̇çin demirören grubu, twitter'a savcılıktan i̇stifa etti. siz ne düşünüyorsunuz?'' dedirten sonra ekonomik savaş aç\n",
            "--- Divertsity:  1.0\n",
            "---- Orgininal Tweet:  ak parti, henüz melih gökçek esprisi yapmayan vatandaşlar i̇çin i̇stifa sürecinin 2 gün daha uzatıldığını duyurdu.\n",
            "---- Generated with seed: \"ak parti, henüz melih gökçek esprisi yap\"\n",
            "ak parti, henüz melih gökçek esprisi yapmasının ardından pelin bakanlığına yiyabalarıyla reddedildi. siz ne düşünüyorsunuz?!'' dedirten merak eriyoruz.'' #arakl\n",
            "--- Divertsity:  1.2\n",
            "---- Orgininal Tweet:  ak parti, henüz melih gökçek esprisi yapmayan vatandaşlar i̇çin i̇stifa sürecinin 2 gün daha uzatıldığını duyurdu.\n",
            "---- Generated with seed: \"ak parti, henüz melih gökçek esprisi yap\"\n",
            "ak parti, henüz melih gökçek esprisi yapılacağımızı verdikleri kameralar çok ihraç şoku. sizin maaşlarını da elektrik şeklinde heyecan yardımcıları destekliyor.\n",
            "Epoch 10/50\n",
            "2588/2588 [==============================] - 218s 84ms/step - loss: 0.6105 - accuracy: 0.8026 - val_loss: 1.9548 - val_accuracy: 0.5357\n",
            "\n",
            "--- Generating text after epoch: 9\n",
            "--- Divertsity:  0.2\n",
            "---- Orgininal Tweet:  türkiye, mars'a hafriyat kamyonu göndermek için düğmeye bastı.\n",
            "---- Generated with seed: \"türkiye, mars'a hafriyat kamyonu gönderm\"\n",
            "türkiye, mars'a hafriyat kamyonu göndermek için düğmeye bastı. siz ne düşünüyorsunuz?!'' dedi. siz ne düşünüyorsunuz?!'' dedi. siz ne düşünüyorsunuz?!'' dedi. s\n",
            "--- Divertsity:  0.5\n",
            "---- Orgininal Tweet:  türkiye, mars'a hafriyat kamyonu göndermek için düğmeye bastı.\n",
            "---- Generated with seed: \"türkiye, mars'a hafriyat kamyonu gönderm\"\n",
            "türkiye, mars'a hafriyat kamyonu göndermeye başladı. siz ne düşünüyorsunuz?!'' dedi. siz ne düşünüyorsunuz?!'' dedi. siz ne düşünüyorsunuz?!'' dedi. siz ne düşü\n",
            "--- Divertsity:  1.0\n",
            "---- Orgininal Tweet:  türkiye, mars'a hafriyat kamyonu göndermek için düğmeye bastı.\n",
            "---- Generated with seed: \"türkiye, mars'a hafriyat kamyonu gönderm\"\n",
            "türkiye, mars'a hafriyat kamyonu göndermek belirlenecek bir yaval çektırmalarına bekliyor.'' #adamlardan önce güvenlik sınlarına hek değiştirdiğinden emin olums\n",
            "--- Divertsity:  1.2\n",
            "---- Orgininal Tweet:  türkiye, mars'a hafriyat kamyonu göndermek için düğmeye bastı.\n",
            "---- Generated with seed: \"türkiye, mars'a hafriyat kamyonu gönderm\"\n",
            "türkiye, mars'a hafriyat kamyonu göndermeye başladı. hatay valisi, enflasyon 150.5 tl'yi ösen yurt dışında başındaki kimsenin ne yap müdahale seçilişmemişi duru\n",
            "Epoch 11/50\n",
            "2588/2588 [==============================] - 218s 84ms/step - loss: 0.5487 - accuracy: 0.8216 - val_loss: 2.0267 - val_accuracy: 0.5320\n",
            "\n",
            "--- Generating text after epoch: 10\n",
            "--- Divertsity:  0.2\n",
            "---- Orgininal Tweet:  röportaj: alper canıgüz'le yeni romanı kan ve gül'ü konuşmaya çalıştık (adam pek konuşmuyor)\n",
            "---- Generated with seed: \"röportaj: alper canıgüz'le yeni romanı k\"\n",
            "röportaj: alper canıgüz'le yeni romanı koltuğunu bir kez daha krizi fareler verdi. siz ne düşünüyorsunuz?!'' dedi. siz ne düşünüyorsunuz?!'' ardından bir de şu \n",
            "--- Divertsity:  0.5\n",
            "---- Orgininal Tweet:  röportaj: alper canıgüz'le yeni romanı kan ve gül'ü konuşmaya çalıştık (adam pek konuşmuyor)\n",
            "---- Generated with seed: \"röportaj: alper canıgüz'le yeni romanı k\"\n",
            "röportaj: alper canıgüz'le yeni romanı koltuğunu bitirecek yeni geçiyorum.'' sorusunu koruyor. #tollanda spreding törenlisi kapsamın da geçişin sancılarını açık\n",
            "--- Divertsity:  1.0\n",
            "---- Orgininal Tweet:  röportaj: alper canıgüz'le yeni romanı kan ve gül'ü konuşmaya çalıştık (adam pek konuşmuyor)\n",
            "---- Generated with seed: \"röportaj: alper canıgüz'le yeni romanı k\"\n",
            "röportaj: alper canıgüz'le yeni romanı kotim könünde gençleri de ilst: suriyeli kırında etkilene hapis ve sanaya geçirilecek türkiye'nin akılına yaklaşık 500 ki\n",
            "--- Divertsity:  1.2\n",
            "---- Orgininal Tweet:  röportaj: alper canıgüz'le yeni romanı kan ve gül'ü konuşmaya çalıştık (adam pek konuşmuyor)\n",
            "---- Generated with seed: \"röportaj: alper canıgüz'le yeni romanı k\"\n",
            "röportaj: alper canıgüz'le yeni romanı kabite verdi: ''filmsiz burçlar kullanının bekası çatıı: ''lan handi nasıl kodausundan 19.300 tl'ye piyasata sürecek.'' ş\n",
            "Epoch 12/50\n",
            "2588/2588 [==============================] - 219s 85ms/step - loss: 0.5005 - accuracy: 0.8371 - val_loss: 2.0708 - val_accuracy: 0.5345\n",
            "\n",
            "--- Generating text after epoch: 11\n",
            "--- Divertsity:  0.2\n",
            "---- Orgininal Tweet:  o at konuştu: ''gazetecilik faaliyetleri yüzünden saldırmadım.''\n",
            "---- Generated with seed: \"o at konuştu: ''gazetecilik faaliyetleri\"\n",
            "o at konuştu: ''gazetecilik faaliyetlerini yapmak i̇çin başlayan ak parti'den teşekkür plaketi: ''algı operasyonlarının başka bir şeyler oldu ama biz fark edeme\n",
            "--- Divertsity:  0.5\n",
            "---- Orgininal Tweet:  o at konuştu: ''gazetecilik faaliyetleri yüzünden saldırmadım.''\n",
            "---- Generated with seed: \"o at konuştu: ''gazetecilik faaliyetleri\"\n",
            "o at konuştu: ''gazetecilik faaliyetlerine yakaladığı adayın, bugün de ''taraflarımız o seçim şarkı seçim şarkıları. (58.001 senersinin tek bir soruya düştü. bi\n",
            "--- Divertsity:  1.0\n",
            "---- Orgininal Tweet:  o at konuştu: ''gazetecilik faaliyetleri yüzünden saldırmadım.''\n",
            "---- Generated with seed: \"o at konuştu: ''gazetecilik faaliyetleri\"\n",
            "o at konuştu: ''gazetecilik faaliyetlerini açıkladı. siz bu konuda ne düşünüyorsunuz?!'' akımı hasta stokçularını açıklayan galatasaray'da pişmanlık resmi gazat\n",
            "--- Divertsity:  1.2\n",
            "---- Orgininal Tweet:  o at konuştu: ''gazetecilik faaliyetleri yüzünden saldırmadım.''\n",
            "---- Generated with seed: \"o at konuştu: ''gazetecilik faaliyetleri\"\n",
            "o at konuştu: ''gazetecilik faaliyetlerine yakın sağlanacak.''. siz ne düşünüyorsunuz?!\"'den yetişim i̇tirazlılığı: ''koronavirüs'ün eamsin olajaması da yılda 1\n"
          ],
          "name": "stdout"
        },
        {
          "output_type": "execute_result",
          "data": {
            "text/plain": [
              "<tensorflow.python.keras.callbacks.History at 0x7fd114d701d0>"
            ]
          },
          "metadata": {
            "tags": []
          },
          "execution_count": 41
        }
      ]
    },
    {
      "cell_type": "code",
      "metadata": {
        "id": "hi7PriCuW9IY"
      },
      "source": [
        ""
      ],
      "execution_count": null,
      "outputs": []
    },
    {
      "cell_type": "code",
      "metadata": {
        "id": "28y9EUcuW9JG"
      },
      "source": [
        ""
      ],
      "execution_count": null,
      "outputs": []
    },
    {
      "cell_type": "code",
      "metadata": {
        "id": "GwrUOpsaW9J0"
      },
      "source": [
        ""
      ],
      "execution_count": null,
      "outputs": []
    },
    {
      "cell_type": "code",
      "metadata": {
        "id": "wubQljHTW9Kk"
      },
      "source": [
        ""
      ],
      "execution_count": null,
      "outputs": []
    },
    {
      "cell_type": "code",
      "metadata": {
        "id": "PB-3gXBzW9LV"
      },
      "source": [
        ""
      ],
      "execution_count": null,
      "outputs": []
    },
    {
      "cell_type": "code",
      "metadata": {
        "id": "Jxh12AJxW9MD"
      },
      "source": [
        ""
      ],
      "execution_count": null,
      "outputs": []
    },
    {
      "cell_type": "code",
      "metadata": {
        "id": "N_-kBTS_W9Mw"
      },
      "source": [
        ""
      ],
      "execution_count": null,
      "outputs": []
    },
    {
      "cell_type": "code",
      "metadata": {
        "id": "v4LN_tMpW9Nc"
      },
      "source": [
        ""
      ],
      "execution_count": null,
      "outputs": []
    },
    {
      "cell_type": "code",
      "metadata": {
        "id": "b5VB-kB3W9OM"
      },
      "source": [
        ""
      ],
      "execution_count": null,
      "outputs": []
    },
    {
      "cell_type": "code",
      "metadata": {
        "id": "oiBwk_0dW9O9"
      },
      "source": [
        ""
      ],
      "execution_count": null,
      "outputs": []
    },
    {
      "cell_type": "code",
      "metadata": {
        "id": "i4XN629rW9Pu"
      },
      "source": [
        ""
      ],
      "execution_count": null,
      "outputs": []
    },
    {
      "cell_type": "code",
      "metadata": {
        "id": "Otwl7ekWW9Qd"
      },
      "source": [
        ""
      ],
      "execution_count": null,
      "outputs": []
    },
    {
      "cell_type": "code",
      "metadata": {
        "id": "ydAhFmDiW9Rm"
      },
      "source": [
        ""
      ],
      "execution_count": null,
      "outputs": []
    },
    {
      "cell_type": "code",
      "metadata": {
        "id": "KYMGcBjQW9ST"
      },
      "source": [
        ""
      ],
      "execution_count": null,
      "outputs": []
    },
    {
      "cell_type": "code",
      "metadata": {
        "id": "jM0sJuT3W9TC"
      },
      "source": [
        ""
      ],
      "execution_count": null,
      "outputs": []
    },
    {
      "cell_type": "code",
      "metadata": {
        "id": "JKkf51aIW9Tv"
      },
      "source": [
        ""
      ],
      "execution_count": null,
      "outputs": []
    }
  ]
}